{
 "cells": [
  {
   "cell_type": "markdown",
   "id": "0aec400e",
   "metadata": {},
   "source": [
    "# All Git And Github Commands"
   ]
  },
  {
   "cell_type": "markdown",
   "id": "8fffac94",
   "metadata": {},
   "source": [
    "## General Commands"
   ]
  },
  {
   "cell_type": "code",
   "execution_count": null,
   "id": "500378de",
   "metadata": {},
   "outputs": [],
   "source": [
    "# make folder \n",
    "\n",
    "mkdir MyFirstRepo\n",
    "\n",
    "# make multiple folder with one cmd\n",
    "\n",
    "mkdir n{1..4}\n",
    "\n",
    "# make multiple file inside the folder \n",
    "\n",
    "touch n1/f{1..4}.text\n",
    "\n",
    "touch n{2..4}/f{1..4}.text\n",
    "\n",
    "# change directory\n",
    "\n",
    "cd directory_name\n",
    "\n",
    "# Back to Previous Directory\n",
    "\n",
    "cd ..\n",
    "\n",
    "# Check Current Directory\n",
    "\n",
    "pwd"
   ]
  },
  {
   "cell_type": "markdown",
   "id": "0039dff4",
   "metadata": {},
   "source": [
    "## Basics Commands"
   ]
  },
  {
   "cell_type": "code",
   "execution_count": null,
   "id": "16e81bf2",
   "metadata": {},
   "outputs": [],
   "source": [
    "# create Repository\n",
    "- git init\n",
    "- git init --bare\n",
    "\n",
    "# add & check user and email\n",
    "\n",
    "# Add \n",
    "\n",
    "## Locally\n",
    "- git config user.name \"kathan patel\"\n",
    "- git config user.email \"kathan@email.com\"\n",
    "\n",
    "## Globaly\n",
    "- git config --globle user.name \"kathan patel\"\n",
    "\n",
    "## We can Easily do this things using Git GUI\n",
    "\n",
    "# Check\n",
    "- git config user.name\n",
    "- git config user.email"
   ]
  },
  {
   "cell_type": "markdown",
   "id": "7770bd6f",
   "metadata": {},
   "source": [
    "## Git Commit"
   ]
  },
  {
   "cell_type": "code",
   "execution_count": null,
   "id": "c47f5e31",
   "metadata": {},
   "outputs": [],
   "source": [
    "# Remove .gitignore file \n",
    "\n",
    "- rm .gitignore\n",
    "\n",
    "# To check Commit Status\n",
    "\n",
    "- git status\n",
    "\n",
    "# To add file or folder\n",
    "\n",
    "- git add sample.html n1\n",
    "\n",
    "# To commit\n",
    "\n",
    "- git commit\n",
    "- git status\n",
    "\n",
    "# To Directly add comment without going in text editor\n",
    "\n",
    "- git commit -m \"Four Folders Addes\"\n",
    "\n",
    "# To see when And Which Files Are edited\n",
    "\n",
    "- git log\n",
    "\n",
    "# To see what are the changes in files\n",
    "\n",
    "- git diff sample.html\n",
    "\n",
    "# To see what are the changes in whole project\n",
    "\n",
    "- git diff\n"
   ]
  },
  {
   "cell_type": "markdown",
   "id": "a70ae031",
   "metadata": {},
   "source": [
    "## Git Server"
   ]
  },
  {
   "cell_type": "code",
   "execution_count": null,
   "id": "add4619a",
   "metadata": {},
   "outputs": [],
   "source": [
    "- gitea for making local host website..\n",
    "\n",
    "- username = kathan\n",
    "- password = kathan1910\n",
    "- email    = kp56...."
   ]
  },
  {
   "cell_type": "markdown",
   "id": "fccbdc43",
   "metadata": {},
   "source": [
    "## Push Pull Fetch"
   ]
  },
  {
   "cell_type": "code",
   "execution_count": null,
   "id": "af798e11",
   "metadata": {},
   "outputs": [],
   "source": [
    "# how to clone a repository\n",
    "\n",
    "- git clone http://localhost:3000/kathan/MyFirstServerRepo.git # link from gitea server\n",
    "        \n",
    "# To send file in server repository\n",
    "\n",
    "- git push (origin) # but before that you need to perform add , commit and status check\n",
    "\n",
    "# To aquire another user's changes \n",
    "\n",
    "- git pull (origin) # origin are by default\n",
    "\n",
    "# You are downloading the changes but not appling it. \n",
    "\n",
    "- git fetch # changes can be downloaded but not applied."
   ]
  },
  {
   "cell_type": "code",
   "execution_count": null,
   "id": "156a4061",
   "metadata": {},
   "outputs": [],
   "source": [
    "## Steps\n",
    "\n",
    "1. Git Pull From Server(origin)\n",
    "2. Make Changes Required\n",
    "3. Git add\n",
    "4. Git status\n",
    "5. Git Commit (Files are save Locally)\n",
    "6. Git Push (Origin)"
   ]
  },
  {
   "cell_type": "markdown",
   "id": "b02f74b6",
   "metadata": {},
   "source": [
    "## Git Branches"
   ]
  },
  {
   "cell_type": "code",
   "execution_count": null,
   "id": "419a455d",
   "metadata": {},
   "outputs": [],
   "source": [
    "# To know the current branch\n",
    "\n",
    "- git branch --show-current\n",
    "\n",
    "# To make new branches or switch to one to another branch\n",
    "\n",
    "-  git checkout -b development \n",
    "-  git checkout -b testing\n",
    "-  git checkout -b stable\n",
    "-  git checkout development\n",
    "-  git checkout testing\n",
    "\n",
    "# To see total number of branches\n",
    "\n",
    "- git branch --list\n",
    "\n",
    "# To merge Two or more branches\n",
    "\n",
    "- git merge perA\n",
    "- git merge perB -m \" Added Code From Person B \"\n",
    "- git merge development # Note before merging you need to checkout in which branch you are in.."
   ]
  },
  {
   "cell_type": "markdown",
   "id": "6007ffef",
   "metadata": {},
   "source": [
    "## Git Merge And Conflicts"
   ]
  },
  {
   "cell_type": "code",
   "execution_count": null,
   "id": "8227e731",
   "metadata": {},
   "outputs": [],
   "source": [
    "# Nothing Extra to add\n",
    "\n",
    "- 1 we make 2 more branches header and mainbody\n",
    "- 2 we try to write 2 different codes in html file\n",
    "- 3 when we try to merge them it shows conflicts\n",
    "- 4 To solve conflicts just open code and remove the conflict occuring code.\n",
    "- 5 add the changes and merge them."
   ]
  },
  {
   "cell_type": "markdown",
   "id": "5ca662a1",
   "metadata": {},
   "source": [
    "## Useful Commands For Git"
   ]
  },
  {
   "cell_type": "markdown",
   "id": "5c689932",
   "metadata": {},
   "source": [
    "- git stash\n",
    "- git stash pop\n",
    "- git tag -a v.01\n",
    "- git tag list"
   ]
  }
 ],
 "metadata": {
  "kernelspec": {
   "display_name": "myenv",
   "language": "python",
   "name": "mynev"
  },
  "language_info": {
   "codemirror_mode": {
    "name": "ipython",
    "version": 3
   },
   "file_extension": ".py",
   "mimetype": "text/x-python",
   "name": "python",
   "nbconvert_exporter": "python",
   "pygments_lexer": "ipython3",
   "version": "3.9.13"
  }
 },
 "nbformat": 4,
 "nbformat_minor": 5
}
