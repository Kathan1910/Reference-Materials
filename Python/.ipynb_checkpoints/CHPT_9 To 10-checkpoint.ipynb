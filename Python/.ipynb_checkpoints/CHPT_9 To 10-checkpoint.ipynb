{
 "cells": [
  {
   "cell_type": "markdown",
   "metadata": {},
   "source": [
    "# Chapter_9 List Comprehension"
   ]
  },
  {
   "cell_type": "code",
   "execution_count": 2,
   "metadata": {},
   "outputs": [
    {
     "name": "stdout",
     "output_type": "stream",
     "text": [
      "[1, 4, 9, 16, 25, 36, 49, 64, 81, 100]\n"
     ]
    },
    {
     "data": {
      "text/plain": [
       "[1, 4, 9, 16, 25, 36, 49, 64, 81, 100]"
      ]
     },
     "execution_count": 2,
     "metadata": {},
     "output_type": "execute_result"
    }
   ],
   "source": [
    "# EX.1\n",
    "# Create a list of squares from 1 to 10.\n",
    "\n",
    "# Noramal Way\n",
    "\n",
    "sqaure= []\n",
    "for i in range(1,11):\n",
    "    sqaure.append(i**2)\n",
    "print(sqaure)\n",
    "\n",
    "# Advance Way\n",
    "\n",
    "square_2 = [i**2 for i in range(1,11)]\n",
    "square_2"
   ]
  },
  {
   "cell_type": "code",
   "execution_count": 4,
   "metadata": {},
   "outputs": [
    {
     "name": "stdout",
     "output_type": "stream",
     "text": [
      "[-1, -2, -3, -4, -5, -6, -7, -8, -9, -10]\n"
     ]
    },
    {
     "data": {
      "text/plain": [
       "[-1, -2, -3, -4, -5, -6, -7, -8, -9, -10]"
      ]
     },
     "execution_count": 4,
     "metadata": {},
     "output_type": "execute_result"
    }
   ],
   "source": [
    "# EX.2\n",
    "\n",
    "nagative = []\n",
    "\n",
    "for i in range(1,11):\n",
    "    nagative.append(-i)\n",
    "print(nagative)\n",
    "\n",
    "# advance\n",
    "\n",
    "nagetive_2 = [-i for i in range(1,11)]\n",
    "nagetive_2"
   ]
  },
  {
   "cell_type": "code",
   "execution_count": 6,
   "metadata": {},
   "outputs": [
    {
     "name": "stdout",
     "output_type": "stream",
     "text": [
      "['k', 'v', 'd']\n"
     ]
    },
    {
     "data": {
      "text/plain": [
       "['k', 'v', 'd']"
      ]
     },
     "execution_count": 6,
     "metadata": {},
     "output_type": "execute_result"
    }
   ],
   "source": [
    "# EX.3\n",
    "\n",
    "names = ['kathan','vinay','diwakar']\n",
    "new_list = []\n",
    "\n",
    "for i in names:\n",
    "    new_list.append(i[0])\n",
    "print(new_list)\n",
    "    \n",
    "# Advnce \n",
    "\n",
    "new_list = [i[0] for i in names]\n",
    "new_list"
   ]
  },
  {
   "cell_type": "markdown",
   "metadata": {},
   "source": [
    "### Exercise 1"
   ]
  },
  {
   "cell_type": "code",
   "execution_count": 9,
   "metadata": {},
   "outputs": [
    {
     "name": "stdout",
     "output_type": "stream",
     "text": [
      "['cba', 'zyx']\n",
      "['cba', 'zyx']\n"
     ]
    }
   ],
   "source": [
    "# Normal\n",
    "\n",
    "def reverese_lst(l):\n",
    "    new_list = []\n",
    "    for i in l:\n",
    "        new_list.append(i[::-1])\n",
    "    return new_list\n",
    "print(reverese_lst(['abc','xyz']))\n",
    "\n",
    "# Advance\n",
    "\n",
    "def reverese_str(l):\n",
    "    return[i[::-1] for i in l]\n",
    "\n",
    "print(reverese_str(['abc','xyz']))"
   ]
  },
  {
   "cell_type": "markdown",
   "metadata": {},
   "source": [
    "## List Comprehension With If Statement"
   ]
  },
  {
   "cell_type": "code",
   "execution_count": 10,
   "metadata": {},
   "outputs": [
    {
     "data": {
      "text/plain": [
       "[1, 2, 3, 4, 5, 6, 7, 8, 9, 10]"
      ]
     },
     "execution_count": 10,
     "metadata": {},
     "output_type": "execute_result"
    }
   ],
   "source": [
    "numbers = list(range(1,11))\n",
    "numbers"
   ]
  },
  {
   "cell_type": "code",
   "execution_count": 14,
   "metadata": {},
   "outputs": [
    {
     "name": "stdout",
     "output_type": "stream",
     "text": [
      "[2, 4, 6, 8, 10]\n",
      "[2, 4, 6, 8, 10]\n",
      "[2, 4, 6, 8, 10]\n"
     ]
    }
   ],
   "source": [
    "# I want Even Numbers from the list\n",
    "\n",
    "# Normal\n",
    "even_nums = []\n",
    "\n",
    "for i in numbers:\n",
    "    if i%2 == 0:\n",
    "        even_nums.append(i)\n",
    "print(even_nums)\n",
    "\n",
    "# Advance\n",
    "\n",
    "even_nums_1 = [i for i in numbers if i%2 == 0]\n",
    "print(even_nums_1)\n",
    "\n",
    "even_nums_2 = [i for i in range(1,11) if i%2 == 0]\n",
    "print(even_nums_2)"
   ]
  },
  {
   "cell_type": "markdown",
   "metadata": {},
   "source": [
    "### Exercise 2"
   ]
  },
  {
   "cell_type": "code",
   "execution_count": 15,
   "metadata": {},
   "outputs": [
    {
     "name": "stdout",
     "output_type": "stream",
     "text": [
      "['1', '2', '1.6']\n"
     ]
    }
   ],
   "source": [
    "def num_to_str(l):\n",
    "    return[str(i) for i in l if (type(i)==int or type(i)== float)]\n",
    "\n",
    "print(num_to_str([True,False,[1,2,3],1,2,1.6]))"
   ]
  },
  {
   "cell_type": "markdown",
   "metadata": {},
   "source": [
    "### List Comprehension With If & Else"
   ]
  },
  {
   "cell_type": "code",
   "execution_count": 20,
   "metadata": {},
   "outputs": [
    {
     "name": "stdout",
     "output_type": "stream",
     "text": [
      "[-1, 2, -3, 4, -5, 6, -7, 8, -9, 10]\n"
     ]
    },
    {
     "data": {
      "text/plain": [
       "[-1, 2, -3, 4, -5, 6, -7, 8, -9, 10]"
      ]
     },
     "execution_count": 20,
     "metadata": {},
     "output_type": "execute_result"
    }
   ],
   "source": [
    "nums = list(range(1,11))\n",
    "nums\n",
    "new_list=[]\n",
    "\n",
    "# Normal\n",
    "\n",
    "for i in nums:\n",
    "    if i%2==0:\n",
    "        new_list.append(i)\n",
    "    else:\n",
    "        new_list.append(-i)\n",
    "print(new_list)\n",
    "\n",
    "# Advance\n",
    "\n",
    "new_list_2 = [i if i%2==0 else -i for i in nums]\n",
    "new_list_2"
   ]
  },
  {
   "cell_type": "markdown",
   "metadata": {},
   "source": [
    "### List Comprehension In Nested List"
   ]
  },
  {
   "cell_type": "code",
   "execution_count": 22,
   "metadata": {},
   "outputs": [
    {
     "name": "stdout",
     "output_type": "stream",
     "text": [
      "[[1, 2, 3], [1, 2, 3], [1, 2, 3]]\n"
     ]
    },
    {
     "data": {
      "text/plain": [
       "[[1, 2, 3], [1, 2, 3], [1, 2, 3]]"
      ]
     },
     "execution_count": 22,
     "metadata": {},
     "output_type": "execute_result"
    }
   ],
   "source": [
    "example = [[1,2,3],[1,2,3],[1,2,3]]\n",
    "\n",
    "# Normal\n",
    "\n",
    "new_list = []\n",
    "for j in range(3):\n",
    "    new_list.append([1,2,3])\n",
    "print(new_list)\n",
    "\n",
    "#Advance \n",
    "\n",
    "\n",
    "nested_comp = [[i for i in range(1,4)] for j in range(3)]\n",
    "nested_comp"
   ]
  },
  {
   "cell_type": "markdown",
   "metadata": {},
   "source": [
    "# Chapter_10 Dictionary Comprehension"
   ]
  },
  {
   "cell_type": "code",
   "execution_count": 1,
   "metadata": {},
   "outputs": [
    {
     "name": "stdout",
     "output_type": "stream",
     "text": [
      "{1: 1, 2: 4, 3: 9, 4: 16, 5: 25, 6: 36, 7: 49, 8: 64, 9: 81, 10: 100}\n"
     ]
    }
   ],
   "source": [
    "# Example 1 {1:1,2:2,3:9}\n",
    "\n",
    "square = {num:num**2 for num in range(1,11)}\n",
    "print(square)"
   ]
  },
  {
   "cell_type": "code",
   "execution_count": 2,
   "metadata": {},
   "outputs": [
    {
     "data": {
      "text/plain": [
       "{'square of 1 is ': 1,\n",
       " 'square of 2 is ': 4,\n",
       " 'square of 3 is ': 9,\n",
       " 'square of 4 is ': 16,\n",
       " 'square of 5 is ': 25,\n",
       " 'square of 6 is ': 36,\n",
       " 'square of 7 is ': 49,\n",
       " 'square of 8 is ': 64,\n",
       " 'square of 9 is ': 81,\n",
       " 'square of 10 is ': 100}"
      ]
     },
     "execution_count": 2,
     "metadata": {},
     "output_type": "execute_result"
    }
   ],
   "source": [
    "# Modify Example 1 With F string\n",
    "\n",
    "square = {f\"square of {num} is \":num**2 for num in range(1,11)}\n",
    "square"
   ]
  },
  {
   "cell_type": "code",
   "execution_count": 2,
   "metadata": {},
   "outputs": [
    {
     "name": "stdout",
     "output_type": "stream",
     "text": [
      "{'k': 1, 'a': 2, 't': 1, 'h': 1, 'n': 1}\n"
     ]
    }
   ],
   "source": [
    "# Example 2 \"Kathan\"\n",
    "\n",
    "string = \"kathan\"\n",
    "Word_count = {char:string.count(char) for char in string}\n",
    "print(Word_count)"
   ]
  },
  {
   "cell_type": "code",
   "execution_count": 5,
   "metadata": {},
   "outputs": [
    {
     "data": {
      "text/plain": [
       "{1: 'odd',\n",
       " 2: 'even',\n",
       " 3: 'odd',\n",
       " 4: 'even',\n",
       " 5: 'odd',\n",
       " 6: 'even',\n",
       " 7: 'odd',\n",
       " 8: 'even',\n",
       " 9: 'odd',\n",
       " 10: 'even'}"
      ]
     },
     "execution_count": 5,
     "metadata": {},
     "output_type": "execute_result"
    }
   ],
   "source": [
    "# Example 3 odd_even\n",
    "\n",
    "odd_even = {i:(\"even\" if i %2==0 else 'odd') for i in range(1,11)}\n",
    "odd_even"
   ]
  },
  {
   "cell_type": "markdown",
   "metadata": {},
   "source": [
    "## Set Comprehension"
   ]
  },
  {
   "cell_type": "code",
   "execution_count": 6,
   "metadata": {},
   "outputs": [
    {
     "data": {
      "text/plain": [
       "{1, 4, 9, 16, 25, 36, 49, 64, 81, 100}"
      ]
     },
     "execution_count": 6,
     "metadata": {},
     "output_type": "execute_result"
    }
   ],
   "source": [
    "s = {k**2 for k in range(1,11)}\n",
    "s"
   ]
  },
  {
   "cell_type": "code",
   "execution_count": 8,
   "metadata": {},
   "outputs": [
    {
     "data": {
      "text/plain": [
       "{'d', 'k', 'v'}"
      ]
     },
     "execution_count": 8,
     "metadata": {},
     "output_type": "execute_result"
    }
   ],
   "source": [
    "names = [\"kathan\",\"vinay\",\"diwakar\"]\n",
    "\n",
    "f_char = {i[0] for i in names}\n",
    "f_char"
   ]
  },
  {
   "cell_type": "markdown",
   "metadata": {},
   "source": [
    "## END"
   ]
  }
 ],
 "metadata": {
  "kernelspec": {
   "display_name": "myenv",
   "language": "python",
   "name": "mynev"
  },
  "language_info": {
   "codemirror_mode": {
    "name": "ipython",
    "version": 3
   },
   "file_extension": ".py",
   "mimetype": "text/x-python",
   "name": "python",
   "nbconvert_exporter": "python",
   "pygments_lexer": "ipython3",
   "version": "3.9.7"
  }
 },
 "nbformat": 4,
 "nbformat_minor": 4
}
