{
 "cells": [
  {
   "cell_type": "markdown",
   "id": "fcbddcf1",
   "metadata": {},
   "source": [
    "## Create Your First Class"
   ]
  },
  {
   "cell_type": "code",
   "execution_count": 1,
   "id": "19af1c1c",
   "metadata": {},
   "outputs": [],
   "source": [
    "class Person:\n",
    "    def __init__(self,first_name,last_name,age):\n",
    "        # instance variables # self = object # __init__ = Constructor\n",
    "        self.first_name = first_name\n",
    "        self.last_name = last_name\n",
    "        self.age = age\n",
    "        \n",
    "p1 = Person('Kathan','Patel',22)\n",
    "p2 = Person('Dharmik','Patel',20)"
   ]
  },
  {
   "cell_type": "code",
   "execution_count": 2,
   "id": "1339d1e3",
   "metadata": {},
   "outputs": [
    {
     "data": {
      "text/plain": [
       "'Kathan'"
      ]
     },
     "execution_count": 2,
     "metadata": {},
     "output_type": "execute_result"
    }
   ],
   "source": [
    "p1.first_name"
   ]
  },
  {
   "cell_type": "code",
   "execution_count": 3,
   "id": "18d2a2f6",
   "metadata": {},
   "outputs": [
    {
     "data": {
      "text/plain": [
       "'Dharmik'"
      ]
     },
     "execution_count": 3,
     "metadata": {},
     "output_type": "execute_result"
    }
   ],
   "source": [
    "p2.first_name"
   ]
  },
  {
   "cell_type": "code",
   "execution_count": 4,
   "id": "1218d791",
   "metadata": {},
   "outputs": [
    {
     "data": {
      "text/plain": [
       "22"
      ]
     },
     "execution_count": 4,
     "metadata": {},
     "output_type": "execute_result"
    }
   ],
   "source": [
    "p1.age"
   ]
  },
  {
   "cell_type": "markdown",
   "id": "c5ee14fd",
   "metadata": {},
   "source": [
    "## Exercise 1"
   ]
  },
  {
   "cell_type": "code",
   "execution_count": 8,
   "id": "f75248ab",
   "metadata": {},
   "outputs": [],
   "source": [
    "class Laptop:\n",
    "    def __init__(self,brand_name,model_name,price):\n",
    "        self.brand_name = brand_name\n",
    "        self.model_name = model_name\n",
    "        self.price = price\n",
    "        self.laptop_name = brand_name + \" \" + model_name\n",
    "        \n",
    "l1 = Laptop('lonovo','abc',15000)\n",
    "l2 = Laptop('hp','xyz',20000)"
   ]
  },
  {
   "cell_type": "code",
   "execution_count": 9,
   "id": "2a1a86d6",
   "metadata": {},
   "outputs": [
    {
     "name": "stdout",
     "output_type": "stream",
     "text": [
      "lonovo\n"
     ]
    }
   ],
   "source": [
    "print(l1.brand_name)"
   ]
  },
  {
   "cell_type": "code",
   "execution_count": 11,
   "id": "b702776c",
   "metadata": {},
   "outputs": [
    {
     "name": "stdout",
     "output_type": "stream",
     "text": [
      "lonovo abc\n"
     ]
    }
   ],
   "source": [
    "print(l1.laptop_name)"
   ]
  },
  {
   "cell_type": "markdown",
   "id": "86d59704",
   "metadata": {},
   "source": [
    "# Instance Method \n",
    "## Instance == Object"
   ]
  },
  {
   "cell_type": "code",
   "execution_count": 21,
   "id": "3f499556",
   "metadata": {},
   "outputs": [],
   "source": [
    "class Person:\n",
    "    def __init__(self,f_name,l_name,age):\n",
    "        self.first_name = f_name\n",
    "        self.last_name = l_name\n",
    "        self.age = age\n",
    "        \n",
    "    def full_name(self):\n",
    "        return f\"{self.first_name} {self.last_name}\"\n",
    "    \n",
    "    def is_above_18(self):\n",
    "      # return self.age>18\n",
    "        if self.age>18:\n",
    "            return True\n",
    "        else:\n",
    "            return False"
   ]
  },
  {
   "cell_type": "code",
   "execution_count": 22,
   "id": "525b9d65",
   "metadata": {},
   "outputs": [
    {
     "name": "stdout",
     "output_type": "stream",
     "text": [
      "Kathan Patel\n",
      "Dharmik Patel\n",
      "True\n"
     ]
    }
   ],
   "source": [
    "p1 = Person('Kathan','Patel',22)\n",
    "p2 = Person('Dharmik','Patel',20)\n",
    "\n",
    "print(p1.full_name())\n",
    "print(p2.full_name())\n",
    "\n",
    "print(p1.is_above_18())"
   ]
  },
  {
   "cell_type": "markdown",
   "id": "22026f5b",
   "metadata": {},
   "source": [
    "# Exercise 2 "
   ]
  },
  {
   "cell_type": "code",
   "execution_count": 24,
   "id": "636ad296",
   "metadata": {},
   "outputs": [],
   "source": [
    "class Laptop:\n",
    "    def __init__(self,brand_name,model_name,price):\n",
    "        self.brand_name = brand_name\n",
    "        self.model_name = model_name\n",
    "        self.price = price\n",
    "        self.laptop_name = brand_name + \" \" + model_name\n",
    "        \n",
    "    def apply_discount(self,num):\n",
    "        #self.price\n",
    "        off_price = (num/100)*self.price\n",
    "        return self.price - off_price"
   ]
  },
  {
   "cell_type": "code",
   "execution_count": 27,
   "id": "f433e3de",
   "metadata": {},
   "outputs": [
    {
     "name": "stdout",
     "output_type": "stream",
     "text": [
      "54000.0\n"
     ]
    }
   ],
   "source": [
    "laptop1 = Laptop(\"lenovo\",\"abc\",60000)\n",
    "\n",
    "print(laptop1.apply_discount(10))"
   ]
  },
  {
   "cell_type": "markdown",
   "id": "e2ad9a30",
   "metadata": {},
   "source": [
    "# Class Variable"
   ]
  },
  {
   "cell_type": "code",
   "execution_count": 28,
   "id": "8182be70",
   "metadata": {},
   "outputs": [
    {
     "name": "stdout",
     "output_type": "stream",
     "text": [
      "25.12\n"
     ]
    }
   ],
   "source": [
    "## circle\n",
    "## area\n",
    "## circum\n",
    "\n",
    "class Circle:\n",
    "    def __init__(self,radius,pi):\n",
    "        self.radius = radius\n",
    "        self.pi = pi\n",
    "        \n",
    "    def calc_circumference(self):\n",
    "        return 2*self.pi*self.radius\n",
    "\n",
    "c = Circle(4,3.14)\n",
    "c1 = Circle(5,3.14)\n",
    "\n",
    "print(c.calc_circumference())"
   ]
  },
  {
   "cell_type": "code",
   "execution_count": 29,
   "id": "c6f008ed",
   "metadata": {},
   "outputs": [
    {
     "name": "stdout",
     "output_type": "stream",
     "text": [
      "25.12\n"
     ]
    }
   ],
   "source": [
    "## Using Class Variable\n",
    "\n",
    "class Circle:\n",
    "    pi = 3.14\n",
    "    def __init__(self,radius):\n",
    "        self.radius = radius\n",
    "       \n",
    "    def calc_circumference(self):\n",
    "        return 2*Circle.pi*self.radius\n",
    "\n",
    "c = Circle(4)\n",
    "c1 = Circle(5)\n",
    "\n",
    "print(c.calc_circumference())"
   ]
  },
  {
   "cell_type": "code",
   "execution_count": 31,
   "id": "fb0ced79",
   "metadata": {},
   "outputs": [
    {
     "name": "stdout",
     "output_type": "stream",
     "text": [
      "54000.0\n",
      "45000.0\n"
     ]
    }
   ],
   "source": [
    "class Laptop:\n",
    "    discount_percent = 10\n",
    "    def __init__(self,brand_name,model_name,price):\n",
    "        self.brand_name = brand_name\n",
    "        self.model_name = model_name\n",
    "        self.price = price\n",
    "        self.laptop_name = brand_name + \" \" + model_name\n",
    "        \n",
    "    def apply_discount(self):\n",
    "        #self.price\n",
    "        off_price = (Laptop.discount_percent/100)*self.price\n",
    "        return self.price - off_price\n",
    "    \n",
    "laptop1 = Laptop(\"lenovo\",\"abc\",60000)\n",
    "laptop2 = Laptop(\"lenovo\",\"abc\",50000)\n",
    "\n",
    "print(laptop1.apply_discount())\n",
    "print(laptop2.apply_discount())"
   ]
  },
  {
   "cell_type": "code",
   "execution_count": 32,
   "id": "b3f8fce5",
   "metadata": {},
   "outputs": [
    {
     "data": {
      "text/plain": [
       "{'brand_name': 'lenovo',\n",
       " 'model_name': 'abc',\n",
       " 'price': 60000,\n",
       " 'laptop_name': 'lenovo abc'}"
      ]
     },
     "execution_count": 32,
     "metadata": {},
     "output_type": "execute_result"
    }
   ],
   "source": [
    "laptop1.__dict__  # extract info about object"
   ]
  },
  {
   "cell_type": "markdown",
   "id": "483613d4",
   "metadata": {},
   "source": [
    "# Exercise 3 "
   ]
  },
  {
   "cell_type": "code",
   "execution_count": 35,
   "id": "d78e3631",
   "metadata": {},
   "outputs": [],
   "source": [
    "class Person:\n",
    "    count_instance = 0\n",
    "    def __init__(self,f_name,l_name,age):\n",
    "        Person.count_instance +=1\n",
    "        self.first_name = f_name\n",
    "        self.last_name = l_name\n",
    "        self.age = age"
   ]
  },
  {
   "cell_type": "code",
   "execution_count": 38,
   "id": "3350223e",
   "metadata": {},
   "outputs": [
    {
     "name": "stdout",
     "output_type": "stream",
     "text": [
      "4\n"
     ]
    }
   ],
   "source": [
    "p1 = Person(\"Kathan\",\"Patel\",22)\n",
    "p2 = Person(\"Dharmik\",\"Patel\",20)\n",
    "\n",
    "print(Person.count_instance)"
   ]
  },
  {
   "cell_type": "markdown",
   "id": "ac4dac8c",
   "metadata": {},
   "source": [
    "# Class Method"
   ]
  },
  {
   "cell_type": "code",
   "execution_count": 42,
   "id": "b687a085",
   "metadata": {},
   "outputs": [
    {
     "name": "stdout",
     "output_type": "stream",
     "text": [
      "You Have Created 2 Instances of Person Class \n"
     ]
    }
   ],
   "source": [
    "class Person:\n",
    "    count_instance = 0 # class variable or class attribute\n",
    "    def __init__(self,f_name,l_name,age):\n",
    "        Person.count_instance +=1\n",
    "        self.first_name = f_name\n",
    "        self.last_name = l_name\n",
    "        self.age = age\n",
    "        \n",
    "    @classmethod\n",
    "    def count_instances(cls):\n",
    "        return f\"You Have Created {cls.count_instance} Instances of {cls.__name__} Class \"\n",
    "    \n",
    "    def full_name(self):\n",
    "        return f\"{self.first_name} {self.last_name}\"\n",
    "    \n",
    "    def is_above_18(self):\n",
    "        return self.age>18\n",
    "    \n",
    "\n",
    "p1 = Person(\"Kathan\",\"Patel\",22)\n",
    "p2 = Person(\"Dharmik\",\"Patel\",20)\n",
    "\n",
    "print(Person.count_instances())"
   ]
  },
  {
   "cell_type": "markdown",
   "id": "3e4980ae",
   "metadata": {},
   "source": [
    "## Class Method As Constructor"
   ]
  },
  {
   "cell_type": "code",
   "execution_count": 43,
   "id": "08980970",
   "metadata": {},
   "outputs": [],
   "source": [
    "class Person:\n",
    "    count_instance = 0 # class variable or class attribute\n",
    "    def __init__(self,f_name,l_name,age):\n",
    "        Person.count_instance +=1\n",
    "        self.first_name = f_name\n",
    "        self.last_name = l_name\n",
    "        self.age = age\n",
    "    \n",
    "    @classmethod\n",
    "    def from_string(cls,string):\n",
    "        first,last,age = string.split(',')\n",
    "        return cls(first,last,age)\n",
    "    \n",
    "    @classmethod\n",
    "    def count_instances(cls):\n",
    "        return f\"You Have Created {cls.count_instance} Instances of {cls.__name__} Class \"\n",
    "    \n",
    "    def full_name(self):\n",
    "        return f\"{self.first_name} {self.last_name}\"\n",
    "    \n",
    "    def is_above_18(self):\n",
    "        return self.age>18\n",
    "    \n",
    "\n",
    "p1 = Person(\"Kathan\",\"Patel\",22)\n",
    "p2 = Person(\"Dharmik\",\"Patel\",20)\n",
    "\n",
    "p3 = Person.from_string(\"Kathan,Patel,23\")"
   ]
  },
  {
   "cell_type": "code",
   "execution_count": 48,
   "id": "7f536501",
   "metadata": {},
   "outputs": [
    {
     "name": "stdout",
     "output_type": "stream",
     "text": [
      "Kathan\n",
      "Kathan Patel\n"
     ]
    }
   ],
   "source": [
    "print(p3.first_name)\n",
    "print(p3.full_name())"
   ]
  },
  {
   "cell_type": "markdown",
   "id": "fbbbc79c",
   "metadata": {},
   "source": [
    "# Static Method"
   ]
  },
  {
   "cell_type": "code",
   "execution_count": 52,
   "id": "791b6a5b",
   "metadata": {},
   "outputs": [
    {
     "name": "stdout",
     "output_type": "stream",
     "text": [
      "hello,Static Method Called\n"
     ]
    }
   ],
   "source": [
    "class Person:\n",
    "    count_instance = 0 # class variable or class attribute\n",
    "    def __init__(self,f_name,l_name,age):\n",
    "        Person.count_instance +=1\n",
    "        self.first_name = f_name\n",
    "        self.last_name = l_name\n",
    "        self.age = age\n",
    "    \n",
    "    @classmethod\n",
    "    def from_string(cls,string):\n",
    "        first,last,age = string.split(',')\n",
    "        return cls(first,last,age)\n",
    "    \n",
    "    @classmethod\n",
    "    def count_instances(cls):\n",
    "        return f\"You Have Created {cls.count_instance} Instances of {cls.__name__} Class \"\n",
    "    \n",
    "    @staticmethod\n",
    "    def hello():\n",
    "        print(\"hello,Static Method Called\")\n",
    "        \n",
    "    def full_name(self):\n",
    "        return f\"{self.first_name} {self.last_name}\"\n",
    "    \n",
    "    def is_above_18(self):\n",
    "        return self.age>18\n",
    "\n",
    "p1 = Person(\"Kathan\",\"Patel\",22)\n",
    "Person.hello()"
   ]
  },
  {
   "cell_type": "code",
   "execution_count": 5,
   "id": "4ef89cbf",
   "metadata": {},
   "outputs": [
    {
     "name": "stdout",
     "output_type": "stream",
     "text": [
      "10000\n",
      "-1000\n"
     ]
    }
   ],
   "source": [
    "class Phone:\n",
    "    def __init__(self,brand,model_name,price):\n",
    "        self.brand = brand\n",
    "        self.model_name = model_name\n",
    "        self._price = price\n",
    "        \n",
    "    def make_a_call(self,phone_number):\n",
    "        print(f\"Calling {phone_number}....\")\n",
    "        \n",
    "    def full_name(self):\n",
    "        return f\"{self.brand} {self.model_name}\"\n",
    "    \n",
    "phone1 = Phone('nokia','1100',10000)\n",
    "\n",
    "print(phone1._price)\n",
    "\n",
    "phone1._price = -1000\n",
    "\n",
    "print(phone1._price)"
   ]
  },
  {
   "cell_type": "code",
   "execution_count": 7,
   "id": "ef0fa9da",
   "metadata": {},
   "outputs": [
    {
     "name": "stdout",
     "output_type": "stream",
     "text": [
      "{'brand': 'nokia', 'model_name': '1100', '_price': -1000}\n"
     ]
    }
   ],
   "source": [
    "print(phone1.__dict__)"
   ]
  },
  {
   "cell_type": "markdown",
   "id": "f896f3b6",
   "metadata": {},
   "source": []
  },
  {
   "cell_type": "code",
   "execution_count": null,
   "id": "22e410be",
   "metadata": {},
   "outputs": [],
   "source": []
  }
 ],
 "metadata": {
  "kernelspec": {
   "display_name": "myenv",
   "language": "python",
   "name": "mynev"
  },
  "language_info": {
   "codemirror_mode": {
    "name": "ipython",
    "version": 3
   },
   "file_extension": ".py",
   "mimetype": "text/x-python",
   "name": "python",
   "nbconvert_exporter": "python",
   "pygments_lexer": "ipython3",
   "version": "3.9.13"
  }
 },
 "nbformat": 4,
 "nbformat_minor": 5
}
