{
 "cells": [
  {
   "cell_type": "markdown",
   "metadata": {},
   "source": [
    "## Chapter_11 Intro To *Args"
   ]
  },
  {
   "cell_type": "code",
   "execution_count": 1,
   "metadata": {},
   "outputs": [],
   "source": [
    "# Make Flexible Function"
   ]
  },
  {
   "cell_type": "code",
   "execution_count": 3,
   "metadata": {},
   "outputs": [
    {
     "name": "stdout",
     "output_type": "stream",
     "text": [
      "7\n"
     ]
    },
    {
     "ename": "TypeError",
     "evalue": "total() takes 2 positional arguments but 3 were given",
     "output_type": "error",
     "traceback": [
      "\u001b[1;31m---------------------------------------------------------------------------\u001b[0m",
      "\u001b[1;31mTypeError\u001b[0m                                 Traceback (most recent call last)",
      "\u001b[1;32m~\\AppData\\Local\\Temp/ipykernel_7180/3601947404.py\u001b[0m in \u001b[0;36m<module>\u001b[1;34m\u001b[0m\n\u001b[0;32m      3\u001b[0m \u001b[1;33m\u001b[0m\u001b[0m\n\u001b[0;32m      4\u001b[0m \u001b[0mprint\u001b[0m\u001b[1;33m(\u001b[0m\u001b[0mtotal\u001b[0m\u001b[1;33m(\u001b[0m\u001b[1;36m3\u001b[0m\u001b[1;33m,\u001b[0m\u001b[1;36m4\u001b[0m\u001b[1;33m)\u001b[0m\u001b[1;33m)\u001b[0m\u001b[1;33m\u001b[0m\u001b[1;33m\u001b[0m\u001b[0m\n\u001b[1;32m----> 5\u001b[1;33m \u001b[0mprint\u001b[0m\u001b[1;33m(\u001b[0m\u001b[0mtotal\u001b[0m\u001b[1;33m(\u001b[0m\u001b[1;36m3\u001b[0m\u001b[1;33m,\u001b[0m\u001b[1;36m4\u001b[0m\u001b[1;33m,\u001b[0m\u001b[1;36m5\u001b[0m\u001b[1;33m)\u001b[0m\u001b[1;33m)\u001b[0m\u001b[1;33m\u001b[0m\u001b[1;33m\u001b[0m\u001b[0m\n\u001b[0m",
      "\u001b[1;31mTypeError\u001b[0m: total() takes 2 positional arguments but 3 were given"
     ]
    }
   ],
   "source": [
    "def total(a,b):\n",
    "    return a+b\n",
    "\n",
    "print(total(3,4))\n",
    "print(total(3,4,5)) # this will show an error"
   ]
  },
  {
   "cell_type": "code",
   "execution_count": 6,
   "metadata": {},
   "outputs": [
    {
     "name": "stdout",
     "output_type": "stream",
     "text": [
      "6\n"
     ]
    }
   ],
   "source": [
    "def all_total(*args):\n",
    "    total=0\n",
    "    for i in args:\n",
    "        total += i\n",
    "    return total\n",
    "    \n",
    "print(all_total(1,2,3))"
   ]
  },
  {
   "cell_type": "markdown",
   "metadata": {},
   "source": [
    "## 1. *args With Normal Parameter"
   ]
  },
  {
   "cell_type": "code",
   "execution_count": 8,
   "metadata": {},
   "outputs": [
    {
     "name": "stdout",
     "output_type": "stream",
     "text": [
      "1\n",
      "(2, 3, 4)\n",
      "24\n"
     ]
    }
   ],
   "source": [
    "def multiply_nums(num,*args):\n",
    "    multiply = 1\n",
    "    print(num)\n",
    "    print(args)\n",
    "    for i in args:\n",
    "        multiply *= i\n",
    "    return multiply\n",
    "\n",
    "print(multiply_nums(1,2,3,4))"
   ]
  },
  {
   "cell_type": "markdown",
   "metadata": {},
   "source": [
    "## 2. *args as Argument"
   ]
  },
  {
   "cell_type": "code",
   "execution_count": 9,
   "metadata": {},
   "outputs": [
    {
     "name": "stdout",
     "output_type": "stream",
     "text": [
      "24\n"
     ]
    }
   ],
   "source": [
    "def multiply_nums(num,*args):\n",
    "    multiply = 1\n",
    "    for i in args:\n",
    "        multiply *= i\n",
    "    return multiply\n",
    "\n",
    "numbers = [1,2,3,4]\n",
    "print(multiply_nums(*numbers))"
   ]
  },
  {
   "cell_type": "markdown",
   "metadata": {},
   "source": [
    "### Exercise 1"
   ]
  },
  {
   "cell_type": "code",
   "execution_count": 10,
   "metadata": {},
   "outputs": [
    {
     "name": "stdout",
     "output_type": "stream",
     "text": [
      "not empty\n"
     ]
    }
   ],
   "source": [
    "l = [1,2,3]\n",
    "\n",
    "if l:\n",
    "    print(\"not empty\")\n",
    "else:\n",
    "    print(\"empty\")"
   ]
  },
  {
   "cell_type": "code",
   "execution_count": 14,
   "metadata": {},
   "outputs": [
    {
     "name": "stdout",
     "output_type": "stream",
     "text": [
      "[1, 4, 9]\n"
     ]
    }
   ],
   "source": [
    "def to_power(num,*args):\n",
    "    if args:\n",
    "        return [i**num for i in args]\n",
    "    else:\n",
    "        return \"you did't pass any args\"\n",
    "    \n",
    "nums=[1,2,3]\n",
    "print(to_power(2,*nums))"
   ]
  },
  {
   "cell_type": "markdown",
   "metadata": {},
   "source": [
    "## 3. Kwargs "
   ]
  },
  {
   "cell_type": "markdown",
   "metadata": {},
   "source": [
    "- Key Word Argument\n",
    "- Double Star Operator **Kwargs\n",
    "- Return the Dict"
   ]
  },
  {
   "cell_type": "code",
   "execution_count": 24,
   "metadata": {},
   "outputs": [
    {
     "name": "stdout",
     "output_type": "stream",
     "text": [
      "{'first_name': 'kathan', 'last_name': 'patel'}\n",
      "<class 'dict'>\n"
     ]
    }
   ],
   "source": [
    "# kwargs as a parameter\n",
    "\n",
    "def func(**kwargs):\n",
    "    print(kwargs)\n",
    "    print(type(kwargs))\n",
    "func(first_name = 'kathan' , last_name = 'patel')"
   ]
  },
  {
   "cell_type": "code",
   "execution_count": 25,
   "metadata": {},
   "outputs": [
    {
     "name": "stdout",
     "output_type": "stream",
     "text": [
      "first_name:kathan\n",
      "last_name:patel\n"
     ]
    }
   ],
   "source": [
    "def func(**kwargs):\n",
    "    for k,v in kwargs.items():\n",
    "        print(f\"{k}:{v}\")\n",
    "func(first_name = 'kathan' , last_name = 'patel')"
   ]
  },
  {
   "cell_type": "code",
   "execution_count": 26,
   "metadata": {},
   "outputs": [
    {
     "name": "stdout",
     "output_type": "stream",
     "text": [
      "first_name:kathan\n",
      "last_name:patel\n"
     ]
    }
   ],
   "source": [
    "def func(name,**kwargs):\n",
    "    for k,v in kwargs.items():\n",
    "        print(f\"{k}:{v}\")\n",
    "func('vinay',first_name = 'kathan' , last_name = 'patel')"
   ]
  },
  {
   "cell_type": "code",
   "execution_count": 31,
   "metadata": {},
   "outputs": [
    {
     "name": "stdout",
     "output_type": "stream",
     "text": [
      "age:24\n"
     ]
    }
   ],
   "source": [
    "# dict unpacking\n",
    "\n",
    "d = {'name':'kathan','age':24}\n",
    "func(**d)"
   ]
  },
  {
   "cell_type": "markdown",
   "metadata": {},
   "source": [
    "## 4. FUNCTION WITH ALL PARAMETERS - IMPORTANT"
   ]
  },
  {
   "cell_type": "code",
   "execution_count": 1,
   "metadata": {},
   "outputs": [
    {
     "name": "stdout",
     "output_type": "stream",
     "text": [
      "kathan\n",
      "(1, 2, 3, 4)\n",
      "unknown\n",
      "{'a': 1, 'b': 2, 'c': 3}\n"
     ]
    }
   ],
   "source": [
    "# SEQUENCE OF USING ALL FUNCTIONS\n",
    "\n",
    "def func(name,*args,last_name=\"unknown\",**kwargs): # WE MUST MAINTAIN ORDER OF FUCTIONS \n",
    "    print(name)\n",
    "    print(args)\n",
    "    print(last_name)\n",
    "    print(kwargs)\n",
    "    \n",
    "func('kathan',1,2,3,4,a=1,b=2,c=3)   "
   ]
  },
  {
   "cell_type": "markdown",
   "metadata": {},
   "source": [
    "### EXERCISE 2"
   ]
  },
  {
   "cell_type": "code",
   "execution_count": 2,
   "metadata": {},
   "outputs": [
    {
     "name": "stdout",
     "output_type": "stream",
     "text": [
      "['Kathan', 'Patel']\n"
     ]
    }
   ],
   "source": [
    "def func(l,**kwargs):\n",
    "    if kwargs.get(\"reverse_str\")==True:\n",
    "        return [name[::-1].title() for name in l]\n",
    "    else:\n",
    "        return[name.title() for name in l]\n",
    "names=[\"kathan\",\"patel\"]\n",
    "print(func(names))"
   ]
  },
  {
   "cell_type": "code",
   "execution_count": 3,
   "metadata": {},
   "outputs": [
    {
     "name": "stdout",
     "output_type": "stream",
     "text": [
      "['Nahtak', 'Letap']\n"
     ]
    }
   ],
   "source": [
    "def func(l,**kwargs):\n",
    "    if kwargs.get(\"reverse_str\")==True:\n",
    "        return [name[::-1].title() for name in l]\n",
    "    else:\n",
    "        return[name.title() for name in l]\n",
    "names=[\"kathan\",\"patel\"]\n",
    "print(func(names,reverse_str=True))"
   ]
  },
  {
   "cell_type": "markdown",
   "metadata": {},
   "source": [
    "## Chapter_12 Lambda Expression "
   ]
  },
  {
   "cell_type": "markdown",
   "metadata": {},
   "source": [
    "- Anonymous Function"
   ]
  },
  {
   "cell_type": "code",
   "execution_count": 4,
   "metadata": {},
   "outputs": [
    {
     "name": "stdout",
     "output_type": "stream",
     "text": [
      "5\n"
     ]
    }
   ],
   "source": [
    "# Normal\n",
    "\n",
    "def add(a,b):\n",
    "    return a+b\n",
    "\n",
    "# Advance\n",
    "\n",
    "lambda a,b : a+b # and it's done\n",
    "\n",
    "add_2 = lambda a,b : a+b\n",
    "\n",
    "print(add_2(2,3))\n"
   ]
  },
  {
   "cell_type": "code",
   "execution_count": 5,
   "metadata": {},
   "outputs": [
    {
     "name": "stdout",
     "output_type": "stream",
     "text": [
      "6\n"
     ]
    }
   ],
   "source": [
    "lambda a,b : a*b\n",
    "\n",
    "multiply = lambda a,b : a*b\n",
    "\n",
    "print(multiply(2,3))"
   ]
  },
  {
   "cell_type": "markdown",
   "metadata": {},
   "source": [
    "### Lambda Practice"
   ]
  },
  {
   "cell_type": "code",
   "execution_count": null,
   "metadata": {},
   "outputs": [],
   "source": [
    "# Noraml \n",
    "\n",
    "def is_even(a):\n",
    "    if a %2==0:\n",
    "        return True\n",
    "    else:\n",
    "        return False\n",
    "    \n",
    "## OR\n",
    "\n",
    "\n",
    "def is_even(a):\n",
    "    if a %2==0:\n",
    "        return True\n",
    "    return False\n",
    "\n",
    "## OR\n",
    "\n",
    "def is_even(a):\n",
    "    return a %2==0\n",
    "\n",
    "# All Outputs will be same "
   ]
  },
  {
   "cell_type": "code",
   "execution_count": 6,
   "metadata": {},
   "outputs": [
    {
     "name": "stdout",
     "output_type": "stream",
     "text": [
      "True\n"
     ]
    }
   ],
   "source": [
    "# Advance \n",
    "\n",
    "iseven2 = lambda a : a%2==0\n",
    "print(iseven2(56))"
   ]
  },
  {
   "cell_type": "code",
   "execution_count": 7,
   "metadata": {},
   "outputs": [
    {
     "name": "stdout",
     "output_type": "stream",
     "text": [
      "n\n"
     ]
    }
   ],
   "source": [
    "# Normal\n",
    "\n",
    "def last_char(s):\n",
    "    return s[-1]\n",
    "\n",
    "# Advance \n",
    "\n",
    "last_char = lambda s : s[-1]\n",
    "\n",
    "print(last_char(\"kathan\"))"
   ]
  },
  {
   "cell_type": "markdown",
   "metadata": {},
   "source": [
    "### Lambda Expression With If Else"
   ]
  },
  {
   "cell_type": "code",
   "execution_count": null,
   "metadata": {},
   "outputs": [],
   "source": [
    "# Normal\n",
    "\n",
    "def func(s):\n",
    "    if len(s) > 5:\n",
    "        return True\n",
    "    return False\n",
    "\n",
    "# OR\n",
    "\n",
    "def func(s):\n",
    "    if len(s) > 5\n",
    "\n",
    "# Advance\n",
    "\n",
    "func2 = lambda s : True if len(s) > 5 else False\n",
    "\n",
    "print(func2(\"kathan\"))"
   ]
  },
  {
   "cell_type": "code",
   "execution_count": 14,
   "metadata": {},
   "outputs": [
    {
     "name": "stdout",
     "output_type": "stream",
     "text": [
      "False\n"
     ]
    }
   ],
   "source": [
    "func3 = lambda s : len(s) > 5\n",
    "\n",
    "print(func3(\"vinay\"))"
   ]
  },
  {
   "cell_type": "markdown",
   "metadata": {},
   "source": [
    "## Chapter_13 All Important Functions"
   ]
  },
  {
   "cell_type": "markdown",
   "metadata": {},
   "source": [
    "### 1. Enumerate Function"
   ]
  },
  {
   "cell_type": "markdown",
   "metadata": {},
   "source": [
    "- We Use Enumerate Function With For Loop To Track Position Of Our Item."
   ]
  },
  {
   "cell_type": "code",
   "execution_count": 6,
   "metadata": {},
   "outputs": [
    {
     "name": "stdout",
     "output_type": "stream",
     "text": [
      "0:kathan\n",
      "1:vinay\n",
      "2:diwakar\n"
     ]
    }
   ],
   "source": [
    "# Without Enumarate Function\n",
    "\n",
    "names= [\"kathan\",\"vinay\",\"diwakar\"]\n",
    "\n",
    "pos = 0\n",
    "for i in names:\n",
    "    print(f\"{pos}:{i}\")\n",
    "    pos+=1\n",
    "    "
   ]
  },
  {
   "cell_type": "code",
   "execution_count": 7,
   "metadata": {},
   "outputs": [
    {
     "name": "stdout",
     "output_type": "stream",
     "text": [
      "  0 : kathan \n",
      "  1 : vinay \n",
      "  2 : diwakar \n"
     ]
    }
   ],
   "source": [
    "# With Enumarate Function\n",
    "\n",
    "names= [\"kathan\",\"vinay\",\"diwakar\"]\n",
    "for pos,name in enumerate(names):\n",
    "    print(f\"  {pos} : {name} \")"
   ]
  },
  {
   "cell_type": "code",
   "execution_count": 11,
   "metadata": {},
   "outputs": [
    {
     "name": "stdout",
     "output_type": "stream",
     "text": [
      "2\n",
      "-1\n"
     ]
    }
   ],
   "source": [
    "# Example\n",
    "\n",
    "names= [\"kathan\",\"vinay\",\"diwakar\"]\n",
    "def find_pos(l,target):\n",
    "    for pos,name in enumerate(l):\n",
    "        if name == target:\n",
    "            return pos\n",
    "    return -1\n",
    "\n",
    "print(find_pos(names,'diwakar'))\n",
    "print(find_pos(names,'dhaval'))"
   ]
  },
  {
   "cell_type": "markdown",
   "metadata": {},
   "source": [
    "### 2. Map Function"
   ]
  },
  {
   "cell_type": "code",
   "execution_count": 13,
   "metadata": {},
   "outputs": [
    {
     "name": "stdout",
     "output_type": "stream",
     "text": [
      "1\n",
      "4\n",
      "9\n",
      "16\n"
     ]
    }
   ],
   "source": [
    "numbers = [1,2,3,4]\n",
    "\n",
    "def square(a):\n",
    "    return a**2\n",
    "\n",
    "print(square(1))\n",
    "print(square(2))\n",
    "print(square(3))\n",
    "print(square(4))"
   ]
  },
  {
   "cell_type": "code",
   "execution_count": 19,
   "metadata": {},
   "outputs": [
    {
     "name": "stdout",
     "output_type": "stream",
     "text": [
      "[1, 4, 9, 16]\n"
     ]
    }
   ],
   "source": [
    "numbers = [1,2,3,4]\n",
    "\n",
    "def square(a):\n",
    "    return a**2\n",
    "\n",
    "# map(square,numbers)\n",
    "\n",
    "squares = list(map(square,numbers))\n",
    "\n",
    "print(squares)\n"
   ]
  },
  {
   "cell_type": "code",
   "execution_count": 20,
   "metadata": {},
   "outputs": [
    {
     "data": {
      "text/plain": [
       "[1, 4, 9, 16]"
      ]
     },
     "execution_count": 20,
     "metadata": {},
     "output_type": "execute_result"
    }
   ],
   "source": [
    "# Using Lambda Expression\n",
    "\n",
    "squares_1 = list(map(lambda a:a**2, numbers))\n",
    "squares_1"
   ]
  },
  {
   "cell_type": "code",
   "execution_count": 21,
   "metadata": {},
   "outputs": [
    {
     "data": {
      "text/plain": [
       "[1, 4, 9, 16]"
      ]
     },
     "execution_count": 21,
     "metadata": {},
     "output_type": "execute_result"
    }
   ],
   "source": [
    "# Using List Comprehension\n",
    "\n",
    "squares_2 = [i**2 for i in numbers]\n",
    "squares_2"
   ]
  },
  {
   "cell_type": "code",
   "execution_count": 23,
   "metadata": {},
   "outputs": [
    {
     "name": "stdout",
     "output_type": "stream",
     "text": [
      "[1, 4, 9, 16]\n"
     ]
    }
   ],
   "source": [
    "# Without LIST COMPREHENSION And MAP Function\n",
    "\n",
    "def square(a):\n",
    "    return a**2\n",
    "\n",
    "new_list = []\n",
    "\n",
    "for i in numbers:\n",
    "    new_list.append(square(i))\n",
    "    \n",
    "print(new_list)"
   ]
  },
  {
   "cell_type": "code",
   "execution_count": 27,
   "metadata": {},
   "outputs": [
    {
     "name": "stdout",
     "output_type": "stream",
     "text": [
      "3\n",
      "4\n",
      "5\n"
     ]
    }
   ],
   "source": [
    "names = ['abc','abcd','abcde']\n",
    "\n",
    "length = map(len , names)\n",
    "\n",
    "for i in length:\n",
    "    print(i)"
   ]
  },
  {
   "cell_type": "code",
   "execution_count": 28,
   "metadata": {},
   "outputs": [
    {
     "name": "stdout",
     "output_type": "stream",
     "text": [
      "[3, 4, 5]\n"
     ]
    }
   ],
   "source": [
    "length = list(map(len , names))\n",
    "print(length)"
   ]
  },
  {
   "cell_type": "markdown",
   "metadata": {},
   "source": [
    "### 3. Filter Function"
   ]
  },
  {
   "cell_type": "code",
   "execution_count": 32,
   "metadata": {},
   "outputs": [
    {
     "name": "stdout",
     "output_type": "stream",
     "text": [
      "(2, 4, 10)\n",
      "[2, 4, 10]\n",
      "(2, 4, 10)\n",
      "2\n",
      "4\n",
      "10\n"
     ]
    }
   ],
   "source": [
    "def is_even(a):\n",
    "    return a%2==0\n",
    "\n",
    "numbers = [3,2,4,5,7,9,10]\n",
    "\n",
    "\n",
    "# filter(is_even,numbers)\n",
    "\n",
    "evens = tuple(filter(is_even,numbers))\n",
    "print(evens)\n",
    "\n",
    "evens = list(filter(is_even,numbers))\n",
    "print(evens)\n",
    "\n",
    "evens = tuple(filter(lambda a:a%2==0,numbers))\n",
    "print(evens)\n"
   ]
  },
  {
   "cell_type": "code",
   "execution_count": 34,
   "metadata": {},
   "outputs": [
    {
     "name": "stdout",
     "output_type": "stream",
     "text": [
      "(2, 4, 10)\n",
      "[2, 4, 10]\n"
     ]
    }
   ],
   "source": [
    "# Using List Comprehension\n",
    "\n",
    "new_evens = [i for i in numbers if i%2==0]\n",
    "print(evens)\n",
    "print(new_evens)"
   ]
  },
  {
   "cell_type": "markdown",
   "metadata": {},
   "source": [
    "### 4. Iterator Vs Iterable"
   ]
  },
  {
   "cell_type": "code",
   "execution_count": null,
   "metadata": {},
   "outputs": [],
   "source": [
    "# numbers = [1,2,3,4] ~~ Iterables\n",
    "\n",
    "# squares = list(map(lambda a:a**2, numbers)) ~~ Iterators"
   ]
  },
  {
   "cell_type": "markdown",
   "metadata": {},
   "source": [
    "### 5. Zip Function"
   ]
  },
  {
   "cell_type": "code",
   "execution_count": 42,
   "metadata": {},
   "outputs": [
    {
     "name": "stdout",
     "output_type": "stream",
     "text": [
      "[('user1', 'kathan'), ('user2', 'vinay'), ('user3', 'yash')]\n",
      "{'user1': 'kathan', 'user2': 'vinay', 'user3': 'yash'}\n"
     ]
    }
   ],
   "source": [
    "user_id = [\"user1\",\"user2\",\"user3\"]\n",
    "names = [\"kathan\",\"vinay\",\"yash\"]\n",
    "\n",
    "# print(zip(user_id,names)) # its a iterator so it can not be printed\n",
    "\n",
    "print(list(zip(user_id,names)))\n",
    "print(dict(zip(user_id,names))) "
   ]
  },
  {
   "cell_type": "code",
   "execution_count": 43,
   "metadata": {},
   "outputs": [
    {
     "name": "stdout",
     "output_type": "stream",
     "text": [
      "[('user1', 'kathan'), ('user2', 'vinay')]\n",
      "{'user1': 'kathan', 'user2': 'vinay'}\n"
     ]
    }
   ],
   "source": [
    "user_id = [\"user1\",\"user2\"]\n",
    "names = [\"kathan\",\"vinay\",\"yash\"]\n",
    "\n",
    "print(list(zip(user_id,names))) \n",
    "print(dict(zip(user_id,names))) "
   ]
  },
  {
   "cell_type": "code",
   "execution_count": 41,
   "metadata": {},
   "outputs": [
    {
     "name": "stdout",
     "output_type": "stream",
     "text": [
      "{'a': 1, 'b': 2}\n"
     ]
    }
   ],
   "source": [
    "example = [('a',1),('b',2)]\n",
    "\n",
    "print(dict(example))"
   ]
  },
  {
   "cell_type": "code",
   "execution_count": 44,
   "metadata": {},
   "outputs": [
    {
     "name": "stdout",
     "output_type": "stream",
     "text": [
      "[('user1', 'kathan', 'patel'), ('user2', 'vinay', 'patel')]\n"
     ]
    }
   ],
   "source": [
    "user_id = [\"user1\",\"user2\"]\n",
    "names = [\"kathan\",\"vinay\",\"yash\"]\n",
    "last_name = [\"patel\",\"patel\",\"patel\"]\n",
    "\n",
    "print(list(zip(user_id,names,last_name))) "
   ]
  },
  {
   "cell_type": "code",
   "execution_count": 45,
   "metadata": {},
   "outputs": [
    {
     "name": "stdout",
     "output_type": "stream",
     "text": [
      "[(1, 3, 5, 7), (2, 4, 6, 8)]\n"
     ]
    }
   ],
   "source": [
    "# Now We Do The Reverse Task\n",
    "\n",
    "# l1 = [1,3,5,7]\n",
    "# l2 = [2,4,6,8]\n",
    "\n",
    "l = [(1,2),(3,4),(5,6),(7,8)]\n",
    "\n",
    "print(list(zip(*l)))"
   ]
  },
  {
   "cell_type": "code",
   "execution_count": 46,
   "metadata": {},
   "outputs": [
    {
     "name": "stdout",
     "output_type": "stream",
     "text": [
      "(1, 3, 5, 7)\n",
      "(2, 4, 6, 8)\n"
     ]
    }
   ],
   "source": [
    "# Unpack\n",
    "\n",
    "l1 , l2 = list(zip(*l))\n",
    "\n",
    "print(l1)\n",
    "print(l2)"
   ]
  },
  {
   "cell_type": "markdown",
   "metadata": {},
   "source": [
    "### Practice 1"
   ]
  },
  {
   "cell_type": "code",
   "execution_count": null,
   "metadata": {},
   "outputs": [],
   "source": []
  },
  {
   "cell_type": "markdown",
   "metadata": {},
   "source": [
    "### 6. any() & all() Function"
   ]
  },
  {
   "cell_type": "code",
   "execution_count": 2,
   "metadata": {},
   "outputs": [
    {
     "name": "stdout",
     "output_type": "stream",
     "text": [
      "[True, True, True, True, True]\n"
     ]
    }
   ],
   "source": [
    "numbers1 = [2,4,6,8,10]\n",
    "numbers2 = [1,2,3,4,5,6]\n",
    "\n",
    "# Normal\n",
    "\n",
    "evens1 = []\n",
    "for num in numbers1:\n",
    "    evens1.append(num%2==0)\n",
    "    \n",
    "print(evens1)"
   ]
  },
  {
   "cell_type": "code",
   "execution_count": 10,
   "metadata": {},
   "outputs": [
    {
     "name": "stdout",
     "output_type": "stream",
     "text": [
      "True\n",
      "False\n"
     ]
    }
   ],
   "source": [
    "# Using All Function and list compre...\n",
    "\n",
    "# print(all([True, True, True, True, True]))\n",
    "\n",
    "print(all([num%2==0 for num in numbers1]))\n",
    "print(all([num%2==0 for num in numbers2]))"
   ]
  },
  {
   "cell_type": "code",
   "execution_count": 9,
   "metadata": {},
   "outputs": [
    {
     "name": "stdout",
     "output_type": "stream",
     "text": [
      "True\n",
      "True\n"
     ]
    }
   ],
   "source": [
    "# Any Function\n",
    "\n",
    "print(any([num%2==0 for num in numbers1]))\n",
    "\n",
    "print(any([num%2==0 for num in numbers2]))"
   ]
  },
  {
   "cell_type": "code",
   "execution_count": 11,
   "metadata": {},
   "outputs": [
    {
     "name": "stdout",
     "output_type": "stream",
     "text": [
      "15\n"
     ]
    }
   ],
   "source": [
    "# any() - all() practice\n",
    "\n",
    "# Normal\n",
    "\n",
    "def my_sum(*args):\n",
    "    total = 0\n",
    "    for i in args:\n",
    "        total+= i\n",
    "    return total\n",
    "\n",
    "print(my_sum(1,2,3,4,5))"
   ]
  },
  {
   "cell_type": "code",
   "execution_count": null,
   "metadata": {},
   "outputs": [],
   "source": []
  }
 ],
 "metadata": {
  "kernelspec": {
   "display_name": "myenv",
   "language": "python",
   "name": "mynev"
  },
  "language_info": {
   "codemirror_mode": {
    "name": "ipython",
    "version": 3
   },
   "file_extension": ".py",
   "mimetype": "text/x-python",
   "name": "python",
   "nbconvert_exporter": "python",
   "pygments_lexer": "ipython3",
   "version": "3.9.7"
  }
 },
 "nbformat": 4,
 "nbformat_minor": 4
}
