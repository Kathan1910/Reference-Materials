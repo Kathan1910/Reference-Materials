{
 "cells": [
  {
   "cell_type": "markdown",
   "metadata": {},
   "source": [
    "# Chapter_14 Decorators "
   ]
  },
  {
   "cell_type": "code",
   "execution_count": 1,
   "metadata": {},
   "outputs": [
    {
     "name": "stdout",
     "output_type": "stream",
     "text": [
      "49\n",
      "49\n",
      "square\n",
      "square\n",
      "<function square at 0x00000186ED8A2430>\n",
      "<function square at 0x00000186ED8A2430>\n"
     ]
    }
   ],
   "source": [
    "def square(a):\n",
    "    return a**2\n",
    "\n",
    "s = square\n",
    "\n",
    "print(square(7))\n",
    "print(s(7))       # Both are the Same\n",
    "\n",
    "print(s.__name__) # To know the actual Function Name\n",
    "print(s.__name__)\n",
    "\n",
    "print(s)\n",
    "print(square) # Bothe are In the Same Location"
   ]
  },
  {
   "cell_type": "markdown",
   "metadata": {},
   "source": [
    "### 1. Pass Function As a Argument"
   ]
  },
  {
   "cell_type": "code",
   "execution_count": 2,
   "metadata": {},
   "outputs": [],
   "source": [
    "#def square(a):\n",
    "#    return a**2\n",
    "\n",
    "l = [1,2,3,4]\n",
    "\n",
    "def my_map(func,l):\n",
    "    new_list = []\n",
    "    for i in l:\n",
    "        new_list.append(func(i))\n",
    "    return new_list"
   ]
  },
  {
   "cell_type": "code",
   "execution_count": 3,
   "metadata": {},
   "outputs": [
    {
     "name": "stdout",
     "output_type": "stream",
     "text": [
      "[1, 4, 9, 16]\n"
     ]
    }
   ],
   "source": [
    "print(list(my_map(square,l)))"
   ]
  },
  {
   "cell_type": "code",
   "execution_count": 4,
   "metadata": {},
   "outputs": [
    {
     "name": "stdout",
     "output_type": "stream",
     "text": [
      "[1, 4, 9, 16]\n"
     ]
    }
   ],
   "source": [
    "# List Comprehension\n",
    "\n",
    "def my_map2(func,l):\n",
    "    return [func(i) for i in l]\n",
    "\n",
    "print(list(my_map2(square,l)))"
   ]
  },
  {
   "cell_type": "code",
   "execution_count": 5,
   "metadata": {},
   "outputs": [
    {
     "name": "stdout",
     "output_type": "stream",
     "text": [
      "[1, 8, 27, 64]\n"
     ]
    }
   ],
   "source": [
    "# Using Lambda Expression\n",
    "\n",
    "print(list(my_map(lambda a: a**3,l)))"
   ]
  },
  {
   "cell_type": "markdown",
   "metadata": {},
   "source": [
    "### 2. Function Returning Function (Closure)"
   ]
  },
  {
   "cell_type": "code",
   "execution_count": 6,
   "metadata": {},
   "outputs": [],
   "source": [
    "def outer_func():\n",
    "    def inner_func():\n",
    "        print(\"hello kathan\")\n",
    "    return inner_func\n",
    "\n",
    "temp_var = outer_func()"
   ]
  },
  {
   "cell_type": "code",
   "execution_count": 7,
   "metadata": {},
   "outputs": [
    {
     "data": {
      "text/plain": [
       "<function __main__.outer_func.<locals>.inner_func()>"
      ]
     },
     "execution_count": 7,
     "metadata": {},
     "output_type": "execute_result"
    }
   ],
   "source": [
    "temp_var "
   ]
  },
  {
   "cell_type": "code",
   "execution_count": 8,
   "metadata": {},
   "outputs": [
    {
     "name": "stdout",
     "output_type": "stream",
     "text": [
      "hello kathan\n"
     ]
    }
   ],
   "source": [
    "temp_var() # Round Brakets Are Importanat To execute The Program"
   ]
  },
  {
   "cell_type": "code",
   "execution_count": null,
   "metadata": {},
   "outputs": [],
   "source": [
    "def outer_func2(msg):\n",
    "    def inner_func():\n",
    "        print(f\"your message is {msg}\")\n",
    "    return inner_func\n",
    "\n",
    "var = outer_func2(\"Kathan Patel\")"
   ]
  },
  {
   "cell_type": "code",
   "execution_count": 12,
   "metadata": {},
   "outputs": [
    {
     "data": {
      "text/plain": [
       "<function __main__.outer_func2.<locals>.inner_func()>"
      ]
     },
     "execution_count": 12,
     "metadata": {},
     "output_type": "execute_result"
    }
   ],
   "source": [
    "var"
   ]
  },
  {
   "cell_type": "code",
   "execution_count": 11,
   "metadata": {},
   "outputs": [
    {
     "name": "stdout",
     "output_type": "stream",
     "text": [
      "your message is Kathan Patel\n"
     ]
    }
   ],
   "source": [
    "var()"
   ]
  },
  {
   "cell_type": "markdown",
   "metadata": {},
   "source": [
    "### 3. Function Returning Function (Closure) Practice"
   ]
  },
  {
   "cell_type": "code",
   "execution_count": 16,
   "metadata": {},
   "outputs": [
    {
     "name": "stdout",
     "output_type": "stream",
     "text": [
      "8\n",
      "27\n",
      "4\n",
      "9\n"
     ]
    }
   ],
   "source": [
    "# square\n",
    "# cube\n",
    "# power\n",
    "\n",
    "def to_power(x): # x = 3\n",
    "    def cal_power(n): # n = 2\n",
    "        return n**x  # n**x \n",
    "    return cal_power\n",
    "\n",
    "cube = to_power(3)\n",
    "print(cube(2)) # 2**3\n",
    "print(cube(3)) # 3**3\n",
    "\n",
    "square = to_power(2)\n",
    "print(square(2)) # 2**2\n",
    "print(square(3)) # 3**2"
   ]
  },
  {
   "cell_type": "markdown",
   "metadata": {},
   "source": [
    "### 4. Decorators Intro"
   ]
  },
  {
   "cell_type": "markdown",
   "metadata": {},
   "source": [
    "Decorators - Enhance the Functionality Of Other Functions\n",
    "\n",
    "We Use @ Sign For Decorators"
   ]
  },
  {
   "cell_type": "code",
   "execution_count": 18,
   "metadata": {},
   "outputs": [
    {
     "name": "stdout",
     "output_type": "stream",
     "text": [
      "this is function 1\n"
     ]
    }
   ],
   "source": [
    "def func1():\n",
    "    print(\"this is function 1\")\n",
    "    \n",
    "func1()"
   ]
  },
  {
   "cell_type": "code",
   "execution_count": 19,
   "metadata": {},
   "outputs": [
    {
     "name": "stdout",
     "output_type": "stream",
     "text": [
      "this is function 2\n"
     ]
    }
   ],
   "source": [
    "def func2():\n",
    "    print(\"this is function 2\")\n",
    "    \n",
    "func2()"
   ]
  },
  {
   "cell_type": "code",
   "execution_count": 20,
   "metadata": {},
   "outputs": [],
   "source": [
    " def decorator_func(any_func):\n",
    "        def wrapper_func():\n",
    "            print(\"this is awesome function\")\n",
    "            any_func()\n",
    "        return wrapper_func"
   ]
  },
  {
   "cell_type": "code",
   "execution_count": 24,
   "metadata": {},
   "outputs": [
    {
     "name": "stdout",
     "output_type": "stream",
     "text": [
      "this is awesome function\n",
      "this is function 1\n"
     ]
    }
   ],
   "source": [
    "temp_var = decorator_func(func1)\n",
    "temp_var()"
   ]
  },
  {
   "cell_type": "code",
   "execution_count": 25,
   "metadata": {},
   "outputs": [
    {
     "name": "stdout",
     "output_type": "stream",
     "text": [
      "this is awesome function\n",
      "this is function 2\n"
     ]
    }
   ],
   "source": [
    "temp_var = decorator_func(func2)\n",
    "temp_var()"
   ]
  },
  {
   "cell_type": "code",
   "execution_count": 30,
   "metadata": {},
   "outputs": [
    {
     "name": "stdout",
     "output_type": "stream",
     "text": [
      "this is awesome function\n",
      "this is function 1\n"
     ]
    }
   ],
   "source": [
    "# Shortcut Method\n",
    "\n",
    "@decorator_func\n",
    "def func1():\n",
    "    print(\"this is function 1\")\n",
    "    \n",
    "func1()"
   ]
  },
  {
   "cell_type": "code",
   "execution_count": 31,
   "metadata": {},
   "outputs": [
    {
     "name": "stdout",
     "output_type": "stream",
     "text": [
      "this is awesome function\n",
      "this is function 2\n"
     ]
    }
   ],
   "source": [
    "@decorator_func\n",
    "def func2():\n",
    "    print(\"this is function 2\")\n",
    "    \n",
    "func2()"
   ]
  },
  {
   "cell_type": "markdown",
   "metadata": {},
   "source": [
    "### Part 2"
   ]
  },
  {
   "cell_type": "code",
   "execution_count": 36,
   "metadata": {},
   "outputs": [
    {
     "name": "stdout",
     "output_type": "stream",
     "text": [
      "this is function with argument 5\n",
      "11\n"
     ]
    }
   ],
   "source": [
    "def decorator_func(any_func):\n",
    "        def wrapper_func(*args,**kwargs):\n",
    "            print(\"this is awesome function\")\n",
    "            return any_func(*args,**kwargs)\n",
    "        return wrapper_func\n",
    "\n",
    "def func(a):\n",
    "    print(f\"this is function with argument {a}\")\n",
    "\n",
    "func(5)\n",
    "\n",
    "\n",
    "def add(a,b):\n",
    "    return a + b\n",
    "\n",
    "print(add(5,6))"
   ]
  },
  {
   "cell_type": "markdown",
   "metadata": {},
   "source": [
    "### Practice 1"
   ]
  },
  {
   "cell_type": "code",
   "execution_count": 37,
   "metadata": {},
   "outputs": [],
   "source": [
    "from functools import wraps\n",
    "\n",
    "def print_function_data(function):\n",
    "    @wraps(function)\n",
    "    def wrapper(*args,**kwargs):\n",
    "        print(f\"you are calling {function.__name__} function\")\n",
    "        print(f\"{function.__doc__}\")\n",
    "        return function(*args,**kwargs)\n",
    "    return wrapper"
   ]
  },
  {
   "cell_type": "code",
   "execution_count": 40,
   "metadata": {},
   "outputs": [
    {
     "name": "stdout",
     "output_type": "stream",
     "text": [
      "you are calling add function\n",
      " takes two arguments and returns their sum \n",
      "5\n"
     ]
    }
   ],
   "source": [
    "@print_function_data\n",
    "def add(a,b):\n",
    "    ''' takes two arguments and returns their sum '''\n",
    "    return a + b\n",
    "\n",
    "print(add(2,3))"
   ]
  },
  {
   "cell_type": "markdown",
   "metadata": {},
   "source": [
    "### Practice 2"
   ]
  },
  {
   "cell_type": "code",
   "execution_count": 50,
   "metadata": {},
   "outputs": [],
   "source": [
    "from functools import wraps\n",
    "\n",
    "def only_int_allow(function):\n",
    "    @wraps(function)\n",
    "    def wrapper(*args,**kwargs):\n",
    "        if all([type(arg) == int for arg in args]):\n",
    "            return function(*args,**kwargs)\n",
    "        print(\"Invalid Arguments\")\n",
    "    \n",
    "@only_int_allow\n",
    "def add_all(*arg):\n",
    "    total = 0\n",
    "    for i in args:\n",
    "        total+=i\n",
    "    return total\n",
    "\n",
    "print(add_all(1,2,3,4,5)) \n",
    "\n",
    "# Facing Error In The Code ... Do not Run It for Now.. "
   ]
  },
  {
   "cell_type": "markdown",
   "metadata": {},
   "source": [
    "### 5. Decorators With Arguments"
   ]
  },
  {
   "cell_type": "code",
   "execution_count": 52,
   "metadata": {},
   "outputs": [
    {
     "name": "stdout",
     "output_type": "stream",
     "text": [
      "Invalid Arguments\n",
      "Invalid Arguments\n",
      "None\n"
     ]
    }
   ],
   "source": [
    "from functools import wraps\n",
    "\n",
    "def only_data_type_allow(data_type):\n",
    "    def decorator(function):\n",
    "        @wraps(function)\n",
    "        def wrapper(*args,**kwargs):\n",
    "            if all([type(arg) == int for arg in args]):\n",
    "                return function(*args,**kwargs)\n",
    "            print(\"Invalid Arguments\")\n",
    "        return wrapper\n",
    "    return decorator\n",
    "\n",
    "@only_data_type_allow(str)\n",
    "def string_join(*args):\n",
    "    string = ''\n",
    "    for i in args:\n",
    "        string += i\n",
    "    return string\n",
    "\n",
    "string_join('kathan','patel')\n",
    "print(string_join('kathan','patel')) # Again Facing Error Do Not Run The Code"
   ]
  },
  {
   "cell_type": "markdown",
   "metadata": {},
   "source": [
    "## END"
   ]
  },
  {
   "cell_type": "markdown",
   "metadata": {},
   "source": [
    "# Chapter_15 Generators"
   ]
  },
  {
   "cell_type": "markdown",
   "metadata": {},
   "source": [
    "- Generators Are Iterators\n",
    "- We Use Yield For Generators "
   ]
  },
  {
   "cell_type": "markdown",
   "metadata": {},
   "source": [
    "- What we Use To Make Generators?\n",
    "\n",
    "1. Generator Function\n",
    "2. Generator Comprehension"
   ]
  },
  {
   "cell_type": "markdown",
   "metadata": {},
   "source": [
    "### 1. Generator Function"
   ]
  },
  {
   "cell_type": "code",
   "execution_count": 5,
   "metadata": {},
   "outputs": [
    {
     "name": "stdout",
     "output_type": "stream",
     "text": [
      "1\n",
      "2\n",
      "3\n",
      "4\n",
      "5\n",
      "6\n",
      "7\n",
      "8\n",
      "9\n",
      "10\n"
     ]
    }
   ],
   "source": [
    "# Normal \n",
    "\n",
    "def nums(n):\n",
    "    for i in range(1,n+1):\n",
    "        print(i)\n",
    "nums(10)"
   ]
  },
  {
   "cell_type": "code",
   "execution_count": 7,
   "metadata": {},
   "outputs": [
    {
     "name": "stdout",
     "output_type": "stream",
     "text": [
      "<generator object nums at 0x0000015CDBF1EF90>\n",
      "[1, 2, 3, 4, 5, 6, 7, 8, 9, 10]\n"
     ]
    }
   ],
   "source": [
    "# Using Generator \n",
    "\n",
    "def nums(n):\n",
    "    for i in range(1,n+1):\n",
    "        yield i\n",
    "        \n",
    "print(nums(10))\n",
    "print(list(nums(10)))"
   ]
  },
  {
   "cell_type": "code",
   "execution_count": 9,
   "metadata": {},
   "outputs": [
    {
     "name": "stdout",
     "output_type": "stream",
     "text": [
      "1\n",
      "2\n",
      "3\n",
      "4\n",
      "5\n",
      "6\n",
      "7\n",
      "8\n",
      "9\n",
      "10\n"
     ]
    }
   ],
   "source": [
    "# OR\n",
    "\n",
    "numbers = nums(10)\n",
    "\n",
    "for i in numbers:\n",
    "    print(i)\n"
   ]
  },
  {
   "cell_type": "code",
   "execution_count": 10,
   "metadata": {},
   "outputs": [],
   "source": [
    "for i in numbers:\n",
    "    print(i)       # We Don't Get Any Output It run ONLY ONCE"
   ]
  },
  {
   "cell_type": "markdown",
   "metadata": {},
   "source": [
    "### 2. Generator Comprehension"
   ]
  },
  {
   "cell_type": "code",
   "execution_count": 11,
   "metadata": {},
   "outputs": [
    {
     "name": "stdout",
     "output_type": "stream",
     "text": [
      "[1, 4, 9, 16, 25, 36, 49, 64, 81, 100]\n"
     ]
    }
   ],
   "source": [
    "# list Comprehension\n",
    "\n",
    "square = [i**2 for i in range(1,11)]\n",
    "\n",
    "print(square)"
   ]
  },
  {
   "cell_type": "code",
   "execution_count": 13,
   "metadata": {},
   "outputs": [
    {
     "name": "stdout",
     "output_type": "stream",
     "text": [
      "<generator object <genexpr> at 0x0000015CDB7FA3C0>\n",
      "1\n",
      "4\n",
      "9\n",
      "16\n",
      "25\n",
      "36\n",
      "49\n",
      "64\n",
      "81\n",
      "100\n"
     ]
    }
   ],
   "source": [
    "# Generator Comprehension\n",
    "\n",
    "square = (i**2 for i in range(1,11)) # () brakets create your list to generator or iterator\n",
    "\n",
    "print(square)\n",
    "\n",
    "for i in square:\n",
    "    print(i)     # It will Run Only Once "
   ]
  },
  {
   "cell_type": "markdown",
   "metadata": {},
   "source": [
    "### 3. List Vs Generator"
   ]
  },
  {
   "cell_type": "markdown",
   "metadata": {},
   "source": [
    "- Memory Usage , Time \n",
    "- When To Use List \n",
    "- When To Use Generator"
   ]
  },
  {
   "cell_type": "markdown",
   "metadata": {},
   "source": [
    "- import time \n",
    "\n",
    "- t1 = time.time()\n",
    "- l = [i**2 for i in range(1000000)]\n",
    "- t2 = time.time()\n",
    "\n",
    "- print(t2-t1)\n",
    "\n",
    "- t1 = time.time()\n",
    "- l = (i**2 for i in range(1000000))\n",
    "- t2 = time.time()\n",
    "\n",
    "- print(t2-t1)"
   ]
  },
  {
   "cell_type": "markdown",
   "metadata": {},
   "source": [
    "- List takes 4.0 seconds to print the square of 1000000\n",
    "- Gnerators takes 0.0 Seconds to print the square of 1000000"
   ]
  },
  {
   "cell_type": "markdown",
   "metadata": {},
   "source": [
    "### Exercise"
   ]
  },
  {
   "cell_type": "code",
   "execution_count": 15,
   "metadata": {},
   "outputs": [
    {
     "name": "stdout",
     "output_type": "stream",
     "text": [
      "<generator object even_generator at 0x0000015CDB7FA510>\n",
      "2\n",
      "4\n",
      "6\n",
      "8\n",
      "10\n",
      "12\n",
      "14\n",
      "16\n",
      "18\n",
      "20\n"
     ]
    }
   ],
   "source": [
    "def even_generator(n):\n",
    "    for num in range(1,n+1):\n",
    "        if num%2==0:\n",
    "            yield num\n",
    "            \n",
    "print(even_generator(20))\n",
    "\n",
    "for i in even_generator(20):\n",
    "    print(i)"
   ]
  },
  {
   "cell_type": "code",
   "execution_count": 16,
   "metadata": {},
   "outputs": [
    {
     "name": "stdout",
     "output_type": "stream",
     "text": [
      "<generator object even_generator at 0x0000015CDB7FA510>\n",
      "2\n",
      "4\n",
      "6\n",
      "8\n",
      "10\n",
      "12\n",
      "14\n",
      "16\n",
      "18\n",
      "20\n"
     ]
    }
   ],
   "source": [
    "def even_generator(n):\n",
    "    for num in range(2,n+1,2):\n",
    "        yield num\n",
    "            \n",
    "print(even_generator(20))\n",
    "\n",
    "for i in even_generator(20):\n",
    "    print(i)"
   ]
  },
  {
   "cell_type": "markdown",
   "metadata": {},
   "source": [
    "## End"
   ]
  }
 ],
 "metadata": {
  "kernelspec": {
   "display_name": "myenv",
   "language": "python",
   "name": "mynev"
  },
  "language_info": {
   "codemirror_mode": {
    "name": "ipython",
    "version": 3
   },
   "file_extension": ".py",
   "mimetype": "text/x-python",
   "name": "python",
   "nbconvert_exporter": "python",
   "pygments_lexer": "ipython3",
   "version": "3.9.7"
  }
 },
 "nbformat": 4,
 "nbformat_minor": 4
}
