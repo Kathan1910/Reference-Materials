{
 "cells": [
  {
   "cell_type": "markdown",
   "metadata": {},
   "source": [
    "# PYTHON PROGRAMMING"
   ]
  },
  {
   "cell_type": "markdown",
   "metadata": {},
   "source": [
    "## CHAPTER_1 OVERVIEW"
   ]
  },
  {
   "cell_type": "markdown",
   "metadata": {},
   "source": [
    "### 1.PRINT FUNCTION"
   ]
  },
  {
   "cell_type": "code",
   "execution_count": 2,
   "metadata": {},
   "outputs": [
    {
     "name": "stdout",
     "output_type": "stream",
     "text": [
      "hello world\n",
      "hello world\n"
     ]
    }
   ],
   "source": [
    "print (\"hello world\")\n",
    "print('hello world')"
   ]
  },
  {
   "cell_type": "code",
   "execution_count": 4,
   "metadata": {},
   "outputs": [
    {
     "name": "stdout",
     "output_type": "stream",
     "text": [
      "hello 'world' world\n",
      "hello \"world\" world\n"
     ]
    }
   ],
   "source": [
    "print(\"hello 'world' world\")\n",
    "print('hello \"world\" world')"
   ]
  },
  {
   "cell_type": "code",
   "execution_count": null,
   "metadata": {},
   "outputs": [],
   "source": [
    "print(\"hello \"world\" world\")\n",
    "print('hello 'world' world') # THIS WILL THROUGH AN SYNTAX ERROR"
   ]
  },
  {
   "cell_type": "markdown",
   "metadata": {},
   "source": [
    "### 2. ESCAPE SEQUENCE"
   ]
  },
  {
   "cell_type": "code",
   "execution_count": 9,
   "metadata": {},
   "outputs": [
    {
     "name": "stdout",
     "output_type": "stream",
     "text": [
      "hello \"world\" world\n",
      "I'm Kathan\n"
     ]
    }
   ],
   "source": [
    "print(\"hello \\\"world\\\" world\")\n",
    "print('I\\'m Kathan')"
   ]
  },
  {
   "cell_type": "code",
   "execution_count": 10,
   "metadata": {},
   "outputs": [
    {
     "name": "stdout",
     "output_type": "stream",
     "text": [
      "line A\n",
      "line B\n"
     ]
    }
   ],
   "source": [
    "print(\"line A\")\n",
    "print(\"line B\")"
   ]
  },
  {
   "cell_type": "code",
   "execution_count": 13,
   "metadata": {},
   "outputs": [
    {
     "name": "stdout",
     "output_type": "stream",
     "text": [
      "line A \n",
      " line B\n"
     ]
    }
   ],
   "source": [
    "print(\"line A \\n line B\")"
   ]
  },
  {
   "cell_type": "code",
   "execution_count": 14,
   "metadata": {},
   "outputs": [
    {
     "name": "stdout",
     "output_type": "stream",
     "text": [
      "patel\tkathan\n"
     ]
    }
   ],
   "source": [
    "print(\"patel\\tkathan\") # \\t for tab"
   ]
  },
  {
   "cell_type": "code",
   "execution_count": 15,
   "metadata": {},
   "outputs": [
    {
     "name": "stdout",
     "output_type": "stream",
     "text": [
      " this is \\ backslash\n"
     ]
    }
   ],
   "source": [
    "print(\" this is \\\\ backslash\")"
   ]
  },
  {
   "cell_type": "code",
   "execution_count": 16,
   "metadata": {},
   "outputs": [
    {
     "name": "stdout",
     "output_type": "stream",
     "text": [
      " this is \\\\ double backslash\n"
     ]
    }
   ],
   "source": [
    "print(\" this is \\\\\\\\ double backslash\")"
   ]
  },
  {
   "cell_type": "markdown",
   "metadata": {},
   "source": [
    "Escape Sequence as Normal Text"
   ]
  },
  {
   "cell_type": "code",
   "execution_count": 19,
   "metadata": {},
   "outputs": [
    {
     "name": "stdout",
     "output_type": "stream",
     "text": [
      "line A \\n line b\n"
     ]
    }
   ],
   "source": [
    "print(\"line A \\\\n line b\")"
   ]
  },
  {
   "cell_type": "markdown",
   "metadata": {},
   "source": [
    "### 3. Raw Strings"
   ]
  },
  {
   "cell_type": "code",
   "execution_count": 21,
   "metadata": {},
   "outputs": [
    {
     "name": "stdout",
     "output_type": "stream",
     "text": [
      "line A \\n line b\n"
     ]
    }
   ],
   "source": [
    "print(r\"line A \\n line b\")"
   ]
  },
  {
   "cell_type": "markdown",
   "metadata": {},
   "source": [
    "## CHAPTER_2 STRINGS"
   ]
  },
  {
   "cell_type": "markdown",
   "metadata": {},
   "source": [
    "### 1. String Concatenation"
   ]
  },
  {
   "cell_type": "code",
   "execution_count": 24,
   "metadata": {},
   "outputs": [
    {
     "name": "stdout",
     "output_type": "stream",
     "text": [
      "kathan patel\n"
     ]
    }
   ],
   "source": [
    "first_name = \"kathan\"\n",
    "last_name = \"patel\"\n",
    "full_name = first_name + \" \" +last_name\n",
    "print(full_name)"
   ]
  },
  {
   "cell_type": "code",
   "execution_count": null,
   "metadata": {},
   "outputs": [],
   "source": [
    "print(first_name + 3) # str + int error\n",
    "print(first_name + str(3))# str + str error resolved\n",
    "print(first_name + \"3\") # str + str error resolved"
   ]
  },
  {
   "cell_type": "code",
   "execution_count": 25,
   "metadata": {},
   "outputs": [
    {
     "name": "stdout",
     "output_type": "stream",
     "text": [
      "kathankathankathan\n"
     ]
    }
   ],
   "source": [
    "print(first_name * 3)"
   ]
  },
  {
   "cell_type": "markdown",
   "metadata": {},
   "source": [
    "### 2. User Input"
   ]
  },
  {
   "cell_type": "code",
   "execution_count": 30,
   "metadata": {},
   "outputs": [
    {
     "name": "stdout",
     "output_type": "stream",
     "text": [
      "Type your name buddy KATHAN\n",
      "hello KATHAN\n"
     ]
    }
   ],
   "source": [
    "name = input(\"Type your name buddy \")\n",
    "print(\"hello\" + \" \" +name)"
   ]
  },
  {
   "cell_type": "code",
   "execution_count": 36,
   "metadata": {},
   "outputs": [
    {
     "name": "stdout",
     "output_type": "stream",
     "text": [
      "Enter Your Age 22\n",
      "your age is 22\n"
     ]
    }
   ],
   "source": [
    "age = input(\"Enter Your Age \")\n",
    "print(\"your age is\" + \" \"+ age)"
   ]
  },
  {
   "cell_type": "markdown",
   "metadata": {},
   "source": [
    "### 3. int function"
   ]
  },
  {
   "cell_type": "code",
   "execution_count": 37,
   "metadata": {},
   "outputs": [
    {
     "name": "stdout",
     "output_type": "stream",
     "text": [
      "enter first number2\n",
      "enter second number2\n",
      "22\n"
     ]
    }
   ],
   "source": [
    "no_1 = input(\"enter first number\")\n",
    "no_2 = input(\"enter second number\")\n",
    "total = no_1 + no_2\n",
    "print(total) # wrong output"
   ]
  },
  {
   "cell_type": "code",
   "execution_count": 42,
   "metadata": {},
   "outputs": [
    {
     "name": "stdout",
     "output_type": "stream",
     "text": [
      "enter first number2\n",
      "enter second number2\n",
      "4\n"
     ]
    }
   ],
   "source": [
    "no_1 = int(input(\"enter first number\"))\n",
    "no_2 = int(input(\"enter second number\"))\n",
    "total = no_1 + no_2\n",
    "print(total) # right output"
   ]
  },
  {
   "cell_type": "code",
   "execution_count": 44,
   "metadata": {},
   "outputs": [
    {
     "name": "stdout",
     "output_type": "stream",
     "text": [
      "enter first number2\n",
      "enter second number2\n",
      "your total is 4\n"
     ]
    }
   ],
   "source": [
    "no_1 = int(input(\"enter first number\"))\n",
    "no_2 = int(input(\"enter second number\"))\n",
    "total = no_1 + no_2\n",
    "print(\"your total is \" + str(total))"
   ]
  },
  {
   "cell_type": "code",
   "execution_count": 46,
   "metadata": {},
   "outputs": [
    {
     "name": "stdout",
     "output_type": "stream",
     "text": [
      "enter first number 2\n",
      "enter second number 2\n",
      "your total is  4\n"
     ]
    }
   ],
   "source": [
    "no_1 = int(input(\"enter first number \"))\n",
    "no_2 = int(input(\"enter second number \"))\n",
    "total = no_1 + no_2\n",
    "print(\"your total is \",total)"
   ]
  },
  {
   "cell_type": "markdown",
   "metadata": {},
   "source": [
    "### 4. Variables"
   ]
  },
  {
   "cell_type": "code",
   "execution_count": 50,
   "metadata": {},
   "outputs": [
    {
     "name": "stdout",
     "output_type": "stream",
     "text": [
      "kathan\n",
      "22\n",
      "hellokathan your age is22\n"
     ]
    }
   ],
   "source": [
    "name , age = \"kathan\",22\n",
    "\n",
    "print(name)\n",
    "print(age)\n",
    "print(\"hello\" + name , \"your age is\" + str(age))"
   ]
  },
  {
   "cell_type": "markdown",
   "metadata": {},
   "source": [
    "### 5. More Than One Input In One Line"
   ]
  },
  {
   "cell_type": "code",
   "execution_count": 52,
   "metadata": {},
   "outputs": [
    {
     "name": "stdout",
     "output_type": "stream",
     "text": [
      "enter your name and age : kathaniii,24\n",
      "kathaniii\n",
      "24\n"
     ]
    }
   ],
   "source": [
    "name, age = input(\"enter your name and age : \").split(\",\")\n",
    "print(name)\n",
    "print(age)"
   ]
  },
  {
   "cell_type": "markdown",
   "metadata": {},
   "source": [
    "### 6.String Formatting"
   ]
  },
  {
   "cell_type": "code",
   "execution_count": 56,
   "metadata": {},
   "outputs": [
    {
     "name": "stdout",
     "output_type": "stream",
     "text": [
      "hello kathan your age is 22\n"
     ]
    }
   ],
   "source": [
    "name = \"kathan\"\n",
    "age=22\n",
    "# print(\"hello\" + name , \"your age is\" + str(age))\n",
    "print (\"hello {} your age is {}\".format(name,age))"
   ]
  },
  {
   "cell_type": "code",
   "execution_count": 57,
   "metadata": {},
   "outputs": [
    {
     "name": "stdout",
     "output_type": "stream",
     "text": [
      "hello kathan your age is 25\n"
     ]
    }
   ],
   "source": [
    "name = \"kathan\"\n",
    "age=25\n",
    "\n",
    "print(f\"hello {name} your age is {age}\")"
   ]
  },
  {
   "cell_type": "code",
   "execution_count": 58,
   "metadata": {},
   "outputs": [
    {
     "name": "stdout",
     "output_type": "stream",
     "text": [
      "hello kathan your age is 24\n"
     ]
    }
   ],
   "source": [
    "name = \"kathan\"\n",
    "age=22\n",
    "print (\"hello {} your age is {}\".format(name,age+2))"
   ]
  },
  {
   "cell_type": "code",
   "execution_count": 59,
   "metadata": {},
   "outputs": [
    {
     "name": "stdout",
     "output_type": "stream",
     "text": [
      "hello kathan your age is 24\n"
     ]
    }
   ],
   "source": [
    "name = \"kathan\"\n",
    "age=25\n",
    "\n",
    "print(f\"hello {name} your age is {age-1}\") # we can also do some calculations"
   ]
  },
  {
   "cell_type": "markdown",
   "metadata": {},
   "source": [
    "### 7. String Indexing and Slicing"
   ]
  },
  {
   "cell_type": "code",
   "execution_count": 66,
   "metadata": {},
   "outputs": [
    {
     "name": "stdout",
     "output_type": "stream",
     "text": [
      "t\n",
      "pyth\n",
      "on programming\n",
      "g\n",
      "gnimmargorp nohtyp\n"
     ]
    }
   ],
   "source": [
    "language = \"python programming\"\n",
    "\n",
    "print(language[2])\n",
    "print(language[:4])\n",
    "print(language[4:])\n",
    "print(language[-1])\n",
    "print(language[::-1])"
   ]
  },
  {
   "cell_type": "markdown",
   "metadata": {},
   "source": [
    "### 8. Step Argument"
   ]
  },
  {
   "cell_type": "code",
   "execution_count": 74,
   "metadata": {},
   "outputs": [
    {
     "name": "stdout",
     "output_type": "stream",
     "text": [
      "pto\n",
      "pto rgamn\n",
      "pto rgamn\n",
      "gnimmargorp nohtyp\n",
      "gnimmargorp nohtyp\n"
     ]
    }
   ],
   "source": [
    "language = \"python programming\"\n",
    "\n",
    "print(language[0:5:2])\n",
    "print(language[0::2])\n",
    "print(language[::2])\n",
    "print(language[-1::-1])\n",
    "print(language[::-1])"
   ]
  },
  {
   "cell_type": "markdown",
   "metadata": {},
   "source": [
    "### 9. String Methods"
   ]
  },
  {
   "cell_type": "markdown",
   "metadata": {},
   "source": [
    "1. len()\n",
    "2. lower()\n",
    "3. upper()\n",
    "4. title()\n",
    "5. count()"
   ]
  },
  {
   "cell_type": "code",
   "execution_count": 82,
   "metadata": {},
   "outputs": [
    {
     "name": "stdout",
     "output_type": "stream",
     "text": [
      "18\n",
      "python programming\n",
      "PYTHON PROGRAMMING\n",
      "Python Programming\n",
      "2\n"
     ]
    }
   ],
   "source": [
    "language = \"python programming\"\n",
    "\n",
    "print(len(language))\n",
    "print(language.lower())\n",
    "print(language.upper())\n",
    "print(language.title())\n",
    "print(language.count('m'))"
   ]
  },
  {
   "cell_type": "markdown",
   "metadata": {},
   "source": [
    "### 10. Strip Method"
   ]
  },
  {
   "cell_type": "code",
   "execution_count": 84,
   "metadata": {},
   "outputs": [
    {
     "name": "stdout",
     "output_type": "stream",
     "text": [
      "    kathan    ..........\n"
     ]
    }
   ],
   "source": [
    "name = \"    kathan    \"\n",
    "dots = \"..........\"\n",
    "\n",
    "print(name + dots)"
   ]
  },
  {
   "cell_type": "code",
   "execution_count": 85,
   "metadata": {},
   "outputs": [
    {
     "name": "stdout",
     "output_type": "stream",
     "text": [
      "kathan    ..........\n"
     ]
    }
   ],
   "source": [
    "print(name.lstrip() + dots)"
   ]
  },
  {
   "cell_type": "code",
   "execution_count": 86,
   "metadata": {},
   "outputs": [
    {
     "name": "stdout",
     "output_type": "stream",
     "text": [
      "    kathan..........\n"
     ]
    }
   ],
   "source": [
    "print(name.rstrip() + dots)"
   ]
  },
  {
   "cell_type": "code",
   "execution_count": 87,
   "metadata": {},
   "outputs": [
    {
     "name": "stdout",
     "output_type": "stream",
     "text": [
      "kathan..........\n"
     ]
    }
   ],
   "source": [
    "print(name.strip() + dots)"
   ]
  },
  {
   "cell_type": "code",
   "execution_count": 89,
   "metadata": {},
   "outputs": [
    {
     "name": "stdout",
     "output_type": "stream",
     "text": [
      "kathan..........\n"
     ]
    }
   ],
   "source": [
    "print(name.replace(\" \",\"\") + dots) # we simply replace the space with non space argument"
   ]
  },
  {
   "cell_type": "markdown",
   "metadata": {},
   "source": [
    "### 11. Replace And Find Method"
   ]
  },
  {
   "cell_type": "code",
   "execution_count": 90,
   "metadata": {},
   "outputs": [
    {
     "name": "stdout",
     "output_type": "stream",
     "text": [
      "She_is_beautiful_and_also_a_good_dancer\n"
     ]
    }
   ],
   "source": [
    "string = \"She is beautiful and also a good dancer\"\n",
    "print(string.replace(\" \",\"_\"))"
   ]
  },
  {
   "cell_type": "code",
   "execution_count": 91,
   "metadata": {},
   "outputs": [
    {
     "name": "stdout",
     "output_type": "stream",
     "text": [
      "She was beautiful and also a good dancer\n"
     ]
    }
   ],
   "source": [
    "string = \"She is beautiful and also a good dancer\"\n",
    "print(string.replace(\"is\",\"was\"))"
   ]
  },
  {
   "cell_type": "code",
   "execution_count": 92,
   "metadata": {},
   "outputs": [
    {
     "name": "stdout",
     "output_type": "stream",
     "text": [
      "4\n"
     ]
    }
   ],
   "source": [
    "string = \"She is beautiful and also a good dancer\"\n",
    "print(string.find(\"is\"))"
   ]
  },
  {
   "cell_type": "code",
   "execution_count": 93,
   "metadata": {},
   "outputs": [
    {
     "name": "stdout",
     "output_type": "stream",
     "text": [
      "17\n"
     ]
    }
   ],
   "source": [
    "string = \"She is beautiful is and also a good dancer\"\n",
    "print(string.find(\"is\",5))"
   ]
  },
  {
   "cell_type": "code",
   "execution_count": 94,
   "metadata": {},
   "outputs": [
    {
     "name": "stdout",
     "output_type": "stream",
     "text": [
      "17\n"
     ]
    }
   ],
   "source": [
    "string = \"She is beautiful is and also a good dancer\"\n",
    "is_po1 = string.find(\"is\")\n",
    "is_po2 = string.find(\"is\",is_po1+1)\n",
    "print(is_po2)"
   ]
  },
  {
   "cell_type": "markdown",
   "metadata": {},
   "source": [
    "### 12. Center Method"
   ]
  },
  {
   "cell_type": "code",
   "execution_count": 96,
   "metadata": {},
   "outputs": [
    {
     "name": "stdout",
     "output_type": "stream",
     "text": [
      "**kathan**\n"
     ]
    }
   ],
   "source": [
    "name = \"kathan\"\n",
    "\n",
    "print(name.center(10,\"*\"))"
   ]
  },
  {
   "cell_type": "code",
   "execution_count": 103,
   "metadata": {},
   "outputs": [
    {
     "name": "stdout",
     "output_type": "stream",
     "text": [
      "enter your name: kathan\n",
      "****kathan****\n"
     ]
    }
   ],
   "source": [
    "name = input(\"enter your name: \")\n",
    "print(name.center(len(name)+8 , \"*\"))"
   ]
  },
  {
   "cell_type": "markdown",
   "metadata": {},
   "source": [
    "NOTE : STRINGS ARE IMMUTRABLE IN PYTHON"
   ]
  },
  {
   "cell_type": "code",
   "execution_count": null,
   "metadata": {},
   "outputs": [],
   "source": [
    "CHAPTER_3 "
   ]
  }
 ],
 "metadata": {
  "kernelspec": {
   "display_name": "myenv",
   "language": "python",
   "name": "mynev"
  },
  "language_info": {
   "codemirror_mode": {
    "name": "ipython",
    "version": 3
   },
   "file_extension": ".py",
   "mimetype": "text/x-python",
   "name": "python",
   "nbconvert_exporter": "python",
   "pygments_lexer": "ipython3",
   "version": "3.9.7"
  }
 },
 "nbformat": 4,
 "nbformat_minor": 4
}
