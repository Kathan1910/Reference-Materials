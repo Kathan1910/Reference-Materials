{
 "cells": [
  {
   "cell_type": "code",
   "execution_count": 3,
   "id": "f6a50c5c",
   "metadata": {},
   "outputs": [],
   "source": [
    "from sklearn.ensemble import RandomForestClassifier\n",
    "from sklearn.tree import DecisionTreeClassifier\n",
    "from sklearn.linear_model import LogisticRegression\n",
    "from sklearn.metrics import accuracy_score,classification_report,confusion_matrix,precision_score,recall_score,f1_score,roc_auc_score,roc_curve"
   ]
  },
  {
   "cell_type": "code",
   "execution_count": null,
   "id": "62338b98",
   "metadata": {},
   "outputs": [],
   "source": [
    "models ={\n",
    "    \"Logistic Regression\":LogisticRegression(),\n",
    "    \"Decision Tree\":DecisionTreeClassifier(),\n",
    "    \"Random Forest\":RandomForestClassifier()\n",
    "}\n",
    "\n",
    "for i in range(len(list(models))):\n",
    "    model = list(models.values())[i]\n",
    "    model.fit(X_train,y_train) # train model"
   ]
  },
  {
   "cell_type": "code",
   "execution_count": null,
   "id": "cc7e97c8",
   "metadata": {},
   "outputs": [],
   "source": [
    "# Make Prediction\n",
    "\n",
    "y_train_pred = model.predict(X_train)\n",
    "y_test_pred = model.predict(X_test)"
   ]
  },
  {
   "cell_type": "code",
   "execution_count": null,
   "id": "ec346a40",
   "metadata": {},
   "outputs": [],
   "source": [
    "# Training Set Performance\n",
    "\n",
    "model_train_accuracy = accuracy_score(y_train,y_train_pred)\n",
    "model_train_f1 =f1_score(y_train,y_train_pred,average='weight')\n",
    "model_train_precision=precision_score(y_train,y_train_pred)\n",
    "model_train_recall=recall_score(y_train,y_train_pred)\n",
    "model_train_roc_auc_score=roc_auc_score(y_train,y_train_pred)"
   ]
  },
  {
   "cell_type": "code",
   "execution_count": null,
   "id": "ac73d7ab",
   "metadata": {},
   "outputs": [],
   "source": [
    "# Test Set Performance\n",
    "\n",
    "model_test_accuracy = accuracy_score(y_test,y_test_pred)\n",
    "model_test_f1 =f1_score(y_test,y_test_pred,average='weight')\n",
    "model_test_precision=precision_score(y_test,y_test_pred)\n",
    "model_test_recall=recall_score(y_test,y_test_pred)\n",
    "model_test_roc_auc_score=roc_auc_score(y_test,y_test_pred)"
   ]
  },
  {
   "cell_type": "code",
   "execution_count": null,
   "id": "f0bdefcb",
   "metadata": {},
   "outputs": [],
   "source": [
    "print(list(models.keys())[i])\n",
    "\n",
    "print(\"Model Performance For Traning Set\")\n",
    "\n",
    "print(f\"Accuracy: {model_train_accuracy}\")\n",
    "print(f\"F1_score: {model_train_f1}\")\n",
    "print(f\"precision_score\": {model_train_precision})\n",
    "print(f\"recall_score\": {model_train_recall})\n",
    "print(f\"roc_auc_score\": {model_train_roc_auc_score})\n",
    "\n",
    "\n",
    "print(\"--------------------------\")\n",
    "\n",
    "print(\"Model Performance For Test Set\")\n",
    "\n",
    "print(f\"Accuracy: {model_test_accuracy}\")\n",
    "print(f\"F1_score: {model_test_f1}\")\n",
    "print(f\"precision_score\": {model_test_precision})\n",
    "print(f\"recall_score\": {model_test_recall})\n",
    "print(f\"roc_auc_score\": {model_test_roc_auc_score})"
   ]
  },
  {
   "cell_type": "code",
   "execution_count": null,
   "id": "28aeee96",
   "metadata": {},
   "outputs": [],
   "source": []
  }
 ],
 "metadata": {
  "kernelspec": {
   "display_name": "myenv",
   "language": "python",
   "name": "mynev"
  },
  "language_info": {
   "codemirror_mode": {
    "name": "ipython",
    "version": 3
   },
   "file_extension": ".py",
   "mimetype": "text/x-python",
   "name": "python",
   "nbconvert_exporter": "python",
   "pygments_lexer": "ipython3",
   "version": "3.9.13"
  }
 },
 "nbformat": 4,
 "nbformat_minor": 5
}
