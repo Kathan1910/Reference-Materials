{
 "cells": [
  {
   "cell_type": "code",
   "execution_count": 1,
   "metadata": {},
   "outputs": [],
   "source": [
    "import mitosheet"
   ]
  },
  {
   "cell_type": "code",
   "execution_count": 2,
   "metadata": {},
   "outputs": [
    {
     "data": {
      "application/vnd.jupyter.widget-view+json": {
       "model_id": "840b75e8b1cb45b997046304b85e584c",
       "version_major": 2,
       "version_minor": 0
      },
      "text/plain": [
       "MitoWidget(analysis_data_json='{\"analysisName\": \"id-ncjvixguae\", \"analysisToReplay\": {\"analysisName\": \"id-gmkm…"
      ]
     },
     "execution_count": 2,
     "metadata": {},
     "output_type": "execute_result"
    }
   ],
   "source": [
    "mitosheet.sheet(analysis_to_replay=\"id-gmkmphmosk\")"
   ]
  },
  {
   "cell_type": "code",
   "execution_count": null,
   "metadata": {},
   "outputs": [],
   "source": [
    "from mitosheet import *; register_analysis(\"id-gmkmphmosk\");\n",
    "    \n",
    "# Imported Python_Linear_Regres.csv\n",
    "import pandas as pd\n",
    "Python_Linear_Regres = pd.read_csv(r'E:\\FingerTips\\3.Machine Learning\\Projects\\CSV Files\\Python_Linear_Regres.csv')\n",
    "\n",
    "# Deleted columns Address\n",
    "Python_Linear_Regres.drop(['Address'], axis=1, inplace=True)\n",
    "\n",
    "# Deleted columns Date\n",
    "Python_Linear_Regres.drop(['Date'], axis=1, inplace=True)\n",
    "\n",
    "# Deleted columns Postcode\n",
    "Python_Linear_Regres.drop(['Postcode'], axis=1, inplace=True)\n",
    "\n",
    "# Deleted columns YearBuilt\n",
    "Python_Linear_Regres.drop(['YearBuilt'], axis=1, inplace=True)\n",
    "\n",
    "# Deleted columns Lattitude\n",
    "Python_Linear_Regres.drop(['Lattitude'], axis=1, inplace=True)\n",
    "\n",
    "# Deleted columns Longtitude\n",
    "Python_Linear_Regres.drop(['Longtitude'], axis=1, inplace=True)\n",
    "\n",
    "# Filled NaN values in 5 columns in Python_Linear_Regres\n",
    "Python_Linear_Regres.fillna({\n",
    "    'Propertycount': 0,\n",
    "    'Bathroom': 0,\n",
    "    'Bedroom2': 0,\n",
    "    'Distance': 0,\n",
    "    'Car': 0\n",
    "}, inplace=True)\n",
    "\n",
    "# Filled NaN values in 2 columns in Python_Linear_Regres\n",
    "columns_to_fill_nan = ['Landsize', 'BuildingArea']\n",
    "Python_Linear_Regres[columns_to_fill_nan] = Python_Linear_Regres[columns_to_fill_nan].fillna(Python_Linear_Regres[columns_to_fill_nan].mean(numeric_only=False))\n",
    "\n",
    "# Filled NaN values in 1 columns in Python_Linear_Regres\n",
    "columns_to_fill_nan = ['Price']\n",
    "Python_Linear_Regres[columns_to_fill_nan] = Python_Linear_Regres[columns_to_fill_nan].fillna(Python_Linear_Regres[columns_to_fill_nan].mean(numeric_only=False))\n"
   ]
  }
 ],
 "metadata": {
  "kernelspec": {
   "display_name": "Python 3 (ipykernel)",
   "language": "python",
   "name": "python3"
  },
  "language_info": {
   "codemirror_mode": {
    "name": "ipython",
    "version": 3
   },
   "file_extension": ".py",
   "mimetype": "text/x-python",
   "name": "python",
   "nbconvert_exporter": "python",
   "pygments_lexer": "ipython3",
   "version": "3.8.13"
  }
 },
 "nbformat": 4,
 "nbformat_minor": 4
}
