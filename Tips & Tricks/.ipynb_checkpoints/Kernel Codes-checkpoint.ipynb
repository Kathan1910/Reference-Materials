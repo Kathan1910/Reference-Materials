{
 "cells": [
  {
   "cell_type": "code",
   "execution_count": null,
   "metadata": {},
   "outputs": [],
   "source": [
    "create a conda environment (conda create --name yourenvname python=3.8)\n",
    "\n",
    "activate conda environment (conda activate yourenvname)\n",
    "\n",
    "install pycaret (pip install pycaret)\n",
    "\n",
    "create notebook kernel (python -m ipykernel install --user --name yourenvname --display-name \"display-name\")"
   ]
  },
  {
   "cell_type": "markdown",
   "metadata": {},
   "source": [
    "# Create a conda environment\n",
    "\n",
    "- conda create --name yourenvname python=3.8"
   ]
  },
  {
   "cell_type": "markdown",
   "metadata": {},
   "source": [
    "# Activate conda environment\n",
    "\n",
    "- conda activate yourenvname"
   ]
  },
  {
   "cell_type": "markdown",
   "metadata": {},
   "source": [
    "# Create notebook kernel\n",
    "\n",
    "- python -m ipykernel install --user --name yourenvname --display-name \"display-name\""
   ]
  },
  {
   "cell_type": "markdown",
   "metadata": {},
   "source": [
    "# List kernels \n",
    "\n",
    "- jupyter kernelspec list"
   ]
  },
  {
   "cell_type": "markdown",
   "metadata": {},
   "source": [
    "# Remove kernel\n",
    "\n",
    "- jupyter kernelspec remove <kernel-name>"
   ]
  },
  {
   "cell_type": "markdown",
   "metadata": {},
   "source": [
    "# Change Kernel name\n",
    "\n",
    "1) Use $ jupyter kernelspec list to see the folder the kernel is located in\n",
    "\n",
    "2) In that folder, open up file kernel.json and edit option \"display_name\""
   ]
  },
  {
   "cell_type": "markdown",
   "metadata": {},
   "source": [
    "# Show All Envs\n",
    "\n",
    "- conda info --envs"
   ]
  },
  {
   "cell_type": "markdown",
   "metadata": {},
   "source": [
    "# Remove Environment \n",
    "\n",
    "- conda env remove -n ENV_NAME"
   ]
  },
  {
   "cell_type": "markdown",
   "metadata": {},
   "source": [
    "# Exit Environment\n",
    "\n",
    "- conda deactivate"
   ]
  },
  {
   "cell_type": "code",
   "execution_count": null,
   "metadata": {},
   "outputs": [],
   "source": []
  }
 ],
 "metadata": {
  "kernelspec": {
   "display_name": "myenv",
   "language": "python",
   "name": "mynev"
  },
  "language_info": {
   "codemirror_mode": {
    "name": "ipython",
    "version": 3
   },
   "file_extension": ".py",
   "mimetype": "text/x-python",
   "name": "python",
   "nbconvert_exporter": "python",
   "pygments_lexer": "ipython3",
   "version": "3.9.13"
  }
 },
 "nbformat": 4,
 "nbformat_minor": 5
}
