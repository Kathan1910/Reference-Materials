{
 "cells": [
  {
   "cell_type": "markdown",
   "id": "cd6ba9ab",
   "metadata": {},
   "source": [
    "# EDA_Assignment_2"
   ]
  },
  {
   "cell_type": "code",
   "execution_count": 2,
   "id": "1c09e3a2",
   "metadata": {},
   "outputs": [],
   "source": [
    "import numpy as np\n",
    "import pandas as pd\n",
    "import matplotlib.pyplot as plt\n",
    "import seaborn as sns\n",
    "\n",
    "import warnings\n",
    "warnings.filterwarnings(\"ignore\")"
   ]
  },
  {
   "cell_type": "code",
   "execution_count": 4,
   "id": "0c002a8b",
   "metadata": {},
   "outputs": [],
   "source": [
    "df = pd.read_csv(r'E:\\FingerTips\\2.Python\\Materials\\EDA_Practice_Dataset_2_Telemarketingtopic.csv')"
   ]
  },
  {
   "cell_type": "code",
   "execution_count": 5,
   "id": "62bff9f8",
   "metadata": {},
   "outputs": [
    {
     "data": {
      "text/html": [
       "<div>\n",
       "<style scoped>\n",
       "    .dataframe tbody tr th:only-of-type {\n",
       "        vertical-align: middle;\n",
       "    }\n",
       "\n",
       "    .dataframe tbody tr th {\n",
       "        vertical-align: top;\n",
       "    }\n",
       "\n",
       "    .dataframe thead th {\n",
       "        text-align: right;\n",
       "    }\n",
       "</style>\n",
       "<table border=\"1\" class=\"dataframe\">\n",
       "  <thead>\n",
       "    <tr style=\"text-align: right;\">\n",
       "      <th></th>\n",
       "      <th>Call_ID</th>\n",
       "      <th>Sale</th>\n",
       "      <th>Agent_ID</th>\n",
       "      <th>Age</th>\n",
       "      <th>Product_ID</th>\n",
       "      <th>Timezone</th>\n",
       "      <th>Phone_code</th>\n",
       "      <th>First_Name</th>\n",
       "      <th>Last_Name</th>\n",
       "      <th>Area_Code</th>\n",
       "      <th>Gender</th>\n",
       "      <th>Call_Count</th>\n",
       "    </tr>\n",
       "  </thead>\n",
       "  <tbody>\n",
       "    <tr>\n",
       "      <th>0</th>\n",
       "      <td>9545434</td>\n",
       "      <td>False</td>\n",
       "      <td>5265</td>\n",
       "      <td>42</td>\n",
       "      <td>147</td>\n",
       "      <td>2</td>\n",
       "      <td>37.0</td>\n",
       "      <td>Jk</td>\n",
       "      <td>Jk</td>\n",
       "      <td>2302</td>\n",
       "      <td>Male</td>\n",
       "      <td>1</td>\n",
       "    </tr>\n",
       "    <tr>\n",
       "      <th>1</th>\n",
       "      <td>9211206</td>\n",
       "      <td>False</td>\n",
       "      <td>5226</td>\n",
       "      <td>74</td>\n",
       "      <td>146</td>\n",
       "      <td>2</td>\n",
       "      <td>37.0</td>\n",
       "      <td>Em</td>\n",
       "      <td>Sh</td>\n",
       "      <td>1501</td>\n",
       "      <td>Male</td>\n",
       "      <td>10</td>\n",
       "    </tr>\n",
       "    <tr>\n",
       "      <th>2</th>\n",
       "      <td>8873010</td>\n",
       "      <td>False</td>\n",
       "      <td>4452</td>\n",
       "      <td>35</td>\n",
       "      <td>144</td>\n",
       "      <td>2</td>\n",
       "      <td>37.0</td>\n",
       "      <td>BI</td>\n",
       "      <td>MI</td>\n",
       "      <td>1550</td>\n",
       "      <td>Male</td>\n",
       "      <td>9</td>\n",
       "    </tr>\n",
       "    <tr>\n",
       "      <th>3</th>\n",
       "      <td>9852034</td>\n",
       "      <td>False</td>\n",
       "      <td>5461</td>\n",
       "      <td>40</td>\n",
       "      <td>149</td>\n",
       "      <td>2</td>\n",
       "      <td>37.0</td>\n",
       "      <td>WT</td>\n",
       "      <td>LI</td>\n",
       "      <td>1401</td>\n",
       "      <td>Male</td>\n",
       "      <td>6</td>\n",
       "    </tr>\n",
       "    <tr>\n",
       "      <th>4</th>\n",
       "      <td>9416548</td>\n",
       "      <td>False</td>\n",
       "      <td>5298</td>\n",
       "      <td>26</td>\n",
       "      <td>147</td>\n",
       "      <td>2</td>\n",
       "      <td>37.0</td>\n",
       "      <td>LA</td>\n",
       "      <td>LA</td>\n",
       "      <td>125</td>\n",
       "      <td>Female</td>\n",
       "      <td>12</td>\n",
       "    </tr>\n",
       "    <tr>\n",
       "      <th>...</th>\n",
       "      <td>...</td>\n",
       "      <td>...</td>\n",
       "      <td>...</td>\n",
       "      <td>...</td>\n",
       "      <td>...</td>\n",
       "      <td>...</td>\n",
       "      <td>...</td>\n",
       "      <td>...</td>\n",
       "      <td>...</td>\n",
       "      <td>...</td>\n",
       "      <td>...</td>\n",
       "      <td>...</td>\n",
       "    </tr>\n",
       "    <tr>\n",
       "      <th>99995</th>\n",
       "      <td>10249682</td>\n",
       "      <td>False</td>\n",
       "      <td>5404</td>\n",
       "      <td>65</td>\n",
       "      <td>150</td>\n",
       "      <td>2</td>\n",
       "      <td>37.0</td>\n",
       "      <td>Iy</td>\n",
       "      <td>Rn</td>\n",
       "      <td>4068</td>\n",
       "      <td>Female</td>\n",
       "      <td>1</td>\n",
       "    </tr>\n",
       "    <tr>\n",
       "      <th>99996</th>\n",
       "      <td>8955506</td>\n",
       "      <td>False</td>\n",
       "      <td>5181</td>\n",
       "      <td>37</td>\n",
       "      <td>144</td>\n",
       "      <td>2</td>\n",
       "      <td>37.0</td>\n",
       "      <td>ZA</td>\n",
       "      <td>OE</td>\n",
       "      <td>4450</td>\n",
       "      <td>Female</td>\n",
       "      <td>6</td>\n",
       "    </tr>\n",
       "    <tr>\n",
       "      <th>99997</th>\n",
       "      <td>9299394</td>\n",
       "      <td>False</td>\n",
       "      <td>5077</td>\n",
       "      <td>69</td>\n",
       "      <td>146</td>\n",
       "      <td>2</td>\n",
       "      <td>37.0</td>\n",
       "      <td>Wm</td>\n",
       "      <td>Vr</td>\n",
       "      <td>1759</td>\n",
       "      <td>Male</td>\n",
       "      <td>1</td>\n",
       "    </tr>\n",
       "    <tr>\n",
       "      <th>99998</th>\n",
       "      <td>9549720</td>\n",
       "      <td>False</td>\n",
       "      <td>5028</td>\n",
       "      <td>67</td>\n",
       "      <td>147</td>\n",
       "      <td>2</td>\n",
       "      <td>37.0</td>\n",
       "      <td>Ze</td>\n",
       "      <td>Ze</td>\n",
       "      <td>1475</td>\n",
       "      <td>Male</td>\n",
       "      <td>1</td>\n",
       "    </tr>\n",
       "    <tr>\n",
       "      <th>99999</th>\n",
       "      <td>9702206</td>\n",
       "      <td>False</td>\n",
       "      <td>5464</td>\n",
       "      <td>63</td>\n",
       "      <td>148</td>\n",
       "      <td>2</td>\n",
       "      <td>37.0</td>\n",
       "      <td>EH</td>\n",
       "      <td>MA</td>\n",
       "      <td>1864</td>\n",
       "      <td>Female</td>\n",
       "      <td>15</td>\n",
       "    </tr>\n",
       "  </tbody>\n",
       "</table>\n",
       "<p>100000 rows × 12 columns</p>\n",
       "</div>"
      ],
      "text/plain": [
       "        Call_ID   Sale Agent_ID  Age  Product_ID  Timezone  Phone_code  \\\n",
       "0       9545434  False     5265   42         147         2        37.0   \n",
       "1       9211206  False     5226   74         146         2        37.0   \n",
       "2       8873010  False     4452   35         144         2        37.0   \n",
       "3       9852034  False     5461   40         149         2        37.0   \n",
       "4       9416548  False     5298   26         147         2        37.0   \n",
       "...         ...    ...      ...  ...         ...       ...         ...   \n",
       "99995  10249682  False     5404   65         150         2        37.0   \n",
       "99996   8955506  False     5181   37         144         2        37.0   \n",
       "99997   9299394  False     5077   69         146         2        37.0   \n",
       "99998   9549720  False     5028   67         147         2        37.0   \n",
       "99999   9702206  False     5464   63         148         2        37.0   \n",
       "\n",
       "      First_Name Last_Name Area_Code  Gender  Call_Count  \n",
       "0             Jk        Jk      2302    Male           1  \n",
       "1             Em        Sh      1501    Male          10  \n",
       "2             BI        MI      1550    Male           9  \n",
       "3             WT        LI      1401    Male           6  \n",
       "4             LA        LA       125  Female          12  \n",
       "...          ...       ...       ...     ...         ...  \n",
       "99995         Iy        Rn      4068  Female           1  \n",
       "99996         ZA        OE      4450  Female           6  \n",
       "99997         Wm        Vr      1759    Male           1  \n",
       "99998         Ze        Ze      1475    Male           1  \n",
       "99999         EH        MA      1864  Female          15  \n",
       "\n",
       "[100000 rows x 12 columns]"
      ]
     },
     "execution_count": 5,
     "metadata": {},
     "output_type": "execute_result"
    }
   ],
   "source": [
    "df"
   ]
  },
  {
   "cell_type": "code",
   "execution_count": 6,
   "id": "25a7db6c",
   "metadata": {},
   "outputs": [
    {
     "data": {
      "text/html": [
       "<div>\n",
       "<style scoped>\n",
       "    .dataframe tbody tr th:only-of-type {\n",
       "        vertical-align: middle;\n",
       "    }\n",
       "\n",
       "    .dataframe tbody tr th {\n",
       "        vertical-align: top;\n",
       "    }\n",
       "\n",
       "    .dataframe thead th {\n",
       "        text-align: right;\n",
       "    }\n",
       "</style>\n",
       "<table border=\"1\" class=\"dataframe\">\n",
       "  <thead>\n",
       "    <tr style=\"text-align: right;\">\n",
       "      <th></th>\n",
       "      <th>Call_ID</th>\n",
       "      <th>Sale</th>\n",
       "      <th>Agent_ID</th>\n",
       "      <th>Age</th>\n",
       "      <th>Product_ID</th>\n",
       "      <th>Timezone</th>\n",
       "      <th>Phone_code</th>\n",
       "      <th>First_Name</th>\n",
       "      <th>Last_Name</th>\n",
       "      <th>Area_Code</th>\n",
       "      <th>Gender</th>\n",
       "      <th>Call_Count</th>\n",
       "    </tr>\n",
       "  </thead>\n",
       "  <tbody>\n",
       "    <tr>\n",
       "      <th>0</th>\n",
       "      <td>9545434</td>\n",
       "      <td>False</td>\n",
       "      <td>5265</td>\n",
       "      <td>42</td>\n",
       "      <td>147</td>\n",
       "      <td>2</td>\n",
       "      <td>37.0</td>\n",
       "      <td>Jk</td>\n",
       "      <td>Jk</td>\n",
       "      <td>2302</td>\n",
       "      <td>Male</td>\n",
       "      <td>1</td>\n",
       "    </tr>\n",
       "    <tr>\n",
       "      <th>1</th>\n",
       "      <td>9211206</td>\n",
       "      <td>False</td>\n",
       "      <td>5226</td>\n",
       "      <td>74</td>\n",
       "      <td>146</td>\n",
       "      <td>2</td>\n",
       "      <td>37.0</td>\n",
       "      <td>Em</td>\n",
       "      <td>Sh</td>\n",
       "      <td>1501</td>\n",
       "      <td>Male</td>\n",
       "      <td>10</td>\n",
       "    </tr>\n",
       "    <tr>\n",
       "      <th>2</th>\n",
       "      <td>8873010</td>\n",
       "      <td>False</td>\n",
       "      <td>4452</td>\n",
       "      <td>35</td>\n",
       "      <td>144</td>\n",
       "      <td>2</td>\n",
       "      <td>37.0</td>\n",
       "      <td>BI</td>\n",
       "      <td>MI</td>\n",
       "      <td>1550</td>\n",
       "      <td>Male</td>\n",
       "      <td>9</td>\n",
       "    </tr>\n",
       "    <tr>\n",
       "      <th>3</th>\n",
       "      <td>9852034</td>\n",
       "      <td>False</td>\n",
       "      <td>5461</td>\n",
       "      <td>40</td>\n",
       "      <td>149</td>\n",
       "      <td>2</td>\n",
       "      <td>37.0</td>\n",
       "      <td>WT</td>\n",
       "      <td>LI</td>\n",
       "      <td>1401</td>\n",
       "      <td>Male</td>\n",
       "      <td>6</td>\n",
       "    </tr>\n",
       "    <tr>\n",
       "      <th>4</th>\n",
       "      <td>9416548</td>\n",
       "      <td>False</td>\n",
       "      <td>5298</td>\n",
       "      <td>26</td>\n",
       "      <td>147</td>\n",
       "      <td>2</td>\n",
       "      <td>37.0</td>\n",
       "      <td>LA</td>\n",
       "      <td>LA</td>\n",
       "      <td>125</td>\n",
       "      <td>Female</td>\n",
       "      <td>12</td>\n",
       "    </tr>\n",
       "  </tbody>\n",
       "</table>\n",
       "</div>"
      ],
      "text/plain": [
       "   Call_ID   Sale Agent_ID  Age  Product_ID  Timezone  Phone_code First_Name  \\\n",
       "0  9545434  False     5265   42         147         2        37.0         Jk   \n",
       "1  9211206  False     5226   74         146         2        37.0         Em   \n",
       "2  8873010  False     4452   35         144         2        37.0         BI   \n",
       "3  9852034  False     5461   40         149         2        37.0         WT   \n",
       "4  9416548  False     5298   26         147         2        37.0         LA   \n",
       "\n",
       "  Last_Name Area_Code  Gender  Call_Count  \n",
       "0        Jk      2302    Male           1  \n",
       "1        Sh      1501    Male          10  \n",
       "2        MI      1550    Male           9  \n",
       "3        LI      1401    Male           6  \n",
       "4        LA       125  Female          12  "
      ]
     },
     "execution_count": 6,
     "metadata": {},
     "output_type": "execute_result"
    }
   ],
   "source": [
    "df.head()"
   ]
  },
  {
   "cell_type": "code",
   "execution_count": 7,
   "id": "6b144704",
   "metadata": {},
   "outputs": [
    {
     "name": "stdout",
     "output_type": "stream",
     "text": [
      "<class 'pandas.core.frame.DataFrame'>\n",
      "RangeIndex: 100000 entries, 0 to 99999\n",
      "Data columns (total 12 columns):\n",
      " #   Column      Non-Null Count   Dtype  \n",
      "---  ------      --------------   -----  \n",
      " 0   Call_ID     100000 non-null  int64  \n",
      " 1   Sale        99968 non-null   object \n",
      " 2   Agent_ID    97685 non-null   object \n",
      " 3   Age         100000 non-null  int64  \n",
      " 4   Product_ID  100000 non-null  int64  \n",
      " 5   Timezone    100000 non-null  int64  \n",
      " 6   Phone_code  99972 non-null   float64\n",
      " 7   First_Name  99318 non-null   object \n",
      " 8   Last_Name   99319 non-null   object \n",
      " 9   Area_Code   99540 non-null   object \n",
      " 10  Gender      100000 non-null  object \n",
      " 11  Call_Count  100000 non-null  int64  \n",
      "dtypes: float64(1), int64(5), object(6)\n",
      "memory usage: 9.2+ MB\n"
     ]
    }
   ],
   "source": [
    "df.info()"
   ]
  },
  {
   "cell_type": "code",
   "execution_count": 8,
   "id": "10741187",
   "metadata": {},
   "outputs": [
    {
     "data": {
      "text/html": [
       "<div>\n",
       "<style scoped>\n",
       "    .dataframe tbody tr th:only-of-type {\n",
       "        vertical-align: middle;\n",
       "    }\n",
       "\n",
       "    .dataframe tbody tr th {\n",
       "        vertical-align: top;\n",
       "    }\n",
       "\n",
       "    .dataframe thead th {\n",
       "        text-align: right;\n",
       "    }\n",
       "</style>\n",
       "<table border=\"1\" class=\"dataframe\">\n",
       "  <thead>\n",
       "    <tr style=\"text-align: right;\">\n",
       "      <th></th>\n",
       "      <th>Call_ID</th>\n",
       "      <th>Age</th>\n",
       "      <th>Product_ID</th>\n",
       "      <th>Timezone</th>\n",
       "      <th>Phone_code</th>\n",
       "      <th>Call_Count</th>\n",
       "    </tr>\n",
       "  </thead>\n",
       "  <tbody>\n",
       "    <tr>\n",
       "      <th>count</th>\n",
       "      <td>1.000000e+05</td>\n",
       "      <td>100000.000000</td>\n",
       "      <td>100000.000000</td>\n",
       "      <td>100000.000000</td>\n",
       "      <td>99972.0</td>\n",
       "      <td>100000.00000</td>\n",
       "    </tr>\n",
       "    <tr>\n",
       "      <th>mean</th>\n",
       "      <td>9.562981e+06</td>\n",
       "      <td>52.558530</td>\n",
       "      <td>147.216690</td>\n",
       "      <td>1.999420</td>\n",
       "      <td>37.0</td>\n",
       "      <td>3.26866</td>\n",
       "    </tr>\n",
       "    <tr>\n",
       "      <th>std</th>\n",
       "      <td>4.618927e+05</td>\n",
       "      <td>16.144553</td>\n",
       "      <td>2.182815</td>\n",
       "      <td>0.034054</td>\n",
       "      <td>0.0</td>\n",
       "      <td>2.96882</td>\n",
       "    </tr>\n",
       "    <tr>\n",
       "      <th>min</th>\n",
       "      <td>8.432514e+06</td>\n",
       "      <td>25.000000</td>\n",
       "      <td>142.000000</td>\n",
       "      <td>0.000000</td>\n",
       "      <td>37.0</td>\n",
       "      <td>1.00000</td>\n",
       "    </tr>\n",
       "    <tr>\n",
       "      <th>25%</th>\n",
       "      <td>9.230592e+06</td>\n",
       "      <td>39.000000</td>\n",
       "      <td>146.000000</td>\n",
       "      <td>2.000000</td>\n",
       "      <td>37.0</td>\n",
       "      <td>1.00000</td>\n",
       "    </tr>\n",
       "    <tr>\n",
       "      <th>50%</th>\n",
       "      <td>9.527831e+06</td>\n",
       "      <td>53.000000</td>\n",
       "      <td>147.000000</td>\n",
       "      <td>2.000000</td>\n",
       "      <td>37.0</td>\n",
       "      <td>2.00000</td>\n",
       "    </tr>\n",
       "    <tr>\n",
       "      <th>75%</th>\n",
       "      <td>9.919197e+06</td>\n",
       "      <td>66.000000</td>\n",
       "      <td>149.000000</td>\n",
       "      <td>2.000000</td>\n",
       "      <td>37.0</td>\n",
       "      <td>4.00000</td>\n",
       "    </tr>\n",
       "    <tr>\n",
       "      <th>max</th>\n",
       "      <td>1.047664e+07</td>\n",
       "      <td>80.000000</td>\n",
       "      <td>151.000000</td>\n",
       "      <td>2.000000</td>\n",
       "      <td>37.0</td>\n",
       "      <td>55.00000</td>\n",
       "    </tr>\n",
       "  </tbody>\n",
       "</table>\n",
       "</div>"
      ],
      "text/plain": [
       "            Call_ID            Age     Product_ID       Timezone  Phone_code  \\\n",
       "count  1.000000e+05  100000.000000  100000.000000  100000.000000     99972.0   \n",
       "mean   9.562981e+06      52.558530     147.216690       1.999420        37.0   \n",
       "std    4.618927e+05      16.144553       2.182815       0.034054         0.0   \n",
       "min    8.432514e+06      25.000000     142.000000       0.000000        37.0   \n",
       "25%    9.230592e+06      39.000000     146.000000       2.000000        37.0   \n",
       "50%    9.527831e+06      53.000000     147.000000       2.000000        37.0   \n",
       "75%    9.919197e+06      66.000000     149.000000       2.000000        37.0   \n",
       "max    1.047664e+07      80.000000     151.000000       2.000000        37.0   \n",
       "\n",
       "         Call_Count  \n",
       "count  100000.00000  \n",
       "mean        3.26866  \n",
       "std         2.96882  \n",
       "min         1.00000  \n",
       "25%         1.00000  \n",
       "50%         2.00000  \n",
       "75%         4.00000  \n",
       "max        55.00000  "
      ]
     },
     "execution_count": 8,
     "metadata": {},
     "output_type": "execute_result"
    }
   ],
   "source": [
    "df.describe()"
   ]
  },
  {
   "cell_type": "code",
   "execution_count": 9,
   "id": "14de8604",
   "metadata": {},
   "outputs": [
    {
     "data": {
      "text/plain": [
       "array(['5265', '5226', '4452', '5461', '5298', '5139', '4828', '5292',\n",
       "       '5044', '4912', '5230', '5002', '5053', '5312', '5214', '4926',\n",
       "       '5425', '5077', '5357', '4722', '5076', '4994', '5051', '5472',\n",
       "       '5296', '5207', '5386', '5209', '5208', '4866', nan, '5297',\n",
       "       '4995', '5313', '4958', '5073', '5028', '4804', '5341', '4876',\n",
       "       '5382', '5405', '5146', '5181', '4702', '5272', '4894', '5065',\n",
       "       '5403', '5459', '5424', '4971', '4677', '4748', '4899', '5266',\n",
       "       '5035', '5460', '4968', '4865', '5252', '5399', '5061', '4706',\n",
       "       '4955', '5220', '4956', '5216', '5032', '5406', '5224', '5462',\n",
       "       '4121', '5271', '5407', '5206', '5001', '5005', '5287', '5396',\n",
       "       '5464', '5294', '5052', '5423', '5421', '4827', '4483', '4709',\n",
       "       '5384', '5416', '5089', '5429', '5428', '5245', '5401', '4970',\n",
       "       '5366', '5381', '5367', '5302', '5368', '5106', '5495', '5393',\n",
       "       '5062', '5143', '5055', '5268', '5042', '5210', '4867', '5286',\n",
       "       '5470', '5310', '4888', '5218', '5467', '5404', '5455', '5471',\n",
       "       '4734', '5342', '5205', '5267', '5221', '5327', '5398', '4539',\n",
       "       '5417', '5420', '5466', '5374', '5441', '4893', '5400', '5299',\n",
       "       '5150', '5114', '5246', '5088', '5397', '5295', '5426', '5219',\n",
       "       'QUEUE5065', '5457', '5358', '4959', '5356', '5270', '5264',\n",
       "       '5515', '5369', '5275', '5365', '5064', '5273', '5254', '5293',\n",
       "       '4966', 'QUEUE5404', '5349', '5319', '5383', '5153', '5456',\n",
       "       '5303', '5306', '5458', '4829', '5427', '5500', 'QUEUE5457',\n",
       "       '5364', '5473', '5377', '5503', 'QUEUE5028', '5350', '4717',\n",
       "       'QUEUE5341', '4425', '5347', 'QUEUE5002', '5152', '5419', '5415',\n",
       "       '5380', '5274', '5348', '5155', '5430', '5215', '5203', '5320',\n",
       "       '5204', '5225', '5351', '5502', '5354', 'QUEUE5456', '5217',\n",
       "       '5370', '5373', '5340', '5494', '5385', '5179', '5463', '5234',\n",
       "       '5322', '5518', '5211', 'QUEUE4702', 'QUEUE4748', '5256', '5344',\n",
       "       '4992', '5516', '5321', 'QUEUE5181', 'QUEUE4968', '5355', '5376',\n",
       "       'QUEUE4912', '5519', '5517', 'QUEUE5459', 'QUEUE5381', '4219',\n",
       "       '5394', '5343', 'QUEUE4804', '5269', '5501', '5123', 'QUEUE4971',\n",
       "       '4304', '5063', 'QUEUE5405', '5390', 'QUEUE5472', '4033',\n",
       "       'QUEUE5386'], dtype=object)"
      ]
     },
     "execution_count": 9,
     "metadata": {},
     "output_type": "execute_result"
    }
   ],
   "source": [
    "df.Agent_ID.unique()"
   ]
  },
  {
   "cell_type": "code",
   "execution_count": 10,
   "id": "5bdd10eb",
   "metadata": {},
   "outputs": [
    {
     "data": {
      "text/plain": [
       "Call_ID          0\n",
       "Sale            32\n",
       "Agent_ID      2315\n",
       "Age              0\n",
       "Product_ID       0\n",
       "Timezone         0\n",
       "Phone_code      28\n",
       "First_Name     682\n",
       "Last_Name      681\n",
       "Area_Code      460\n",
       "Gender           0\n",
       "Call_Count       0\n",
       "dtype: int64"
      ]
     },
     "execution_count": 10,
     "metadata": {},
     "output_type": "execute_result"
    }
   ],
   "source": [
    "df.isnull().sum()"
   ]
  },
  {
   "cell_type": "code",
   "execution_count": 11,
   "id": "64724bcd",
   "metadata": {},
   "outputs": [
    {
     "data": {
      "text/html": [
       "<div>\n",
       "<style scoped>\n",
       "    .dataframe tbody tr th:only-of-type {\n",
       "        vertical-align: middle;\n",
       "    }\n",
       "\n",
       "    .dataframe tbody tr th {\n",
       "        vertical-align: top;\n",
       "    }\n",
       "\n",
       "    .dataframe thead th {\n",
       "        text-align: right;\n",
       "    }\n",
       "</style>\n",
       "<table border=\"1\" class=\"dataframe\">\n",
       "  <thead>\n",
       "    <tr style=\"text-align: right;\">\n",
       "      <th></th>\n",
       "      <th>Call_ID</th>\n",
       "      <th>Sale</th>\n",
       "      <th>Agent_ID</th>\n",
       "      <th>Age</th>\n",
       "      <th>Product_ID</th>\n",
       "      <th>Timezone</th>\n",
       "      <th>Phone_code</th>\n",
       "      <th>First_Name</th>\n",
       "      <th>Last_Name</th>\n",
       "      <th>Area_Code</th>\n",
       "      <th>Gender</th>\n",
       "      <th>Call_Count</th>\n",
       "    </tr>\n",
       "  </thead>\n",
       "  <tbody>\n",
       "    <tr>\n",
       "      <th>0</th>\n",
       "      <td>9545434</td>\n",
       "      <td>False</td>\n",
       "      <td>5265</td>\n",
       "      <td>42</td>\n",
       "      <td>147</td>\n",
       "      <td>2</td>\n",
       "      <td>37.0</td>\n",
       "      <td>Jk</td>\n",
       "      <td>Jk</td>\n",
       "      <td>2302</td>\n",
       "      <td>Male</td>\n",
       "      <td>1</td>\n",
       "    </tr>\n",
       "    <tr>\n",
       "      <th>1</th>\n",
       "      <td>9211206</td>\n",
       "      <td>False</td>\n",
       "      <td>5226</td>\n",
       "      <td>74</td>\n",
       "      <td>146</td>\n",
       "      <td>2</td>\n",
       "      <td>37.0</td>\n",
       "      <td>Em</td>\n",
       "      <td>Sh</td>\n",
       "      <td>1501</td>\n",
       "      <td>Male</td>\n",
       "      <td>10</td>\n",
       "    </tr>\n",
       "    <tr>\n",
       "      <th>2</th>\n",
       "      <td>8873010</td>\n",
       "      <td>False</td>\n",
       "      <td>4452</td>\n",
       "      <td>35</td>\n",
       "      <td>144</td>\n",
       "      <td>2</td>\n",
       "      <td>37.0</td>\n",
       "      <td>BI</td>\n",
       "      <td>MI</td>\n",
       "      <td>1550</td>\n",
       "      <td>Male</td>\n",
       "      <td>9</td>\n",
       "    </tr>\n",
       "    <tr>\n",
       "      <th>3</th>\n",
       "      <td>9852034</td>\n",
       "      <td>False</td>\n",
       "      <td>5461</td>\n",
       "      <td>40</td>\n",
       "      <td>149</td>\n",
       "      <td>2</td>\n",
       "      <td>37.0</td>\n",
       "      <td>WT</td>\n",
       "      <td>LI</td>\n",
       "      <td>1401</td>\n",
       "      <td>Male</td>\n",
       "      <td>6</td>\n",
       "    </tr>\n",
       "    <tr>\n",
       "      <th>4</th>\n",
       "      <td>9416548</td>\n",
       "      <td>False</td>\n",
       "      <td>5298</td>\n",
       "      <td>26</td>\n",
       "      <td>147</td>\n",
       "      <td>2</td>\n",
       "      <td>37.0</td>\n",
       "      <td>LA</td>\n",
       "      <td>LA</td>\n",
       "      <td>125</td>\n",
       "      <td>Female</td>\n",
       "      <td>12</td>\n",
       "    </tr>\n",
       "    <tr>\n",
       "      <th>...</th>\n",
       "      <td>...</td>\n",
       "      <td>...</td>\n",
       "      <td>...</td>\n",
       "      <td>...</td>\n",
       "      <td>...</td>\n",
       "      <td>...</td>\n",
       "      <td>...</td>\n",
       "      <td>...</td>\n",
       "      <td>...</td>\n",
       "      <td>...</td>\n",
       "      <td>...</td>\n",
       "      <td>...</td>\n",
       "    </tr>\n",
       "    <tr>\n",
       "      <th>99995</th>\n",
       "      <td>10249682</td>\n",
       "      <td>False</td>\n",
       "      <td>5404</td>\n",
       "      <td>65</td>\n",
       "      <td>150</td>\n",
       "      <td>2</td>\n",
       "      <td>37.0</td>\n",
       "      <td>Iy</td>\n",
       "      <td>Rn</td>\n",
       "      <td>4068</td>\n",
       "      <td>Female</td>\n",
       "      <td>1</td>\n",
       "    </tr>\n",
       "    <tr>\n",
       "      <th>99996</th>\n",
       "      <td>8955506</td>\n",
       "      <td>False</td>\n",
       "      <td>5181</td>\n",
       "      <td>37</td>\n",
       "      <td>144</td>\n",
       "      <td>2</td>\n",
       "      <td>37.0</td>\n",
       "      <td>ZA</td>\n",
       "      <td>OE</td>\n",
       "      <td>4450</td>\n",
       "      <td>Female</td>\n",
       "      <td>6</td>\n",
       "    </tr>\n",
       "    <tr>\n",
       "      <th>99997</th>\n",
       "      <td>9299394</td>\n",
       "      <td>False</td>\n",
       "      <td>5077</td>\n",
       "      <td>69</td>\n",
       "      <td>146</td>\n",
       "      <td>2</td>\n",
       "      <td>37.0</td>\n",
       "      <td>Wm</td>\n",
       "      <td>Vr</td>\n",
       "      <td>1759</td>\n",
       "      <td>Male</td>\n",
       "      <td>1</td>\n",
       "    </tr>\n",
       "    <tr>\n",
       "      <th>99998</th>\n",
       "      <td>9549720</td>\n",
       "      <td>False</td>\n",
       "      <td>5028</td>\n",
       "      <td>67</td>\n",
       "      <td>147</td>\n",
       "      <td>2</td>\n",
       "      <td>37.0</td>\n",
       "      <td>Ze</td>\n",
       "      <td>Ze</td>\n",
       "      <td>1475</td>\n",
       "      <td>Male</td>\n",
       "      <td>1</td>\n",
       "    </tr>\n",
       "    <tr>\n",
       "      <th>99999</th>\n",
       "      <td>9702206</td>\n",
       "      <td>False</td>\n",
       "      <td>5464</td>\n",
       "      <td>63</td>\n",
       "      <td>148</td>\n",
       "      <td>2</td>\n",
       "      <td>37.0</td>\n",
       "      <td>EH</td>\n",
       "      <td>MA</td>\n",
       "      <td>1864</td>\n",
       "      <td>Female</td>\n",
       "      <td>15</td>\n",
       "    </tr>\n",
       "  </tbody>\n",
       "</table>\n",
       "<p>96077 rows × 12 columns</p>\n",
       "</div>"
      ],
      "text/plain": [
       "        Call_ID   Sale Agent_ID  Age  Product_ID  Timezone  Phone_code  \\\n",
       "0       9545434  False     5265   42         147         2        37.0   \n",
       "1       9211206  False     5226   74         146         2        37.0   \n",
       "2       8873010  False     4452   35         144         2        37.0   \n",
       "3       9852034  False     5461   40         149         2        37.0   \n",
       "4       9416548  False     5298   26         147         2        37.0   \n",
       "...         ...    ...      ...  ...         ...       ...         ...   \n",
       "99995  10249682  False     5404   65         150         2        37.0   \n",
       "99996   8955506  False     5181   37         144         2        37.0   \n",
       "99997   9299394  False     5077   69         146         2        37.0   \n",
       "99998   9549720  False     5028   67         147         2        37.0   \n",
       "99999   9702206  False     5464   63         148         2        37.0   \n",
       "\n",
       "      First_Name Last_Name Area_Code  Gender  Call_Count  \n",
       "0             Jk        Jk      2302    Male           1  \n",
       "1             Em        Sh      1501    Male          10  \n",
       "2             BI        MI      1550    Male           9  \n",
       "3             WT        LI      1401    Male           6  \n",
       "4             LA        LA       125  Female          12  \n",
       "...          ...       ...       ...     ...         ...  \n",
       "99995         Iy        Rn      4068  Female           1  \n",
       "99996         ZA        OE      4450  Female           6  \n",
       "99997         Wm        Vr      1759    Male           1  \n",
       "99998         Ze        Ze      1475    Male           1  \n",
       "99999         EH        MA      1864  Female          15  \n",
       "\n",
       "[96077 rows x 12 columns]"
      ]
     },
     "execution_count": 11,
     "metadata": {},
     "output_type": "execute_result"
    }
   ],
   "source": [
    "df.dropna()"
   ]
  },
  {
   "cell_type": "code",
   "execution_count": 12,
   "id": "14a19e22",
   "metadata": {},
   "outputs": [
    {
     "data": {
      "text/plain": [
       "array([False, True, nan], dtype=object)"
      ]
     },
     "execution_count": 12,
     "metadata": {},
     "output_type": "execute_result"
    }
   ],
   "source": [
    "df.Sale.unique()"
   ]
  },
  {
   "cell_type": "code",
   "execution_count": 13,
   "id": "6ef1b0a2",
   "metadata": {},
   "outputs": [
    {
     "data": {
      "text/plain": [
       "(100000,)"
      ]
     },
     "execution_count": 13,
     "metadata": {},
     "output_type": "execute_result"
    }
   ],
   "source": [
    "df.Agent_ID.shape"
   ]
  },
  {
   "cell_type": "code",
   "execution_count": 14,
   "id": "32a65957",
   "metadata": {},
   "outputs": [
    {
     "data": {
      "text/plain": [
       "Call_ID          0\n",
       "Sale            32\n",
       "Agent_ID      2315\n",
       "Age              0\n",
       "Product_ID       0\n",
       "Timezone         0\n",
       "Phone_code      28\n",
       "First_Name     682\n",
       "Last_Name      681\n",
       "Area_Code      460\n",
       "Gender           0\n",
       "Call_Count       0\n",
       "dtype: int64"
      ]
     },
     "execution_count": 14,
     "metadata": {},
     "output_type": "execute_result"
    }
   ],
   "source": [
    "df.isnull().sum()"
   ]
  },
  {
   "cell_type": "code",
   "execution_count": 15,
   "id": "4f71c0aa",
   "metadata": {},
   "outputs": [],
   "source": [
    "df.dropna(inplace = True) "
   ]
  },
  {
   "cell_type": "code",
   "execution_count": 16,
   "id": "91d1c4a1",
   "metadata": {},
   "outputs": [
    {
     "data": {
      "text/html": [
       "<div>\n",
       "<style scoped>\n",
       "    .dataframe tbody tr th:only-of-type {\n",
       "        vertical-align: middle;\n",
       "    }\n",
       "\n",
       "    .dataframe tbody tr th {\n",
       "        vertical-align: top;\n",
       "    }\n",
       "\n",
       "    .dataframe thead th {\n",
       "        text-align: right;\n",
       "    }\n",
       "</style>\n",
       "<table border=\"1\" class=\"dataframe\">\n",
       "  <thead>\n",
       "    <tr style=\"text-align: right;\">\n",
       "      <th></th>\n",
       "      <th>Call_ID</th>\n",
       "      <th>Sale</th>\n",
       "      <th>Agent_ID</th>\n",
       "      <th>Age</th>\n",
       "      <th>Product_ID</th>\n",
       "      <th>Timezone</th>\n",
       "      <th>Phone_code</th>\n",
       "      <th>First_Name</th>\n",
       "      <th>Last_Name</th>\n",
       "      <th>Area_Code</th>\n",
       "      <th>Gender</th>\n",
       "      <th>Call_Count</th>\n",
       "    </tr>\n",
       "  </thead>\n",
       "  <tbody>\n",
       "    <tr>\n",
       "      <th>0</th>\n",
       "      <td>9545434</td>\n",
       "      <td>False</td>\n",
       "      <td>5265</td>\n",
       "      <td>42</td>\n",
       "      <td>147</td>\n",
       "      <td>2</td>\n",
       "      <td>37.0</td>\n",
       "      <td>Jk</td>\n",
       "      <td>Jk</td>\n",
       "      <td>2302</td>\n",
       "      <td>Male</td>\n",
       "      <td>1</td>\n",
       "    </tr>\n",
       "    <tr>\n",
       "      <th>1</th>\n",
       "      <td>9211206</td>\n",
       "      <td>False</td>\n",
       "      <td>5226</td>\n",
       "      <td>74</td>\n",
       "      <td>146</td>\n",
       "      <td>2</td>\n",
       "      <td>37.0</td>\n",
       "      <td>Em</td>\n",
       "      <td>Sh</td>\n",
       "      <td>1501</td>\n",
       "      <td>Male</td>\n",
       "      <td>10</td>\n",
       "    </tr>\n",
       "    <tr>\n",
       "      <th>2</th>\n",
       "      <td>8873010</td>\n",
       "      <td>False</td>\n",
       "      <td>4452</td>\n",
       "      <td>35</td>\n",
       "      <td>144</td>\n",
       "      <td>2</td>\n",
       "      <td>37.0</td>\n",
       "      <td>BI</td>\n",
       "      <td>MI</td>\n",
       "      <td>1550</td>\n",
       "      <td>Male</td>\n",
       "      <td>9</td>\n",
       "    </tr>\n",
       "    <tr>\n",
       "      <th>3</th>\n",
       "      <td>9852034</td>\n",
       "      <td>False</td>\n",
       "      <td>5461</td>\n",
       "      <td>40</td>\n",
       "      <td>149</td>\n",
       "      <td>2</td>\n",
       "      <td>37.0</td>\n",
       "      <td>WT</td>\n",
       "      <td>LI</td>\n",
       "      <td>1401</td>\n",
       "      <td>Male</td>\n",
       "      <td>6</td>\n",
       "    </tr>\n",
       "    <tr>\n",
       "      <th>4</th>\n",
       "      <td>9416548</td>\n",
       "      <td>False</td>\n",
       "      <td>5298</td>\n",
       "      <td>26</td>\n",
       "      <td>147</td>\n",
       "      <td>2</td>\n",
       "      <td>37.0</td>\n",
       "      <td>LA</td>\n",
       "      <td>LA</td>\n",
       "      <td>125</td>\n",
       "      <td>Female</td>\n",
       "      <td>12</td>\n",
       "    </tr>\n",
       "    <tr>\n",
       "      <th>...</th>\n",
       "      <td>...</td>\n",
       "      <td>...</td>\n",
       "      <td>...</td>\n",
       "      <td>...</td>\n",
       "      <td>...</td>\n",
       "      <td>...</td>\n",
       "      <td>...</td>\n",
       "      <td>...</td>\n",
       "      <td>...</td>\n",
       "      <td>...</td>\n",
       "      <td>...</td>\n",
       "      <td>...</td>\n",
       "    </tr>\n",
       "    <tr>\n",
       "      <th>99995</th>\n",
       "      <td>10249682</td>\n",
       "      <td>False</td>\n",
       "      <td>5404</td>\n",
       "      <td>65</td>\n",
       "      <td>150</td>\n",
       "      <td>2</td>\n",
       "      <td>37.0</td>\n",
       "      <td>Iy</td>\n",
       "      <td>Rn</td>\n",
       "      <td>4068</td>\n",
       "      <td>Female</td>\n",
       "      <td>1</td>\n",
       "    </tr>\n",
       "    <tr>\n",
       "      <th>99996</th>\n",
       "      <td>8955506</td>\n",
       "      <td>False</td>\n",
       "      <td>5181</td>\n",
       "      <td>37</td>\n",
       "      <td>144</td>\n",
       "      <td>2</td>\n",
       "      <td>37.0</td>\n",
       "      <td>ZA</td>\n",
       "      <td>OE</td>\n",
       "      <td>4450</td>\n",
       "      <td>Female</td>\n",
       "      <td>6</td>\n",
       "    </tr>\n",
       "    <tr>\n",
       "      <th>99997</th>\n",
       "      <td>9299394</td>\n",
       "      <td>False</td>\n",
       "      <td>5077</td>\n",
       "      <td>69</td>\n",
       "      <td>146</td>\n",
       "      <td>2</td>\n",
       "      <td>37.0</td>\n",
       "      <td>Wm</td>\n",
       "      <td>Vr</td>\n",
       "      <td>1759</td>\n",
       "      <td>Male</td>\n",
       "      <td>1</td>\n",
       "    </tr>\n",
       "    <tr>\n",
       "      <th>99998</th>\n",
       "      <td>9549720</td>\n",
       "      <td>False</td>\n",
       "      <td>5028</td>\n",
       "      <td>67</td>\n",
       "      <td>147</td>\n",
       "      <td>2</td>\n",
       "      <td>37.0</td>\n",
       "      <td>Ze</td>\n",
       "      <td>Ze</td>\n",
       "      <td>1475</td>\n",
       "      <td>Male</td>\n",
       "      <td>1</td>\n",
       "    </tr>\n",
       "    <tr>\n",
       "      <th>99999</th>\n",
       "      <td>9702206</td>\n",
       "      <td>False</td>\n",
       "      <td>5464</td>\n",
       "      <td>63</td>\n",
       "      <td>148</td>\n",
       "      <td>2</td>\n",
       "      <td>37.0</td>\n",
       "      <td>EH</td>\n",
       "      <td>MA</td>\n",
       "      <td>1864</td>\n",
       "      <td>Female</td>\n",
       "      <td>15</td>\n",
       "    </tr>\n",
       "  </tbody>\n",
       "</table>\n",
       "<p>96077 rows × 12 columns</p>\n",
       "</div>"
      ],
      "text/plain": [
       "        Call_ID   Sale Agent_ID  Age  Product_ID  Timezone  Phone_code  \\\n",
       "0       9545434  False     5265   42         147         2        37.0   \n",
       "1       9211206  False     5226   74         146         2        37.0   \n",
       "2       8873010  False     4452   35         144         2        37.0   \n",
       "3       9852034  False     5461   40         149         2        37.0   \n",
       "4       9416548  False     5298   26         147         2        37.0   \n",
       "...         ...    ...      ...  ...         ...       ...         ...   \n",
       "99995  10249682  False     5404   65         150         2        37.0   \n",
       "99996   8955506  False     5181   37         144         2        37.0   \n",
       "99997   9299394  False     5077   69         146         2        37.0   \n",
       "99998   9549720  False     5028   67         147         2        37.0   \n",
       "99999   9702206  False     5464   63         148         2        37.0   \n",
       "\n",
       "      First_Name Last_Name Area_Code  Gender  Call_Count  \n",
       "0             Jk        Jk      2302    Male           1  \n",
       "1             Em        Sh      1501    Male          10  \n",
       "2             BI        MI      1550    Male           9  \n",
       "3             WT        LI      1401    Male           6  \n",
       "4             LA        LA       125  Female          12  \n",
       "...          ...       ...       ...     ...         ...  \n",
       "99995         Iy        Rn      4068  Female           1  \n",
       "99996         ZA        OE      4450  Female           6  \n",
       "99997         Wm        Vr      1759    Male           1  \n",
       "99998         Ze        Ze      1475    Male           1  \n",
       "99999         EH        MA      1864  Female          15  \n",
       "\n",
       "[96077 rows x 12 columns]"
      ]
     },
     "execution_count": 16,
     "metadata": {},
     "output_type": "execute_result"
    }
   ],
   "source": [
    "df"
   ]
  },
  {
   "cell_type": "code",
   "execution_count": 17,
   "id": "8d564913",
   "metadata": {},
   "outputs": [
    {
     "data": {
      "text/plain": [
       "Call_ID       0\n",
       "Sale          0\n",
       "Agent_ID      0\n",
       "Age           0\n",
       "Product_ID    0\n",
       "Timezone      0\n",
       "Phone_code    0\n",
       "First_Name    0\n",
       "Last_Name     0\n",
       "Area_Code     0\n",
       "Gender        0\n",
       "Call_Count    0\n",
       "dtype: int64"
      ]
     },
     "execution_count": 17,
     "metadata": {},
     "output_type": "execute_result"
    }
   ],
   "source": [
    "df.isnull().sum()"
   ]
  },
  {
   "cell_type": "markdown",
   "id": "abe94972",
   "metadata": {},
   "source": [
    "# Histogram"
   ]
  },
  {
   "cell_type": "code",
   "execution_count": 18,
   "id": "3cef4f4a",
   "metadata": {},
   "outputs": [
    {
     "data": {
      "text/plain": [
       "array([[<AxesSubplot:title={'center':'Call_ID'}>,\n",
       "        <AxesSubplot:title={'center':'Age'}>],\n",
       "       [<AxesSubplot:title={'center':'Product_ID'}>,\n",
       "        <AxesSubplot:title={'center':'Timezone'}>],\n",
       "       [<AxesSubplot:title={'center':'Phone_code'}>,\n",
       "        <AxesSubplot:title={'center':'Call_Count'}>]], dtype=object)"
      ]
     },
     "execution_count": 18,
     "metadata": {},
     "output_type": "execute_result"
    },
    {
     "data": {
      "image/png": "[encoded data removed]",
      "text/plain": [
       "<Figure size 1000x2000 with 6 Axes>"
      ]
     },
     "metadata": {},
     "output_type": "display_data"
    }
   ],
   "source": [
    "df.hist(figsize = (10,20))"
   ]
  },
  {
   "cell_type": "code",
   "execution_count": 19,
   "id": "29164c73",
   "metadata": {},
   "outputs": [
    {
     "data": {
      "text/plain": [
       "<AxesSubplot:xlabel='Age', ylabel='count'>"
      ]
     },
     "execution_count": 19,
     "metadata": {},
     "output_type": "execute_result"
    },
    {
     "data": {
      "image/png": "[encoded data removed]",
      "text/plain": [
       "<Figure size 640x480 with 1 Axes>"
      ]
     },
     "metadata": {},
     "output_type": "display_data"
    }
   ],
   "source": [
    "sns.countplot(x=\"Age\", data=df)"
   ]
  },
  {
   "cell_type": "code",
   "execution_count": 20,
   "id": "d14c21b1",
   "metadata": {},
   "outputs": [
    {
     "data": {
      "text/plain": [
       "<AxesSubplot:xlabel='Gender', ylabel='count'>"
      ]
     },
     "execution_count": 20,
     "metadata": {},
     "output_type": "execute_result"
    },
    {
     "data": {
      "image/png": "[encoded data removed]",
      "text/plain": [
       "<Figure size 640x480 with 1 Axes>"
      ]
     },
     "metadata": {},
     "output_type": "display_data"
    }
   ],
   "source": [
    "sns.countplot(x=\"Gender\", data=df)"
   ]
  },
  {
   "cell_type": "code",
   "execution_count": 21,
   "id": "d8d69b09",
   "metadata": {},
   "outputs": [
    {
     "data": {
      "text/plain": [
       "Male      50171\n",
       "Female    45004\n",
       "Others      902\n",
       "Name: Gender, dtype: int64"
      ]
     },
     "execution_count": 21,
     "metadata": {},
     "output_type": "execute_result"
    }
   ],
   "source": [
    "df.Gender.value_counts()"
   ]
  },
  {
   "cell_type": "code",
   "execution_count": 22,
   "id": "0209a599",
   "metadata": {},
   "outputs": [
    {
     "data": {
      "text/html": [
       "<div>\n",
       "<style scoped>\n",
       "    .dataframe tbody tr th:only-of-type {\n",
       "        vertical-align: middle;\n",
       "    }\n",
       "\n",
       "    .dataframe tbody tr th {\n",
       "        vertical-align: top;\n",
       "    }\n",
       "\n",
       "    .dataframe thead th {\n",
       "        text-align: right;\n",
       "    }\n",
       "</style>\n",
       "<table border=\"1\" class=\"dataframe\">\n",
       "  <thead>\n",
       "    <tr style=\"text-align: right;\">\n",
       "      <th></th>\n",
       "      <th>Call_ID</th>\n",
       "      <th>Sale</th>\n",
       "      <th>Agent_ID</th>\n",
       "      <th>Age</th>\n",
       "      <th>Product_ID</th>\n",
       "      <th>Timezone</th>\n",
       "      <th>Phone_code</th>\n",
       "      <th>First_Name</th>\n",
       "      <th>Last_Name</th>\n",
       "      <th>Area_Code</th>\n",
       "      <th>Gender</th>\n",
       "      <th>Call_Count</th>\n",
       "    </tr>\n",
       "  </thead>\n",
       "  <tbody>\n",
       "    <tr>\n",
       "      <th>0</th>\n",
       "      <td>9545434</td>\n",
       "      <td>False</td>\n",
       "      <td>5265</td>\n",
       "      <td>42</td>\n",
       "      <td>147</td>\n",
       "      <td>2</td>\n",
       "      <td>37.0</td>\n",
       "      <td>Jk</td>\n",
       "      <td>Jk</td>\n",
       "      <td>2302</td>\n",
       "      <td>Male</td>\n",
       "      <td>1</td>\n",
       "    </tr>\n",
       "    <tr>\n",
       "      <th>1</th>\n",
       "      <td>9211206</td>\n",
       "      <td>False</td>\n",
       "      <td>5226</td>\n",
       "      <td>74</td>\n",
       "      <td>146</td>\n",
       "      <td>2</td>\n",
       "      <td>37.0</td>\n",
       "      <td>Em</td>\n",
       "      <td>Sh</td>\n",
       "      <td>1501</td>\n",
       "      <td>Male</td>\n",
       "      <td>10</td>\n",
       "    </tr>\n",
       "    <tr>\n",
       "      <th>2</th>\n",
       "      <td>8873010</td>\n",
       "      <td>False</td>\n",
       "      <td>4452</td>\n",
       "      <td>35</td>\n",
       "      <td>144</td>\n",
       "      <td>2</td>\n",
       "      <td>37.0</td>\n",
       "      <td>BI</td>\n",
       "      <td>MI</td>\n",
       "      <td>1550</td>\n",
       "      <td>Male</td>\n",
       "      <td>9</td>\n",
       "    </tr>\n",
       "    <tr>\n",
       "      <th>3</th>\n",
       "      <td>9852034</td>\n",
       "      <td>False</td>\n",
       "      <td>5461</td>\n",
       "      <td>40</td>\n",
       "      <td>149</td>\n",
       "      <td>2</td>\n",
       "      <td>37.0</td>\n",
       "      <td>WT</td>\n",
       "      <td>LI</td>\n",
       "      <td>1401</td>\n",
       "      <td>Male</td>\n",
       "      <td>6</td>\n",
       "    </tr>\n",
       "    <tr>\n",
       "      <th>4</th>\n",
       "      <td>9416548</td>\n",
       "      <td>False</td>\n",
       "      <td>5298</td>\n",
       "      <td>26</td>\n",
       "      <td>147</td>\n",
       "      <td>2</td>\n",
       "      <td>37.0</td>\n",
       "      <td>LA</td>\n",
       "      <td>LA</td>\n",
       "      <td>125</td>\n",
       "      <td>Female</td>\n",
       "      <td>12</td>\n",
       "    </tr>\n",
       "  </tbody>\n",
       "</table>\n",
       "</div>"
      ],
      "text/plain": [
       "   Call_ID   Sale Agent_ID  Age  Product_ID  Timezone  Phone_code First_Name  \\\n",
       "0  9545434  False     5265   42         147         2        37.0         Jk   \n",
       "1  9211206  False     5226   74         146         2        37.0         Em   \n",
       "2  8873010  False     4452   35         144         2        37.0         BI   \n",
       "3  9852034  False     5461   40         149         2        37.0         WT   \n",
       "4  9416548  False     5298   26         147         2        37.0         LA   \n",
       "\n",
       "  Last_Name Area_Code  Gender  Call_Count  \n",
       "0        Jk      2302    Male           1  \n",
       "1        Sh      1501    Male          10  \n",
       "2        MI      1550    Male           9  \n",
       "3        LI      1401    Male           6  \n",
       "4        LA       125  Female          12  "
      ]
     },
     "execution_count": 22,
     "metadata": {},
     "output_type": "execute_result"
    }
   ],
   "source": [
    "df.head()"
   ]
  },
  {
   "cell_type": "code",
   "execution_count": 23,
   "id": "3aa9d8d8",
   "metadata": {},
   "outputs": [
    {
     "data": {
      "text/plain": [
       "<AxesSubplot:xlabel='Sale', ylabel='count'>"
      ]
     },
     "execution_count": 23,
     "metadata": {},
     "output_type": "execute_result"
    },
    {
     "data": {
      "image/png": "[encoded data removed]",
      "text/plain": [
       "<Figure size 640x480 with 1 Axes>"
      ]
     },
     "metadata": {},
     "output_type": "display_data"
    }
   ],
   "source": [
    "sns.countplot(x=\"Sale\", data=df)"
   ]
  },
  {
   "cell_type": "code",
   "execution_count": 24,
   "id": "6c6703e6",
   "metadata": {},
   "outputs": [
    {
     "data": {
      "text/plain": [
       "<bound method IndexOpsMixin.value_counts of 0        Jk\n",
       "1        Em\n",
       "2        BI\n",
       "3        WT\n",
       "4        LA\n",
       "         ..\n",
       "99995    Iy\n",
       "99996    ZA\n",
       "99997    Wm\n",
       "99998    Ze\n",
       "99999    EH\n",
       "Name: First_Name, Length: 96077, dtype: object>"
      ]
     },
     "execution_count": 24,
     "metadata": {},
     "output_type": "execute_result"
    }
   ],
   "source": [
    "df.First_Name.value_counts"
   ]
  },
  {
   "cell_type": "markdown",
   "id": "5c797ee1",
   "metadata": {},
   "source": [
    "# Heatmap"
   ]
  },
  {
   "cell_type": "code",
   "execution_count": 27,
   "id": "8316c2d6",
   "metadata": {},
   "outputs": [],
   "source": [
    "corr = df.corr()"
   ]
  },
  {
   "cell_type": "code",
   "execution_count": 28,
   "id": "132cbe22",
   "metadata": {},
   "outputs": [
    {
     "data": {
      "text/html": [
       "<div>\n",
       "<style scoped>\n",
       "    .dataframe tbody tr th:only-of-type {\n",
       "        vertical-align: middle;\n",
       "    }\n",
       "\n",
       "    .dataframe tbody tr th {\n",
       "        vertical-align: top;\n",
       "    }\n",
       "\n",
       "    .dataframe thead th {\n",
       "        text-align: right;\n",
       "    }\n",
       "</style>\n",
       "<table border=\"1\" class=\"dataframe\">\n",
       "  <thead>\n",
       "    <tr style=\"text-align: right;\">\n",
       "      <th></th>\n",
       "      <th>Call_ID</th>\n",
       "      <th>Age</th>\n",
       "      <th>Product_ID</th>\n",
       "      <th>Timezone</th>\n",
       "      <th>Phone_code</th>\n",
       "      <th>Call_Count</th>\n",
       "    </tr>\n",
       "  </thead>\n",
       "  <tbody>\n",
       "    <tr>\n",
       "      <th>Call_ID</th>\n",
       "      <td>1.000000</td>\n",
       "      <td>0.001000</td>\n",
       "      <td>0.991774</td>\n",
       "      <td>NaN</td>\n",
       "      <td>NaN</td>\n",
       "      <td>-0.410590</td>\n",
       "    </tr>\n",
       "    <tr>\n",
       "      <th>Age</th>\n",
       "      <td>0.001000</td>\n",
       "      <td>1.000000</td>\n",
       "      <td>0.001072</td>\n",
       "      <td>NaN</td>\n",
       "      <td>NaN</td>\n",
       "      <td>-0.002805</td>\n",
       "    </tr>\n",
       "    <tr>\n",
       "      <th>Product_ID</th>\n",
       "      <td>0.991774</td>\n",
       "      <td>0.001072</td>\n",
       "      <td>1.000000</td>\n",
       "      <td>NaN</td>\n",
       "      <td>NaN</td>\n",
       "      <td>-0.405513</td>\n",
       "    </tr>\n",
       "    <tr>\n",
       "      <th>Timezone</th>\n",
       "      <td>NaN</td>\n",
       "      <td>NaN</td>\n",
       "      <td>NaN</td>\n",
       "      <td>NaN</td>\n",
       "      <td>NaN</td>\n",
       "      <td>NaN</td>\n",
       "    </tr>\n",
       "    <tr>\n",
       "      <th>Phone_code</th>\n",
       "      <td>NaN</td>\n",
       "      <td>NaN</td>\n",
       "      <td>NaN</td>\n",
       "      <td>NaN</td>\n",
       "      <td>NaN</td>\n",
       "      <td>NaN</td>\n",
       "    </tr>\n",
       "    <tr>\n",
       "      <th>Call_Count</th>\n",
       "      <td>-0.410590</td>\n",
       "      <td>-0.002805</td>\n",
       "      <td>-0.405513</td>\n",
       "      <td>NaN</td>\n",
       "      <td>NaN</td>\n",
       "      <td>1.000000</td>\n",
       "    </tr>\n",
       "  </tbody>\n",
       "</table>\n",
       "</div>"
      ],
      "text/plain": [
       "             Call_ID       Age  Product_ID  Timezone  Phone_code  Call_Count\n",
       "Call_ID     1.000000  0.001000    0.991774       NaN         NaN   -0.410590\n",
       "Age         0.001000  1.000000    0.001072       NaN         NaN   -0.002805\n",
       "Product_ID  0.991774  0.001072    1.000000       NaN         NaN   -0.405513\n",
       "Timezone         NaN       NaN         NaN       NaN         NaN         NaN\n",
       "Phone_code       NaN       NaN         NaN       NaN         NaN         NaN\n",
       "Call_Count -0.410590 -0.002805   -0.405513       NaN         NaN    1.000000"
      ]
     },
     "execution_count": 28,
     "metadata": {},
     "output_type": "execute_result"
    }
   ],
   "source": [
    "corr"
   ]
  },
  {
   "cell_type": "code",
   "execution_count": 29,
   "id": "f26bd4ed",
   "metadata": {},
   "outputs": [
    {
     "data": {
      "text/plain": [
       "<AxesSubplot:>"
      ]
     },
     "execution_count": 29,
     "metadata": {},
     "output_type": "execute_result"
    },
    {
     "data": {
      "image/png": "[encoded data removed]",
      "text/plain": [
       "<Figure size 640x480 with 2 Axes>"
      ]
     },
     "metadata": {},
     "output_type": "display_data"
    }
   ],
   "source": [
    "sns.heatmap(corr,annot = True)"
   ]
  },
  {
   "cell_type": "markdown",
   "id": "5c2d900d",
   "metadata": {},
   "source": [
    "# BoxPlot"
   ]
  },
  {
   "cell_type": "code",
   "execution_count": 30,
   "id": "40243ebc",
   "metadata": {},
   "outputs": [
    {
     "data": {
      "text/plain": [
       "<AxesSubplot:xlabel='Call_Count', ylabel='Age'>"
      ]
     },
     "execution_count": 30,
     "metadata": {},
     "output_type": "execute_result"
    },
    {
     "data": {
      "image/png": "[encoded data removed]",
      "text/plain": [
       "<Figure size 640x480 with 1 Axes>"
      ]
     },
     "metadata": {},
     "output_type": "display_data"
    }
   ],
   "source": [
    "sns.boxplot(x='Call_Count',y='Age',data =df)"
   ]
  },
  {
   "cell_type": "markdown",
   "id": "58b045d9",
   "metadata": {},
   "source": [
    "# DistPlot"
   ]
  },
  {
   "cell_type": "code",
   "execution_count": 31,
   "id": "44695a00",
   "metadata": {},
   "outputs": [
    {
     "name": "stdout",
     "output_type": "stream",
     "text": [
      "Distribution has skew 1.7482292458218094\n",
      "Distribution has kutosis 3.6954522753187242\n"
     ]
    },
    {
     "data": {
      "image/png": "[encoded data removed]",
      "text/plain": [
       "<Figure size 640x480 with 1 Axes>"
      ]
     },
     "metadata": {},
     "output_type": "display_data"
    }
   ],
   "source": [
    "sns.distplot(df.Call_Count)\n",
    "print('Distribution has skew',df['Call_Count'].skew())\n",
    "print('Distribution has kutosis',df['Call_Count'].kurt())"
   ]
  },
  {
   "cell_type": "code",
   "execution_count": 32,
   "id": "e91fc2fb",
   "metadata": {},
   "outputs": [
    {
     "data": {
      "text/plain": [
       "<AxesSubplot:xlabel='Phone_code', ylabel='Density'>"
      ]
     },
     "execution_count": 32,
     "metadata": {},
     "output_type": "execute_result"
    },
    {
     "data": {
      "image/png": "[encoded data removed]",
      "text/plain": [
       "<Figure size 640x480 with 1 Axes>"
      ]
     },
     "metadata": {},
     "output_type": "display_data"
    }
   ],
   "source": [
    "sns.distplot(df['Phone_code'])"
   ]
  },
  {
   "cell_type": "code",
   "execution_count": 33,
   "id": "4a8a54fc",
   "metadata": {},
   "outputs": [
    {
     "data": {
      "text/plain": [
       "<seaborn.axisgrid.FacetGrid at 0x21188643310>"
      ]
     },
     "execution_count": 33,
     "metadata": {},
     "output_type": "execute_result"
    },
    {
     "data": {
      "image/png": "[encoded data removed]",
      "text/plain": [
       "<Figure size 500x500 with 1 Axes>"
      ]
     },
     "metadata": {},
     "output_type": "display_data"
    }
   ],
   "source": [
    "sns.lmplot('Age','Call_Count',df)"
   ]
  },
  {
   "cell_type": "code",
   "execution_count": 34,
   "id": "2717763d",
   "metadata": {},
   "outputs": [
    {
     "data": {
      "text/plain": [
       "<seaborn.axisgrid.FacetGrid at 0x211885070d0>"
      ]
     },
     "execution_count": 34,
     "metadata": {},
     "output_type": "execute_result"
    },
    {
     "data": {
      "image/png": "[encoded data removed]",
      "text/plain": [
       "<Figure size 600.25x500 with 1 Axes>"
      ]
     },
     "metadata": {},
     "output_type": "display_data"
    }
   ],
   "source": [
    "sns.relplot(x='Gender',y='Call_Count',hue = 'Gender',data = df)"
   ]
  },
  {
   "cell_type": "markdown",
   "id": "a932e020",
   "metadata": {},
   "source": [
    "# Violin Plot"
   ]
  },
  {
   "cell_type": "code",
   "execution_count": 35,
   "id": "b41f819f",
   "metadata": {},
   "outputs": [
    {
     "data": {
      "text/plain": [
       "<AxesSubplot:xlabel='Call_Count', ylabel='Gender'>"
      ]
     },
     "execution_count": 35,
     "metadata": {},
     "output_type": "execute_result"
    },
    {
     "data": {
      "image/png": "[encoded data removed]",
      "text/plain": [
       "<Figure size 640x480 with 1 Axes>"
      ]
     },
     "metadata": {},
     "output_type": "display_data"
    }
   ],
   "source": [
    "sns.violinplot(x=\"Call_Count\",y=\"Gender\",data=df,palette='rainbow')"
   ]
  },
  {
   "cell_type": "markdown",
   "id": "4c5ac134",
   "metadata": {},
   "source": [
    "# END"
   ]
  }
 ],
 "metadata": {
  "kernelspec": {
   "display_name": "myenv",
   "language": "python",
   "name": "mynev"
  },
  "language_info": {
   "codemirror_mode": {
    "name": "ipython",
    "version": 3
   },
   "file_extension": ".py",
   "mimetype": "text/x-python",
   "name": "python",
   "nbconvert_exporter": "python",
   "pygments_lexer": "ipython3",
   "version": "3.9.13"
  }
 },
 "nbformat": 4,
 "nbformat_minor": 5
}
