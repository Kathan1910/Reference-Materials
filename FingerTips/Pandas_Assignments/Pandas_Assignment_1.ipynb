{
 "cells": [
  {
   "cell_type": "code",
   "execution_count": 1,
   "id": "e78a5f67",
   "metadata": {},
   "outputs": [],
   "source": [
    "import pandas as pd\n",
    "import numpy as np"
   ]
  },
  {
   "cell_type": "code",
   "execution_count": 2,
   "id": "d4684298",
   "metadata": {},
   "outputs": [],
   "source": [
    "import warnings\n",
    "warnings.filterwarnings(\"ignore\")"
   ]
  },
  {
   "cell_type": "markdown",
   "id": "a9df66fc",
   "metadata": {},
   "source": [
    "# Answer The Questions.."
   ]
  },
  {
   "cell_type": "markdown",
   "id": "5f984c75",
   "metadata": {},
   "source": [
    "### Q.1 Add, subtract, multiple and divide two series of Pandas."
   ]
  },
  {
   "cell_type": "code",
   "execution_count": 3,
   "id": "f460ff37",
   "metadata": {},
   "outputs": [
    {
     "name": "stdout",
     "output_type": "stream",
     "text": [
      "0     6\n",
      "1     8\n",
      "2    10\n",
      "3    16\n",
      "4    29\n",
      "dtype: int64\n",
      "0    -4\n",
      "1    -4\n",
      "2    -4\n",
      "3    -8\n",
      "4   -19\n",
      "dtype: int64\n",
      "0      5\n",
      "1     12\n",
      "2     21\n",
      "3     48\n",
      "4    120\n",
      "dtype: int64\n",
      "0    0.200000\n",
      "1    0.333333\n",
      "2    0.428571\n",
      "3    0.333333\n",
      "4    0.208333\n",
      "dtype: float64\n"
     ]
    }
   ],
   "source": [
    "s1 = pd.Series([1,2,3,4,5])\n",
    "s2 = pd.Series([5,6,7,12,24])\n",
    "\n",
    "print(s1 + s2)\n",
    "print(s1 - s2)\n",
    "print(s1 * s2)\n",
    "print(s1 / s2)"
   ]
  },
  {
   "cell_type": "markdown",
   "id": "23e89c23",
   "metadata": {},
   "source": [
    "### Q.2 Compare the elements of the two Pandas Series."
   ]
  },
  {
   "cell_type": "code",
   "execution_count": 7,
   "id": "e5290337",
   "metadata": {},
   "outputs": [
    {
     "name": "stdout",
     "output_type": "stream",
     "text": [
      "False\n"
     ]
    }
   ],
   "source": [
    "Series1 = [2, 4, 6, 8, 10]\n",
    "Series2 = [1,2,3,4,5]\n",
    "\n",
    "print(Series1 == Series2)"
   ]
  },
  {
   "cell_type": "markdown",
   "id": "42e828e3",
   "metadata": {},
   "source": [
    "### Q.3 Convert a dictionary to a Pandas series."
   ]
  },
  {
   "cell_type": "code",
   "execution_count": 8,
   "id": "ece075d1",
   "metadata": {},
   "outputs": [
    {
     "name": "stdout",
     "output_type": "stream",
     "text": [
      "{'A': 5, 'B': 10, 'C': 15, 'D': 20, 'E': 25}\n"
     ]
    }
   ],
   "source": [
    "dict_1 = {'A': 5, \n",
    "          'B': 10, \n",
    "          'C':15, \n",
    "          'D':20, \n",
    "          'E':25}\n",
    "\n",
    "print(dict_1)"
   ]
  },
  {
   "cell_type": "code",
   "execution_count": 9,
   "id": "a072286a",
   "metadata": {},
   "outputs": [
    {
     "data": {
      "text/plain": [
       "A     5\n",
       "B    10\n",
       "C    15\n",
       "D    20\n",
       "E    25\n",
       "dtype: int64"
      ]
     },
     "execution_count": 9,
     "metadata": {},
     "output_type": "execute_result"
    }
   ],
   "source": [
    "Series = pd.Series(dict_1)\n",
    "Series"
   ]
  },
  {
   "cell_type": "markdown",
   "id": "561c4d6d",
   "metadata": {},
   "source": [
    "### Q.4 Convert a NumPy array to a Pandas series."
   ]
  },
  {
   "cell_type": "code",
   "execution_count": 10,
   "id": "1c3a89f8",
   "metadata": {},
   "outputs": [
    {
     "data": {
      "text/plain": [
       "array([12, 24, 35, 45, 53, 65])"
      ]
     },
     "execution_count": 10,
     "metadata": {},
     "output_type": "execute_result"
    }
   ],
   "source": [
    "array = np.array([12,24,35,45,53,65])\n",
    "array"
   ]
  },
  {
   "cell_type": "code",
   "execution_count": 12,
   "id": "a800926d",
   "metadata": {},
   "outputs": [
    {
     "data": {
      "text/plain": [
       "0    12\n",
       "1    24\n",
       "2    35\n",
       "3    45\n",
       "4    53\n",
       "5    65\n",
       "dtype: int32"
      ]
     },
     "execution_count": 12,
     "metadata": {},
     "output_type": "execute_result"
    }
   ],
   "source": [
    "Series = pd.Series(array)\n",
    "Series"
   ]
  },
  {
   "cell_type": "markdown",
   "id": "4cbfa451",
   "metadata": {},
   "source": [
    "### Q.5 Create a series then  add some data to an existing Series."
   ]
  },
  {
   "cell_type": "code",
   "execution_count": 13,
   "id": "6ef91bc2",
   "metadata": {},
   "outputs": [
    {
     "name": "stdout",
     "output_type": "stream",
     "text": [
      "0    1\n",
      "1    2\n",
      "2    3\n",
      "3    4\n",
      "4    5\n",
      "0    6\n",
      "1    7\n",
      "2    8\n",
      "3    9\n",
      "dtype: int64\n"
     ]
    }
   ],
   "source": [
    "ex = pd.Series([1,2,3,4,5])\n",
    "ex\n",
    "\n",
    "ex_2 = pd.Series([6,7,8,9])\n",
    "ex_2\n",
    "\n",
    "print(ex.append(ex_2))"
   ]
  },
  {
   "cell_type": "markdown",
   "id": "0a4d43e9",
   "metadata": {},
   "source": [
    "### Q.6  Find the mean and standard deviation of a given Series. "
   ]
  },
  {
   "cell_type": "code",
   "execution_count": 15,
   "id": "ef3230f6",
   "metadata": {},
   "outputs": [
    {
     "name": "stdout",
     "output_type": "stream",
     "text": [
      "9.082951062292475\n",
      "14.5\n"
     ]
    }
   ],
   "source": [
    "Series = pd.Series(range(1,30,3))\n",
    "Series\n",
    "\n",
    "print(Series.std())\n",
    "print(Series.mean())"
   ]
  },
  {
   "cell_type": "markdown",
   "id": "337a608b",
   "metadata": {},
   "source": [
    "### Q.7 Create and display a DataFrame from a specified dictionary data which has the index labels."
   ]
  },
  {
   "cell_type": "code",
   "execution_count": 26,
   "id": "f0bf5701",
   "metadata": {},
   "outputs": [
    {
     "data": {
      "text/html": [
       "<div>\n",
       "<style scoped>\n",
       "    .dataframe tbody tr th:only-of-type {\n",
       "        vertical-align: middle;\n",
       "    }\n",
       "\n",
       "    .dataframe tbody tr th {\n",
       "        vertical-align: top;\n",
       "    }\n",
       "\n",
       "    .dataframe thead th {\n",
       "        text-align: right;\n",
       "    }\n",
       "</style>\n",
       "<table border=\"1\" class=\"dataframe\">\n",
       "  <thead>\n",
       "    <tr style=\"text-align: right;\">\n",
       "      <th></th>\n",
       "      <th>Name</th>\n",
       "      <th>Grade</th>\n",
       "      <th>Country</th>\n",
       "      <th>eligibility</th>\n",
       "    </tr>\n",
       "  </thead>\n",
       "  <tbody>\n",
       "    <tr>\n",
       "      <th>A</th>\n",
       "      <td>smith</td>\n",
       "      <td>9.0</td>\n",
       "      <td>USA</td>\n",
       "      <td>eligible</td>\n",
       "    </tr>\n",
       "    <tr>\n",
       "      <th>B</th>\n",
       "      <td>dona</td>\n",
       "      <td>9.0</td>\n",
       "      <td>USA</td>\n",
       "      <td>eligible</td>\n",
       "    </tr>\n",
       "    <tr>\n",
       "      <th>C</th>\n",
       "      <td>Katherine</td>\n",
       "      <td>8.3</td>\n",
       "      <td>AUS</td>\n",
       "      <td>Not eligible</td>\n",
       "    </tr>\n",
       "    <tr>\n",
       "      <th>D</th>\n",
       "      <td>john</td>\n",
       "      <td>7.3</td>\n",
       "      <td>USA</td>\n",
       "      <td>Not eligible</td>\n",
       "    </tr>\n",
       "    <tr>\n",
       "      <th>E</th>\n",
       "      <td>roman</td>\n",
       "      <td>4.0</td>\n",
       "      <td>AUS</td>\n",
       "      <td>eligible</td>\n",
       "    </tr>\n",
       "    <tr>\n",
       "      <th>F</th>\n",
       "      <td>ross</td>\n",
       "      <td>5.0</td>\n",
       "      <td>USA</td>\n",
       "      <td>eligible</td>\n",
       "    </tr>\n",
       "    <tr>\n",
       "      <th>G</th>\n",
       "      <td>Matthew</td>\n",
       "      <td>6.5</td>\n",
       "      <td>Can</td>\n",
       "      <td>eligible</td>\n",
       "    </tr>\n",
       "    <tr>\n",
       "      <th>H</th>\n",
       "      <td>joey</td>\n",
       "      <td>7.9</td>\n",
       "      <td>AUS</td>\n",
       "      <td>eligible</td>\n",
       "    </tr>\n",
       "    <tr>\n",
       "      <th>I</th>\n",
       "      <td>monica</td>\n",
       "      <td>7.5</td>\n",
       "      <td>Can</td>\n",
       "      <td>Not eligible</td>\n",
       "    </tr>\n",
       "    <tr>\n",
       "      <th>J</th>\n",
       "      <td>rachel</td>\n",
       "      <td>8.5</td>\n",
       "      <td>yes</td>\n",
       "      <td>Not eligible</td>\n",
       "    </tr>\n",
       "  </tbody>\n",
       "</table>\n",
       "</div>"
      ],
      "text/plain": [
       "        Name  Grade Country   eligibility\n",
       "A      smith    9.0     USA      eligible\n",
       "B       dona    9.0     USA      eligible\n",
       "C  Katherine    8.3     AUS  Not eligible\n",
       "D       john    7.3     USA  Not eligible\n",
       "E      roman    4.0     AUS      eligible\n",
       "F       ross    5.0     USA      eligible\n",
       "G    Matthew    6.5     Can      eligible\n",
       "H       joey    7.9     AUS      eligible\n",
       "I     monica    7.5     Can  Not eligible\n",
       "J     rachel    8.5     yes  Not eligible"
      ]
     },
     "execution_count": 26,
     "metadata": {},
     "output_type": "execute_result"
    }
   ],
   "source": [
    "student  =   {'Name': ['smith', 'dona', 'Katherine', 'john', 'roman', 'ross', 'Matthew', 'joey', 'monica', 'rachel'],\n",
    "                'Grade': [9, 9, 8.3, 7.3, 4, 5, 6.5, 7.9, 7.5, 8.5],\n",
    "                'Country': ['USA', 'USA', 'AUS', 'USA', 'AUS', 'USA', 'Can', 'AUS', 'Can', 'yes'],\n",
    "                'eligibility': ['eligible', 'eligible', 'Not eligible', 'Not eligible', 'eligible','eligible', 'eligible', 'eligible', 'Not eligible', 'Not eligible']}\n",
    "student  \n",
    "\n",
    "add_labels = ['A','B','C','D','E','F','G','H','I','J']\n",
    "\n",
    "df = pd.DataFrame(student,index=add_labels)\n",
    "df"
   ]
  },
  {
   "cell_type": "markdown",
   "id": "615a0946",
   "metadata": {},
   "source": [
    "### Q.8 Select the 'name' and 'Grade' columns from Student dataframe (Q.7 dataframe)"
   ]
  },
  {
   "cell_type": "code",
   "execution_count": 29,
   "id": "ea554fcf",
   "metadata": {},
   "outputs": [
    {
     "data": {
      "text/html": [
       "<div>\n",
       "<style scoped>\n",
       "    .dataframe tbody tr th:only-of-type {\n",
       "        vertical-align: middle;\n",
       "    }\n",
       "\n",
       "    .dataframe tbody tr th {\n",
       "        vertical-align: top;\n",
       "    }\n",
       "\n",
       "    .dataframe thead th {\n",
       "        text-align: right;\n",
       "    }\n",
       "</style>\n",
       "<table border=\"1\" class=\"dataframe\">\n",
       "  <thead>\n",
       "    <tr style=\"text-align: right;\">\n",
       "      <th></th>\n",
       "      <th>Name</th>\n",
       "      <th>Grade</th>\n",
       "    </tr>\n",
       "  </thead>\n",
       "  <tbody>\n",
       "    <tr>\n",
       "      <th>A</th>\n",
       "      <td>smith</td>\n",
       "      <td>9.0</td>\n",
       "    </tr>\n",
       "    <tr>\n",
       "      <th>B</th>\n",
       "      <td>dona</td>\n",
       "      <td>9.0</td>\n",
       "    </tr>\n",
       "    <tr>\n",
       "      <th>C</th>\n",
       "      <td>Katherine</td>\n",
       "      <td>8.3</td>\n",
       "    </tr>\n",
       "    <tr>\n",
       "      <th>D</th>\n",
       "      <td>john</td>\n",
       "      <td>7.3</td>\n",
       "    </tr>\n",
       "    <tr>\n",
       "      <th>E</th>\n",
       "      <td>roman</td>\n",
       "      <td>4.0</td>\n",
       "    </tr>\n",
       "    <tr>\n",
       "      <th>F</th>\n",
       "      <td>ross</td>\n",
       "      <td>5.0</td>\n",
       "    </tr>\n",
       "    <tr>\n",
       "      <th>G</th>\n",
       "      <td>Matthew</td>\n",
       "      <td>6.5</td>\n",
       "    </tr>\n",
       "    <tr>\n",
       "      <th>H</th>\n",
       "      <td>joey</td>\n",
       "      <td>7.9</td>\n",
       "    </tr>\n",
       "    <tr>\n",
       "      <th>I</th>\n",
       "      <td>monica</td>\n",
       "      <td>7.5</td>\n",
       "    </tr>\n",
       "    <tr>\n",
       "      <th>J</th>\n",
       "      <td>rachel</td>\n",
       "      <td>8.5</td>\n",
       "    </tr>\n",
       "  </tbody>\n",
       "</table>\n",
       "</div>"
      ],
      "text/plain": [
       "        Name  Grade\n",
       "A      smith    9.0\n",
       "B       dona    9.0\n",
       "C  Katherine    8.3\n",
       "D       john    7.3\n",
       "E      roman    4.0\n",
       "F       ross    5.0\n",
       "G    Matthew    6.5\n",
       "H       joey    7.9\n",
       "I     monica    7.5\n",
       "J     rachel    8.5"
      ]
     },
     "execution_count": 29,
     "metadata": {},
     "output_type": "execute_result"
    }
   ],
   "source": [
    "df[['Name','Grade']]"
   ]
  },
  {
   "cell_type": "markdown",
   "id": "74bfe485",
   "metadata": {},
   "source": [
    "### Q.9 Get the first 3 rows from Student dataframe (Q.7 dataframe)"
   ]
  },
  {
   "cell_type": "code",
   "execution_count": 30,
   "id": "42cabdc5",
   "metadata": {},
   "outputs": [
    {
     "data": {
      "text/html": [
       "<div>\n",
       "<style scoped>\n",
       "    .dataframe tbody tr th:only-of-type {\n",
       "        vertical-align: middle;\n",
       "    }\n",
       "\n",
       "    .dataframe tbody tr th {\n",
       "        vertical-align: top;\n",
       "    }\n",
       "\n",
       "    .dataframe thead th {\n",
       "        text-align: right;\n",
       "    }\n",
       "</style>\n",
       "<table border=\"1\" class=\"dataframe\">\n",
       "  <thead>\n",
       "    <tr style=\"text-align: right;\">\n",
       "      <th></th>\n",
       "      <th>Name</th>\n",
       "      <th>Grade</th>\n",
       "      <th>Country</th>\n",
       "      <th>eligibility</th>\n",
       "    </tr>\n",
       "  </thead>\n",
       "  <tbody>\n",
       "    <tr>\n",
       "      <th>A</th>\n",
       "      <td>smith</td>\n",
       "      <td>9.0</td>\n",
       "      <td>USA</td>\n",
       "      <td>eligible</td>\n",
       "    </tr>\n",
       "    <tr>\n",
       "      <th>B</th>\n",
       "      <td>dona</td>\n",
       "      <td>9.0</td>\n",
       "      <td>USA</td>\n",
       "      <td>eligible</td>\n",
       "    </tr>\n",
       "    <tr>\n",
       "      <th>C</th>\n",
       "      <td>Katherine</td>\n",
       "      <td>8.3</td>\n",
       "      <td>AUS</td>\n",
       "      <td>Not eligible</td>\n",
       "    </tr>\n",
       "    <tr>\n",
       "      <th>D</th>\n",
       "      <td>john</td>\n",
       "      <td>7.3</td>\n",
       "      <td>USA</td>\n",
       "      <td>Not eligible</td>\n",
       "    </tr>\n",
       "  </tbody>\n",
       "</table>\n",
       "</div>"
      ],
      "text/plain": [
       "        Name  Grade Country   eligibility\n",
       "A      smith    9.0     USA      eligible\n",
       "B       dona    9.0     USA      eligible\n",
       "C  Katherine    8.3     AUS  Not eligible\n",
       "D       john    7.3     USA  Not eligible"
      ]
     },
     "execution_count": 30,
     "metadata": {},
     "output_type": "execute_result"
    }
   ],
   "source": [
    "df.iloc[0:4,:]"
   ]
  },
  {
   "cell_type": "markdown",
   "id": "5971c294",
   "metadata": {},
   "source": [
    "### Q.10 Select the rows where the number of Grade is greater than 8 from Student dataframe (Q.7 dataframe)"
   ]
  },
  {
   "cell_type": "code",
   "execution_count": 33,
   "id": "6046e77d",
   "metadata": {},
   "outputs": [
    {
     "data": {
      "text/html": [
       "<div>\n",
       "<style scoped>\n",
       "    .dataframe tbody tr th:only-of-type {\n",
       "        vertical-align: middle;\n",
       "    }\n",
       "\n",
       "    .dataframe tbody tr th {\n",
       "        vertical-align: top;\n",
       "    }\n",
       "\n",
       "    .dataframe thead th {\n",
       "        text-align: right;\n",
       "    }\n",
       "</style>\n",
       "<table border=\"1\" class=\"dataframe\">\n",
       "  <thead>\n",
       "    <tr style=\"text-align: right;\">\n",
       "      <th></th>\n",
       "      <th>Name</th>\n",
       "      <th>Grade</th>\n",
       "      <th>Country</th>\n",
       "      <th>eligibility</th>\n",
       "    </tr>\n",
       "  </thead>\n",
       "  <tbody>\n",
       "    <tr>\n",
       "      <th>A</th>\n",
       "      <td>smith</td>\n",
       "      <td>9.0</td>\n",
       "      <td>USA</td>\n",
       "      <td>eligible</td>\n",
       "    </tr>\n",
       "    <tr>\n",
       "      <th>B</th>\n",
       "      <td>dona</td>\n",
       "      <td>9.0</td>\n",
       "      <td>USA</td>\n",
       "      <td>eligible</td>\n",
       "    </tr>\n",
       "    <tr>\n",
       "      <th>C</th>\n",
       "      <td>Katherine</td>\n",
       "      <td>8.3</td>\n",
       "      <td>AUS</td>\n",
       "      <td>Not eligible</td>\n",
       "    </tr>\n",
       "    <tr>\n",
       "      <th>J</th>\n",
       "      <td>rachel</td>\n",
       "      <td>8.5</td>\n",
       "      <td>yes</td>\n",
       "      <td>Not eligible</td>\n",
       "    </tr>\n",
       "  </tbody>\n",
       "</table>\n",
       "</div>"
      ],
      "text/plain": [
       "        Name  Grade Country   eligibility\n",
       "A      smith    9.0     USA      eligible\n",
       "B       dona    9.0     USA      eligible\n",
       "C  Katherine    8.3     AUS  Not eligible\n",
       "J     rachel    8.5     yes  Not eligible"
      ]
     },
     "execution_count": 33,
     "metadata": {},
     "output_type": "execute_result"
    }
   ],
   "source": [
    "df[df.Grade > 8]"
   ]
  },
  {
   "cell_type": "markdown",
   "id": "0f9a9561",
   "metadata": {},
   "source": [
    "### Q.11 Change the Grade in row D to 8.6. from Student dataframe (Q.7 dataframe)"
   ]
  },
  {
   "cell_type": "code",
   "execution_count": 35,
   "id": "427dd10f",
   "metadata": {},
   "outputs": [
    {
     "data": {
      "text/html": [
       "<div>\n",
       "<style scoped>\n",
       "    .dataframe tbody tr th:only-of-type {\n",
       "        vertical-align: middle;\n",
       "    }\n",
       "\n",
       "    .dataframe tbody tr th {\n",
       "        vertical-align: top;\n",
       "    }\n",
       "\n",
       "    .dataframe thead th {\n",
       "        text-align: right;\n",
       "    }\n",
       "</style>\n",
       "<table border=\"1\" class=\"dataframe\">\n",
       "  <thead>\n",
       "    <tr style=\"text-align: right;\">\n",
       "      <th></th>\n",
       "      <th>Name</th>\n",
       "      <th>Grade</th>\n",
       "      <th>Country</th>\n",
       "      <th>eligibility</th>\n",
       "    </tr>\n",
       "  </thead>\n",
       "  <tbody>\n",
       "    <tr>\n",
       "      <th>A</th>\n",
       "      <td>smith</td>\n",
       "      <td>9.0</td>\n",
       "      <td>USA</td>\n",
       "      <td>eligible</td>\n",
       "    </tr>\n",
       "    <tr>\n",
       "      <th>B</th>\n",
       "      <td>dona</td>\n",
       "      <td>9.0</td>\n",
       "      <td>USA</td>\n",
       "      <td>eligible</td>\n",
       "    </tr>\n",
       "    <tr>\n",
       "      <th>C</th>\n",
       "      <td>Katherine</td>\n",
       "      <td>8.3</td>\n",
       "      <td>AUS</td>\n",
       "      <td>Not eligible</td>\n",
       "    </tr>\n",
       "    <tr>\n",
       "      <th>D</th>\n",
       "      <td>john</td>\n",
       "      <td>8.6</td>\n",
       "      <td>USA</td>\n",
       "      <td>Not eligible</td>\n",
       "    </tr>\n",
       "    <tr>\n",
       "      <th>E</th>\n",
       "      <td>roman</td>\n",
       "      <td>4.0</td>\n",
       "      <td>AUS</td>\n",
       "      <td>eligible</td>\n",
       "    </tr>\n",
       "    <tr>\n",
       "      <th>F</th>\n",
       "      <td>ross</td>\n",
       "      <td>5.0</td>\n",
       "      <td>USA</td>\n",
       "      <td>eligible</td>\n",
       "    </tr>\n",
       "    <tr>\n",
       "      <th>G</th>\n",
       "      <td>Matthew</td>\n",
       "      <td>6.5</td>\n",
       "      <td>Can</td>\n",
       "      <td>eligible</td>\n",
       "    </tr>\n",
       "    <tr>\n",
       "      <th>H</th>\n",
       "      <td>joey</td>\n",
       "      <td>7.9</td>\n",
       "      <td>AUS</td>\n",
       "      <td>eligible</td>\n",
       "    </tr>\n",
       "    <tr>\n",
       "      <th>I</th>\n",
       "      <td>monica</td>\n",
       "      <td>7.5</td>\n",
       "      <td>Can</td>\n",
       "      <td>Not eligible</td>\n",
       "    </tr>\n",
       "    <tr>\n",
       "      <th>J</th>\n",
       "      <td>rachel</td>\n",
       "      <td>8.5</td>\n",
       "      <td>yes</td>\n",
       "      <td>Not eligible</td>\n",
       "    </tr>\n",
       "  </tbody>\n",
       "</table>\n",
       "</div>"
      ],
      "text/plain": [
       "        Name  Grade Country   eligibility\n",
       "A      smith    9.0     USA      eligible\n",
       "B       dona    9.0     USA      eligible\n",
       "C  Katherine    8.3     AUS  Not eligible\n",
       "D       john    8.6     USA  Not eligible\n",
       "E      roman    4.0     AUS      eligible\n",
       "F       ross    5.0     USA      eligible\n",
       "G    Matthew    6.5     Can      eligible\n",
       "H       joey    7.9     AUS      eligible\n",
       "I     monica    7.5     Can  Not eligible\n",
       "J     rachel    8.5     yes  Not eligible"
      ]
     },
     "execution_count": 35,
     "metadata": {},
     "output_type": "execute_result"
    }
   ],
   "source": [
    "df.loc['D','Grade'] = 8.6\n",
    "df"
   ]
  },
  {
   "cell_type": "markdown",
   "id": "3195abd0",
   "metadata": {},
   "source": [
    "### Q.12  Calculate the sum of Grade by the students. from Student dataframe (Q.7 dataframe)"
   ]
  },
  {
   "cell_type": "code",
   "execution_count": 36,
   "id": "6506e2e0",
   "metadata": {},
   "outputs": [
    {
     "data": {
      "text/plain": [
       "74.3"
      ]
     },
     "execution_count": 36,
     "metadata": {},
     "output_type": "execute_result"
    }
   ],
   "source": [
    "df.Grade.sum()"
   ]
  },
  {
   "cell_type": "markdown",
   "id": "af690ef9",
   "metadata": {},
   "source": [
    "### Q.13 Calculate the mean Grade for each different student in data frame."
   ]
  },
  {
   "cell_type": "code",
   "execution_count": 45,
   "id": "1e34f8db",
   "metadata": {},
   "outputs": [
    {
     "data": {
      "text/plain": [
       "7.43"
      ]
     },
     "execution_count": 45,
     "metadata": {},
     "output_type": "execute_result"
    }
   ],
   "source": [
    "df.Grade.mean()\n"
   ]
  },
  {
   "cell_type": "markdown",
   "id": "7be404bb",
   "metadata": {},
   "source": [
    "### Q.14  Sort the data frame first by 'Name' in descending order, then by 'Grade' in ascending order."
   ]
  },
  {
   "cell_type": "code",
   "execution_count": 46,
   "id": "86a60575",
   "metadata": {},
   "outputs": [
    {
     "data": {
      "text/html": [
       "<div>\n",
       "<style scoped>\n",
       "    .dataframe tbody tr th:only-of-type {\n",
       "        vertical-align: middle;\n",
       "    }\n",
       "\n",
       "    .dataframe tbody tr th {\n",
       "        vertical-align: top;\n",
       "    }\n",
       "\n",
       "    .dataframe thead th {\n",
       "        text-align: right;\n",
       "    }\n",
       "</style>\n",
       "<table border=\"1\" class=\"dataframe\">\n",
       "  <thead>\n",
       "    <tr style=\"text-align: right;\">\n",
       "      <th></th>\n",
       "      <th>Name</th>\n",
       "      <th>Grade</th>\n",
       "      <th>Country</th>\n",
       "      <th>eligibility</th>\n",
       "    </tr>\n",
       "  </thead>\n",
       "  <tbody>\n",
       "    <tr>\n",
       "      <th>A</th>\n",
       "      <td>smith</td>\n",
       "      <td>9.0</td>\n",
       "      <td>USA</td>\n",
       "      <td>eligible</td>\n",
       "    </tr>\n",
       "    <tr>\n",
       "      <th>F</th>\n",
       "      <td>ross</td>\n",
       "      <td>5.0</td>\n",
       "      <td>USA</td>\n",
       "      <td>eligible</td>\n",
       "    </tr>\n",
       "    <tr>\n",
       "      <th>E</th>\n",
       "      <td>roman</td>\n",
       "      <td>4.0</td>\n",
       "      <td>AUS</td>\n",
       "      <td>eligible</td>\n",
       "    </tr>\n",
       "    <tr>\n",
       "      <th>J</th>\n",
       "      <td>rachel</td>\n",
       "      <td>8.5</td>\n",
       "      <td>yes</td>\n",
       "      <td>Not eligible</td>\n",
       "    </tr>\n",
       "    <tr>\n",
       "      <th>I</th>\n",
       "      <td>monica</td>\n",
       "      <td>7.5</td>\n",
       "      <td>Can</td>\n",
       "      <td>Not eligible</td>\n",
       "    </tr>\n",
       "    <tr>\n",
       "      <th>D</th>\n",
       "      <td>john</td>\n",
       "      <td>8.6</td>\n",
       "      <td>USA</td>\n",
       "      <td>Not eligible</td>\n",
       "    </tr>\n",
       "    <tr>\n",
       "      <th>H</th>\n",
       "      <td>joey</td>\n",
       "      <td>7.9</td>\n",
       "      <td>AUS</td>\n",
       "      <td>eligible</td>\n",
       "    </tr>\n",
       "    <tr>\n",
       "      <th>B</th>\n",
       "      <td>dona</td>\n",
       "      <td>9.0</td>\n",
       "      <td>USA</td>\n",
       "      <td>eligible</td>\n",
       "    </tr>\n",
       "    <tr>\n",
       "      <th>G</th>\n",
       "      <td>Matthew</td>\n",
       "      <td>6.5</td>\n",
       "      <td>Can</td>\n",
       "      <td>eligible</td>\n",
       "    </tr>\n",
       "    <tr>\n",
       "      <th>C</th>\n",
       "      <td>Katherine</td>\n",
       "      <td>8.3</td>\n",
       "      <td>AUS</td>\n",
       "      <td>Not eligible</td>\n",
       "    </tr>\n",
       "  </tbody>\n",
       "</table>\n",
       "</div>"
      ],
      "text/plain": [
       "        Name  Grade Country   eligibility\n",
       "A      smith    9.0     USA      eligible\n",
       "F       ross    5.0     USA      eligible\n",
       "E      roman    4.0     AUS      eligible\n",
       "J     rachel    8.5     yes  Not eligible\n",
       "I     monica    7.5     Can  Not eligible\n",
       "D       john    8.6     USA  Not eligible\n",
       "H       joey    7.9     AUS      eligible\n",
       "B       dona    9.0     USA      eligible\n",
       "G    Matthew    6.5     Can      eligible\n",
       "C  Katherine    8.3     AUS  Not eligible"
      ]
     },
     "execution_count": 46,
     "metadata": {},
     "output_type": "execute_result"
    }
   ],
   "source": [
    "df.sort_values(by = [\"Name\",\"Grade\"],ascending=[False,True])"
   ]
  },
  {
   "cell_type": "markdown",
   "id": "6c1fc569",
   "metadata": {},
   "source": [
    "### Q.15 Replace the eligibility column contains the values 'eligibility' and 'Not eligible' with YES and NO."
   ]
  },
  {
   "cell_type": "code",
   "execution_count": 53,
   "id": "10e7f881",
   "metadata": {},
   "outputs": [
    {
     "data": {
      "text/html": [
       "<div>\n",
       "<style scoped>\n",
       "    .dataframe tbody tr th:only-of-type {\n",
       "        vertical-align: middle;\n",
       "    }\n",
       "\n",
       "    .dataframe tbody tr th {\n",
       "        vertical-align: top;\n",
       "    }\n",
       "\n",
       "    .dataframe thead th {\n",
       "        text-align: right;\n",
       "    }\n",
       "</style>\n",
       "<table border=\"1\" class=\"dataframe\">\n",
       "  <thead>\n",
       "    <tr style=\"text-align: right;\">\n",
       "      <th></th>\n",
       "      <th>Name</th>\n",
       "      <th>Grade</th>\n",
       "      <th>Country</th>\n",
       "      <th>eligibility</th>\n",
       "    </tr>\n",
       "  </thead>\n",
       "  <tbody>\n",
       "    <tr>\n",
       "      <th>A</th>\n",
       "      <td>smith</td>\n",
       "      <td>9.0</td>\n",
       "      <td>USA</td>\n",
       "      <td>Yes</td>\n",
       "    </tr>\n",
       "    <tr>\n",
       "      <th>B</th>\n",
       "      <td>dona</td>\n",
       "      <td>9.0</td>\n",
       "      <td>USA</td>\n",
       "      <td>Yes</td>\n",
       "    </tr>\n",
       "    <tr>\n",
       "      <th>C</th>\n",
       "      <td>Katherine</td>\n",
       "      <td>8.3</td>\n",
       "      <td>AUS</td>\n",
       "      <td>No</td>\n",
       "    </tr>\n",
       "    <tr>\n",
       "      <th>D</th>\n",
       "      <td>john</td>\n",
       "      <td>8.6</td>\n",
       "      <td>USA</td>\n",
       "      <td>No</td>\n",
       "    </tr>\n",
       "    <tr>\n",
       "      <th>E</th>\n",
       "      <td>roman</td>\n",
       "      <td>4.0</td>\n",
       "      <td>AUS</td>\n",
       "      <td>Yes</td>\n",
       "    </tr>\n",
       "    <tr>\n",
       "      <th>F</th>\n",
       "      <td>ross</td>\n",
       "      <td>5.0</td>\n",
       "      <td>USA</td>\n",
       "      <td>Yes</td>\n",
       "    </tr>\n",
       "    <tr>\n",
       "      <th>G</th>\n",
       "      <td>Matthew</td>\n",
       "      <td>6.5</td>\n",
       "      <td>Can</td>\n",
       "      <td>Yes</td>\n",
       "    </tr>\n",
       "    <tr>\n",
       "      <th>H</th>\n",
       "      <td>joey</td>\n",
       "      <td>7.9</td>\n",
       "      <td>AUS</td>\n",
       "      <td>Yes</td>\n",
       "    </tr>\n",
       "    <tr>\n",
       "      <th>I</th>\n",
       "      <td>monica</td>\n",
       "      <td>7.5</td>\n",
       "      <td>Can</td>\n",
       "      <td>No</td>\n",
       "    </tr>\n",
       "    <tr>\n",
       "      <th>J</th>\n",
       "      <td>rachel</td>\n",
       "      <td>8.5</td>\n",
       "      <td>yes</td>\n",
       "      <td>No</td>\n",
       "    </tr>\n",
       "  </tbody>\n",
       "</table>\n",
       "</div>"
      ],
      "text/plain": [
       "        Name  Grade Country eligibility\n",
       "A      smith    9.0     USA         Yes\n",
       "B       dona    9.0     USA         Yes\n",
       "C  Katherine    8.3     AUS          No\n",
       "D       john    8.6     USA          No\n",
       "E      roman    4.0     AUS         Yes\n",
       "F       ross    5.0     USA         Yes\n",
       "G    Matthew    6.5     Can         Yes\n",
       "H       joey    7.9     AUS         Yes\n",
       "I     monica    7.5     Can          No\n",
       "J     rachel    8.5     yes          No"
      ]
     },
     "execution_count": 53,
     "metadata": {},
     "output_type": "execute_result"
    }
   ],
   "source": [
    "df.eligibility = df.eligibility.replace(to_replace={'eligible':'Yes','Not eligible':'No'})\n",
    "df"
   ]
  },
  {
   "cell_type": "markdown",
   "id": "84da564d",
   "metadata": {},
   "source": [
    "### Q.16 Join the two given dataframes along rows and assign all data."
   ]
  },
  {
   "cell_type": "code",
   "execution_count": 58,
   "id": "e8100a6a",
   "metadata": {},
   "outputs": [
    {
     "data": {
      "text/html": [
       "<div>\n",
       "<style scoped>\n",
       "    .dataframe tbody tr th:only-of-type {\n",
       "        vertical-align: middle;\n",
       "    }\n",
       "\n",
       "    .dataframe tbody tr th {\n",
       "        vertical-align: top;\n",
       "    }\n",
       "\n",
       "    .dataframe thead th {\n",
       "        text-align: right;\n",
       "    }\n",
       "</style>\n",
       "<table border=\"1\" class=\"dataframe\">\n",
       "  <thead>\n",
       "    <tr style=\"text-align: right;\">\n",
       "      <th></th>\n",
       "      <th>emp_id</th>\n",
       "      <th>name</th>\n",
       "      <th>Salary</th>\n",
       "    </tr>\n",
       "  </thead>\n",
       "  <tbody>\n",
       "    <tr>\n",
       "      <th>0</th>\n",
       "      <td>1</td>\n",
       "      <td>Same</td>\n",
       "      <td>13222</td>\n",
       "    </tr>\n",
       "    <tr>\n",
       "      <th>1</th>\n",
       "      <td>2</td>\n",
       "      <td>Ross</td>\n",
       "      <td>10300</td>\n",
       "    </tr>\n",
       "    <tr>\n",
       "      <th>2</th>\n",
       "      <td>3</td>\n",
       "      <td>Mike</td>\n",
       "      <td>19000</td>\n",
       "    </tr>\n",
       "    <tr>\n",
       "      <th>3</th>\n",
       "      <td>4</td>\n",
       "      <td>Roman</td>\n",
       "      <td>22332</td>\n",
       "    </tr>\n",
       "    <tr>\n",
       "      <th>4</th>\n",
       "      <td>5</td>\n",
       "      <td>Smith</td>\n",
       "      <td>19900</td>\n",
       "    </tr>\n",
       "    <tr>\n",
       "      <th>0</th>\n",
       "      <td>6</td>\n",
       "      <td>Scarlette</td>\n",
       "      <td>12201</td>\n",
       "    </tr>\n",
       "    <tr>\n",
       "      <th>1</th>\n",
       "      <td>7</td>\n",
       "      <td>Williamson</td>\n",
       "      <td>23200</td>\n",
       "    </tr>\n",
       "    <tr>\n",
       "      <th>2</th>\n",
       "      <td>8</td>\n",
       "      <td>Morse</td>\n",
       "      <td>13198</td>\n",
       "    </tr>\n",
       "    <tr>\n",
       "      <th>3</th>\n",
       "      <td>9</td>\n",
       "      <td>Kaiser</td>\n",
       "      <td>11219</td>\n",
       "    </tr>\n",
       "    <tr>\n",
       "      <th>4</th>\n",
       "      <td>10</td>\n",
       "      <td>Preston</td>\n",
       "      <td>10201</td>\n",
       "    </tr>\n",
       "  </tbody>\n",
       "</table>\n",
       "</div>"
      ],
      "text/plain": [
       "   emp_id        name  Salary\n",
       "0       1        Same   13222\n",
       "1       2        Ross   10300\n",
       "2       3        Mike   19000\n",
       "3       4       Roman   22332\n",
       "4       5       Smith   19900\n",
       "0       6   Scarlette   12201\n",
       "1       7  Williamson   23200\n",
       "2       8       Morse   13198\n",
       "3       9      Kaiser   11219\n",
       "4      10     Preston   10201"
      ]
     },
     "execution_count": 58,
     "metadata": {},
     "output_type": "execute_result"
    }
   ],
   "source": [
    "emp_1 = pd.DataFrame({\n",
    "        'emp_id': [1, 2, 3, 4, 5],\n",
    "         'name': ['Same','Ross', 'Mike','Roman','Smith',], \n",
    "        'Salary': [13222, 10300, 19000, 22332, 19900]})\n",
    "\n",
    "emp_2 = pd.DataFrame({\n",
    "        'emp_id': [6,7,8,9,10],\n",
    "        'name': ['Scarlette', 'Williamson', 'Morse', 'Kaiser', 'Preston'], \n",
    "        'Salary': [12201, 23200, 13198, 11219, 10201]})\n",
    "\n",
    "total_emp = pd.concat([emp_1,emp_2])\n",
    "total_emp"
   ]
  },
  {
   "cell_type": "markdown",
   "id": "b6ec86a2",
   "metadata": {},
   "source": [
    "### Q.17 Write a Pandas program to append given rows to an existing DataFrame emp_1 and display the combined data."
   ]
  },
  {
   "cell_type": "code",
   "execution_count": 62,
   "id": "a740c49f",
   "metadata": {},
   "outputs": [
    {
     "data": {
      "text/html": [
       "<div>\n",
       "<style scoped>\n",
       "    .dataframe tbody tr th:only-of-type {\n",
       "        vertical-align: middle;\n",
       "    }\n",
       "\n",
       "    .dataframe tbody tr th {\n",
       "        vertical-align: top;\n",
       "    }\n",
       "\n",
       "    .dataframe thead th {\n",
       "        text-align: right;\n",
       "    }\n",
       "</style>\n",
       "<table border=\"1\" class=\"dataframe\">\n",
       "  <thead>\n",
       "    <tr style=\"text-align: right;\">\n",
       "      <th></th>\n",
       "      <th>emp_id</th>\n",
       "      <th>name</th>\n",
       "      <th>Salary</th>\n",
       "    </tr>\n",
       "  </thead>\n",
       "  <tbody>\n",
       "    <tr>\n",
       "      <th>0</th>\n",
       "      <td>1</td>\n",
       "      <td>Same</td>\n",
       "      <td>13222</td>\n",
       "    </tr>\n",
       "    <tr>\n",
       "      <th>1</th>\n",
       "      <td>2</td>\n",
       "      <td>Ross</td>\n",
       "      <td>10300</td>\n",
       "    </tr>\n",
       "    <tr>\n",
       "      <th>2</th>\n",
       "      <td>3</td>\n",
       "      <td>Mike</td>\n",
       "      <td>19000</td>\n",
       "    </tr>\n",
       "    <tr>\n",
       "      <th>3</th>\n",
       "      <td>4</td>\n",
       "      <td>Roman</td>\n",
       "      <td>22332</td>\n",
       "    </tr>\n",
       "    <tr>\n",
       "      <th>4</th>\n",
       "      <td>5</td>\n",
       "      <td>Smith</td>\n",
       "      <td>19900</td>\n",
       "    </tr>\n",
       "    <tr>\n",
       "      <th>5</th>\n",
       "      <td>12</td>\n",
       "      <td>Mike</td>\n",
       "      <td>349985</td>\n",
       "    </tr>\n",
       "  </tbody>\n",
       "</table>\n",
       "</div>"
      ],
      "text/plain": [
       "   emp_id   name  Salary\n",
       "0       1   Same   13222\n",
       "1       2   Ross   10300\n",
       "2       3   Mike   19000\n",
       "3       4  Roman   22332\n",
       "4       5  Smith   19900\n",
       "5      12   Mike  349985"
      ]
     },
     "execution_count": 62,
     "metadata": {},
     "output_type": "execute_result"
    }
   ],
   "source": [
    "series = pd.Series([12,'Mike',349985],index=['emp_id', 'name', 'Salary'])\n",
    "combined_data = emp_1.append(series,ignore_index=True)\n",
    "combined_data"
   ]
  },
  {
   "cell_type": "markdown",
   "id": "a3465669",
   "metadata": {},
   "source": [
    "### Q.18 Write a Pandas program to append a list of dictioneries  existing DataFrame Emp_2 and display the combined data."
   ]
  },
  {
   "cell_type": "code",
   "execution_count": 63,
   "id": "8d08c15a",
   "metadata": {},
   "outputs": [
    {
     "data": {
      "text/plain": [
       "[{'emp_id': 11, 'name': 'Luis', 'Salary': 22356}]"
      ]
     },
     "execution_count": 63,
     "metadata": {},
     "output_type": "execute_result"
    }
   ],
   "source": [
    "dictionary = [{'emp_id':11,'name':'Luis','Salary':22356}]\n",
    "dictionary"
   ]
  },
  {
   "cell_type": "code",
   "execution_count": 64,
   "id": "35f69e57",
   "metadata": {},
   "outputs": [
    {
     "data": {
      "text/html": [
       "<div>\n",
       "<style scoped>\n",
       "    .dataframe tbody tr th:only-of-type {\n",
       "        vertical-align: middle;\n",
       "    }\n",
       "\n",
       "    .dataframe tbody tr th {\n",
       "        vertical-align: top;\n",
       "    }\n",
       "\n",
       "    .dataframe thead th {\n",
       "        text-align: right;\n",
       "    }\n",
       "</style>\n",
       "<table border=\"1\" class=\"dataframe\">\n",
       "  <thead>\n",
       "    <tr style=\"text-align: right;\">\n",
       "      <th></th>\n",
       "      <th>emp_id</th>\n",
       "      <th>name</th>\n",
       "      <th>Salary</th>\n",
       "    </tr>\n",
       "  </thead>\n",
       "  <tbody>\n",
       "    <tr>\n",
       "      <th>0</th>\n",
       "      <td>6</td>\n",
       "      <td>Scarlette</td>\n",
       "      <td>12201</td>\n",
       "    </tr>\n",
       "    <tr>\n",
       "      <th>1</th>\n",
       "      <td>7</td>\n",
       "      <td>Williamson</td>\n",
       "      <td>23200</td>\n",
       "    </tr>\n",
       "    <tr>\n",
       "      <th>2</th>\n",
       "      <td>8</td>\n",
       "      <td>Morse</td>\n",
       "      <td>13198</td>\n",
       "    </tr>\n",
       "    <tr>\n",
       "      <th>3</th>\n",
       "      <td>9</td>\n",
       "      <td>Kaiser</td>\n",
       "      <td>11219</td>\n",
       "    </tr>\n",
       "    <tr>\n",
       "      <th>4</th>\n",
       "      <td>10</td>\n",
       "      <td>Preston</td>\n",
       "      <td>10201</td>\n",
       "    </tr>\n",
       "    <tr>\n",
       "      <th>5</th>\n",
       "      <td>11</td>\n",
       "      <td>Luis</td>\n",
       "      <td>22356</td>\n",
       "    </tr>\n",
       "  </tbody>\n",
       "</table>\n",
       "</div>"
      ],
      "text/plain": [
       "   emp_id        name  Salary\n",
       "0       6   Scarlette   12201\n",
       "1       7  Williamson   23200\n",
       "2       8       Morse   13198\n",
       "3       9      Kaiser   11219\n",
       "4      10     Preston   10201\n",
       "5      11        Luis   22356"
      ]
     },
     "execution_count": 64,
     "metadata": {},
     "output_type": "execute_result"
    }
   ],
   "source": [
    "combined_data = emp_2.append(dictionary,ignore_index=True)\n",
    "combined_data"
   ]
  },
  {
   "cell_type": "markdown",
   "id": "8d4aa11f",
   "metadata": {},
   "source": [
    "### Q.19 Write a Pandas program to join the two dataframes using the common column of both dataframes."
   ]
  },
  {
   "cell_type": "code",
   "execution_count": 65,
   "id": "f0a602be",
   "metadata": {},
   "outputs": [],
   "source": [
    "emp_1 = pd.DataFrame({\n",
    "        'emp_id': [1, 2, 3, 4, 5],\n",
    "         'name': ['Same','Ross', 'Mike','Roman','Smith',], \n",
    "        'Salary': [13222, 10300, 19000, 22332, 19900]})\n",
    "\n",
    "emp_2 = pd.DataFrame({\n",
    "        'emp_id': [4,5,8,9,10],\n",
    "        'name': ['Scarlette', 'Williamson', 'Morse', 'Kaiser', 'Preston'], \n",
    "        'Salary': [12201, 23200, 13198, 11219, 10201]})"
   ]
  },
  {
   "cell_type": "code",
   "execution_count": 67,
   "id": "44312740",
   "metadata": {},
   "outputs": [
    {
     "data": {
      "text/html": [
       "<div>\n",
       "<style scoped>\n",
       "    .dataframe tbody tr th:only-of-type {\n",
       "        vertical-align: middle;\n",
       "    }\n",
       "\n",
       "    .dataframe tbody tr th {\n",
       "        vertical-align: top;\n",
       "    }\n",
       "\n",
       "    .dataframe thead th {\n",
       "        text-align: right;\n",
       "    }\n",
       "</style>\n",
       "<table border=\"1\" class=\"dataframe\">\n",
       "  <thead>\n",
       "    <tr style=\"text-align: right;\">\n",
       "      <th></th>\n",
       "      <th>emp_id</th>\n",
       "      <th>name</th>\n",
       "      <th>Salary</th>\n",
       "    </tr>\n",
       "  </thead>\n",
       "  <tbody>\n",
       "    <tr>\n",
       "      <th>0</th>\n",
       "      <td>1</td>\n",
       "      <td>Same</td>\n",
       "      <td>13222</td>\n",
       "    </tr>\n",
       "    <tr>\n",
       "      <th>1</th>\n",
       "      <td>2</td>\n",
       "      <td>Ross</td>\n",
       "      <td>10300</td>\n",
       "    </tr>\n",
       "    <tr>\n",
       "      <th>2</th>\n",
       "      <td>3</td>\n",
       "      <td>Mike</td>\n",
       "      <td>19000</td>\n",
       "    </tr>\n",
       "    <tr>\n",
       "      <th>3</th>\n",
       "      <td>4</td>\n",
       "      <td>Roman</td>\n",
       "      <td>22332</td>\n",
       "    </tr>\n",
       "    <tr>\n",
       "      <th>4</th>\n",
       "      <td>5</td>\n",
       "      <td>Smith</td>\n",
       "      <td>19900</td>\n",
       "    </tr>\n",
       "  </tbody>\n",
       "</table>\n",
       "</div>"
      ],
      "text/plain": [
       "   emp_id   name  Salary\n",
       "0       1   Same   13222\n",
       "1       2   Ross   10300\n",
       "2       3   Mike   19000\n",
       "3       4  Roman   22332\n",
       "4       5  Smith   19900"
      ]
     },
     "metadata": {},
     "output_type": "display_data"
    },
    {
     "data": {
      "text/html": [
       "<div>\n",
       "<style scoped>\n",
       "    .dataframe tbody tr th:only-of-type {\n",
       "        vertical-align: middle;\n",
       "    }\n",
       "\n",
       "    .dataframe tbody tr th {\n",
       "        vertical-align: top;\n",
       "    }\n",
       "\n",
       "    .dataframe thead th {\n",
       "        text-align: right;\n",
       "    }\n",
       "</style>\n",
       "<table border=\"1\" class=\"dataframe\">\n",
       "  <thead>\n",
       "    <tr style=\"text-align: right;\">\n",
       "      <th></th>\n",
       "      <th>emp_id</th>\n",
       "      <th>name</th>\n",
       "      <th>Salary</th>\n",
       "    </tr>\n",
       "  </thead>\n",
       "  <tbody>\n",
       "    <tr>\n",
       "      <th>0</th>\n",
       "      <td>4</td>\n",
       "      <td>Scarlette</td>\n",
       "      <td>12201</td>\n",
       "    </tr>\n",
       "    <tr>\n",
       "      <th>1</th>\n",
       "      <td>5</td>\n",
       "      <td>Williamson</td>\n",
       "      <td>23200</td>\n",
       "    </tr>\n",
       "    <tr>\n",
       "      <th>2</th>\n",
       "      <td>8</td>\n",
       "      <td>Morse</td>\n",
       "      <td>13198</td>\n",
       "    </tr>\n",
       "    <tr>\n",
       "      <th>3</th>\n",
       "      <td>9</td>\n",
       "      <td>Kaiser</td>\n",
       "      <td>11219</td>\n",
       "    </tr>\n",
       "    <tr>\n",
       "      <th>4</th>\n",
       "      <td>10</td>\n",
       "      <td>Preston</td>\n",
       "      <td>10201</td>\n",
       "    </tr>\n",
       "  </tbody>\n",
       "</table>\n",
       "</div>"
      ],
      "text/plain": [
       "   emp_id        name  Salary\n",
       "0       4   Scarlette   12201\n",
       "1       5  Williamson   23200\n",
       "2       8       Morse   13198\n",
       "3       9      Kaiser   11219\n",
       "4      10     Preston   10201"
      ]
     },
     "metadata": {},
     "output_type": "display_data"
    }
   ],
   "source": [
    "display(emp_1,emp_2)"
   ]
  },
  {
   "cell_type": "code",
   "execution_count": 71,
   "id": "5f3e02b2",
   "metadata": {},
   "outputs": [
    {
     "data": {
      "text/html": [
       "<div>\n",
       "<style scoped>\n",
       "    .dataframe tbody tr th:only-of-type {\n",
       "        vertical-align: middle;\n",
       "    }\n",
       "\n",
       "    .dataframe tbody tr th {\n",
       "        vertical-align: top;\n",
       "    }\n",
       "\n",
       "    .dataframe thead th {\n",
       "        text-align: right;\n",
       "    }\n",
       "</style>\n",
       "<table border=\"1\" class=\"dataframe\">\n",
       "  <thead>\n",
       "    <tr style=\"text-align: right;\">\n",
       "      <th></th>\n",
       "      <th>emp_id</th>\n",
       "      <th>emp_id_x</th>\n",
       "      <th>name_x</th>\n",
       "      <th>Salary_x</th>\n",
       "      <th>emp_id_y</th>\n",
       "      <th>name_y</th>\n",
       "      <th>Salary_y</th>\n",
       "    </tr>\n",
       "  </thead>\n",
       "  <tbody>\n",
       "    <tr>\n",
       "      <th>0</th>\n",
       "      <td>1</td>\n",
       "      <td>1</td>\n",
       "      <td>Same</td>\n",
       "      <td>13222</td>\n",
       "      <td>5</td>\n",
       "      <td>Williamson</td>\n",
       "      <td>23200</td>\n",
       "    </tr>\n",
       "    <tr>\n",
       "      <th>1</th>\n",
       "      <td>2</td>\n",
       "      <td>2</td>\n",
       "      <td>Ross</td>\n",
       "      <td>10300</td>\n",
       "      <td>8</td>\n",
       "      <td>Morse</td>\n",
       "      <td>13198</td>\n",
       "    </tr>\n",
       "    <tr>\n",
       "      <th>2</th>\n",
       "      <td>3</td>\n",
       "      <td>3</td>\n",
       "      <td>Mike</td>\n",
       "      <td>19000</td>\n",
       "      <td>9</td>\n",
       "      <td>Kaiser</td>\n",
       "      <td>11219</td>\n",
       "    </tr>\n",
       "    <tr>\n",
       "      <th>3</th>\n",
       "      <td>4</td>\n",
       "      <td>4</td>\n",
       "      <td>Roman</td>\n",
       "      <td>22332</td>\n",
       "      <td>10</td>\n",
       "      <td>Preston</td>\n",
       "      <td>10201</td>\n",
       "    </tr>\n",
       "  </tbody>\n",
       "</table>\n",
       "</div>"
      ],
      "text/plain": [
       "   emp_id  emp_id_x name_x  Salary_x  emp_id_y      name_y  Salary_y\n",
       "0       1         1   Same     13222         5  Williamson     23200\n",
       "1       2         2   Ross     10300         8       Morse     13198\n",
       "2       3         3   Mike     19000         9      Kaiser     11219\n",
       "3       4         4  Roman     22332        10     Preston     10201"
      ]
     },
     "execution_count": 71,
     "metadata": {},
     "output_type": "execute_result"
    }
   ],
   "source": [
    "emp_1.join(emp_2,on = 'emp_id',how='inner',lsuffix='_x',rsuffix='_y')"
   ]
  },
  {
   "cell_type": "code",
   "execution_count": 72,
   "id": "5a6ad35b",
   "metadata": {},
   "outputs": [
    {
     "data": {
      "text/html": [
       "<div>\n",
       "<style scoped>\n",
       "    .dataframe tbody tr th:only-of-type {\n",
       "        vertical-align: middle;\n",
       "    }\n",
       "\n",
       "    .dataframe tbody tr th {\n",
       "        vertical-align: top;\n",
       "    }\n",
       "\n",
       "    .dataframe thead th {\n",
       "        text-align: right;\n",
       "    }\n",
       "</style>\n",
       "<table border=\"1\" class=\"dataframe\">\n",
       "  <thead>\n",
       "    <tr style=\"text-align: right;\">\n",
       "      <th></th>\n",
       "      <th>emp_id</th>\n",
       "      <th>name_x</th>\n",
       "      <th>Salary_x</th>\n",
       "      <th>name_y</th>\n",
       "      <th>Salary_y</th>\n",
       "    </tr>\n",
       "  </thead>\n",
       "  <tbody>\n",
       "    <tr>\n",
       "      <th>0</th>\n",
       "      <td>4</td>\n",
       "      <td>Roman</td>\n",
       "      <td>22332</td>\n",
       "      <td>Scarlette</td>\n",
       "      <td>12201</td>\n",
       "    </tr>\n",
       "    <tr>\n",
       "      <th>1</th>\n",
       "      <td>5</td>\n",
       "      <td>Smith</td>\n",
       "      <td>19900</td>\n",
       "      <td>Williamson</td>\n",
       "      <td>23200</td>\n",
       "    </tr>\n",
       "  </tbody>\n",
       "</table>\n",
       "</div>"
      ],
      "text/plain": [
       "   emp_id name_x  Salary_x      name_y  Salary_y\n",
       "0       4  Roman     22332   Scarlette     12201\n",
       "1       5  Smith     19900  Williamson     23200"
      ]
     },
     "execution_count": 72,
     "metadata": {},
     "output_type": "execute_result"
    }
   ],
   "source": [
    "pd.merge(emp_1,emp_2,on = 'emp_id',how='inner')"
   ]
  },
  {
   "cell_type": "markdown",
   "id": "0a5df870",
   "metadata": {},
   "source": [
    "### Q.20 Write a Pandas program to join (left join) the two dataframes using keys from left dataframe only."
   ]
  },
  {
   "cell_type": "code",
   "execution_count": 73,
   "id": "d309f597",
   "metadata": {},
   "outputs": [],
   "source": [
    "data1 = pd.DataFrame({'Year': [2020,2020,2020,2020,2020],\n",
    "                     'Week': ['A', 'B', 'B', 'C','D'],\n",
    "                     'Colour': ['Red', 'Red', 'Black', 'Red','Green'],\n",
    "                     'Val1': [50,60,70,10,20]}) \n",
    "\n",
    "data2 = pd.DataFrame({'Year': [2020,2020,2020,2020,2020],\n",
    "                     'Week': ['A', 'B', 'C', 'C','D'],\n",
    "                     'Colour': ['Black', 'Black', 'Green', 'Red','Red'],\n",
    "                     'Val1': [30,100,50,20,40]}) "
   ]
  },
  {
   "cell_type": "code",
   "execution_count": 74,
   "id": "4646e279",
   "metadata": {},
   "outputs": [
    {
     "data": {
      "text/html": [
       "<div>\n",
       "<style scoped>\n",
       "    .dataframe tbody tr th:only-of-type {\n",
       "        vertical-align: middle;\n",
       "    }\n",
       "\n",
       "    .dataframe tbody tr th {\n",
       "        vertical-align: top;\n",
       "    }\n",
       "\n",
       "    .dataframe thead th {\n",
       "        text-align: right;\n",
       "    }\n",
       "</style>\n",
       "<table border=\"1\" class=\"dataframe\">\n",
       "  <thead>\n",
       "    <tr style=\"text-align: right;\">\n",
       "      <th></th>\n",
       "      <th>Year</th>\n",
       "      <th>Week</th>\n",
       "      <th>Colour</th>\n",
       "      <th>Val1</th>\n",
       "    </tr>\n",
       "  </thead>\n",
       "  <tbody>\n",
       "    <tr>\n",
       "      <th>0</th>\n",
       "      <td>2020</td>\n",
       "      <td>A</td>\n",
       "      <td>Red</td>\n",
       "      <td>50</td>\n",
       "    </tr>\n",
       "    <tr>\n",
       "      <th>1</th>\n",
       "      <td>2020</td>\n",
       "      <td>B</td>\n",
       "      <td>Red</td>\n",
       "      <td>60</td>\n",
       "    </tr>\n",
       "    <tr>\n",
       "      <th>2</th>\n",
       "      <td>2020</td>\n",
       "      <td>B</td>\n",
       "      <td>Black</td>\n",
       "      <td>70</td>\n",
       "    </tr>\n",
       "    <tr>\n",
       "      <th>3</th>\n",
       "      <td>2020</td>\n",
       "      <td>C</td>\n",
       "      <td>Red</td>\n",
       "      <td>10</td>\n",
       "    </tr>\n",
       "    <tr>\n",
       "      <th>4</th>\n",
       "      <td>2020</td>\n",
       "      <td>D</td>\n",
       "      <td>Green</td>\n",
       "      <td>20</td>\n",
       "    </tr>\n",
       "  </tbody>\n",
       "</table>\n",
       "</div>"
      ],
      "text/plain": [
       "   Year Week Colour  Val1\n",
       "0  2020    A    Red    50\n",
       "1  2020    B    Red    60\n",
       "2  2020    B  Black    70\n",
       "3  2020    C    Red    10\n",
       "4  2020    D  Green    20"
      ]
     },
     "metadata": {},
     "output_type": "display_data"
    },
    {
     "data": {
      "text/html": [
       "<div>\n",
       "<style scoped>\n",
       "    .dataframe tbody tr th:only-of-type {\n",
       "        vertical-align: middle;\n",
       "    }\n",
       "\n",
       "    .dataframe tbody tr th {\n",
       "        vertical-align: top;\n",
       "    }\n",
       "\n",
       "    .dataframe thead th {\n",
       "        text-align: right;\n",
       "    }\n",
       "</style>\n",
       "<table border=\"1\" class=\"dataframe\">\n",
       "  <thead>\n",
       "    <tr style=\"text-align: right;\">\n",
       "      <th></th>\n",
       "      <th>Year</th>\n",
       "      <th>Week</th>\n",
       "      <th>Colour</th>\n",
       "      <th>Val1</th>\n",
       "    </tr>\n",
       "  </thead>\n",
       "  <tbody>\n",
       "    <tr>\n",
       "      <th>0</th>\n",
       "      <td>2020</td>\n",
       "      <td>A</td>\n",
       "      <td>Black</td>\n",
       "      <td>30</td>\n",
       "    </tr>\n",
       "    <tr>\n",
       "      <th>1</th>\n",
       "      <td>2020</td>\n",
       "      <td>B</td>\n",
       "      <td>Black</td>\n",
       "      <td>100</td>\n",
       "    </tr>\n",
       "    <tr>\n",
       "      <th>2</th>\n",
       "      <td>2020</td>\n",
       "      <td>C</td>\n",
       "      <td>Green</td>\n",
       "      <td>50</td>\n",
       "    </tr>\n",
       "    <tr>\n",
       "      <th>3</th>\n",
       "      <td>2020</td>\n",
       "      <td>C</td>\n",
       "      <td>Red</td>\n",
       "      <td>20</td>\n",
       "    </tr>\n",
       "    <tr>\n",
       "      <th>4</th>\n",
       "      <td>2020</td>\n",
       "      <td>D</td>\n",
       "      <td>Red</td>\n",
       "      <td>40</td>\n",
       "    </tr>\n",
       "  </tbody>\n",
       "</table>\n",
       "</div>"
      ],
      "text/plain": [
       "   Year Week Colour  Val1\n",
       "0  2020    A  Black    30\n",
       "1  2020    B  Black   100\n",
       "2  2020    C  Green    50\n",
       "3  2020    C    Red    20\n",
       "4  2020    D    Red    40"
      ]
     },
     "metadata": {},
     "output_type": "display_data"
    }
   ],
   "source": [
    "display(data1,data2)"
   ]
  },
  {
   "cell_type": "code",
   "execution_count": 78,
   "id": "03958836",
   "metadata": {},
   "outputs": [
    {
     "data": {
      "text/html": [
       "<div>\n",
       "<style scoped>\n",
       "    .dataframe tbody tr th:only-of-type {\n",
       "        vertical-align: middle;\n",
       "    }\n",
       "\n",
       "    .dataframe tbody tr th {\n",
       "        vertical-align: top;\n",
       "    }\n",
       "\n",
       "    .dataframe thead th {\n",
       "        text-align: right;\n",
       "    }\n",
       "</style>\n",
       "<table border=\"1\" class=\"dataframe\">\n",
       "  <thead>\n",
       "    <tr style=\"text-align: right;\">\n",
       "      <th></th>\n",
       "      <th>Year_x</th>\n",
       "      <th>Week</th>\n",
       "      <th>Colour</th>\n",
       "      <th>Val1_x</th>\n",
       "      <th>Year_y</th>\n",
       "      <th>Val1_y</th>\n",
       "    </tr>\n",
       "  </thead>\n",
       "  <tbody>\n",
       "    <tr>\n",
       "      <th>0</th>\n",
       "      <td>2020</td>\n",
       "      <td>A</td>\n",
       "      <td>Red</td>\n",
       "      <td>50</td>\n",
       "      <td>NaN</td>\n",
       "      <td>NaN</td>\n",
       "    </tr>\n",
       "    <tr>\n",
       "      <th>1</th>\n",
       "      <td>2020</td>\n",
       "      <td>B</td>\n",
       "      <td>Red</td>\n",
       "      <td>60</td>\n",
       "      <td>NaN</td>\n",
       "      <td>NaN</td>\n",
       "    </tr>\n",
       "    <tr>\n",
       "      <th>2</th>\n",
       "      <td>2020</td>\n",
       "      <td>B</td>\n",
       "      <td>Black</td>\n",
       "      <td>70</td>\n",
       "      <td>2020.0</td>\n",
       "      <td>100.0</td>\n",
       "    </tr>\n",
       "    <tr>\n",
       "      <th>3</th>\n",
       "      <td>2020</td>\n",
       "      <td>C</td>\n",
       "      <td>Red</td>\n",
       "      <td>10</td>\n",
       "      <td>2020.0</td>\n",
       "      <td>20.0</td>\n",
       "    </tr>\n",
       "    <tr>\n",
       "      <th>4</th>\n",
       "      <td>2020</td>\n",
       "      <td>D</td>\n",
       "      <td>Green</td>\n",
       "      <td>20</td>\n",
       "      <td>NaN</td>\n",
       "      <td>NaN</td>\n",
       "    </tr>\n",
       "  </tbody>\n",
       "</table>\n",
       "</div>"
      ],
      "text/plain": [
       "   Year_x Week Colour  Val1_x  Year_y  Val1_y\n",
       "0    2020    A    Red      50     NaN     NaN\n",
       "1    2020    B    Red      60     NaN     NaN\n",
       "2    2020    B  Black      70  2020.0   100.0\n",
       "3    2020    C    Red      10  2020.0    20.0\n",
       "4    2020    D  Green      20     NaN     NaN"
      ]
     },
     "execution_count": 78,
     "metadata": {},
     "output_type": "execute_result"
    }
   ],
   "source": [
    "pd.merge(data1,data2,on = ['Week','Colour'],how = 'left')"
   ]
  },
  {
   "cell_type": "markdown",
   "id": "cf35d384",
   "metadata": {},
   "source": [
    "### END ###"
   ]
  }
 ],
 "metadata": {
  "kernelspec": {
   "display_name": "myenv",
   "language": "python",
   "name": "mynev"
  },
  "language_info": {
   "codemirror_mode": {
    "name": "ipython",
    "version": 3
   },
   "file_extension": ".py",
   "mimetype": "text/x-python",
   "name": "python",
   "nbconvert_exporter": "python",
   "pygments_lexer": "ipython3",
   "version": "3.9.7"
  }
 },
 "nbformat": 4,
 "nbformat_minor": 5
}
