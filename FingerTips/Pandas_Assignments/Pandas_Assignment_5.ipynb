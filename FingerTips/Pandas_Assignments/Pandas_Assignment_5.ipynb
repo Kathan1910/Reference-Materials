{
 "cells": [
  {
   "cell_type": "markdown",
   "id": "313ea785",
   "metadata": {},
   "source": [
    "# Pandas_Assignment_5 String\n"
   ]
  },
  {
   "cell_type": "code",
   "execution_count": 2,
   "id": "8bdd1757",
   "metadata": {},
   "outputs": [],
   "source": [
    "import pandas as pd"
   ]
  },
  {
   "cell_type": "code",
   "execution_count": 99,
   "id": "705e4b95",
   "metadata": {},
   "outputs": [],
   "source": [
    "df = pd.read_csv(r\"E:\\FingerTips\\2.Python\\Materials\\Pandas_Assignment_5.csv\",encoding='latin-1')"
   ]
  },
  {
   "cell_type": "code",
   "execution_count": 100,
   "id": "d2ab0aad",
   "metadata": {},
   "outputs": [
    {
     "data": {
      "text/html": [
       "<div>\n",
       "<style scoped>\n",
       "    .dataframe tbody tr th:only-of-type {\n",
       "        vertical-align: middle;\n",
       "    }\n",
       "\n",
       "    .dataframe tbody tr th {\n",
       "        vertical-align: top;\n",
       "    }\n",
       "\n",
       "    .dataframe thead th {\n",
       "        text-align: right;\n",
       "    }\n",
       "</style>\n",
       "<table border=\"1\" class=\"dataframe\">\n",
       "  <thead>\n",
       "    <tr style=\"text-align: right;\">\n",
       "      <th></th>\n",
       "      <th>FF</th>\n",
       "      <th>Title</th>\n",
       "      <th>DIR</th>\n",
       "    </tr>\n",
       "  </thead>\n",
       "  <tbody>\n",
       "    <tr>\n",
       "      <th>0</th>\n",
       "      <td>2005</td>\n",
       "      <td>1990: Bronx Warriors</td>\n",
       "      <td>Enzo Castellari</td>\n",
       "    </tr>\n",
       "    <tr>\n",
       "      <th>1</th>\n",
       "      <td>2005</td>\n",
       "      <td>Creep</td>\n",
       "      <td>Christopher Smith</td>\n",
       "    </tr>\n",
       "    <tr>\n",
       "      <th>2</th>\n",
       "      <td>2005</td>\n",
       "      <td>Feast</td>\n",
       "      <td>John Gulager</td>\n",
       "    </tr>\n",
       "    <tr>\n",
       "      <th>3</th>\n",
       "      <td>2005</td>\n",
       "      <td>G.O.R.A.</td>\n",
       "      <td>ÌÐmer Faruk Sorak</td>\n",
       "    </tr>\n",
       "    <tr>\n",
       "      <th>4</th>\n",
       "      <td>2005</td>\n",
       "      <td>Hakugei: Legend of the Moby Dick</td>\n",
       "      <td>Osamu Dezaki</td>\n",
       "    </tr>\n",
       "    <tr>\n",
       "      <th>...</th>\n",
       "      <td>...</td>\n",
       "      <td>...</td>\n",
       "      <td>...</td>\n",
       "    </tr>\n",
       "    <tr>\n",
       "      <th>904</th>\n",
       "      <td>2017</td>\n",
       "      <td>See You Up There</td>\n",
       "      <td>Albert Dupontel</td>\n",
       "    </tr>\n",
       "    <tr>\n",
       "      <th>905</th>\n",
       "      <td>2017</td>\n",
       "      <td>Tabula Rasa</td>\n",
       "      <td>Jonas Govaerts &amp; Kaat Beels / Malin-Sarah Gozin</td>\n",
       "    </tr>\n",
       "    <tr>\n",
       "      <th>906</th>\n",
       "      <td>2017</td>\n",
       "      <td>Wizard</td>\n",
       "      <td>Kagiso Lediga</td>\n",
       "    </tr>\n",
       "    <tr>\n",
       "      <th>907</th>\n",
       "      <td>2017</td>\n",
       "      <td>Death of Stalin, The</td>\n",
       "      <td>Armando Iannucci</td>\n",
       "    </tr>\n",
       "    <tr>\n",
       "      <th>908</th>\n",
       "      <td>2017</td>\n",
       "      <td>Take It Out in Trade</td>\n",
       "      <td>Edward D. Wood Jr.</td>\n",
       "    </tr>\n",
       "  </tbody>\n",
       "</table>\n",
       "<p>909 rows × 3 columns</p>\n",
       "</div>"
      ],
      "text/plain": [
       "       FF                             Title  \\\n",
       "0    2005              1990: Bronx Warriors   \n",
       "1    2005                             Creep   \n",
       "2    2005                             Feast   \n",
       "3    2005                          G.O.R.A.   \n",
       "4    2005  Hakugei: Legend of the Moby Dick   \n",
       "..    ...                               ...   \n",
       "904  2017                  See You Up There   \n",
       "905  2017                       Tabula Rasa   \n",
       "906  2017                            Wizard   \n",
       "907  2017              Death of Stalin, The   \n",
       "908  2017              Take It Out in Trade   \n",
       "\n",
       "                                                 DIR  \n",
       "0                                    Enzo Castellari  \n",
       "1                                  Christopher Smith  \n",
       "2                                       John Gulager  \n",
       "3                                  ÌÐmer Faruk Sorak  \n",
       "4                                       Osamu Dezaki  \n",
       "..                                               ...  \n",
       "904                                  Albert Dupontel  \n",
       "905  Jonas Govaerts & Kaat Beels / Malin-Sarah Gozin  \n",
       "906                                    Kagiso Lediga  \n",
       "907                                 Armando Iannucci  \n",
       "908                               Edward D. Wood Jr.  \n",
       "\n",
       "[909 rows x 3 columns]"
      ]
     },
     "execution_count": 100,
     "metadata": {},
     "output_type": "execute_result"
    }
   ],
   "source": [
    "df"
   ]
  },
  {
   "cell_type": "markdown",
   "id": "e37655d4",
   "metadata": {},
   "source": [
    "### 1) What are the datatypes of the column of the dataset."
   ]
  },
  {
   "cell_type": "code",
   "execution_count": 5,
   "id": "e605fb70",
   "metadata": {},
   "outputs": [
    {
     "data": {
      "text/plain": [
       "FF        int64\n",
       "Title    object\n",
       "DIR      object\n",
       "dtype: object"
      ]
     },
     "execution_count": 5,
     "metadata": {},
     "output_type": "execute_result"
    }
   ],
   "source": [
    "df.dtypes"
   ]
  },
  {
   "cell_type": "markdown",
   "id": "76e235e3",
   "metadata": {},
   "source": [
    "### 2) Get the Basic Statistics of Dataset."
   ]
  },
  {
   "cell_type": "code",
   "execution_count": 6,
   "id": "03d3033b",
   "metadata": {},
   "outputs": [
    {
     "data": {
      "text/html": [
       "<div>\n",
       "<style scoped>\n",
       "    .dataframe tbody tr th:only-of-type {\n",
       "        vertical-align: middle;\n",
       "    }\n",
       "\n",
       "    .dataframe tbody tr th {\n",
       "        vertical-align: top;\n",
       "    }\n",
       "\n",
       "    .dataframe thead th {\n",
       "        text-align: right;\n",
       "    }\n",
       "</style>\n",
       "<table border=\"1\" class=\"dataframe\">\n",
       "  <thead>\n",
       "    <tr style=\"text-align: right;\">\n",
       "      <th></th>\n",
       "      <th>FF</th>\n",
       "    </tr>\n",
       "  </thead>\n",
       "  <tbody>\n",
       "    <tr>\n",
       "      <th>count</th>\n",
       "      <td>909.000000</td>\n",
       "    </tr>\n",
       "    <tr>\n",
       "      <th>mean</th>\n",
       "      <td>2011.656766</td>\n",
       "    </tr>\n",
       "    <tr>\n",
       "      <th>std</th>\n",
       "      <td>3.506274</td>\n",
       "    </tr>\n",
       "    <tr>\n",
       "      <th>min</th>\n",
       "      <td>2005.000000</td>\n",
       "    </tr>\n",
       "    <tr>\n",
       "      <th>25%</th>\n",
       "      <td>2009.000000</td>\n",
       "    </tr>\n",
       "    <tr>\n",
       "      <th>50%</th>\n",
       "      <td>2012.000000</td>\n",
       "    </tr>\n",
       "    <tr>\n",
       "      <th>75%</th>\n",
       "      <td>2015.000000</td>\n",
       "    </tr>\n",
       "    <tr>\n",
       "      <th>max</th>\n",
       "      <td>2017.000000</td>\n",
       "    </tr>\n",
       "  </tbody>\n",
       "</table>\n",
       "</div>"
      ],
      "text/plain": [
       "                FF\n",
       "count   909.000000\n",
       "mean   2011.656766\n",
       "std       3.506274\n",
       "min    2005.000000\n",
       "25%    2009.000000\n",
       "50%    2012.000000\n",
       "75%    2015.000000\n",
       "max    2017.000000"
      ]
     },
     "execution_count": 6,
     "metadata": {},
     "output_type": "execute_result"
    }
   ],
   "source": [
    "df.describe()"
   ]
  },
  {
   "cell_type": "markdown",
   "id": "21ab529e",
   "metadata": {},
   "source": [
    "### 3) Calculate the Length of the string in Title."
   ]
  },
  {
   "cell_type": "code",
   "execution_count": 13,
   "id": "3519e684",
   "metadata": {},
   "outputs": [
    {
     "data": {
      "text/plain": [
       "909"
      ]
     },
     "execution_count": 13,
     "metadata": {},
     "output_type": "execute_result"
    }
   ],
   "source": [
    "len(df['Title'])"
   ]
  },
  {
   "cell_type": "markdown",
   "id": "d5ba658d",
   "metadata": {},
   "source": [
    "### 4) Calculate the Length of the DIR column in dataset"
   ]
  },
  {
   "cell_type": "code",
   "execution_count": 14,
   "id": "fed595de",
   "metadata": {},
   "outputs": [
    {
     "data": {
      "text/plain": [
       "909"
      ]
     },
     "execution_count": 14,
     "metadata": {},
     "output_type": "execute_result"
    }
   ],
   "source": [
    "len(df['DIR'])"
   ]
  },
  {
   "cell_type": "markdown",
   "id": "2334fb31",
   "metadata": {},
   "source": [
    "### 5) Check for the Datatype after checking the Length of the Title and DIR columns."
   ]
  },
  {
   "cell_type": "code",
   "execution_count": 22,
   "id": "a722ccfc",
   "metadata": {},
   "outputs": [
    {
     "data": {
      "text/plain": [
       "FF        int64\n",
       "Title     int64\n",
       "DIR      object\n",
       "dtype: object"
      ]
     },
     "execution_count": 22,
     "metadata": {},
     "output_type": "execute_result"
    }
   ],
   "source": [
    "df.dtypes"
   ]
  },
  {
   "cell_type": "markdown",
   "id": "2f6f57fa",
   "metadata": {},
   "source": [
    "### 6) Convert Title column back to Object format from Numeric."
   ]
  },
  {
   "cell_type": "code",
   "execution_count": 23,
   "id": "0c247ef3",
   "metadata": {},
   "outputs": [],
   "source": [
    "df['Title'] = df['Title'].astype(object)"
   ]
  },
  {
   "cell_type": "code",
   "execution_count": 25,
   "id": "f2603ab6",
   "metadata": {},
   "outputs": [
    {
     "data": {
      "text/plain": [
       "FF        int64\n",
       "Title    object\n",
       "DIR      object\n",
       "dtype: object"
      ]
     },
     "execution_count": 25,
     "metadata": {},
     "output_type": "execute_result"
    }
   ],
   "source": [
    "df.dtypes"
   ]
  },
  {
   "cell_type": "markdown",
   "id": "fccb3673",
   "metadata": {},
   "source": [
    "### 7) Convert DIR column back to Object format from Numeric."
   ]
  },
  {
   "cell_type": "code",
   "execution_count": 26,
   "id": "5638fe9d",
   "metadata": {},
   "outputs": [],
   "source": [
    "df['DIR']=df['DIR'].astype(object)"
   ]
  },
  {
   "cell_type": "code",
   "execution_count": 27,
   "id": "54c33800",
   "metadata": {},
   "outputs": [
    {
     "data": {
      "text/plain": [
       "FF        int64\n",
       "Title    object\n",
       "DIR      object\n",
       "dtype: object"
      ]
     },
     "execution_count": 27,
     "metadata": {},
     "output_type": "execute_result"
    }
   ],
   "source": [
    "df.dtypes"
   ]
  },
  {
   "cell_type": "markdown",
   "id": "61359db0",
   "metadata": {},
   "source": [
    "### 8) Checking the Datatype after converting back to Object."
   ]
  },
  {
   "cell_type": "code",
   "execution_count": 28,
   "id": "a2d18895",
   "metadata": {},
   "outputs": [
    {
     "data": {
      "text/plain": [
       "FF        int64\n",
       "Title    object\n",
       "DIR      object\n",
       "dtype: object"
      ]
     },
     "execution_count": 28,
     "metadata": {},
     "output_type": "execute_result"
    }
   ],
   "source": [
    "df.dtypes"
   ]
  },
  {
   "cell_type": "markdown",
   "id": "cc013d8d",
   "metadata": {},
   "source": [
    "### 9) Convert the Director's name in Upper case."
   ]
  },
  {
   "cell_type": "code",
   "execution_count": 34,
   "id": "3db46b14",
   "metadata": {},
   "outputs": [
    {
     "data": {
      "text/plain": [
       "0                                      ENZO CASTELLARI\n",
       "1                                    CHRISTOPHER SMITH\n",
       "2                                         JOHN GULAGER\n",
       "3                                    ÌÐMER FARUK SORAK\n",
       "4                                         OSAMU DEZAKI\n",
       "                            ...                       \n",
       "904                                    ALBERT DUPONTEL\n",
       "905    JONAS GOVAERTS & KAAT BEELS / MALIN-SARAH GOZIN\n",
       "906                                      KAGISO LEDIGA\n",
       "907                                   ARMANDO IANNUCCI\n",
       "908                                 EDWARD D. WOOD JR.\n",
       "Name: DIR, Length: 909, dtype: object"
      ]
     },
     "execution_count": 34,
     "metadata": {},
     "output_type": "execute_result"
    }
   ],
   "source": [
    "df['DIR'].str.upper()"
   ]
  },
  {
   "cell_type": "markdown",
   "id": "5789c965",
   "metadata": {},
   "source": [
    "### 10) Replace the & in the DIR column with and."
   ]
  },
  {
   "cell_type": "code",
   "execution_count": 35,
   "id": "84e178c6",
   "metadata": {},
   "outputs": [
    {
     "data": {
      "text/plain": [
       "0                                      Enzo Castellari\n",
       "1                                    Christopher Smith\n",
       "2                                         John Gulager\n",
       "3                                    ÌÐmer Faruk Sorak\n",
       "4                                         Osamu Dezaki\n",
       "                            ...                       \n",
       "904                                    Albert Dupontel\n",
       "905    Jonas Govaerts & Kaat Beels / Malin-Sarah Gozin\n",
       "906                                      Kagiso Lediga\n",
       "907                                   Armando Iannucci\n",
       "908                                 Edward D. Wood Jr.\n",
       "Name: DIR, Length: 909, dtype: object"
      ]
     },
     "execution_count": 35,
     "metadata": {},
     "output_type": "execute_result"
    }
   ],
   "source": [
    "df['DIR'].replace(\"&\",\"and\")"
   ]
  },
  {
   "cell_type": "markdown",
   "id": "796f55fb",
   "metadata": {},
   "source": [
    "### 11) Remove the white space from the Left side of the string for Director column."
   ]
  },
  {
   "cell_type": "code",
   "execution_count": 40,
   "id": "6974151f",
   "metadata": {},
   "outputs": [
    {
     "data": {
      "text/plain": [
       "0                                      Enzo Castellari\n",
       "1                                    Christopher Smith\n",
       "2                                         John Gulager\n",
       "3                                    ÌÐmer Faruk Sorak\n",
       "4                                         Osamu Dezaki\n",
       "                            ...                       \n",
       "904                                    Albert Dupontel\n",
       "905    Jonas Govaerts & Kaat Beels / Malin-Sarah Gozin\n",
       "906                                      Kagiso Lediga\n",
       "907                                   Armando Iannucci\n",
       "908                                 Edward D. Wood Jr.\n",
       "Name: DIR, Length: 909, dtype: object"
      ]
     },
     "execution_count": 40,
     "metadata": {},
     "output_type": "execute_result"
    }
   ],
   "source": [
    "df['DIR'].str.lstrip()"
   ]
  },
  {
   "cell_type": "markdown",
   "id": "39457745",
   "metadata": {},
   "source": [
    "### 12) Remove the white space from the right side of the string for Director column."
   ]
  },
  {
   "cell_type": "code",
   "execution_count": 41,
   "id": "63fde02b",
   "metadata": {},
   "outputs": [
    {
     "data": {
      "text/plain": [
       "0                                      Enzo Castellari\n",
       "1                                    Christopher Smith\n",
       "2                                         John Gulager\n",
       "3                                    ÌÐmer Faruk Sorak\n",
       "4                                         Osamu Dezaki\n",
       "                            ...                       \n",
       "904                                    Albert Dupontel\n",
       "905    Jonas Govaerts & Kaat Beels / Malin-Sarah Gozin\n",
       "906                                      Kagiso Lediga\n",
       "907                                   Armando Iannucci\n",
       "908                                 Edward D. Wood Jr.\n",
       "Name: DIR, Length: 909, dtype: object"
      ]
     },
     "execution_count": 41,
     "metadata": {},
     "output_type": "execute_result"
    }
   ],
   "source": [
    "df['DIR'].str.rstrip()"
   ]
  },
  {
   "cell_type": "markdown",
   "id": "bbff8f06",
   "metadata": {},
   "source": [
    "### 13) Show the name of director with minimum length."
   ]
  },
  {
   "cell_type": "code",
   "execution_count": 48,
   "id": "dde163d5",
   "metadata": {},
   "outputs": [
    {
     "data": {
      "text/plain": [
       "'    Jaume BalaguerÌ_, Paco Plaza '"
      ]
     },
     "execution_count": 48,
     "metadata": {},
     "output_type": "execute_result"
    }
   ],
   "source": [
    "df['DIR'].min()"
   ]
  },
  {
   "cell_type": "markdown",
   "id": "ca8c8c65",
   "metadata": {},
   "source": [
    "### 14) Show the name of director with maximum length."
   ]
  },
  {
   "cell_type": "code",
   "execution_count": 49,
   "id": "a7ec4943",
   "metadata": {},
   "outputs": [
    {
     "data": {
      "text/plain": [
       "'Ì÷ystein Karlsen'"
      ]
     },
     "execution_count": 49,
     "metadata": {},
     "output_type": "execute_result"
    }
   ],
   "source": [
    "df['DIR'].max()"
   ]
  },
  {
   "cell_type": "markdown",
   "id": "7302ea81",
   "metadata": {},
   "source": [
    "### 15) Remove the white space from the Left side of the string for Title column."
   ]
  },
  {
   "cell_type": "code",
   "execution_count": 103,
   "id": "f6993478",
   "metadata": {},
   "outputs": [
    {
     "data": {
      "text/plain": [
       "0                  1990: Bronx Warriors\n",
       "1                                 Creep\n",
       "2                                 Feast\n",
       "3                              G.O.R.A.\n",
       "4      Hakugei: Legend of the Moby Dick\n",
       "                     ...               \n",
       "904                    See You Up There\n",
       "905                         Tabula Rasa\n",
       "906                              Wizard\n",
       "907                Death of Stalin, The\n",
       "908                Take It Out in Trade\n",
       "Name: Title, Length: 909, dtype: object"
      ]
     },
     "execution_count": 103,
     "metadata": {},
     "output_type": "execute_result"
    }
   ],
   "source": [
    "df['Title'].str.lstrip()"
   ]
  },
  {
   "cell_type": "markdown",
   "id": "d06e9509",
   "metadata": {},
   "source": [
    "### 16) Remove the white space from the right side of the string for Title column."
   ]
  },
  {
   "cell_type": "code",
   "execution_count": 104,
   "id": "c18b9c0c",
   "metadata": {},
   "outputs": [
    {
     "data": {
      "text/plain": [
       "0                  1990: Bronx Warriors\n",
       "1                                 Creep\n",
       "2                                 Feast\n",
       "3                              G.O.R.A.\n",
       "4      Hakugei: Legend of the Moby Dick\n",
       "                     ...               \n",
       "904                    See You Up There\n",
       "905                         Tabula Rasa\n",
       "906                              Wizard\n",
       "907                Death of Stalin, The\n",
       "908                Take It Out in Trade\n",
       "Name: Title, Length: 909, dtype: object"
      ]
     },
     "execution_count": 104,
     "metadata": {},
     "output_type": "execute_result"
    }
   ],
   "source": [
    "df['Title'].str.rstrip()"
   ]
  },
  {
   "cell_type": "markdown",
   "id": "fbc018aa",
   "metadata": {},
   "source": [
    "### 17) Show the title of movie with minimum length."
   ]
  },
  {
   "cell_type": "code",
   "execution_count": 106,
   "id": "28364835",
   "metadata": {},
   "outputs": [
    {
     "data": {
      "text/plain": [
       "'1%'"
      ]
     },
     "execution_count": 106,
     "metadata": {},
     "output_type": "execute_result"
    }
   ],
   "source": [
    "df.Title.min()"
   ]
  },
  {
   "cell_type": "markdown",
   "id": "6d99637b",
   "metadata": {},
   "source": [
    "### 18) Show the title of movie with maximum length."
   ]
  },
  {
   "cell_type": "code",
   "execution_count": 107,
   "id": "67659f1f",
   "metadata": {},
   "outputs": [
    {
     "data": {
      "text/plain": [
       "'mon mon mon MONSTERS'"
      ]
     },
     "execution_count": 107,
     "metadata": {},
     "output_type": "execute_result"
    }
   ],
   "source": [
    "df.Title.max()"
   ]
  },
  {
   "cell_type": "markdown",
   "id": "e0c3de29",
   "metadata": {},
   "source": [
    "### 19) Concatenate Title and directors with a space in between."
   ]
  },
  {
   "cell_type": "code",
   "execution_count": 73,
   "id": "766c21a6",
   "metadata": {},
   "outputs": [],
   "source": [
    "df['Title'] = df['Title'].astype(str)"
   ]
  },
  {
   "cell_type": "code",
   "execution_count": 74,
   "id": "3049abe2",
   "metadata": {},
   "outputs": [],
   "source": [
    "df['DIR'] = df['DIR'].astype(str)"
   ]
  },
  {
   "cell_type": "code",
   "execution_count": 85,
   "id": "cf001a9a",
   "metadata": {},
   "outputs": [],
   "source": [
    "df['Mixed'] = df['Title'] + \" \" + df['DIR']"
   ]
  },
  {
   "cell_type": "code",
   "execution_count": 105,
   "id": "a288e259",
   "metadata": {},
   "outputs": [
    {
     "data": {
      "text/html": [
       "<div>\n",
       "<style scoped>\n",
       "    .dataframe tbody tr th:only-of-type {\n",
       "        vertical-align: middle;\n",
       "    }\n",
       "\n",
       "    .dataframe tbody tr th {\n",
       "        vertical-align: top;\n",
       "    }\n",
       "\n",
       "    .dataframe thead th {\n",
       "        text-align: right;\n",
       "    }\n",
       "</style>\n",
       "<table border=\"1\" class=\"dataframe\">\n",
       "  <thead>\n",
       "    <tr style=\"text-align: right;\">\n",
       "      <th></th>\n",
       "      <th>FF</th>\n",
       "      <th>Title</th>\n",
       "      <th>DIR</th>\n",
       "    </tr>\n",
       "  </thead>\n",
       "  <tbody>\n",
       "    <tr>\n",
       "      <th>0</th>\n",
       "      <td>2005</td>\n",
       "      <td>1990: Bronx Warriors</td>\n",
       "      <td>Enzo Castellari</td>\n",
       "    </tr>\n",
       "    <tr>\n",
       "      <th>1</th>\n",
       "      <td>2005</td>\n",
       "      <td>Creep</td>\n",
       "      <td>Christopher Smith</td>\n",
       "    </tr>\n",
       "    <tr>\n",
       "      <th>2</th>\n",
       "      <td>2005</td>\n",
       "      <td>Feast</td>\n",
       "      <td>John Gulager</td>\n",
       "    </tr>\n",
       "    <tr>\n",
       "      <th>3</th>\n",
       "      <td>2005</td>\n",
       "      <td>G.O.R.A.</td>\n",
       "      <td>ÌÐmer Faruk Sorak</td>\n",
       "    </tr>\n",
       "    <tr>\n",
       "      <th>4</th>\n",
       "      <td>2005</td>\n",
       "      <td>Hakugei: Legend of the Moby Dick</td>\n",
       "      <td>Osamu Dezaki</td>\n",
       "    </tr>\n",
       "    <tr>\n",
       "      <th>...</th>\n",
       "      <td>...</td>\n",
       "      <td>...</td>\n",
       "      <td>...</td>\n",
       "    </tr>\n",
       "    <tr>\n",
       "      <th>904</th>\n",
       "      <td>2017</td>\n",
       "      <td>See You Up There</td>\n",
       "      <td>Albert Dupontel</td>\n",
       "    </tr>\n",
       "    <tr>\n",
       "      <th>905</th>\n",
       "      <td>2017</td>\n",
       "      <td>Tabula Rasa</td>\n",
       "      <td>Jonas Govaerts &amp; Kaat Beels / Malin-Sarah Gozin</td>\n",
       "    </tr>\n",
       "    <tr>\n",
       "      <th>906</th>\n",
       "      <td>2017</td>\n",
       "      <td>Wizard</td>\n",
       "      <td>Kagiso Lediga</td>\n",
       "    </tr>\n",
       "    <tr>\n",
       "      <th>907</th>\n",
       "      <td>2017</td>\n",
       "      <td>Death of Stalin, The</td>\n",
       "      <td>Armando Iannucci</td>\n",
       "    </tr>\n",
       "    <tr>\n",
       "      <th>908</th>\n",
       "      <td>2017</td>\n",
       "      <td>Take It Out in Trade</td>\n",
       "      <td>Edward D. Wood Jr.</td>\n",
       "    </tr>\n",
       "  </tbody>\n",
       "</table>\n",
       "<p>909 rows × 3 columns</p>\n",
       "</div>"
      ],
      "text/plain": [
       "       FF                             Title  \\\n",
       "0    2005              1990: Bronx Warriors   \n",
       "1    2005                             Creep   \n",
       "2    2005                             Feast   \n",
       "3    2005                          G.O.R.A.   \n",
       "4    2005  Hakugei: Legend of the Moby Dick   \n",
       "..    ...                               ...   \n",
       "904  2017                  See You Up There   \n",
       "905  2017                       Tabula Rasa   \n",
       "906  2017                            Wizard   \n",
       "907  2017              Death of Stalin, The   \n",
       "908  2017              Take It Out in Trade   \n",
       "\n",
       "                                                 DIR  \n",
       "0                                    Enzo Castellari  \n",
       "1                                  Christopher Smith  \n",
       "2                                       John Gulager  \n",
       "3                                  ÌÐmer Faruk Sorak  \n",
       "4                                       Osamu Dezaki  \n",
       "..                                               ...  \n",
       "904                                  Albert Dupontel  \n",
       "905  Jonas Govaerts & Kaat Beels / Malin-Sarah Gozin  \n",
       "906                                    Kagiso Lediga  \n",
       "907                                 Armando Iannucci  \n",
       "908                               Edward D. Wood Jr.  \n",
       "\n",
       "[909 rows x 3 columns]"
      ]
     },
     "execution_count": 105,
     "metadata": {},
     "output_type": "execute_result"
    }
   ],
   "source": [
    "df"
   ]
  },
  {
   "cell_type": "markdown",
   "id": "4780f90c",
   "metadata": {},
   "source": [
    "### 20) Find the Hostel movie from the Title list."
   ]
  },
  {
   "cell_type": "code",
   "execution_count": 88,
   "id": "e56f5d4f",
   "metadata": {},
   "outputs": [
    {
     "data": {
      "text/plain": [
       "0     -1\n",
       "1     -1\n",
       "2     -1\n",
       "3     -1\n",
       "4     -1\n",
       "      ..\n",
       "904   -1\n",
       "905   -1\n",
       "906   -1\n",
       "907   -1\n",
       "908   -1\n",
       "Name: Title, Length: 909, dtype: int64"
      ]
     },
     "execution_count": 88,
     "metadata": {},
     "output_type": "execute_result"
    }
   ],
   "source": [
    "df['Title'].str.find('Hostel')"
   ]
  },
  {
   "cell_type": "markdown",
   "id": "07952289",
   "metadata": {},
   "source": [
    "### 21) Find the Ryan Schifrin from the Director's list."
   ]
  },
  {
   "cell_type": "code",
   "execution_count": 92,
   "id": "32877388",
   "metadata": {},
   "outputs": [
    {
     "data": {
      "text/plain": [
       "0     -1\n",
       "1     -1\n",
       "2     -1\n",
       "3     -1\n",
       "4     -1\n",
       "      ..\n",
       "904   -1\n",
       "905   -1\n",
       "906   -1\n",
       "907   -1\n",
       "908   -1\n",
       "Name: DIR, Length: 909, dtype: int64"
      ]
     },
     "execution_count": 92,
     "metadata": {},
     "output_type": "execute_result"
    }
   ],
   "source": [
    "df['DIR'].str.find('Ryan Schifrin')"
   ]
  },
  {
   "cell_type": "markdown",
   "id": "9dbf1433",
   "metadata": {},
   "source": [
    "### 22) Replace the space in Title name with underscore."
   ]
  },
  {
   "cell_type": "code",
   "execution_count": 101,
   "id": "80e33cac",
   "metadata": {},
   "outputs": [
    {
     "data": {
      "text/plain": [
       "0                  1990:_Bronx_Warriors\n",
       "1                                 Creep\n",
       "2                                 Feast\n",
       "3                              G.O.R.A.\n",
       "4      Hakugei:_Legend_of_the_Moby_Dick\n",
       "                     ...               \n",
       "904                    See_You_Up_There\n",
       "905                         Tabula_Rasa\n",
       "906                              Wizard\n",
       "907                Death_of_Stalin,_The\n",
       "908                Take_It_Out_in_Trade\n",
       "Name: Title, Length: 909, dtype: object"
      ]
     },
     "execution_count": 101,
     "metadata": {},
     "output_type": "execute_result"
    }
   ],
   "source": [
    "df['Title'].str.replace(\" \",\"_\")"
   ]
  },
  {
   "cell_type": "markdown",
   "id": "1d6de1fd",
   "metadata": {},
   "source": [
    "### 23) Replace the space in Dir name with underscore"
   ]
  },
  {
   "cell_type": "code",
   "execution_count": 102,
   "id": "d0f0eefc",
   "metadata": {},
   "outputs": [
    {
     "data": {
      "text/plain": [
       "0                                      Enzo_Castellari\n",
       "1                                    Christopher_Smith\n",
       "2                                         John_Gulager\n",
       "3                                    ÌÐmer_Faruk_Sorak\n",
       "4                                         Osamu_Dezaki\n",
       "                            ...                       \n",
       "904                                    Albert_Dupontel\n",
       "905    Jonas_Govaerts_&_Kaat_Beels_/_Malin-Sarah_Gozin\n",
       "906                                      Kagiso_Lediga\n",
       "907                                   Armando_Iannucci\n",
       "908                                 Edward_D._Wood_Jr.\n",
       "Name: DIR, Length: 909, dtype: object"
      ]
     },
     "execution_count": 102,
     "metadata": {},
     "output_type": "execute_result"
    }
   ],
   "source": [
    "df['DIR'].str.replace(\" \",\"_\")"
   ]
  },
  {
   "cell_type": "markdown",
   "id": "5ba2ad6c",
   "metadata": {},
   "source": [
    "### END ###"
   ]
  }
 ],
 "metadata": {
  "kernelspec": {
   "display_name": "myenv",
   "language": "python",
   "name": "mynev"
  },
  "language_info": {
   "codemirror_mode": {
    "name": "ipython",
    "version": 3
   },
   "file_extension": ".py",
   "mimetype": "text/x-python",
   "name": "python",
   "nbconvert_exporter": "python",
   "pygments_lexer": "ipython3",
   "version": "3.9.7"
  }
 },
 "nbformat": 4,
 "nbformat_minor": 5
}
