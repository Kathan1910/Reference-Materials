{
 "cells": [
  {
   "cell_type": "markdown",
   "metadata": {},
   "source": [
    "# Python Assignment_4\n"
   ]
  },
  {
   "cell_type": "markdown",
   "metadata": {},
   "source": [
    "## Q1 : Take values of length and breadth of a rectangle from user and check if it is square or not.\n"
   ]
  },
  {
   "cell_type": "code",
   "execution_count": 2,
   "metadata": {},
   "outputs": [
    {
     "name": "stdout",
     "output_type": "stream",
     "text": [
      "enter length : 4\n",
      "enter breadth : 4\n",
      "Yess, It is Squared\n"
     ]
    }
   ],
   "source": [
    "length = input(\"enter length : \")\n",
    "breadth = input(\"enter breadth : \")\n",
    "\n",
    "if length == breadth:\n",
    "    print(\"Yess, It is Squared\")\n",
    "else:\n",
    "    print(\"No,It is not Squared\")"
   ]
  },
  {
   "cell_type": "code",
   "execution_count": 3,
   "metadata": {},
   "outputs": [
    {
     "name": "stdout",
     "output_type": "stream",
     "text": [
      " enter length and breadth : 4,4\n",
      "Yess, It is Squared\n"
     ]
    }
   ],
   "source": [
    "length , breadth = input(\" enter length and breadth : \").split(\",\")\n",
    "\n",
    "if length == breadth:\n",
    "    print(\"Yess, It is Squared\")\n",
    "else:\n",
    "    print(\"No,It is not Squared\")"
   ]
  },
  {
   "cell_type": "markdown",
   "metadata": {},
   "source": [
    "## Q2 : Take Input of 3 numbers and find maximum of them."
   ]
  },
  {
   "cell_type": "code",
   "execution_count": 15,
   "metadata": {},
   "outputs": [
    {
     "name": "stdout",
     "output_type": "stream",
     "text": [
      "Enter The Three Numbers : 11,44,22\n",
      " Maximum Number is 44 \n",
      "<class 'str'>\n"
     ]
    }
   ],
   "source": [
    "num1,num2,num3 = input(\"Enter The Three Numbers : \").split(\",\")\n",
    "\n",
    "if num1>num2 and num1>num3:\n",
    "    maximum = num1 \n",
    "elif num2>num1 and num2>num3:\n",
    "    maximum = num2\n",
    "else:\n",
    "    maximum = num3\n",
    "    \n",
    "print(f\" Maximum Number is {maximum} \")\n",
    "print(type(maximum))"
   ]
  },
  {
   "cell_type": "markdown",
   "metadata": {},
   "source": [
    "## Q3 : Find the year is leap year or not."
   ]
  },
  {
   "cell_type": "code",
   "execution_count": 17,
   "metadata": {},
   "outputs": [
    {
     "name": "stdout",
     "output_type": "stream",
     "text": [
      "Which year? 2023\n",
      "No leap year\n"
     ]
    }
   ],
   "source": [
    "year = int(input(\"Which year? \"))\n",
    "\n",
    "if year % 4:\n",
    "    print(\"No leap year\")\n",
    "elif year % 100 == 0 and year % 400 != 0:\n",
    "    print(\"No leap year\")\n",
    "else:\n",
    "    print(\"leap year\")"
   ]
  },
  {
   "cell_type": "markdown",
   "metadata": {},
   "source": [
    "## Q4 : Print First 10 natural numbers using while loop."
   ]
  },
  {
   "cell_type": "code",
   "execution_count": 21,
   "metadata": {},
   "outputs": [
    {
     "name": "stdout",
     "output_type": "stream",
     "text": [
      " No: 1\n",
      " No: 2\n",
      " No: 3\n",
      " No: 4\n",
      " No: 5\n",
      " No: 6\n",
      " No: 7\n",
      " No: 8\n",
      " No: 9\n",
      " No: 10\n"
     ]
    }
   ],
   "source": [
    "i = 1\n",
    "while i<=10:\n",
    "    print(f\" No: {i}\")\n",
    "    i+=1"
   ]
  },
  {
   "cell_type": "markdown",
   "metadata": {},
   "source": [
    "## Q5 : Print the following pattern.\n",
    "\n",
    "1 \n",
    "\n",
    "1 2 \n",
    "\n",
    "1 2 3 \n",
    "\n",
    "1 2 3 4 \n",
    "\n",
    "1 2 3 4 5"
   ]
  },
  {
   "cell_type": "code",
   "execution_count": 24,
   "metadata": {},
   "outputs": [
    {
     "name": "stdout",
     "output_type": "stream",
     "text": [
      "1 \n",
      "\n",
      "1 2 \n",
      "\n",
      "1 2 3 \n",
      "\n",
      "1 2 3 4 \n",
      "\n",
      "1 2 3 4 5 \n",
      "\n"
     ]
    }
   ],
   "source": [
    "lastNumber = 6\n",
    "for i in range(1, lastNumber):\n",
    "    for j in range(1, i + 1):\n",
    "        print(j, end=' ')\n",
    "    print(\"\\n\")"
   ]
  },
  {
   "cell_type": "markdown",
   "metadata": {},
   "source": [
    "## Q6 : Print the following pattern.\n",
    "\n",
    "+\n",
    "\n",
    "++\n",
    "\n",
    "+++\n",
    "\n",
    "++++\n",
    "\n",
    "+++++\n",
    "\n",
    "++++\n",
    "\n",
    "+++\n",
    "\n",
    "++\n",
    "\n",
    "+"
   ]
  },
  {
   "cell_type": "code",
   "execution_count": 28,
   "metadata": {},
   "outputs": [
    {
     "name": "stdout",
     "output_type": "stream",
     "text": [
      "+ \r\n",
      "+ + \r\n",
      "+ + + \r\n",
      "+ + + + \r\n",
      "+ + + + + \r\n",
      "+ + + + \n",
      "+ + + \n",
      "+ + \n",
      "+ \n",
      "\n"
     ]
    }
   ],
   "source": [
    "rows = 5\n",
    "for i in range(0, rows):\n",
    "    for j in range(0, i + 1):\n",
    "        print(\"+\", end=' ')\n",
    "    print(\"\\r\")\n",
    "\n",
    "for i in range(rows, 0, -1):\n",
    "    for j in range(0, i - 1):\n",
    "        print(\"+\", end=' ')\n",
    "    print(\"\")"
   ]
  },
  {
   "cell_type": "markdown",
   "metadata": {},
   "source": [
    "## Q7 : Find the sum of the series 1 + 11 + 111 + 1111 + .. n terms. (take input of n from User)"
   ]
  },
  {
   "cell_type": "code",
   "execution_count": 30,
   "metadata": {},
   "outputs": [
    {
     "name": "stdout",
     "output_type": "stream",
     "text": [
      "Number od terms =5\n",
      "1 11 111 1111 11111 \n",
      "Sum of above series is: 12345\n"
     ]
    }
   ],
   "source": [
    "number_of_terms = int(input(\"Number od terms =\"))\n",
    "start = 1\n",
    "sum = 0\n",
    "for i in range(0, number_of_terms):\n",
    "    print(start, end=\" \")\n",
    "    sum += start\n",
    "    start = (start * 10) + 1\n",
    "print(\"\\nSum of above series is:\", sum)"
   ]
  },
  {
   "cell_type": "markdown",
   "metadata": {},
   "source": [
    "## Q8 : Display the cube of the number up to a given integer specified by user."
   ]
  },
  {
   "cell_type": "code",
   "execution_count": 37,
   "metadata": {},
   "outputs": [
    {
     "name": "stdout",
     "output_type": "stream",
     "text": [
      "Given Number = 4\n",
      "Current Number is : 1  and the cube is 1\n",
      "Current Number is : 2  and the cube is 8\n",
      "Current Number is : 3  and the cube is 27\n",
      "Current Number is : 4  and the cube is 64\n"
     ]
    }
   ],
   "source": [
    "input_number = int(input(\"Given Number = \"))\n",
    "for i in range(1, input_number + 1):\n",
    "    print(\"Current Number is :\", i, \" and the cube is\", (i * i * i))"
   ]
  },
  {
   "cell_type": "markdown",
   "metadata": {},
   "source": [
    "## Q9 : Use a loop to display elements from a given list which are present at even positions.\n",
    "\n",
    "List = [1,2,3,4,5,6,7,8,9,0]"
   ]
  },
  {
   "cell_type": "code",
   "execution_count": 36,
   "metadata": {},
   "outputs": [
    {
     "name": "stdout",
     "output_type": "stream",
     "text": [
      "2 4 6 8 0 "
     ]
    }
   ],
   "source": [
    "List = [1,2,3,4,5,6,7,8,9,0]\n",
    "for i in List[1::2]:\n",
    "    print(i, end=\" \")"
   ]
  },
  {
   "cell_type": "markdown",
   "metadata": {},
   "source": [
    "## Q10 : Reverse a user defined integer number."
   ]
  },
  {
   "cell_type": "code",
   "execution_count": null,
   "metadata": {},
   "outputs": [],
   "source": [
    "num = int(input(\"Value of Number is : \"))\n",
    "reverse_number = 0\n",
    "print(\"Given Number : \", num)\n",
    "while num > 0:\n",
    "    reminder = num % 10\n",
    "    reverse_number = (reverse_number * 10) + reminder\n",
    "    num = num // 10\n",
    "print(\"Revered Number : \", reverse_number)"
   ]
  },
  {
   "cell_type": "markdown",
   "metadata": {},
   "source": [
    "### END ###"
   ]
  }
 ],
 "metadata": {
  "kernelspec": {
   "display_name": "Python 3",
   "language": "python",
   "name": "python3"
  },
  "language_info": {
   "codemirror_mode": {
    "name": "ipython",
    "version": 3
   },
   "file_extension": ".py",
   "mimetype": "text/x-python",
   "name": "python",
   "nbconvert_exporter": "python",
   "pygments_lexer": "ipython3",
   "version": "3.8.5"
  }
 },
 "nbformat": 4,
 "nbformat_minor": 4
}
