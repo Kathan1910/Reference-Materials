{
 "cells": [
  {
   "cell_type": "code",
   "execution_count": 2,
   "id": "ee02f1d2",
   "metadata": {},
   "outputs": [],
   "source": [
    "import warnings \n",
    "warnings.filterwarnings(\"ignore\")"
   ]
  },
  {
   "cell_type": "markdown",
   "id": "d9a39b1f",
   "metadata": {},
   "source": [
    "(1) Explore English Model"
   ]
  },
  {
   "cell_type": "code",
   "execution_count": 6,
   "id": "37e3bc1f",
   "metadata": {},
   "outputs": [
    {
     "name": "stdout",
     "output_type": "stream",
     "text": [
      "Collecting fasttext==0.9.2\n",
      "  Using cached fasttext-0.9.2.tar.gz (68 kB)\n",
      "  Preparing metadata (setup.py) ... \u001b[?25ldone\n",
      "\u001b[?25hRequirement already satisfied: pybind11>=2.2 in /home/kathan/anaconda3/lib/python3.9/site-packages (from fasttext==0.9.2) (2.10.4)\n",
      "Requirement already satisfied: setuptools>=0.7.0 in /home/kathan/anaconda3/lib/python3.9/site-packages (from fasttext==0.9.2) (60.10.0)\n",
      "Requirement already satisfied: numpy in /home/kathan/anaconda3/lib/python3.9/site-packages (from fasttext==0.9.2) (1.23.5)\n",
      "Building wheels for collected packages: fasttext\n",
      "  Building wheel for fasttext (setup.py) ... \u001b[?25lerror\n",
      "  \u001b[1;31merror\u001b[0m: \u001b[1msubprocess-exited-with-error\u001b[0m\n",
      "  \n",
      "  \u001b[31m×\u001b[0m \u001b[32mpython setup.py bdist_wheel\u001b[0m did not run successfully.\n",
      "  \u001b[31m│\u001b[0m exit code: \u001b[1;36m1\u001b[0m\n",
      "  \u001b[31m╰─>\u001b[0m \u001b[31m[59 lines of output]\u001b[0m\n",
      "  \u001b[31m   \u001b[0m /home/kathan/anaconda3/lib/python3.9/site-packages/setuptools/dist.py:739: UserWarning: Usage of dash-separated 'description-file' will not be supported in future versions. Please use the underscore name 'description_file' instead\n",
      "  \u001b[31m   \u001b[0m   warnings.warn(\n",
      "  \u001b[31m   \u001b[0m running bdist_wheel\n",
      "  \u001b[31m   \u001b[0m running build\n",
      "  \u001b[31m   \u001b[0m running build_py\n",
      "  \u001b[31m   \u001b[0m creating build\n",
      "  \u001b[31m   \u001b[0m creating build/lib.linux-x86_64-3.9\n",
      "  \u001b[31m   \u001b[0m creating build/lib.linux-x86_64-3.9/fasttext\n",
      "  \u001b[31m   \u001b[0m copying python/fasttext_module/fasttext/FastText.py -> build/lib.linux-x86_64-3.9/fasttext\n",
      "  \u001b[31m   \u001b[0m copying python/fasttext_module/fasttext/__init__.py -> build/lib.linux-x86_64-3.9/fasttext\n",
      "  \u001b[31m   \u001b[0m creating build/lib.linux-x86_64-3.9/fasttext/util\n",
      "  \u001b[31m   \u001b[0m copying python/fasttext_module/fasttext/util/__init__.py -> build/lib.linux-x86_64-3.9/fasttext/util\n",
      "  \u001b[31m   \u001b[0m copying python/fasttext_module/fasttext/util/util.py -> build/lib.linux-x86_64-3.9/fasttext/util\n",
      "  \u001b[31m   \u001b[0m creating build/lib.linux-x86_64-3.9/fasttext/tests\n",
      "  \u001b[31m   \u001b[0m copying python/fasttext_module/fasttext/tests/__init__.py -> build/lib.linux-x86_64-3.9/fasttext/tests\n",
      "  \u001b[31m   \u001b[0m copying python/fasttext_module/fasttext/tests/test_configurations.py -> build/lib.linux-x86_64-3.9/fasttext/tests\n",
      "  \u001b[31m   \u001b[0m copying python/fasttext_module/fasttext/tests/test_script.py -> build/lib.linux-x86_64-3.9/fasttext/tests\n",
      "  \u001b[31m   \u001b[0m running build_ext\n",
      "  \u001b[31m   \u001b[0m creating tmp\n",
      "  \u001b[31m   \u001b[0m gcc -pthread -B /home/kathan/anaconda3/compiler_compat -Wno-unused-result -Wsign-compare -DNDEBUG -O2 -Wall -fPIC -O2 -isystem /home/kathan/anaconda3/include -I/home/kathan/anaconda3/include -fPIC -O2 -isystem /home/kathan/anaconda3/include -fPIC -I/home/kathan/anaconda3/include/python3.9 -c /tmp/tmpro24pd5q.cpp -o tmp/tmpro24pd5q.o -std=c++14\n",
      "  \u001b[31m   \u001b[0m gcc -pthread -B /home/kathan/anaconda3/compiler_compat -Wno-unused-result -Wsign-compare -DNDEBUG -O2 -Wall -fPIC -O2 -isystem /home/kathan/anaconda3/include -I/home/kathan/anaconda3/include -fPIC -O2 -isystem /home/kathan/anaconda3/include -fPIC -I/home/kathan/anaconda3/include/python3.9 -c /tmp/tmpdt7k2qqr.cpp -o tmp/tmpdt7k2qqr.o -std=c++11\n",
      "  \u001b[31m   \u001b[0m Traceback (most recent call last):\n",
      "  \u001b[31m   \u001b[0m   File \"<string>\", line 2, in <module>\n",
      "  \u001b[31m   \u001b[0m   File \"<pip-setuptools-caller>\", line 34, in <module>\n",
      "  \u001b[31m   \u001b[0m   File \"/tmp/pip-install-krzrud_3/fasttext_45a66995ba824dd4a6f11bfdd4bddb31/setup.py\", line 168, in <module>\n",
      "  \u001b[31m   \u001b[0m     setup(\n",
      "  \u001b[31m   \u001b[0m   File \"/home/kathan/anaconda3/lib/python3.9/site-packages/setuptools/__init__.py\", line 155, in setup\n",
      "  \u001b[31m   \u001b[0m     return distutils.core.setup(**attrs)\n",
      "  \u001b[31m   \u001b[0m   File \"/home/kathan/anaconda3/lib/python3.9/site-packages/setuptools/_distutils/core.py\", line 148, in setup\n",
      "  \u001b[31m   \u001b[0m     return run_commands(dist)\n",
      "  \u001b[31m   \u001b[0m   File \"/home/kathan/anaconda3/lib/python3.9/site-packages/setuptools/_distutils/core.py\", line 163, in run_commands\n",
      "  \u001b[31m   \u001b[0m     dist.run_commands()\n",
      "  \u001b[31m   \u001b[0m   File \"/home/kathan/anaconda3/lib/python3.9/site-packages/setuptools/_distutils/dist.py\", line 967, in run_commands\n",
      "  \u001b[31m   \u001b[0m     self.run_command(cmd)\n",
      "  \u001b[31m   \u001b[0m   File \"/home/kathan/anaconda3/lib/python3.9/site-packages/setuptools/_distutils/dist.py\", line 986, in run_command\n",
      "  \u001b[31m   \u001b[0m     cmd_obj.run()\n",
      "  \u001b[31m   \u001b[0m   File \"/home/kathan/anaconda3/lib/python3.9/site-packages/wheel/bdist_wheel.py\", line 299, in run\n",
      "  \u001b[31m   \u001b[0m     self.run_command('build')\n",
      "  \u001b[31m   \u001b[0m   File \"/home/kathan/anaconda3/lib/python3.9/site-packages/setuptools/_distutils/cmd.py\", line 313, in run_command\n",
      "  \u001b[31m   \u001b[0m     self.distribution.run_command(command)\n",
      "  \u001b[31m   \u001b[0m   File \"/home/kathan/anaconda3/lib/python3.9/site-packages/setuptools/_distutils/dist.py\", line 986, in run_command\n",
      "  \u001b[31m   \u001b[0m     cmd_obj.run()\n",
      "  \u001b[31m   \u001b[0m   File \"/home/kathan/anaconda3/lib/python3.9/site-packages/setuptools/_distutils/command/build.py\", line 135, in run\n",
      "  \u001b[31m   \u001b[0m     self.run_command(cmd_name)\n",
      "  \u001b[31m   \u001b[0m   File \"/home/kathan/anaconda3/lib/python3.9/site-packages/setuptools/_distutils/cmd.py\", line 313, in run_command\n",
      "  \u001b[31m   \u001b[0m     self.distribution.run_command(command)\n",
      "  \u001b[31m   \u001b[0m   File \"/home/kathan/anaconda3/lib/python3.9/site-packages/setuptools/_distutils/dist.py\", line 986, in run_command\n",
      "  \u001b[31m   \u001b[0m     cmd_obj.run()\n",
      "  \u001b[31m   \u001b[0m   File \"/home/kathan/anaconda3/lib/python3.9/site-packages/setuptools/command/build_ext.py\", line 79, in run\n",
      "  \u001b[31m   \u001b[0m     _build_ext.run(self)\n",
      "  \u001b[31m   \u001b[0m   File \"/home/kathan/anaconda3/lib/python3.9/site-packages/Cython/Distutils/old_build_ext.py\", line 186, in run\n",
      "  \u001b[31m   \u001b[0m     _build_ext.build_ext.run(self)\n",
      "  \u001b[31m   \u001b[0m   File \"/home/kathan/anaconda3/lib/python3.9/site-packages/setuptools/_distutils/command/build_ext.py\", line 339, in run\n",
      "  \u001b[31m   \u001b[0m     self.build_extensions()\n",
      "  \u001b[31m   \u001b[0m   File \"/tmp/pip-install-krzrud_3/fasttext_45a66995ba824dd4a6f11bfdd4bddb31/setup.py\", line 146, in build_extensions\n",
      "  \u001b[31m   \u001b[0m     opts.append(cpp_flag(self.compiler))\n",
      "  \u001b[31m   \u001b[0m   File \"/tmp/pip-install-krzrud_3/fasttext_45a66995ba824dd4a6f11bfdd4bddb31/setup.py\", line 108, in cpp_flag\n",
      "  \u001b[31m   \u001b[0m     raise RuntimeError(\n",
      "  \u001b[31m   \u001b[0m RuntimeError: Unsupported compiler -- at least C++11 support is needed!\n",
      "  \u001b[31m   \u001b[0m \u001b[31m[end of output]\u001b[0m\n",
      "  \n",
      "  \u001b[1;35mnote\u001b[0m: This error originates from a subprocess, and is likely not a problem with pip.\n",
      "\u001b[31m  ERROR: Failed building wheel for fasttext\u001b[0m\u001b[31m\n",
      "\u001b[0m\u001b[?25h  Running setup.py clean for fasttext\n",
      "Failed to build fasttext\n",
      "Installing collected packages: fasttext\n",
      "  Running setup.py install for fasttext ... \u001b[?25lerror\n",
      "  \u001b[1;31merror\u001b[0m: \u001b[1msubprocess-exited-with-error\u001b[0m\n",
      "  \n",
      "  \u001b[31m×\u001b[0m \u001b[32mRunning setup.py install for fasttext\u001b[0m did not run successfully.\n",
      "  \u001b[31m│\u001b[0m exit code: \u001b[1;36m1\u001b[0m\n",
      "  \u001b[31m╰─>\u001b[0m \u001b[31m[62 lines of output]\u001b[0m\n",
      "  \u001b[31m   \u001b[0m /home/kathan/anaconda3/lib/python3.9/site-packages/setuptools/dist.py:739: UserWarning: Usage of dash-separated 'description-file' will not be supported in future versions. Please use the underscore name 'description_file' instead\n",
      "  \u001b[31m   \u001b[0m   warnings.warn(\n",
      "  \u001b[31m   \u001b[0m running install\n",
      "  \u001b[31m   \u001b[0m /home/kathan/anaconda3/lib/python3.9/site-packages/setuptools/command/install.py:34: SetuptoolsDeprecationWarning: setup.py install is deprecated. Use build and pip and other standards-based tools.\n",
      "  \u001b[31m   \u001b[0m   warnings.warn(\n",
      "  \u001b[31m   \u001b[0m running build\n",
      "  \u001b[31m   \u001b[0m running build_py\n",
      "  \u001b[31m   \u001b[0m creating build\n",
      "  \u001b[31m   \u001b[0m creating build/lib.linux-x86_64-3.9\n",
      "  \u001b[31m   \u001b[0m creating build/lib.linux-x86_64-3.9/fasttext\n",
      "  \u001b[31m   \u001b[0m copying python/fasttext_module/fasttext/FastText.py -> build/lib.linux-x86_64-3.9/fasttext\n",
      "  \u001b[31m   \u001b[0m copying python/fasttext_module/fasttext/__init__.py -> build/lib.linux-x86_64-3.9/fasttext\n",
      "  \u001b[31m   \u001b[0m creating build/lib.linux-x86_64-3.9/fasttext/util\n",
      "  \u001b[31m   \u001b[0m copying python/fasttext_module/fasttext/util/__init__.py -> build/lib.linux-x86_64-3.9/fasttext/util\n",
      "  \u001b[31m   \u001b[0m copying python/fasttext_module/fasttext/util/util.py -> build/lib.linux-x86_64-3.9/fasttext/util\n",
      "  \u001b[31m   \u001b[0m creating build/lib.linux-x86_64-3.9/fasttext/tests\n",
      "  \u001b[31m   \u001b[0m copying python/fasttext_module/fasttext/tests/__init__.py -> build/lib.linux-x86_64-3.9/fasttext/tests\n",
      "  \u001b[31m   \u001b[0m copying python/fasttext_module/fasttext/tests/test_configurations.py -> build/lib.linux-x86_64-3.9/fasttext/tests\n",
      "  \u001b[31m   \u001b[0m copying python/fasttext_module/fasttext/tests/test_script.py -> build/lib.linux-x86_64-3.9/fasttext/tests\n",
      "  \u001b[31m   \u001b[0m running build_ext\n",
      "  \u001b[31m   \u001b[0m gcc -pthread -B /home/kathan/anaconda3/compiler_compat -Wno-unused-result -Wsign-compare -DNDEBUG -O2 -Wall -fPIC -O2 -isystem /home/kathan/anaconda3/include -I/home/kathan/anaconda3/include -fPIC -O2 -isystem /home/kathan/anaconda3/include -fPIC -I/home/kathan/anaconda3/include/python3.9 -c /tmp/tmplyt4894b.cpp -o tmp/tmplyt4894b.o -std=c++14\n",
      "  \u001b[31m   \u001b[0m gcc -pthread -B /home/kathan/anaconda3/compiler_compat -Wno-unused-result -Wsign-compare -DNDEBUG -O2 -Wall -fPIC -O2 -isystem /home/kathan/anaconda3/include -I/home/kathan/anaconda3/include -fPIC -O2 -isystem /home/kathan/anaconda3/include -fPIC -I/home/kathan/anaconda3/include/python3.9 -c /tmp/tmpwmiudn4z.cpp -o tmp/tmpwmiudn4z.o -std=c++11\n",
      "  \u001b[31m   \u001b[0m Traceback (most recent call last):\n",
      "  \u001b[31m   \u001b[0m   File \"<string>\", line 2, in <module>\n",
      "  \u001b[31m   \u001b[0m   File \"<pip-setuptools-caller>\", line 34, in <module>\n",
      "  \u001b[31m   \u001b[0m   File \"/tmp/pip-install-krzrud_3/fasttext_45a66995ba824dd4a6f11bfdd4bddb31/setup.py\", line 168, in <module>\n",
      "  \u001b[31m   \u001b[0m     setup(\n",
      "  \u001b[31m   \u001b[0m   File \"/home/kathan/anaconda3/lib/python3.9/site-packages/setuptools/__init__.py\", line 155, in setup\n",
      "  \u001b[31m   \u001b[0m     return distutils.core.setup(**attrs)\n",
      "  \u001b[31m   \u001b[0m   File \"/home/kathan/anaconda3/lib/python3.9/site-packages/setuptools/_distutils/core.py\", line 148, in setup\n",
      "  \u001b[31m   \u001b[0m     return run_commands(dist)\n",
      "  \u001b[31m   \u001b[0m   File \"/home/kathan/anaconda3/lib/python3.9/site-packages/setuptools/_distutils/core.py\", line 163, in run_commands\n",
      "  \u001b[31m   \u001b[0m     dist.run_commands()\n",
      "  \u001b[31m   \u001b[0m   File \"/home/kathan/anaconda3/lib/python3.9/site-packages/setuptools/_distutils/dist.py\", line 967, in run_commands\n",
      "  \u001b[31m   \u001b[0m     self.run_command(cmd)\n",
      "  \u001b[31m   \u001b[0m   File \"/home/kathan/anaconda3/lib/python3.9/site-packages/setuptools/_distutils/dist.py\", line 986, in run_command\n",
      "  \u001b[31m   \u001b[0m     cmd_obj.run()\n",
      "  \u001b[31m   \u001b[0m   File \"/home/kathan/anaconda3/lib/python3.9/site-packages/setuptools/command/install.py\", line 68, in run\n",
      "  \u001b[31m   \u001b[0m     return orig.install.run(self)\n",
      "  \u001b[31m   \u001b[0m   File \"/home/kathan/anaconda3/lib/python3.9/site-packages/setuptools/_distutils/command/install.py\", line 670, in run\n",
      "  \u001b[31m   \u001b[0m     self.run_command('build')\n",
      "  \u001b[31m   \u001b[0m   File \"/home/kathan/anaconda3/lib/python3.9/site-packages/setuptools/_distutils/cmd.py\", line 313, in run_command\n",
      "  \u001b[31m   \u001b[0m     self.distribution.run_command(command)\n",
      "  \u001b[31m   \u001b[0m   File \"/home/kathan/anaconda3/lib/python3.9/site-packages/setuptools/_distutils/dist.py\", line 986, in run_command\n",
      "  \u001b[31m   \u001b[0m     cmd_obj.run()\n",
      "  \u001b[31m   \u001b[0m   File \"/home/kathan/anaconda3/lib/python3.9/site-packages/setuptools/_distutils/command/build.py\", line 135, in run\n",
      "  \u001b[31m   \u001b[0m     self.run_command(cmd_name)\n",
      "  \u001b[31m   \u001b[0m   File \"/home/kathan/anaconda3/lib/python3.9/site-packages/setuptools/_distutils/cmd.py\", line 313, in run_command\n",
      "  \u001b[31m   \u001b[0m     self.distribution.run_command(command)\n",
      "  \u001b[31m   \u001b[0m   File \"/home/kathan/anaconda3/lib/python3.9/site-packages/setuptools/_distutils/dist.py\", line 986, in run_command\n",
      "  \u001b[31m   \u001b[0m     cmd_obj.run()\n",
      "  \u001b[31m   \u001b[0m   File \"/home/kathan/anaconda3/lib/python3.9/site-packages/setuptools/command/build_ext.py\", line 79, in run\n",
      "  \u001b[31m   \u001b[0m     _build_ext.run(self)\n",
      "  \u001b[31m   \u001b[0m   File \"/home/kathan/anaconda3/lib/python3.9/site-packages/Cython/Distutils/old_build_ext.py\", line 186, in run\n",
      "  \u001b[31m   \u001b[0m     _build_ext.build_ext.run(self)\n",
      "  \u001b[31m   \u001b[0m   File \"/home/kathan/anaconda3/lib/python3.9/site-packages/setuptools/_distutils/command/build_ext.py\", line 339, in run\n",
      "  \u001b[31m   \u001b[0m     self.build_extensions()\n",
      "  \u001b[31m   \u001b[0m   File \"/tmp/pip-install-krzrud_3/fasttext_45a66995ba824dd4a6f11bfdd4bddb31/setup.py\", line 146, in build_extensions\n",
      "  \u001b[31m   \u001b[0m     opts.append(cpp_flag(self.compiler))\n",
      "  \u001b[31m   \u001b[0m   File \"/tmp/pip-install-krzrud_3/fasttext_45a66995ba824dd4a6f11bfdd4bddb31/setup.py\", line 108, in cpp_flag\n",
      "  \u001b[31m   \u001b[0m     raise RuntimeError(\n",
      "  \u001b[31m   \u001b[0m RuntimeError: Unsupported compiler -- at least C++11 support is needed!\n",
      "  \u001b[31m   \u001b[0m \u001b[31m[end of output]\u001b[0m\n",
      "  \n",
      "  \u001b[1;35mnote\u001b[0m: This error originates from a subprocess, and is likely not a problem with pip.\n",
      "\u001b[1;31merror\u001b[0m: \u001b[1mlegacy-install-failure\u001b[0m\n",
      "\n",
      "\u001b[31m×\u001b[0m Encountered error while trying to install package.\n",
      "\u001b[31m╰─>\u001b[0m fasttext\n",
      "\n",
      "\u001b[1;35mnote\u001b[0m: This is an issue with the package mentioned above, not pip.\n",
      "\u001b[1;36mhint\u001b[0m: See above for output from the failure.\n",
      "\u001b[?25h"
     ]
    }
   ],
   "source": [
    "!pip install fasttext==0.9.2\n"
   ]
  },
  {
   "cell_type": "code",
   "execution_count": 1,
   "id": "05d024d8",
   "metadata": {},
   "outputs": [
    {
     "ename": "ModuleNotFoundError",
     "evalue": "No module named 'fasttext'",
     "output_type": "error",
     "traceback": [
      "\u001b[0;31m---------------------------------------------------------------------------\u001b[0m",
      "\u001b[0;31mModuleNotFoundError\u001b[0m                       Traceback (most recent call last)",
      "\u001b[0;32m/tmp/ipykernel_4476/3786261631.py\u001b[0m in \u001b[0;36m<module>\u001b[0;34m\u001b[0m\n\u001b[0;32m----> 1\u001b[0;31m \u001b[0;32mimport\u001b[0m \u001b[0mfasttext\u001b[0m\u001b[0;34m\u001b[0m\u001b[0;34m\u001b[0m\u001b[0m\n\u001b[0m\u001b[1;32m      2\u001b[0m \u001b[0;34m\u001b[0m\u001b[0m\n\u001b[1;32m      3\u001b[0m \u001b[0mmodel_en\u001b[0m \u001b[0;34m=\u001b[0m \u001b[0mfasttext\u001b[0m\u001b[0;34m.\u001b[0m\u001b[0mload_model\u001b[0m\u001b[0;34m(\u001b[0m\u001b[0;34m'C:\\\\Code\\\\nlp-tutorials\\\\downloads\\\\cc.en.300.bin'\u001b[0m\u001b[0;34m)\u001b[0m\u001b[0;34m\u001b[0m\u001b[0;34m\u001b[0m\u001b[0m\n\u001b[1;32m      4\u001b[0m \u001b[0;34m\u001b[0m\u001b[0m\n\u001b[1;32m      5\u001b[0m \u001b[0mmodel_en\u001b[0m\u001b[0;34m.\u001b[0m\u001b[0mget_nearest_neighbors\u001b[0m\u001b[0;34m(\u001b[0m\u001b[0;34m'good'\u001b[0m\u001b[0;34m)\u001b[0m\u001b[0;34m\u001b[0m\u001b[0;34m\u001b[0m\u001b[0m\n",
      "\u001b[0;31mModuleNotFoundError\u001b[0m: No module named 'fasttext'"
     ]
    }
   ],
   "source": [
    "import fasttext\n",
    "\n",
    "model_en = fasttext.load_model('C:\\\\Code\\\\nlp-tutorials\\\\downloads\\\\cc.en.300.bin')\n",
    "\n",
    "model_en.get_nearest_neighbors('good')"
   ]
  },
  {
   "cell_type": "code",
   "execution_count": null,
   "id": "66338cd1",
   "metadata": {},
   "outputs": [],
   "source": []
  },
  {
   "cell_type": "code",
   "execution_count": 7,
   "id": "daca55d4",
   "metadata": {},
   "outputs": [
    {
     "name": "stderr",
     "output_type": "stream",
     "text": [
      "2023-04-18 11:19:50.244589: I tensorflow/core/platform/cpu_feature_guard.cc:182] This TensorFlow binary is optimized to use available CPU instructions in performance-critical operations.\n",
      "To enable the following instructions: AVX2 FMA, in other operations, rebuild TensorFlow with the appropriate compiler flags.\n",
      "2023-04-18 11:19:51.792085: W tensorflow/compiler/tf2tensorrt/utils/py_utils.cc:38] TF-TRT Warning: Could not find TensorRT\n"
     ]
    },
    {
     "name": "stdout",
     "output_type": "stream",
     "text": [
      "[]\n"
     ]
    }
   ],
   "source": [
    "import spacy\n",
    "\n",
    "nlp = spacy.load(\"en_core_web_sm\")\n",
    "\n",
    "sentences = [\n",
    "    \"Show the Tar roads which have 2 lanes.\",\n",
    "    \"Find all layers with 2 lanes on the road.\",\n",
    "    \"Identify the Tar roads that have only 2 lanes.\",\n",
    "]\n",
    "\n",
    "keywords = []\n",
    "for sentence in sentences:\n",
    "    doc = nlp(sentence)\n",
    "    for token in doc:\n",
    "        if token.dep_ == \"pobj\" and token.head.pos_ == \"NOUN\" and token.head.text in [\"roads\", \"layers\", \"road\"]:\n",
    "            attributes = []\n",
    "            values = []\n",
    "            for child in token.head.children:\n",
    "                if child.dep_ == \"amod\":\n",
    "                    attributes.append(child.text)\n",
    "                elif child.dep_ == \"nummod\":\n",
    "                    values.append(child.text)\n",
    "            if len(attributes) > 0 and len(values) > 0:\n",
    "                keywords.append({\"attribute\": attributes[0], \"value\": values[0]})\n",
    "\n",
    "print(keywords)"
   ]
  },
  {
   "cell_type": "code",
   "execution_count": 8,
   "id": "0a08d3ae",
   "metadata": {},
   "outputs": [
    {
     "name": "stdout",
     "output_type": "stream",
     "text": [
      "[{'roads': 'which', 'values': None, 'attribute': None}, {'roads': 'with', 'values': None, 'attribute': None}, {'roads': 'with', 'values': None, 'attribute': None}]\n"
     ]
    }
   ],
   "source": [
    "sentences = [\"Show the Tar roads which have 2 lanes.\",\"Find the concrete roads with 3 lanes.\",\n",
    "             \"Highlight the dirt roads with single lane.\"]\n",
    "\n",
    "results = []\n",
    "\n",
    "for sentence in sentences:\n",
    "    keywords = {\"roads\": None, \"values\": None, \"attribute\": None}\n",
    "    words = sentence.split()\n",
    "    for i in range(len(words)):\n",
    "        if words[i].lower() in keywords.keys():\n",
    "            keywords[words[i].lower()] = words[i+1]\n",
    "    results.append(keywords)\n",
    "   \n",
    "print(results)"
   ]
  },
  {
   "cell_type": "code",
   "execution_count": null,
   "id": "a240eb26",
   "metadata": {},
   "outputs": [],
   "source": []
  }
 ],
 "metadata": {
  "kernelspec": {
   "display_name": "Python 3 (ipykernel)",
   "language": "python",
   "name": "python3"
  },
  "language_info": {
   "codemirror_mode": {
    "name": "ipython",
    "version": 3
   },
   "file_extension": ".py",
   "mimetype": "text/x-python",
   "name": "python",
   "nbconvert_exporter": "python",
   "pygments_lexer": "ipython3",
   "version": "3.9.13"
  }
 },
 "nbformat": 4,
 "nbformat_minor": 5
}
