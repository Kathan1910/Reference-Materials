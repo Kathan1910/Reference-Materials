{
 "cells": [
  {
   "cell_type": "code",
   "execution_count": 1,
   "id": "e5525abc",
   "metadata": {},
   "outputs": [],
   "source": [
    "import warnings \n",
    "warnings.filterwarnings(\"ignore\")"
   ]
  },
  {
   "cell_type": "code",
   "execution_count": 3,
   "id": "be0386ac",
   "metadata": {},
   "outputs": [
    {
     "data": {
      "text/plain": [
       "326"
      ]
     },
     "execution_count": 3,
     "metadata": {},
     "output_type": "execute_result"
    }
   ],
   "source": [
    "import spacy\n",
    "\n",
    "from spacy.lang.en.stop_words import STOP_WORDS\n",
    "\n",
    "len(STOP_WORDS)"
   ]
  },
  {
   "cell_type": "code",
   "execution_count": 4,
   "id": "82308be8",
   "metadata": {},
   "outputs": [
    {
     "data": {
      "text/plain": [
       "{\"'d\",\n",
       " \"'ll\",\n",
       " \"'m\",\n",
       " \"'re\",\n",
       " \"'s\",\n",
       " \"'ve\",\n",
       " 'a',\n",
       " 'about',\n",
       " 'above',\n",
       " 'across',\n",
       " 'after',\n",
       " 'afterwards',\n",
       " 'again',\n",
       " 'against',\n",
       " 'all',\n",
       " 'almost',\n",
       " 'alone',\n",
       " 'along',\n",
       " 'already',\n",
       " 'also',\n",
       " 'although',\n",
       " 'always',\n",
       " 'am',\n",
       " 'among',\n",
       " 'amongst',\n",
       " 'amount',\n",
       " 'an',\n",
       " 'and',\n",
       " 'another',\n",
       " 'any',\n",
       " 'anyhow',\n",
       " 'anyone',\n",
       " 'anything',\n",
       " 'anyway',\n",
       " 'anywhere',\n",
       " 'are',\n",
       " 'around',\n",
       " 'as',\n",
       " 'at',\n",
       " 'back',\n",
       " 'be',\n",
       " 'became',\n",
       " 'because',\n",
       " 'become',\n",
       " 'becomes',\n",
       " 'becoming',\n",
       " 'been',\n",
       " 'before',\n",
       " 'beforehand',\n",
       " 'behind',\n",
       " 'being',\n",
       " 'below',\n",
       " 'beside',\n",
       " 'besides',\n",
       " 'between',\n",
       " 'beyond',\n",
       " 'both',\n",
       " 'bottom',\n",
       " 'but',\n",
       " 'by',\n",
       " 'ca',\n",
       " 'call',\n",
       " 'can',\n",
       " 'cannot',\n",
       " 'could',\n",
       " 'did',\n",
       " 'do',\n",
       " 'does',\n",
       " 'doing',\n",
       " 'done',\n",
       " 'down',\n",
       " 'due',\n",
       " 'during',\n",
       " 'each',\n",
       " 'eight',\n",
       " 'either',\n",
       " 'eleven',\n",
       " 'else',\n",
       " 'elsewhere',\n",
       " 'empty',\n",
       " 'enough',\n",
       " 'even',\n",
       " 'ever',\n",
       " 'every',\n",
       " 'everyone',\n",
       " 'everything',\n",
       " 'everywhere',\n",
       " 'except',\n",
       " 'few',\n",
       " 'fifteen',\n",
       " 'fifty',\n",
       " 'first',\n",
       " 'five',\n",
       " 'for',\n",
       " 'former',\n",
       " 'formerly',\n",
       " 'forty',\n",
       " 'four',\n",
       " 'from',\n",
       " 'front',\n",
       " 'full',\n",
       " 'further',\n",
       " 'get',\n",
       " 'give',\n",
       " 'go',\n",
       " 'had',\n",
       " 'has',\n",
       " 'have',\n",
       " 'he',\n",
       " 'hence',\n",
       " 'her',\n",
       " 'here',\n",
       " 'hereafter',\n",
       " 'hereby',\n",
       " 'herein',\n",
       " 'hereupon',\n",
       " 'hers',\n",
       " 'herself',\n",
       " 'him',\n",
       " 'himself',\n",
       " 'his',\n",
       " 'how',\n",
       " 'however',\n",
       " 'hundred',\n",
       " 'i',\n",
       " 'if',\n",
       " 'in',\n",
       " 'indeed',\n",
       " 'into',\n",
       " 'is',\n",
       " 'it',\n",
       " 'its',\n",
       " 'itself',\n",
       " 'just',\n",
       " 'keep',\n",
       " 'last',\n",
       " 'latter',\n",
       " 'latterly',\n",
       " 'least',\n",
       " 'less',\n",
       " 'made',\n",
       " 'make',\n",
       " 'many',\n",
       " 'may',\n",
       " 'me',\n",
       " 'meanwhile',\n",
       " 'might',\n",
       " 'mine',\n",
       " 'more',\n",
       " 'moreover',\n",
       " 'most',\n",
       " 'mostly',\n",
       " 'move',\n",
       " 'much',\n",
       " 'must',\n",
       " 'my',\n",
       " 'myself',\n",
       " \"n't\",\n",
       " 'name',\n",
       " 'namely',\n",
       " 'neither',\n",
       " 'never',\n",
       " 'nevertheless',\n",
       " 'next',\n",
       " 'nine',\n",
       " 'no',\n",
       " 'nobody',\n",
       " 'none',\n",
       " 'noone',\n",
       " 'nor',\n",
       " 'not',\n",
       " 'nothing',\n",
       " 'now',\n",
       " 'nowhere',\n",
       " 'n‘t',\n",
       " 'n’t',\n",
       " 'of',\n",
       " 'off',\n",
       " 'often',\n",
       " 'on',\n",
       " 'once',\n",
       " 'one',\n",
       " 'only',\n",
       " 'onto',\n",
       " 'or',\n",
       " 'other',\n",
       " 'others',\n",
       " 'otherwise',\n",
       " 'our',\n",
       " 'ours',\n",
       " 'ourselves',\n",
       " 'out',\n",
       " 'over',\n",
       " 'own',\n",
       " 'part',\n",
       " 'per',\n",
       " 'perhaps',\n",
       " 'please',\n",
       " 'put',\n",
       " 'quite',\n",
       " 'rather',\n",
       " 're',\n",
       " 'really',\n",
       " 'regarding',\n",
       " 'same',\n",
       " 'say',\n",
       " 'see',\n",
       " 'seem',\n",
       " 'seemed',\n",
       " 'seeming',\n",
       " 'seems',\n",
       " 'serious',\n",
       " 'several',\n",
       " 'she',\n",
       " 'should',\n",
       " 'show',\n",
       " 'side',\n",
       " 'since',\n",
       " 'six',\n",
       " 'sixty',\n",
       " 'so',\n",
       " 'some',\n",
       " 'somehow',\n",
       " 'someone',\n",
       " 'something',\n",
       " 'sometime',\n",
       " 'sometimes',\n",
       " 'somewhere',\n",
       " 'still',\n",
       " 'such',\n",
       " 'take',\n",
       " 'ten',\n",
       " 'than',\n",
       " 'that',\n",
       " 'the',\n",
       " 'their',\n",
       " 'them',\n",
       " 'themselves',\n",
       " 'then',\n",
       " 'thence',\n",
       " 'there',\n",
       " 'thereafter',\n",
       " 'thereby',\n",
       " 'therefore',\n",
       " 'therein',\n",
       " 'thereupon',\n",
       " 'these',\n",
       " 'they',\n",
       " 'third',\n",
       " 'this',\n",
       " 'those',\n",
       " 'though',\n",
       " 'three',\n",
       " 'through',\n",
       " 'throughout',\n",
       " 'thru',\n",
       " 'thus',\n",
       " 'to',\n",
       " 'together',\n",
       " 'too',\n",
       " 'top',\n",
       " 'toward',\n",
       " 'towards',\n",
       " 'twelve',\n",
       " 'twenty',\n",
       " 'two',\n",
       " 'under',\n",
       " 'unless',\n",
       " 'until',\n",
       " 'up',\n",
       " 'upon',\n",
       " 'us',\n",
       " 'used',\n",
       " 'using',\n",
       " 'various',\n",
       " 'very',\n",
       " 'via',\n",
       " 'was',\n",
       " 'we',\n",
       " 'well',\n",
       " 'were',\n",
       " 'what',\n",
       " 'whatever',\n",
       " 'when',\n",
       " 'whence',\n",
       " 'whenever',\n",
       " 'where',\n",
       " 'whereafter',\n",
       " 'whereas',\n",
       " 'whereby',\n",
       " 'wherein',\n",
       " 'whereupon',\n",
       " 'wherever',\n",
       " 'whether',\n",
       " 'which',\n",
       " 'while',\n",
       " 'whither',\n",
       " 'who',\n",
       " 'whoever',\n",
       " 'whole',\n",
       " 'whom',\n",
       " 'whose',\n",
       " 'why',\n",
       " 'will',\n",
       " 'with',\n",
       " 'within',\n",
       " 'without',\n",
       " 'would',\n",
       " 'yet',\n",
       " 'you',\n",
       " 'your',\n",
       " 'yours',\n",
       " 'yourself',\n",
       " 'yourselves',\n",
       " '‘d',\n",
       " '‘ll',\n",
       " '‘m',\n",
       " '‘re',\n",
       " '‘s',\n",
       " '‘ve',\n",
       " '’d',\n",
       " '’ll',\n",
       " '’m',\n",
       " '’re',\n",
       " '’s',\n",
       " '’ve'}"
      ]
     },
     "execution_count": 4,
     "metadata": {},
     "output_type": "execute_result"
    }
   ],
   "source": [
    "STOP_WORDS"
   ]
  },
  {
   "cell_type": "code",
   "execution_count": 5,
   "id": "f756d2fc",
   "metadata": {},
   "outputs": [
    {
     "name": "stdout",
     "output_type": "stream",
     "text": [
      "We\n",
      "just\n",
      "our\n",
      "the\n",
      "part\n",
      "is\n"
     ]
    }
   ],
   "source": [
    "nlp = spacy.load(\"en_core_web_sm\")\n",
    "\n",
    "doc = nlp(\"We just opened our wings, the flying part is coming soon\")\n",
    "\n",
    "for token in doc:\n",
    "    if token.is_stop:\n",
    "        print(token)"
   ]
  },
  {
   "cell_type": "code",
   "execution_count": 6,
   "id": "72cc441d",
   "metadata": {},
   "outputs": [],
   "source": [
    "def preprocess(text):\n",
    "    doc = nlp(text)\n",
    "    \n",
    "    no_stop_words = [token.text for token in doc if not token.is_stop]\n",
    "    return \" \".join(no_stop_words)            "
   ]
  },
  {
   "cell_type": "code",
   "execution_count": 7,
   "id": "5729333e",
   "metadata": {},
   "outputs": [
    {
     "data": {
      "text/plain": [
       "'Musk wants time prepare trial'"
      ]
     },
     "execution_count": 7,
     "metadata": {},
     "output_type": "execute_result"
    }
   ],
   "source": [
    "preprocess(\"Musk wants time to prepare for a trial over his\")"
   ]
  },
  {
   "cell_type": "code",
   "execution_count": 8,
   "id": "0a8694fd",
   "metadata": {},
   "outputs": [
    {
     "data": {
      "text/plain": [
       "'divine brother'"
      ]
     },
     "execution_count": 8,
     "metadata": {},
     "output_type": "execute_result"
    }
   ],
   "source": [
    "preprocess(\"The other is not other but your divine brother\")\n"
   ]
  },
  {
   "cell_type": "code",
   "execution_count": 9,
   "id": "6a2091a3",
   "metadata": {},
   "outputs": [
    {
     "data": {
      "text/plain": [
       "(13087, 6)"
      ]
     },
     "execution_count": 9,
     "metadata": {},
     "output_type": "execute_result"
    }
   ],
   "source": [
    "import pandas as pd\n",
    "\n",
    "df = pd.read_json(\"doj_press.json\",lines=True)\n",
    "\n",
    "df.shape"
   ]
  },
  {
   "cell_type": "code",
   "execution_count": 10,
   "id": "0edb91da",
   "metadata": {},
   "outputs": [
    {
     "data": {
      "text/html": [
       "<div><div id=70d6dedd-b368-4a20-a176-bc1fbfa1d664 style=\"display:none; background-color:#9D6CFF; color:white; width:200px; height:30px; padding-left:5px; border-radius:4px; flex-direction:row; justify-content:space-around; align-items:center;\" onmouseover=\"this.style.backgroundColor='#BA9BF8'\" onmouseout=\"this.style.backgroundColor='#9D6CFF'\" onclick=\"window.commands?.execute('create-mitosheet-from-dataframe-output');\">See Full Dataframe in Mito</div> <script> if (window.commands?.hasCommand('create-mitosheet-from-dataframe-output')) document.getElementById('70d6dedd-b368-4a20-a176-bc1fbfa1d664').style.display = 'flex' </script> <table border=\"1\" class=\"dataframe\">\n",
       "  <thead>\n",
       "    <tr style=\"text-align: right;\">\n",
       "      <th></th>\n",
       "      <th>id</th>\n",
       "      <th>title</th>\n",
       "      <th>contents</th>\n",
       "      <th>date</th>\n",
       "      <th>topics</th>\n",
       "      <th>components</th>\n",
       "    </tr>\n",
       "  </thead>\n",
       "  <tbody>\n",
       "    <tr>\n",
       "      <th>0</th>\n",
       "      <td>None</td>\n",
       "      <td>Convicted Bomb Plotter Sentenced to 30 Years</td>\n",
       "      <td>PORTLAND, Oregon. – Mohamed Osman Mohamud, 23, who was convicted in 2013 of attempting to use a weapon of mass destruction (explosives) in connection with a plot to detonate a vehicle bomb at an annual Christmas tree lighting ceremony in Portland, was sentenced today to serve 30 years in prison, followed by a lifetime term of supervised release. Mohamud, a naturalized U.S. citizen from Somalia and former resident of Corvallis, Oregon, was arrested on Nov. 26, 2010, after he attempted to detonate what he believed to be an explosives-laden van that was parked near the tree lighting ceremony in Portland.  The arrest was the culmination of a long-term undercover operation, during which Mohamud was monitored closely for months as his bomb plot developed.  The device was in fact inert, and the public was never in danger from the device. At sentencing, United States District Court Judge Garr M. King, who presided over Mohamed’s 14-day trial, said “the intended crime was horrific,” and that the defendant, even though he was presented with options by undercover FBI employees, “never once expressed a change of heart.”  King further noted that the Christmas tree ceremony was attended by up to 10,000 people, and that the defendant “wanted everyone to leave either dead or injured.”  King said his sentence was necessary in view of the seriousness of the crime and to serve as deterrence to others who might consider similar acts.     “With today’s sentencing, Mohamed Osman Mohamud is being held accountable for his attempted use of what he believed to be a massive bomb to attack innocent civilians attending a public Christmas tree lighting ceremony in Portland,” said John P. Carlin, Assistant Attorney General for National Security.  “The evidence clearly indicated that Mohamud was intent on killing as many people as possible with his attack.  Fortunately, law enforcement was able to identify him as a threat, insert themselves in the place of a terrorist that Mohamud was trying to contact, and thwart Mohamud’s efforts to conduct an attack on our soil.  This case highlights how the use of undercover operations against would-be terrorists allows us to engage and disrupt those who wish to commit horrific acts of violence against the innocent public.  The many agents, analysts, and prosecutors who have worked on this case deserve great credit for their roles in protecting Portland from the threat posed by this defendant and ensuring that he was brought to justice.” “This trial provided a rare glimpse into the techniques Al Qaeda employs to radicalize home-grown extremists,” said Amanda Marshall, U.S. Attorney for the District of Oregon.  “With the sentencing today, the court has held this defendant accountable.   I thank the dedicated professionals in the law enforcement and intelligence communities who were responsible for this successful outcome.  I look forward to our continued work with Muslim communities in Oregon who are committed to ensuring that all young people are safe from extremists who seek to radicalize others to engage in violence.”  According to the trial evidence, in February 2009, Mohamud began communicating via e-mail with Samir Khan, a now-deceased al Qaeda terrorist who published Jihad Recollections, an online magazine that advocated violent jihad, and who also published Inspire, the official magazine of al-Qaeda in the Arabian Peninsula.  Between February and August 2009, Mohamed exchanged approximately 150 emails with Khan.  Mohamud wrote several articles for Jihad Recollections that were published under assumed names. In August 2009, Mohamud was in email contact with Amro Al-Ali, a Saudi national who was in Yemen at the time and is today in custody in Saudi Arabia for terrorism offenses.  Al-Ali sent Mohamud detailed e-mails designed to facilitate Mohamud’s travel to Yemen to train for violent jihad.  In December 2009, while Al-Ali was in the northwest frontier province of Pakistan, Mohamud and Al-Ali discussed the possibility of Mohamud traveling to Pakistan to join Al-Ali in terrorist activities. Mohamud responded to Al-Ali in an e-mail: “yes, that would be wonderful, just tell me what I need to do.”  Al-Ali referred Mohamud to a second associate overseas and provided Mohamud with a name and email address to facilitate the process. In the following months, Mohamud made several unsuccessful attempts to contact Al-Ali’s associate.  Ultimately, an FBI undercover operative contacted Mohamud via email under the guise of being an associate of Al-Ali’s.  Mohamud and the FBI undercover operative agreed to meet in Portland in July 2010.  At the meeting, Mohamud told the FBI undercover operative he had written articles that were published in Jihad Recollections.  Mohamud also said that he wanted to become “operational.”  Asked what he meant by “operational,” Mohamud said he wanted to put an explosion together, but needed help. According to evidence presented at trial, at a meeting in August 2010, Mohamud told undercover FBI operatives he had been thinking of committing violent jihad since the age of 15.  Mohamud then told the undercover FBI operatives that he had identified a potential target for a bomb: the annual Christmas tree lighting ceremony in Portland’s Pioneer Courthouse Square on Nov. 26, 2010.  The undercover FBI operatives cautioned Mohamud several times about the seriousness of this plan, noting there would be many people at the event, including children, and emphasized that Mohamud could abandon his attack plans at any time with no shame.  Mohamud indicated the deaths would be justified and that he would not mind carrying out a suicide attack on the crowd. According to evidence presented at trial, in the ensuing months Mohamud continued to express his interest in carrying out the attack and worked on logistics.  On Nov. 4, 2010, Mohamud and the undercover FBI operatives traveled to a remote location in Lincoln County, Oregon, where they detonated a bomb concealed in a backpack as a trial run for the upcoming attack.  During the drive back to Corvallis, Mohamud was asked if was capable looking at all the bodies of those who would be killed during the explosion.  In response, Mohamud noted, “I want whoever is attending that event to be, to leave either dead or injured.”  Mohamud later recorded a video of himself, with the assistance of the undercover FBI operatives, in which he read a statement that offered his rationale for his bomb attack.  On Nov. 18, 2010, undercover FBI operatives picked up Mohamud to travel to Portland to finalize the details of the attack.  On Nov. 26, 2010, just hours before the planned attack, Mohamud examined the 1,800 pound bomb in the van and remarked that it was “beautiful.”  Later that day, Mohamud was arrested after he attempted to remotely detonate the inert vehicle bomb rked near the Christmas tree lighting ceremony This case was investigated by the FBI, with assistance from the Oregon State Police, the Corvallis Police Department, the Lincoln County Sheriff’s Office and the Portland Police Bureau.  The prosecution was handled by Assistant U.S. Attorneys Ethan D. Knight and Pamala Holsinger from the U.S. Attorney’s Office for the District of Oregon.  Trial Attorney Jolie F. Zimmerman, from the Counterterrorism Section of the Justice Department’s National Security Division, assisted. # # # 14-1077</td>\n",
       "      <td>2014-10-01T00:00:00-04:00</td>\n",
       "      <td>[]</td>\n",
       "      <td>[National Security Division (NSD)]</td>\n",
       "    </tr>\n",
       "    <tr>\n",
       "      <th>1</th>\n",
       "      <td>12-919</td>\n",
       "      <td>$1 Million in Restitution Payments Announced to Preserve North Carolina Wetlands</td>\n",
       "      <td>WASHINGTON – North Carolina’s Waccamaw River watershed will benefit from a $1 million restitution order from a federal court, funding environmental projects to acquire and preserve wetlands in an area damaged by illegal releases of wastewater from a corporate hog farm, announced Ignacia S. Moreno, Assistant Attorney General of the Justice Department’s Environment and Natural Resources Division; U.S. Attorney for the Eastern District of North Carolina Thomas G. Walker; Director Greg McLeod from the North Carolina State Bureau of Investigation; and Camilla M. Herlevich, Executive Director of the North Carolina Coastal Land Trust.   Freedman Farms Inc. was sentenced in February 2012 to five years of probation and ordered to pay $1.5 million in fines, restitution and community service payments for violating the Clean Water Act when it discharged hog waste into a stream that leads to the Waccamaw River.  William B. Freedman, president of Freedman Farms, was sentenced to six months in prison to be followed by six months of home confinement.  Freedman Farms also is required to implement a comprehensive environmental compliance program and institute an annual training program.   In an order issued on April 19, 2012, the court ordered that the defendants would be responsible for restitution of $1 million in the form of five annual payments starting in January 2013, which the court will direct to the North Carolina Coastal Land Trust (NCCLT).  The NCCLT plans to use the money to acquire and conserve land along streams in the Waccamaw watershed.  The court also directed a $75,000 community service payment to the Southern Environmental Enforcement Network, an organization dedicated to environmental law enforcement training and information sharing in the region.    “The resolution of the case against Freedman Farms demonstrates the commitment of the Department of Justice to enforcing the Clean Water Act to ensure the protection of human health and the environment,” said Assistant Attorney General Moreno.  “The court-ordered restitution in this case will conserve wetlands for the benefit of the people of North Carolina.  By enforcing the nation’s environmental laws, we will continue to ensure that concentrated animal feeding operations (CAFOs) operate without threatening our drinking water, the health of our communities and the environment.”   “This office is committed to doing our part to hold accountable those who commit crimes against our environment, which can cause serious health problems to residents and damage the environment that makes North Carolina such a beautiful place to live and visit,” said U.S. Attorney Walker.   “This case shows what we can accomplish when our SBI agents work closely with their local, state and federal partners to investigate environmental crimes and hold the polluters accountable,” said Director McLeod.  “We’ll continue our efforts to fight illegal pollution that damages our water and puts the public’s health at risk.”    “The Waccamaw is unique and wild,” said Director Herlevich of the North Carolina Coastal Land Trust. “Its watershed includes some of the most extensive cypress gum swamps in the state, and its headwaters at Lake Waccamaw contain fish that are found nowhere else on Earth.  We appreciate the trust of the court and the U. S. Attorney, and we look forward to using these funds for conservation projects in a river system that is one of our top conservation priorities.”   According to evidence presented in court, in December 2007 Freedman Farms discharged hog waste into Browder’s Branch, a tributary to the Waccamaw River that flows through the White Marsh, a large wetlands complex.  Freedman Farms, located in Columbus County, N.C., is in the business of raising hogs for market, and this particular farm had some 4,800 hogs.  The hog waste was supposed to be directed to two lagoons for treatment and disposal.  Instead, hog waste was discharged from Freedman Farms directly into Browder’s Branch.    The Clean Water Act is a federal law that makes it illegal to knowingly or negligently discharge a pollutant into a water of the United States.    The Freedman case was investigated by the U.S. Environmental Protection Agency (EPA) Criminal Investigation Division, the U.S. Army Corps of Engineers and the North Carolina State Bureau of Investigation, with assistance from the EPA Science and Ecosystem Support Division.  The case was prosecuted by Assistant U.S. Attorney J. Gaston B. Williams of the Eastern District of North Carolina and Trial Attorney Mary Dee Carraway of the Environmental Crimes Section of the Justice Department’s Environment and Natural Resources Division.   The North Carolina Coastal Land Trust is celebrating its 20th anniversary of saving special lands in eastern North Carolina. The organization has protected nearly 50,000 acres of lands with scenic, recreational, historic and ecological values. North Carolina Coastal Land Trust has saved streams and wetlands that provide clean water, forests that are havens for wildlife, working farms that provide local food and nature parks that everyone can enjoy.  More information about the Coastal Land Trust is available at www.coastallandtrust.org.</td>\n",
       "      <td>2012-07-25T00:00:00-04:00</td>\n",
       "      <td>[]</td>\n",
       "      <td>[Environment and Natural Resources Division]</td>\n",
       "    </tr>\n",
       "    <tr>\n",
       "      <th>2</th>\n",
       "      <td>11-1002</td>\n",
       "      <td>$1 Million Settlement Reached for Natural Resource Damages at Superfund Site in Massachusetts</td>\n",
       "      <td>BOSTON– A $1-million settlement has been reached for natural resource damages (NRD) at the Blackburn &amp; Union Privileges Superfund Site in Walpole, Mass., the Departments of Justice and Interior (DOI), and the Office of the Massachusetts Attorney General announced today.                The Blackburn &amp; Union Privileges Superfund Site includes 22 acres of contaminated land and water in Walpole. The contamination resulted from the operations of various industrial facilities dating back to the 19th century that exposed the site to asbestos, arsenic, lead and other hazardous substances.                The private parties involved in the settlement include two former owners and operators of the site, W.R. Grace &amp; Co.– Conn. and Tyco Healthcare Group LP, as well as the current owners, BIM Investment Corp. and Shaffer Realty Nominee Trust.               From about 1915 to 1936, a predecessor of W.R. Grace manufactured asbestos brake linings and clutch linings on a large portion of the property. From 1946 to about 1983, a predecessor of Tyco Healthcare operated a cotton fabric manufacturing business, which used caustic solutions, on a portion of the property.               In a 2010 settlement with U.S. Environmental Protection Agency (EPA), the four private parties agreed to perform a remedial action to clean up the site at an estimated cost of $13 million. The consent decree lodged today resolves both state and federal NRD liability claims; it requires the parties to pay $1,094,169.56 to the state and federal natural resource trustees, the Massachusetts Executive Office of Energy and Environmental Affairs (EEA) and DOI, for injuries to ecological resources including groundwater and wetlands, which provide habitat for waterfowl and wading birds, including black ducks and great blue herons.  The trustees will use the settlement funds for natural resource restoration projects in the area.               “This settlement demonstrates our commitment to recovering damages from the parties responsible for injury to natural resources, in partnership with state trustees,” said Bruce Gelber, Acting Deputy Assistant Attorney General of the Justice Department’s Environment and Natural Resources Division.               “The citizens of Walpole have had to live with the environmental impact of this contamination for many years,” Attorney General Martha Coakley said. “We are pleased that today’s agreement will not only require the responsible parties to reimburse taxpayer dollars, but will also provide funding to begin restoring or replacing the wetland and other natural resources.”                 The consent decree was lodged in the U.S. District Court for Massachusetts.     A portion of the funds, $300,000, will be distributed to the EEA-sponsored groundwater restoration projects; $575,000 will be used for ecological restoration projects jointly sponsored by EEA and the U.S. Fish and Wildlife Service (FWS).               In addition, $125,000 will go for projects jointly sponsored by EEA and FWS that achieve both ecological and groundwater restoration; $57,491.34 will be allocated for reimbursement for the FWS’s assessment costs; and $36,678.22 will be distributed as reimbursement for the commonwealth’s assessment costs.       “This settlement provides the means for a range of projects designed to compensate the public for decades of groundwater and other ecological damage at this site.  I encourage local citizens and organizations to become engaged in the public process that will take place as we solicit, take comment on, and choose these projects in the months ahead,” said Energy and Environmental Affairs Secretary Richard K. Sullivan Jr., who serves as the Commonwealth’s Natural Resources Damages trustee.       “This settlement will help restore habitat for fish and wildlife in the Neponset River watershed,” said Tom Chapman of the FWS New England Field Office. “We look forward to working with the commonwealth and local stakeholders to implement restoration.”               “More than 100 years-worth of industrial activities at this site caused major environmental contamination to the Neponset River, nearby wetlands and to groundwater below the site,” said Commissioner Kenneth Kimmell of the Massachusetts Department of Environmental Protection (MassDEP), which will staff the Trustee Council for the Commonwealth. “We will ensure that the community and the public will be active participants in the process to use these NRD funds to restore the injured natural resources.”                Under the federal Comprehensive Environmental Response, Compensation and Liability Act, EEA and DOI, acting through the FWS, are the designated state and federal natural resource Trustees for the site. The site has been listed on the EPA’s National Priorities List since 1994.        The consent decree is subject to a public comment period and court approval. A copy of the consent decree and instructions about how to submit comments is available on www.usdoj.gov/enrd/Consent_Decrees.html  .               After the consent decree is approved, EEA and FWS will develop proposed restoration plans to use the settlement funds for restoration projects. The proposed restoration plans will also be made available to the public for review and comment.                Assistant Attorney General Matthew Brock of Massachusetts Attorney General Coakley's Environmental Protection Division handled this matter.  Attorney Jennifer Davis of MassDEP, Attorney Anna Blumkin of EEA and MassDEP’s NRD Coordinator Karen Pelto also worked on this settlement.</td>\n",
       "      <td>2011-08-03T00:00:00-04:00</td>\n",
       "      <td>[]</td>\n",
       "      <td>[Environment and Natural Resources Division]</td>\n",
       "    </tr>\n",
       "    <tr>\n",
       "      <th>3</th>\n",
       "      <td>10-015</td>\n",
       "      <td>10 Las Vegas Men Indicted \\r\\nfor Falsifying Vehicle Emissions Tests</td>\n",
       "      <td>WASHINGTON—A federal grand jury in Las Vegas today returned indictments against 10 Nevada-certified emissions testers for falsifying vehicle emissions test reports, the Justice Department announced.   Each defendant faces one felony Clean Air Act count for falsifying reports between November 2007 and May 2009. The number of falsifications varied by defendant, with some defendants having falsified approximately 250 records, while others falsified more than double that figure. One defendant is alleged to have falsified over 700 reports.   The individuals indicted include:     Escudero resides in Pahrump, Nev. All other individuals are from Clark County, Nev.    The 10 defendants are alleged to have engaged in a practice known as \"clean scanning\" vehicles. The scheme involved entering the Vehicle Identification Number (VIN) for a vehicle that would not pass the emissions test into the computerized system, then connecting a different vehicle the testers knew would pass the test. These falsifications were allegedly performed for anywhere from $10 to $100 over and above the usual emissions testing fee.    The U.S. Environmental Protection Agency (EPA), under the Clean Air Act, requires the state of Nevada to conduct vehicle emissions testing in certain areas because the areas exceed national standards for carbon monoxide and ozone. Las Vegas is currently required to perform emissions testing.    To obtain a registration renewal, vehicle owners bring the vehicles to a licensed inspection station for testing. The emissions inspector logs into a computer to activate the system by using a unique password issued to the emissions inspector. The emissions inspector manually inputs the vehicle’s VIN to identify the tested vehicle, then connects the vehicle for model year 1996 and later to an onboard diagnostics port connected to an analyzer. The analyzer downloads data from the vehicle’s computer, analyzes the data and provides a \"pass\" or \"fail\" result. The pass or fail result and vehicle identification data are reported on the Vehicle Inspection Report. It is a crime to knowingly alter or conceal any record or other document required to be maintained by the Clean Air Act.     \"Falsifications of vehicle emissions testing, such as those alleged in the indictments unsealed today, are serious matters and we intend to use all of our enforcement tools to stop this harmful practice. These actions undermine a system that is designed to reduce air pollutants including smog and provide better air quality for the citizens of Nevada,\" said Ignacia S. Moreno, Assistant Attorney General for the Justice Department’s Environment and Natural Resources Division.    \"The residents of Nevada deserve to know that the vast majority of licensed vehicle emission inspectors are not corrupt and are not circumventing emission testing procedures,\" said U.S. Attorney Bogden. \"These indictments should serve as a clear warning to offenders that the Department of Justice will prosecute you if you make fraudulent statements and reports concerning compliance with the federal Clean Air Act.\"    \"Lying about car emissions means dirtier air, which is especially of concern in areas like Las Vegas that are already experiencing air quality problems,\" said Cynthia Giles, Assistant Administrator for Enforcement and Compliance Assurance at EPA. \"We will take aggressive action to ensure communities have clean air.\"    The maximum penalty for the felony violations contained in the indictments includes up to two years in prison and a fine of up to $250,000.    An indictment is merely an accusation, and a defendant is presumed innocent unless and until proven guilty in a court of law.    The case was investigated by the EPA, Criminal Investigation Division; and the Nevada Department of Motor Vehicles Compliance Enforcement Division. The case is being prosecuted by the U.S. Attorney’s Office for the District of Nevada and the Justice Department’s Environmental Crimes Section.</td>\n",
       "      <td>2010-01-08T00:00:00-05:00</td>\n",
       "      <td>[]</td>\n",
       "      <td>[Environment and Natural Resources Division]</td>\n",
       "    </tr>\n",
       "    <tr>\n",
       "      <th>4</th>\n",
       "      <td>18-898</td>\n",
       "      <td>$100 Million Settlement Will Speed Cleanup Work at Centredale Manor Superfund Site in North Providence, R.I.</td>\n",
       "      <td>The U.S. Department of Justice, the U.S. Environmental Protection Agency (EPA), and the Rhode Island Department of Environmental Management (RIDEM) announced today that two subsidiaries of Stanley Black &amp; Decker Inc.—Emhart Industries Inc. and Black &amp; Decker Inc.—have agreed to clean up dioxin contaminated sediment and soil at the Centredale Manor Restoration Project Superfund Site in North Providence and Johnston, Rhode Island.  “We are pleased to reach a resolution through collaborative work with the responsible parties, EPA, and other stakeholders,” said Acting Assistant Attorney General Jeffrey H. Wood for the Justice Department's Environment and Natural Resources Division . “Today’s settlement ends protracted litigation and allows for important work to get underway to restore a healthy environment for citizens living in and around the Centredale Manor Site and the Woonasquatucket River.” “This settlement demonstrates the tremendous progress we are achieving working with responsible parties, states, and our federal partners to expedite sites through the entire Superfund remediation process,” said EPA Acting Administrator Andrew Wheeler. “The Centredale Manor Site has been on the National Priorities List for 18 years; we are taking charge and ensuring the Agency makes good on its promise to clean it up for the betterment of the environment and those communities affected.” “Successfully concluding this settlement paves the way for EPA to make good on our commitment to aggressively pursue cleaning up the Centredale Manor Superfund Site,” said EPA New England Regional Administrator Alexandra Dunn. “We are excited to get to work on the cleanup at this site, and get it closer to the goal of being fully utilized by the North Providence and Johnston communities.” “We are pleased that the collective efforts of the State of Rhode Island, EPA, and DOJ in these negotiations have concluded in this major milestone toward the cleanup of the Centredale Manor Restoration Superfund site and are consistent with our long-standing efforts to make the polluter pay,” said RIDEM Director Janet Coit. “The settlement will speed up a remedy that protects public health and the river environment, and moves us closer to the day that we can reclaim recreational uses of this beautiful river resource.” The settlement, which includes cleanup work in the Woonasquatucket River (River) and bordering residential and commercial properties along the River, requires the companies to perform the remedy selected by EPA for the Site in 2012, which is estimated to cost approximately $100 million, and resolves longstanding litigation. The cleanup remedy includes excavation of contaminated sediment and floodplain soil from the Woonasquatucket River, including from adjacent residential properties. Once the cleanup remedy is completed, full access to the Woonasquatucket River should be restored for local citizens. The cleanup will be a step toward the State’s goal of a fishable and swimmable river. The work will also include upgrading caps over contaminated soil in the peninsula area of the Site that currently house two high-rise apartment buildings. The settlement also ensures that the long-term monitoring and maintenance of the site, as directed in the remedy, will be implemented to ensure that public health is protected.  Under the settlement, Emhart and Black &amp; Decker will reimburse EPA for approximately $42 million in past costs incurred at the Site. The companies will also reimburse EPA and the State of Rhode Island for future costs incurred by those agencies in overseeing the work required by the settlement. The settlement will also include payments on behalf of two federal agencies to resolve claims against those agencies. These payments, along with prior settlements related to the Site, will result in a 100 percent recovery for the United States of its past and future response costs related to the Site. Litigation related to the Site has been ongoing for nearly eight years. While the Federal District Court found Black &amp; Decker and Emhart to be liable for their hazardous waste and responsible to conduct the cleanup of the Site, it had also ruled that EPA needed to reconsider certain aspects of that cleanup. EPA appealed the decision requiring it to reconsider aspects of the cleanup. This settlement, once entered by the District Court, will resolve the litigation between the United States, Rhode Island, and Emhart and Black and Decker, allowing the cleanup of the Site to begin. The Site spans a one and a half mile stretch of the Woonasquatucket River and encompasses a nine-acre peninsula, two ponds and a significant forested wetland. From the 1940s to the early 1970s, Emhart’s predecessor operated a chemical manufacturing facility on the peninsula and used a raw material that was contaminated with 2,3,7,8-tetrachlorodibenzo-p-dioxin, a toxic form of dioxin. The Site property was also previously used by a barrel refurbisher. Elevated levels of dioxins and other contaminants have been detected in soil, groundwater, sediment, surface water and fish.  The Site was added to the National Priorities List (NPL) in 2000, and in December 2017, EPA included the Centredale Manor Restoration Project Superfund Site on a list of Superfund sites targeted for immediate and intense attention. Several short-term actions were previously performed at the Site to address immediate threats to the residents and minimize potential erosion and downstream transport of contaminated soil and sediment. This settlement is the latest agreement EPA has reached since the Site was listed on the NPL. Prior agreements addressed the performance and recovery of costs for the past environmental investigations and interim cleanup actions from Emhart, the barrel reconditioning company, the current owners of the peninsula portion of the Site, and other potentially responsible parties. The Consent Decree, lodged in the U.S. District Court of Rhode Island, will be posted in the Federal Register and available for public comment for a period of 30 days. The Consent Decree can be viewed on the Justice Department website: www.justice.gov/enrd/Consent_Decrees.html.  EPA information on the Centredale Manor Superfund Site: www.epa.gov/superfund/centredale.</td>\n",
       "      <td>2018-07-09T00:00:00-04:00</td>\n",
       "      <td>[Environment]</td>\n",
       "      <td>[Environment and Natural Resources Division]</td>\n",
       "    </tr>\n",
       "  </tbody>\n",
       "</table></div>"
      ],
      "text/plain": [
       "        id                                              title  \\\n",
       "0     None       Convicted Bomb Plotter Sentenced to 30 Years   \n",
       "1  12-919   $1 Million in Restitution Payments Announced t...   \n",
       "2  11-1002  $1 Million Settlement Reached for Natural Reso...   \n",
       "3   10-015  10 Las Vegas Men Indicted \\r\\nfor Falsifying V...   \n",
       "4   18-898  $100 Million Settlement Will Speed Cleanup Wor...   \n",
       "\n",
       "                                            contents  \\\n",
       "0  PORTLAND, Oregon. – Mohamed Osman Mohamud, 23,...   \n",
       "1    WASHINGTON – North Carolina’s Waccamaw River...   \n",
       "2        BOSTON– A $1-million settlement has been...   \n",
       "3    WASHINGTON—A federal grand jury in Las Vegas...   \n",
       "4  The U.S. Department of Justice, the U.S. Envir...   \n",
       "\n",
       "                        date         topics  \\\n",
       "0  2014-10-01T00:00:00-04:00             []   \n",
       "1  2012-07-25T00:00:00-04:00             []   \n",
       "2  2011-08-03T00:00:00-04:00             []   \n",
       "3  2010-01-08T00:00:00-05:00             []   \n",
       "4  2018-07-09T00:00:00-04:00  [Environment]   \n",
       "\n",
       "                                     components  \n",
       "0            [National Security Division (NSD)]  \n",
       "1  [Environment and Natural Resources Division]  \n",
       "2  [Environment and Natural Resources Division]  \n",
       "3  [Environment and Natural Resources Division]  \n",
       "4  [Environment and Natural Resources Division]  "
      ]
     },
     "execution_count": 10,
     "metadata": {},
     "output_type": "execute_result"
    }
   ],
   "source": [
    "df.head(5)\n"
   ]
  },
  {
   "cell_type": "code",
   "execution_count": 11,
   "id": "0f597cb4",
   "metadata": {},
   "outputs": [
    {
     "data": {
      "text/html": [
       "<div><div id=e8075950-58be-4a47-9b79-8d090931ef61 style=\"display:none; background-color:#9D6CFF; color:white; width:200px; height:30px; padding-left:5px; border-radius:4px; flex-direction:row; justify-content:space-around; align-items:center;\" onmouseover=\"this.style.backgroundColor='#BA9BF8'\" onmouseout=\"this.style.backgroundColor='#9D6CFF'\" onclick=\"window.commands?.execute('create-mitosheet-from-dataframe-output');\">See Full Dataframe in Mito</div> <script> if (window.commands?.hasCommand('create-mitosheet-from-dataframe-output')) document.getElementById('e8075950-58be-4a47-9b79-8d090931ef61').style.display = 'flex' </script> <table border=\"1\" class=\"dataframe\">\n",
       "  <thead>\n",
       "    <tr style=\"text-align: right;\">\n",
       "      <th></th>\n",
       "      <th>id</th>\n",
       "      <th>title</th>\n",
       "      <th>contents</th>\n",
       "      <th>date</th>\n",
       "      <th>topics</th>\n",
       "      <th>components</th>\n",
       "    </tr>\n",
       "  </thead>\n",
       "  <tbody>\n",
       "    <tr>\n",
       "      <th>4</th>\n",
       "      <td>18-898</td>\n",
       "      <td>$100 Million Settlement Will Speed Cleanup Work at Centredale Manor Superfund Site in North Providence, R.I.</td>\n",
       "      <td>The U.S. Department of Justice, the U.S. Environmental Protection Agency (EPA), and the Rhode Island Department of Environmental Management (RIDEM) announced today that two subsidiaries of Stanley Black &amp; Decker Inc.—Emhart Industries Inc. and Black &amp; Decker Inc.—have agreed to clean up dioxin contaminated sediment and soil at the Centredale Manor Restoration Project Superfund Site in North Providence and Johnston, Rhode Island.  “We are pleased to reach a resolution through collaborative work with the responsible parties, EPA, and other stakeholders,” said Acting Assistant Attorney General Jeffrey H. Wood for the Justice Department's Environment and Natural Resources Division . “Today’s settlement ends protracted litigation and allows for important work to get underway to restore a healthy environment for citizens living in and around the Centredale Manor Site and the Woonasquatucket River.” “This settlement demonstrates the tremendous progress we are achieving working with responsible parties, states, and our federal partners to expedite sites through the entire Superfund remediation process,” said EPA Acting Administrator Andrew Wheeler. “The Centredale Manor Site has been on the National Priorities List for 18 years; we are taking charge and ensuring the Agency makes good on its promise to clean it up for the betterment of the environment and those communities affected.” “Successfully concluding this settlement paves the way for EPA to make good on our commitment to aggressively pursue cleaning up the Centredale Manor Superfund Site,” said EPA New England Regional Administrator Alexandra Dunn. “We are excited to get to work on the cleanup at this site, and get it closer to the goal of being fully utilized by the North Providence and Johnston communities.” “We are pleased that the collective efforts of the State of Rhode Island, EPA, and DOJ in these negotiations have concluded in this major milestone toward the cleanup of the Centredale Manor Restoration Superfund site and are consistent with our long-standing efforts to make the polluter pay,” said RIDEM Director Janet Coit. “The settlement will speed up a remedy that protects public health and the river environment, and moves us closer to the day that we can reclaim recreational uses of this beautiful river resource.” The settlement, which includes cleanup work in the Woonasquatucket River (River) and bordering residential and commercial properties along the River, requires the companies to perform the remedy selected by EPA for the Site in 2012, which is estimated to cost approximately $100 million, and resolves longstanding litigation. The cleanup remedy includes excavation of contaminated sediment and floodplain soil from the Woonasquatucket River, including from adjacent residential properties. Once the cleanup remedy is completed, full access to the Woonasquatucket River should be restored for local citizens. The cleanup will be a step toward the State’s goal of a fishable and swimmable river. The work will also include upgrading caps over contaminated soil in the peninsula area of the Site that currently house two high-rise apartment buildings. The settlement also ensures that the long-term monitoring and maintenance of the site, as directed in the remedy, will be implemented to ensure that public health is protected.  Under the settlement, Emhart and Black &amp; Decker will reimburse EPA for approximately $42 million in past costs incurred at the Site. The companies will also reimburse EPA and the State of Rhode Island for future costs incurred by those agencies in overseeing the work required by the settlement. The settlement will also include payments on behalf of two federal agencies to resolve claims against those agencies. These payments, along with prior settlements related to the Site, will result in a 100 percent recovery for the United States of its past and future response costs related to the Site. Litigation related to the Site has been ongoing for nearly eight years. While the Federal District Court found Black &amp; Decker and Emhart to be liable for their hazardous waste and responsible to conduct the cleanup of the Site, it had also ruled that EPA needed to reconsider certain aspects of that cleanup. EPA appealed the decision requiring it to reconsider aspects of the cleanup. This settlement, once entered by the District Court, will resolve the litigation between the United States, Rhode Island, and Emhart and Black and Decker, allowing the cleanup of the Site to begin. The Site spans a one and a half mile stretch of the Woonasquatucket River and encompasses a nine-acre peninsula, two ponds and a significant forested wetland. From the 1940s to the early 1970s, Emhart’s predecessor operated a chemical manufacturing facility on the peninsula and used a raw material that was contaminated with 2,3,7,8-tetrachlorodibenzo-p-dioxin, a toxic form of dioxin. The Site property was also previously used by a barrel refurbisher. Elevated levels of dioxins and other contaminants have been detected in soil, groundwater, sediment, surface water and fish.  The Site was added to the National Priorities List (NPL) in 2000, and in December 2017, EPA included the Centredale Manor Restoration Project Superfund Site on a list of Superfund sites targeted for immediate and intense attention. Several short-term actions were previously performed at the Site to address immediate threats to the residents and minimize potential erosion and downstream transport of contaminated soil and sediment. This settlement is the latest agreement EPA has reached since the Site was listed on the NPL. Prior agreements addressed the performance and recovery of costs for the past environmental investigations and interim cleanup actions from Emhart, the barrel reconditioning company, the current owners of the peninsula portion of the Site, and other potentially responsible parties. The Consent Decree, lodged in the U.S. District Court of Rhode Island, will be posted in the Federal Register and available for public comment for a period of 30 days. The Consent Decree can be viewed on the Justice Department website: www.justice.gov/enrd/Consent_Decrees.html.  EPA information on the Centredale Manor Superfund Site: www.epa.gov/superfund/centredale.</td>\n",
       "      <td>2018-07-09T00:00:00-04:00</td>\n",
       "      <td>[Environment]</td>\n",
       "      <td>[Environment and Natural Resources Division]</td>\n",
       "    </tr>\n",
       "    <tr>\n",
       "      <th>7</th>\n",
       "      <td>14-1412</td>\n",
       "      <td>14 Indicted in Connection with New England Compounding Center and Nationwide Fungal Meningitis Outbreak</td>\n",
       "      <td>A 131-count criminal indictment was unsealed today in Boston in connection with the 2012 nationwide fungal meningitis outbreak, the Justice Department announced.  Barry J. Cadden, owner and head pharmacist of New England Compounding Center (NECC) and NECC’s supervisory pharmacist Glenn A. Chin were charged with 25 acts of second-degree murder in Florida, Indiana, Maryland, Michigan, North Carolina, Tennessee and Virginia.    The outbreak was caused by contaminated vials of preservative-free methylprednisolone acetate (MPA) manufactured by NECC, located in Framingham, Massachusetts.  The U.S. Centers for Disease Control and Prevention (CDC) reported that 751 patients in 20 states were diagnosed with a fungal infection after receiving injections of NECC’s MPA.  Of those 751 patients, the CDC reported that 64 patients in nine states died.  Twelve other individuals, all associated with NECC, including six other pharmacists, the director of operations, the national sales director, an unlicensed pharmacy technician, two of NECC’s owners, and one other individual were charged with additional crimes including racketeering, mail fraud, conspiracy, contempt, structuring, and violations of the Food, Drug and Cosmetic Act. “As alleged in the indictment, these employees knew they were producing their medication in an unsafe manner and in insanitary conditions, and authorized it to be shipped out anyway, with fatal results,” said Attorney General Eric Holder.  “With the indictment and these arrests, the Department of Justice is taking decisive action to hold these individuals accountable for their alleged participation in grievous wrongdoing.  Actions like the ones alleged in this case display not only a reckless disregard for health and safety regulations, but also an extreme and appalling indifference to human life.  American consumers have a right to know that their medications are safe to use, and this case proves that the Department of Justice will always stand resolute to ensure that right, to protect the American people, and to hold wrongdoers accountable to the fullest extent of the law.” “Every patient receiving treatment deserves the peace of mind and knowledge that the medicine they are receiving is safe,” said Acting Associate Attorney General Stuart Delery.  “When people and companies violate that trust and break the law, the consequences to patients and their families can be catastrophic.  That’s why it remains a priority of the Department to use every tool at our disposal to protect patients’ safety and hold bad actors accountable.” “Those who produce and sell the drugs that we take have a special responsibility to make sure that they prepare those drugs under suitable conditions, and that what leaves their facilities is safe,” said Acting Assistant Attorney General Joyce R. Branda for the Justice Department’s Civil Division.  “The indictment charges that the defendants’ conduct in this case was corrupt and carried out with a complete disregard to the public’s health.  The department‘s Consumer Protection Branch along with our law enforcement partners is steadfast in our commitment to use every criminal and civil tool at our disposal to hold accountable those who are willing to put our lives at risk in the reckless pursuit of their profits.” “Ever since the outbreak occurred, we have been committed to bringing to justice the individuals responsible for the deaths and suffering of so many innocent victims,” said U.S. Attorney Carmen Ortiz for the District of Massachusetts.  “The indictment announced today is the first step in that process which addresses alleged criminal wrongdoing at NECC, a business that prioritized production and profit over safety.  We will make every effort to ensure that licensed pharmacists, and those working with them, are held to a standard of care that protects the public from unsafe and dangerous medications.”  “Two years after the fungal meningitis outbreak, our hearts continue to go out to the victims of this tragedy and to their families,” said FDA Commissioner Margaret A. Hamburg M.D.  “Our work on behalf of all patients who want and deserve medicines that do not subject them to undue risk is far from done.  The FDA will continue to work aggressively on many fronts with the states, the Department of Justice, and others to protect the American public from unsafe compounded drug products.”  “Threats to public health, as alleged in today's indictment, are a priority for the FBI,” said Assistant Director Joseph S. Campbell of the FBI’s Criminal Division.  “Together with our law enforcement and regulatory agency partners, we are determined to stop practices that jeopardize patients' health and violate the public trust.  These types of investigations are complex and resource intensive.  We greatly appreciate the efforts of our partners in this case and look forward to working with them to effectively identify criminal activities and combat fraudulent and abusive health practices in the future.” The 14 individuals charged in the indictment are Barry J. Cadden, 48, of Wrentham, Massachusetts; Glenn A. Chin, 46, of Canton, Massachusetts; Gene Svirskiy, 33, of Ashland, Massachusetts; Christopher M. Leary, 30, of Shrewsbury, Massachusetts; Joseph M. Evanosky, 42, of Westford, Massachusetts; Scott M. Connolly, 42, of East Greenwich, Rhode Island; Sharon P. Carter, 50, of Hopkinton, Massachusetts; Alla V. Stepanets, 34, of Framingham, Massachusetts; Gregory A. Conigliaro, 49 of Southborough, Massachusetts; Robert A. Ronzio, 40, of North Providence, Rhode Island; Kathy Chin, 42, of Canton, Massachusetts; Michelle Thomas, 31 of Cumberland, Rhode Island; Carla Conigliaro, 51, of Dedham, Massachusetts and Douglas A. Conigliaro, 53, of Dedham, Massachusetts.   The 25 second-degree murders are included in the indictment as predicate racketeering acts under the Racketeer Influenced and Corrupt Organizations Act (RICO).  These charges relate to patients who received NECC MPA and died in Florida, Indiana, Maryland, Michigan, North Carolina, Tennessee and Virginia. As a general matter, and depending on particular state law, second-degree murder does not require the government to prove Cadden and Chin had specific intent to kill the 25 patients, but rather that Cadden and Chin acted with extreme indifference to human life.  According to the indictment, Cadden and Chin knew that NECC was making MPA in a manner and in an environment in which they could not assure that the drug was sterile as it was identified to be.  Despite knowing that they were making the MPA in an unsafe manner and in insanitary conditions, Cadden and Chin nonetheless allegedly directed and authorized the shipping of MPA to NECC customers nationwide.  It is alleged that Cadden and Chin were aware that doctors would inject MPA into their patients’ bodies, and that if the MPA was not in fact sterile, it could kill them.  The 25 murder racketeering acts comprise only a portion of the broad racketeering scheme charged in the indictment.  The indictment also alleges that NECC’s other pharmacists knowingly made and sold numerous drugs in a similar unsafe manner and in insanitary conditions.  The unsafe manner alleged in the indictment includes, among other things, the pharmacists’ failure to properly sterilize NECC’s drugs, failure to properly test NECC’s drugs for sterility, and failure to wait for test results before sending the drugs to customers.  The insanitary conditions alleged in the indictment include, among other things, NECC’s lack of proper cleaning and NECC’s failure to take any action when its own environmental monitoring repeatedly detected mold and bacteria within NECC’s clean room suite of rooms throughout 2012.  It is further alleged that NECC repeatedly took steps to shield its operations from regulatory oversight by the FDA by claiming to be a pharmacy dispensing drugs pursuant to valid, patient-specific prescriptions.  In fact, NECC routinely dispensed drugs in bulk without valid prescriptions.  The indictment alleges that NECC even used fictional and celebrity names on fake prescriptions to dispense drugs.  Finally, the indictment charges Carla Conigliaro, the majority shareholder of NECC, and her husband Douglas Conigliaro with transferring assets following the fungal meningitis outbreak.  Specifically, the indictment charges that after NECC declared bankruptcy, and the bankruptcy court ordered the shareholders not to transfer assets, Carla and Doug Conigliaro transferred approximately $33.3 million to eight different bank accounts opened after the NECC bankruptcy.  Cadden and Chin face a maximum of up to life in prison if convicted on all counts.  “Although no VA patients were affected by the fungal meningitis outbreak, VA unknowingly purchased a variety of pharmaceutical products over a three year period from NECC that were intentionally produced in an unsafe manner under insanitary conditions,” said Assistant Inspector General for Investigations James J. O’Neill for the Office of Inspector General, Department of Veterans Affairs.  “We are pleased to have contributed to this outstanding multi-agency criminal investigation.” “Today's results are part of an ongoing effort by the Defense Criminal Investigative Service and its law enforcement partners to protect the integrity of the Department of Defense's health care program and the quality of care our service members receive,” said Deputy Inspector General for Investigations James B. Burch for the U.S. Department of Defense Office of the Inspector General.  “The Defense Criminal Investigative Service will continue to pursue allegations of health care fraud that put the Warfighter at risk.” “The U.S. Postal Inspection Service is pleased to join our federal partners in this announcement” said Postal Inspector in Charge Shelly A. Binkowski of the Boston Division.  “What's particularly disturbing about this case is that through their alleged misrepresentation and greed, these defendants put the health and well-being of others at a high level of risk.  This criminal action today demonstrates the commitment and vigilance of postal inspectors and other federal agents to pursue criminals who prey on the public in such an egregious way.” In announcing the indictment today, Attorney General Holder and U.S. Attorney Ortiz acknowledged the assistance and cooperation of Michigan State Attorney General Bill Schuette.  The state of Michigan had the most deaths during the outbreak. The investigation was conducted by the FDA Office of Criminal Investigations and the FBI with assistance by the Defense Criminal Investigative Service, U.S. Department of Defense, Office of Inspector General; Department of Veterans Affairs Office of Inspector General and U.S. Postal Inspection Service. The case is being prosecuted by Assistant U.S. Attorneys George P. Varghese and Amanda P.M. Strachan of the Health Care Fraud Unit for the U.S. Attorney’s Office in the District of Massachusetts, and Trial Attorney John W.M. Claud of the Civil Division’s Consumer Protection Branch. The details contained in the indictment are allegations.  The defendants are presumed innocent unless and until proven guilty beyond a reasonable doubt. Victims with questions about today’s charges may call 1-888-221-6023 or email usama.victimassistance@usdoj.gov.</td>\n",
       "      <td>2014-12-17T00:00:00-05:00</td>\n",
       "      <td>[Consumer Protection]</td>\n",
       "      <td>[Civil Division]</td>\n",
       "    </tr>\n",
       "    <tr>\n",
       "      <th>19</th>\n",
       "      <td>17-1419</td>\n",
       "      <td>2017 Southeast Regional Animal Cruelty Prosecutions Training Held at Valdosta State University</td>\n",
       "      <td>The United States Attorney’s Office for the Middle District of Georgia, the Environmental Crimes Section of the United States Department of Justice’s Environment and Natural Resources Division, and the United States Department of Agriculture – Office of Inspector General hosted training for the Southeast region on animal cruelty prosecutions, Dec. 13-14.     This training represents the collaboration and coordination of federal and local agencies and offices to combat crimes of animal cruelty, including organized dog fighting, cock fighting, and horse soring. The conference provided participants with an overview of the federal animal welfare and cruelty statutes, investigation techniques, and strategies to overcome prosecution challenges. The Humane Society of the United States, along with prosecutors and federal agents, shared their experience in handling dog fighting and animal cruelty cases strengthening the response to these serious crimes.   “Fighting contests involving dogs and other animals are morally wrong and illegal, said United States Attorney Charles E. Peeler.” They also create havens for additional illegal conduct such as gambling, drug trade and unlawful gun possession.  Our office works with federal, state and local law enforcement agencies to identify and prosecute those involved in this reprehensible conduct.”   “Ending animal fighting ventures and other inhumane practices will require a close partnership among federal, state, and local law enforcement agencies,” said Acting Assistant Attorney General Jeffrey H. Wood of the Justice Department’s Environment and Natural Resources Division. “Our Division is proud to be a leader in this worthy cause and to participate in this important training event in the wonderful city of Valdosta, Georgia.”   “The USDA OIG is pleased to have worked closely with the Department of Justice to coordinate this important training initiative to combat animal fighting and the associated crimes which often occur in animal fighting ventures,” said Special Agent in Charge Karen Citizen-Wilcox for the USDA OIG Southeast Region Office of Investigations. “Special Agents from all of the OIG’s regional offices will share their knowledge of and experiences with animal fighting investigations with personnel attending from other law enforcement agencies and private organizations.”   During the training, animal fighting investigators from the Humane Society of the United States, along with prosecutors and USDA OIG agents who have successfully investigated and prosecuted animal fighting cases, shared their experiences with attendees. Instructors provided participants with an overview of the business of dog fighting, a description of federal animal welfare and cruelty statutes, effective investigative techniques, evidence collection best practices, available resources and authorities for the seizure and post-seizure care of animals and successful sentencing strategies.   State and national animal control associations estimate that upwards of 40,000 people participate in dog fighting in the United States at a professional level, meaning that dog fighting and its associated gambling are their primary or only source of income. An unknown but potentially larger number of people participate in dog fighting on an occasional basis. Cockfighting is thought to be similarly widespread. In addition, animal fighting activities attract other serious crimes, such as gambling, drug dealing, weapons offenses and money laundering. Children are commonly present at animal fighting events.   The federal Animal Welfare Act makes it a felony punishable by up to five years in prison to knowingly sell, buy, possess, train, transport, deliver, or receive any animal, including dogs, for purposes of having the animal participate in an animal fighting venture. In 2014, the Department of Justice designated the Environment and Natural Resources Division as the centralized body within the Department responsible for tracking, coordinating, and working with the U.S. Attorneys’ Offices on animal cruelty enforcement matters.</td>\n",
       "      <td>2017-12-14T00:00:00-05:00</td>\n",
       "      <td>[Environment]</td>\n",
       "      <td>[Environment and Natural Resources Division, USAO - Georgia, Middle]</td>\n",
       "    </tr>\n",
       "    <tr>\n",
       "      <th>22</th>\n",
       "      <td>15-1562</td>\n",
       "      <td>21st Century Oncology to Pay $19.75 Million to Settle Alleged False Claims for Unnecessary Laboratory Tests</td>\n",
       "      <td>21st Century Oncology LLC, has agreed to pay $19.75 million to the government to resolve allegations that it violated the False Claims Act by billing federal health care programs for laboratory tests that were not medically necessary, the Justice Department announced today.  21st Century is a nationwide provider of integrated cancer care services that is headquartered in Fort Myers, Florida.  “Today’s settlement demonstrates our unwavering commitment to protect the Medicare trust fund against unscrupulous providers,” said Principal Deputy Assistant Attorney General Benjamin C. Mizer, head of the Justice Department’s Civil Division.  “Providers who waste taxpayer dollars by billing for unnecessary services will face serious consequences.” The settlement announced today resolves allegations that 21st Century submitted claims to Medicare and Tricare for fluorescence in situ hybridization, or “FISH,” tests that were not medically necessary.  FISH tests are laboratory tests performed on urine that can detect genetic abnormalities associated with bladder cancer.  The government alleged that 21st Century submitted claims for unnecessary FISH tests that were ordered by four of its urologists, Dr. Meir Daller, Dr. Steven Paletsky, Dr. David Spellberg and Dr. Robert Scappa, all of whom practiced in the Fort Myers area.  The government also alleged that 21st Century encouraged these physicians to order unnecessary FISH tests by offering bonuses that were based in part on the number of tests referred to 21st Century’s laboratory.  Today’s settlement resolves the civil liability of 21st Century only.  “Charging the government for clearly unnecessary medical services squanders taxpayer dollars,” said U.S. Attorney A. Lee Bentley, III of the Middle District of Florida.  “Our office will continue to pursue health care providers who defraud the United States, thereby threatening the viability of government health care programs, such as Medicare.” “These tests were ordered to increase profits, not improve the healthcare of patients,” said Special Agent in Charge Shimon Richmond of the Department of Health and Human Services Office of Inspector General (HHS-OIG). “This kind of unvarnished fraud is an attack on Medicare by unscrupulous providers and the OIG and its federal partners will take whatever steps are necessary to stop them.” “This settlement demonstrates the commitment of the Defense Criminal Investigative Service (DCIS) and its law enforcement partners to protect the integrity of the U.S. military health care program (TRICARE) against fraudulent claims for medical services, said Special Agent in Charge John F. Khin of DCIS’s Southeast Field Office.” The settlement resolves allegations originally brought in a lawsuit filed by a whistleblower under the qui tam provisions of the False Claims Act, which allow private parties to bring suit on behalf of the government and to share in any recovery.  The whistleblower, a former 21st Century Oncology LLC medical assistant, will receive $3.2 million as her share of the recovery in this case. The investigation was handled by the Civil Division’s Commercial Litigation Branch and the Fort Myers Division of the U.S. Attorney’s Office of the Middle District of Florida with assistance from HHS-OIG, DCIS and the FBI.  This settlement illustrates the government’s emphasis on combating health care fraud and marks another achievement for the Health Care Fraud Prevention and Enforcement Action Team (HEAT) initiative, which was announced in May 2009 by the Attorney General and the Secretary of Health and Human Services.  The partnership between the two departments has focused efforts to reduce and prevent Medicare and Medicaid financial fraud through enhanced cooperation.  One of the most powerful tools in this effort is the False Claims Act.  Since January 2009, the Justice Department has recovered a total of more than $26.7 billion through False Claims Act cases, with more than $16.8 billion of that amount recovered in cases involving fraud against federal health care programs.   The lawsuit is captioned United States, State of Florida, ex rel. Mariela Barnes v. Dr. David Spellberg, 21st Century Oncology and Naples Urology Associates, Civil Action No. 2:13-cv-228-FtM-38DNF (M.D. Fla.).  The claims resolved by the settlement are allegations only, and there has been no determination of liability.</td>\n",
       "      <td>2015-12-18T00:00:00-05:00</td>\n",
       "      <td>[False Claims Act, Health Care Fraud]</td>\n",
       "      <td>[Civil Division]</td>\n",
       "    </tr>\n",
       "    <tr>\n",
       "      <th>23</th>\n",
       "      <td>17-1404</td>\n",
       "      <td>21st Century Oncology to Pay $26 Million to Settle False Claims Act Allegations</td>\n",
       "      <td>21st Century Oncology Inc. and certain of its subsidiaries and affiliates have agreed to pay $26 million to the government to resolve a self-disclosure relating to the submission of false attestations regarding the company’s use of electronic health records software and separate allegations that they violated the False Claims Act by submitting, or causing the submission of, claims for certain services provided pursuant to referrals from physicians with whom they had improper financial relationships.   “The Justice Department is committed to zealously investigating improper financial relationships that have the potential to compromise physicians’ medical judgment,” said Acting Assistant Attorney General Chad A. Readler of the Justice Department’s Civil Division.  “However, we will work with companies that accept responsibility for their past compliance failures and promptly take corrective action.”    21st Century Oncology, which is headquartered in Fort Myers, Florida, owns and operates subsidiaries and affiliates throughout the United States that provide integrated cancer care.  As part of its business, 21st Century Oncology’s subsidiaries and affiliates employ physicians in specialty fields such as radiation oncology, medical oncology, and urology.     The settlement announced today resolves conduct that was self-disclosed by the company regarding payments made by the government as part of the Medicare Electronic Health Records (EHR) Incentive Program.  Under the Medicare EHR Incentive Program, physicians who attest to their meaningful use of certified EHR technology may receive incentive payments and avoid downward adjustments to certain Medicare claims.  As part of its self-disclosure, 21st Century Oncology reported that it knowingly submitted, or caused the submission of, false attestations to CMS concerning employed physicians’ use of EHR software.  The company further reported that, in support of the attestations, its employees falsified data regarding the company’s use of EHR software, fabricated software utilization reports, and superimposed EHR vendor logos onto the reports to make them look legitimate.     “This settlement represents our office’s continued commitment to ensuring compliance with important federal health care laws,” said Acting U.S. Attorney Stephen Muldrow of the Middle District of Florida.  “We appreciate that 21st Century Oncology self-reported a major fraud affecting Medicare, and we are also pleased that the company has agreed to accept financial responsibility for past compliance failures.”   The settlement also resolves the government’s allegations regarding violations of the physician self-referral law (commonly referred to as the “Stark Law.”)  The Stark Law prohibits an entity from submitting claims to Medicare for designated health services performed pursuant to referrals from physicians with whom the entity has a financial relationship unless certain designated exceptions apply.  The government alleged that 21st Century Oncology and certain of its subsidiaries and affiliates violated the FCA by submitting, or causing the submission of, claims for services performed pursuant to referrals from physicians whose compensation did not satisfy any exception to the Stark Law.   The Stark Law allegations were originally brought in a lawsuit filed by Matthew Moore, 21st Century Oncology’s former Interim Vice President of Financial Planning, under the qui tam provisions of the False Claims Act.  Under the Act, private parties may bring suit on behalf of the government and share in any recovery.  Mr. Moore will receive $2,000,000 as his share of the recovery associated with the Stark Law allegations.   In addition to the civil settlement, 21st Century Oncology has entered into a new five-year Corporate Integrity Agreement with the Office of Inspector General of the United States Department of Health and Human Services (HHS-OIG), which obligates 21st Century Oncology to undertake substantial internal compliance reforms, including hiring independent review organizations to conduct annual claims and arrangements reviews.    “21st Century Oncology admitted to causing violation of the meaningful use regulations in order to fund an electronic health records system, as well as falsifying records to cover up those actions,” said Shimon R. Richmond, Special Agent in Charge for the Office of Inspector General of the U.S. Department of Health and Human Services.  “Separately, the government alleged that same company, through its affiliates and subsidiaries, caused certain physicians to enter into illegal financial arrangements.  Providers engaging in similar behavior should expect attention from OIG.”      The government’s resolution of this matter illustrates the government’s emphasis on combating health care fraud.  Tips and complaints from all sources about potential fraud, waste, abuse, and mismanagement can be reported to the Department of Health and Human Services at 900-HHS-TIPS (800-447-8477).   The investigation was handled by the Civil Division’s Commercial Litigation Branch and the Fort Myers Division of the U.S. Attorney’s Office for the Middle District of Florida, with assistance from the U.S. Attorney’s Office for the Southern District of New York and HHS-OIG.  The claims resolved by this settlement are allegations only; there has been no determination of liability.  The case is captioned United States ex rel. Moore v. 21st Century Oncology, LLC, No. 2:16-cv-99 (M.D. Fl.).</td>\n",
       "      <td>2017-12-12T00:00:00-05:00</td>\n",
       "      <td>[Health Care Fraud, False Claims Act]</td>\n",
       "      <td>[Civil Division, USAO - Florida, Middle]</td>\n",
       "    </tr>\n",
       "  </tbody>\n",
       "</table></div>"
      ],
      "text/plain": [
       "         id                                              title  \\\n",
       "4    18-898  $100 Million Settlement Will Speed Cleanup Wor...   \n",
       "7   14-1412  14 Indicted in Connection with New England Com...   \n",
       "19  17-1419  2017 Southeast Regional Animal Cruelty Prosecu...   \n",
       "22  15-1562  21st Century Oncology to Pay $19.75 Million to...   \n",
       "23  17-1404  21st Century Oncology to Pay $26 Million to Se...   \n",
       "\n",
       "                                             contents  \\\n",
       "4   The U.S. Department of Justice, the U.S. Envir...   \n",
       "7   A 131-count criminal indictment was unsealed t...   \n",
       "19  The United States Attorney’s Office for the Mi...   \n",
       "22  21st Century Oncology LLC, has agreed to pay $...   \n",
       "23  21st Century Oncology Inc. and certain of its ...   \n",
       "\n",
       "                         date                                 topics  \\\n",
       "4   2018-07-09T00:00:00-04:00                          [Environment]   \n",
       "7   2014-12-17T00:00:00-05:00                  [Consumer Protection]   \n",
       "19  2017-12-14T00:00:00-05:00                          [Environment]   \n",
       "22  2015-12-18T00:00:00-05:00  [False Claims Act, Health Care Fraud]   \n",
       "23  2017-12-12T00:00:00-05:00  [Health Care Fraud, False Claims Act]   \n",
       "\n",
       "                                           components  \n",
       "4        [Environment and Natural Resources Division]  \n",
       "7                                    [Civil Division]  \n",
       "19  [Environment and Natural Resources Division, U...  \n",
       "22                                   [Civil Division]  \n",
       "23           [Civil Division, USAO - Florida, Middle]  "
      ]
     },
     "execution_count": 11,
     "metadata": {},
     "output_type": "execute_result"
    }
   ],
   "source": [
    "df = df[df[\"topics\"].str.len() != 0]\n",
    "df.head()"
   ]
  },
  {
   "cell_type": "code",
   "execution_count": 12,
   "id": "eae77642",
   "metadata": {},
   "outputs": [
    {
     "data": {
      "text/plain": [
       "(4688, 6)"
      ]
     },
     "execution_count": 12,
     "metadata": {},
     "output_type": "execute_result"
    }
   ],
   "source": [
    "df.shape\n"
   ]
  },
  {
   "cell_type": "code",
   "execution_count": 13,
   "id": "fb8cc4cd",
   "metadata": {},
   "outputs": [
    {
     "data": {
      "text/plain": [
       "(100, 6)"
      ]
     },
     "execution_count": 13,
     "metadata": {},
     "output_type": "execute_result"
    }
   ],
   "source": [
    "df =df.head(100)\n",
    "df.shape"
   ]
  },
  {
   "cell_type": "code",
   "execution_count": 14,
   "id": "159c7920",
   "metadata": {},
   "outputs": [],
   "source": [
    "df[\"contents_new\"] = df.contents.apply(preprocess)"
   ]
  },
  {
   "cell_type": "code",
   "execution_count": 15,
   "id": "11bf683e",
   "metadata": {},
   "outputs": [
    {
     "data": {
      "text/html": [
       "<div><div id=dfde849f-eb3d-4642-a5c1-e1e540d7b1a7 style=\"display:none; background-color:#9D6CFF; color:white; width:200px; height:30px; padding-left:5px; border-radius:4px; flex-direction:row; justify-content:space-around; align-items:center;\" onmouseover=\"this.style.backgroundColor='#BA9BF8'\" onmouseout=\"this.style.backgroundColor='#9D6CFF'\" onclick=\"window.commands?.execute('create-mitosheet-from-dataframe-output');\">See Full Dataframe in Mito</div> <script> if (window.commands?.hasCommand('create-mitosheet-from-dataframe-output')) document.getElementById('dfde849f-eb3d-4642-a5c1-e1e540d7b1a7').style.display = 'flex' </script> <table border=\"1\" class=\"dataframe\">\n",
       "  <thead>\n",
       "    <tr style=\"text-align: right;\">\n",
       "      <th></th>\n",
       "      <th>id</th>\n",
       "      <th>title</th>\n",
       "      <th>contents</th>\n",
       "      <th>date</th>\n",
       "      <th>topics</th>\n",
       "      <th>components</th>\n",
       "      <th>contents_new</th>\n",
       "    </tr>\n",
       "  </thead>\n",
       "  <tbody>\n",
       "    <tr>\n",
       "      <th>4</th>\n",
       "      <td>18-898</td>\n",
       "      <td>$100 Million Settlement Will Speed Cleanup Work at Centredale Manor Superfund Site in North Providence, R.I.</td>\n",
       "      <td>The U.S. Department of Justice, the U.S. Environmental Protection Agency (EPA), and the Rhode Island Department of Environmental Management (RIDEM) announced today that two subsidiaries of Stanley Black &amp; Decker Inc.—Emhart Industries Inc. and Black &amp; Decker Inc.—have agreed to clean up dioxin contaminated sediment and soil at the Centredale Manor Restoration Project Superfund Site in North Providence and Johnston, Rhode Island.  “We are pleased to reach a resolution through collaborative work with the responsible parties, EPA, and other stakeholders,” said Acting Assistant Attorney General Jeffrey H. Wood for the Justice Department's Environment and Natural Resources Division . “Today’s settlement ends protracted litigation and allows for important work to get underway to restore a healthy environment for citizens living in and around the Centredale Manor Site and the Woonasquatucket River.” “This settlement demonstrates the tremendous progress we are achieving working with responsible parties, states, and our federal partners to expedite sites through the entire Superfund remediation process,” said EPA Acting Administrator Andrew Wheeler. “The Centredale Manor Site has been on the National Priorities List for 18 years; we are taking charge and ensuring the Agency makes good on its promise to clean it up for the betterment of the environment and those communities affected.” “Successfully concluding this settlement paves the way for EPA to make good on our commitment to aggressively pursue cleaning up the Centredale Manor Superfund Site,” said EPA New England Regional Administrator Alexandra Dunn. “We are excited to get to work on the cleanup at this site, and get it closer to the goal of being fully utilized by the North Providence and Johnston communities.” “We are pleased that the collective efforts of the State of Rhode Island, EPA, and DOJ in these negotiations have concluded in this major milestone toward the cleanup of the Centredale Manor Restoration Superfund site and are consistent with our long-standing efforts to make the polluter pay,” said RIDEM Director Janet Coit. “The settlement will speed up a remedy that protects public health and the river environment, and moves us closer to the day that we can reclaim recreational uses of this beautiful river resource.” The settlement, which includes cleanup work in the Woonasquatucket River (River) and bordering residential and commercial properties along the River, requires the companies to perform the remedy selected by EPA for the Site in 2012, which is estimated to cost approximately $100 million, and resolves longstanding litigation. The cleanup remedy includes excavation of contaminated sediment and floodplain soil from the Woonasquatucket River, including from adjacent residential properties. Once the cleanup remedy is completed, full access to the Woonasquatucket River should be restored for local citizens. The cleanup will be a step toward the State’s goal of a fishable and swimmable river. The work will also include upgrading caps over contaminated soil in the peninsula area of the Site that currently house two high-rise apartment buildings. The settlement also ensures that the long-term monitoring and maintenance of the site, as directed in the remedy, will be implemented to ensure that public health is protected.  Under the settlement, Emhart and Black &amp; Decker will reimburse EPA for approximately $42 million in past costs incurred at the Site. The companies will also reimburse EPA and the State of Rhode Island for future costs incurred by those agencies in overseeing the work required by the settlement. The settlement will also include payments on behalf of two federal agencies to resolve claims against those agencies. These payments, along with prior settlements related to the Site, will result in a 100 percent recovery for the United States of its past and future response costs related to the Site. Litigation related to the Site has been ongoing for nearly eight years. While the Federal District Court found Black &amp; Decker and Emhart to be liable for their hazardous waste and responsible to conduct the cleanup of the Site, it had also ruled that EPA needed to reconsider certain aspects of that cleanup. EPA appealed the decision requiring it to reconsider aspects of the cleanup. This settlement, once entered by the District Court, will resolve the litigation between the United States, Rhode Island, and Emhart and Black and Decker, allowing the cleanup of the Site to begin. The Site spans a one and a half mile stretch of the Woonasquatucket River and encompasses a nine-acre peninsula, two ponds and a significant forested wetland. From the 1940s to the early 1970s, Emhart’s predecessor operated a chemical manufacturing facility on the peninsula and used a raw material that was contaminated with 2,3,7,8-tetrachlorodibenzo-p-dioxin, a toxic form of dioxin. The Site property was also previously used by a barrel refurbisher. Elevated levels of dioxins and other contaminants have been detected in soil, groundwater, sediment, surface water and fish.  The Site was added to the National Priorities List (NPL) in 2000, and in December 2017, EPA included the Centredale Manor Restoration Project Superfund Site on a list of Superfund sites targeted for immediate and intense attention. Several short-term actions were previously performed at the Site to address immediate threats to the residents and minimize potential erosion and downstream transport of contaminated soil and sediment. This settlement is the latest agreement EPA has reached since the Site was listed on the NPL. Prior agreements addressed the performance and recovery of costs for the past environmental investigations and interim cleanup actions from Emhart, the barrel reconditioning company, the current owners of the peninsula portion of the Site, and other potentially responsible parties. The Consent Decree, lodged in the U.S. District Court of Rhode Island, will be posted in the Federal Register and available for public comment for a period of 30 days. The Consent Decree can be viewed on the Justice Department website: www.justice.gov/enrd/Consent_Decrees.html.  EPA information on the Centredale Manor Superfund Site: www.epa.gov/superfund/centredale.</td>\n",
       "      <td>2018-07-09T00:00:00-04:00</td>\n",
       "      <td>[Environment]</td>\n",
       "      <td>[Environment and Natural Resources Division]</td>\n",
       "      <td>U.S. Department Justice , U.S. Environmental Protection Agency ( EPA ) , Rhode Island Department Environmental Management ( RIDEM ) announced today subsidiaries Stanley Black &amp; Decker Inc.—Emhart Industries Inc. Black &amp; Decker Inc.—have agreed clean dioxin contaminated sediment soil Centredale Manor Restoration Project Superfund Site North Providence Johnston , Rhode Island .    “ pleased reach resolution collaborative work responsible parties , EPA , stakeholders , ” said   Acting Assistant Attorney General Jeffrey H. Wood Justice Department   Environment Natural Resources Division . “ Today settlement ends protracted litigation allows important work underway restore healthy environment citizens living Centredale Manor Site Woonasquatucket River . ” “ settlement demonstrates tremendous progress achieving working responsible parties , states , federal partners expedite sites entire Superfund remediation process , ” said EPA Acting Administrator Andrew Wheeler . “ Centredale Manor Site National Priorities List 18 years ; taking charge ensuring Agency makes good promise clean betterment environment communities affected . ” “ Successfully concluding settlement paves way EPA good commitment aggressively pursue cleaning Centredale Manor Superfund Site , ” said EPA New England Regional Administrator Alexandra Dunn . “ excited work cleanup site , closer goal fully utilized North Providence Johnston communities . ” “ pleased collective efforts State Rhode Island , EPA , DOJ negotiations concluded major milestone cleanup Centredale Manor Restoration Superfund site consistent long - standing efforts polluter pay , ” said RIDEM Director Janet Coit . “ settlement speed remedy protects public health river environment , moves closer day reclaim recreational uses beautiful river resource . ” settlement , includes cleanup work Woonasquatucket River ( River ) bordering residential commercial properties River , requires companies perform remedy selected EPA Site 2012 , estimated cost approximately $ 100 million , resolves longstanding litigation . cleanup remedy includes excavation contaminated sediment floodplain soil Woonasquatucket River , including adjacent residential properties . cleanup remedy completed , access Woonasquatucket River restored local citizens . cleanup step State goal fishable swimmable river . work include upgrading caps contaminated soil peninsula area Site currently house high - rise apartment buildings . settlement ensures long - term monitoring maintenance site , directed remedy , implemented ensure public health protected .    settlement , Emhart Black &amp; Decker reimburse EPA approximately $ 42 million past costs incurred Site . companies reimburse EPA State Rhode Island future costs incurred agencies overseeing work required settlement . settlement include payments behalf federal agencies resolve claims agencies . payments , prior settlements related Site , result 100 percent recovery United States past future response costs related Site . Litigation related Site ongoing nearly years . Federal District Court found Black &amp; Decker Emhart liable hazardous waste responsible conduct cleanup Site , ruled EPA needed reconsider certain aspects cleanup . EPA appealed decision requiring reconsider aspects cleanup . settlement , entered District Court , resolve litigation United States , Rhode Island , Emhart Black Decker , allowing cleanup Site begin . Site spans half mile stretch Woonasquatucket River encompasses - acre peninsula , ponds significant forested wetland . 1940s early 1970s , Emhart predecessor operated chemical manufacturing facility peninsula raw material contaminated 2,3,7,8 - tetrachlorodibenzo - p - dioxin , toxic form dioxin . Site property previously barrel refurbisher . Elevated levels dioxins contaminants detected soil , groundwater , sediment , surface water fish .    Site added National Priorities List ( NPL ) 2000 , December 2017 , EPA included Centredale Manor Restoration Project Superfund Site list Superfund sites targeted immediate intense attention . short - term actions previously performed Site address immediate threats residents minimize potential erosion downstream transport contaminated soil sediment . settlement latest agreement EPA reached Site listed NPL . Prior agreements addressed performance recovery costs past environmental investigations interim cleanup actions Emhart , barrel reconditioning company , current owners peninsula portion Site , potentially responsible parties . Consent Decree , lodged U.S. District Court Rhode Island , posted Federal Register available public comment period 30 days . Consent Decree viewed Justice Department website :   www.justice.gov/enrd/Consent_Decrees.html .    EPA information Centredale Manor Superfund Site :   www.epa.gov/superfund/centredale .</td>\n",
       "    </tr>\n",
       "    <tr>\n",
       "      <th>7</th>\n",
       "      <td>14-1412</td>\n",
       "      <td>14 Indicted in Connection with New England Compounding Center and Nationwide Fungal Meningitis Outbreak</td>\n",
       "      <td>A 131-count criminal indictment was unsealed today in Boston in connection with the 2012 nationwide fungal meningitis outbreak, the Justice Department announced.  Barry J. Cadden, owner and head pharmacist of New England Compounding Center (NECC) and NECC’s supervisory pharmacist Glenn A. Chin were charged with 25 acts of second-degree murder in Florida, Indiana, Maryland, Michigan, North Carolina, Tennessee and Virginia.    The outbreak was caused by contaminated vials of preservative-free methylprednisolone acetate (MPA) manufactured by NECC, located in Framingham, Massachusetts.  The U.S. Centers for Disease Control and Prevention (CDC) reported that 751 patients in 20 states were diagnosed with a fungal infection after receiving injections of NECC’s MPA.  Of those 751 patients, the CDC reported that 64 patients in nine states died.  Twelve other individuals, all associated with NECC, including six other pharmacists, the director of operations, the national sales director, an unlicensed pharmacy technician, two of NECC’s owners, and one other individual were charged with additional crimes including racketeering, mail fraud, conspiracy, contempt, structuring, and violations of the Food, Drug and Cosmetic Act. “As alleged in the indictment, these employees knew they were producing their medication in an unsafe manner and in insanitary conditions, and authorized it to be shipped out anyway, with fatal results,” said Attorney General Eric Holder.  “With the indictment and these arrests, the Department of Justice is taking decisive action to hold these individuals accountable for their alleged participation in grievous wrongdoing.  Actions like the ones alleged in this case display not only a reckless disregard for health and safety regulations, but also an extreme and appalling indifference to human life.  American consumers have a right to know that their medications are safe to use, and this case proves that the Department of Justice will always stand resolute to ensure that right, to protect the American people, and to hold wrongdoers accountable to the fullest extent of the law.” “Every patient receiving treatment deserves the peace of mind and knowledge that the medicine they are receiving is safe,” said Acting Associate Attorney General Stuart Delery.  “When people and companies violate that trust and break the law, the consequences to patients and their families can be catastrophic.  That’s why it remains a priority of the Department to use every tool at our disposal to protect patients’ safety and hold bad actors accountable.” “Those who produce and sell the drugs that we take have a special responsibility to make sure that they prepare those drugs under suitable conditions, and that what leaves their facilities is safe,” said Acting Assistant Attorney General Joyce R. Branda for the Justice Department’s Civil Division.  “The indictment charges that the defendants’ conduct in this case was corrupt and carried out with a complete disregard to the public’s health.  The department‘s Consumer Protection Branch along with our law enforcement partners is steadfast in our commitment to use every criminal and civil tool at our disposal to hold accountable those who are willing to put our lives at risk in the reckless pursuit of their profits.” “Ever since the outbreak occurred, we have been committed to bringing to justice the individuals responsible for the deaths and suffering of so many innocent victims,” said U.S. Attorney Carmen Ortiz for the District of Massachusetts.  “The indictment announced today is the first step in that process which addresses alleged criminal wrongdoing at NECC, a business that prioritized production and profit over safety.  We will make every effort to ensure that licensed pharmacists, and those working with them, are held to a standard of care that protects the public from unsafe and dangerous medications.”  “Two years after the fungal meningitis outbreak, our hearts continue to go out to the victims of this tragedy and to their families,” said FDA Commissioner Margaret A. Hamburg M.D.  “Our work on behalf of all patients who want and deserve medicines that do not subject them to undue risk is far from done.  The FDA will continue to work aggressively on many fronts with the states, the Department of Justice, and others to protect the American public from unsafe compounded drug products.”  “Threats to public health, as alleged in today's indictment, are a priority for the FBI,” said Assistant Director Joseph S. Campbell of the FBI’s Criminal Division.  “Together with our law enforcement and regulatory agency partners, we are determined to stop practices that jeopardize patients' health and violate the public trust.  These types of investigations are complex and resource intensive.  We greatly appreciate the efforts of our partners in this case and look forward to working with them to effectively identify criminal activities and combat fraudulent and abusive health practices in the future.” The 14 individuals charged in the indictment are Barry J. Cadden, 48, of Wrentham, Massachusetts; Glenn A. Chin, 46, of Canton, Massachusetts; Gene Svirskiy, 33, of Ashland, Massachusetts; Christopher M. Leary, 30, of Shrewsbury, Massachusetts; Joseph M. Evanosky, 42, of Westford, Massachusetts; Scott M. Connolly, 42, of East Greenwich, Rhode Island; Sharon P. Carter, 50, of Hopkinton, Massachusetts; Alla V. Stepanets, 34, of Framingham, Massachusetts; Gregory A. Conigliaro, 49 of Southborough, Massachusetts; Robert A. Ronzio, 40, of North Providence, Rhode Island; Kathy Chin, 42, of Canton, Massachusetts; Michelle Thomas, 31 of Cumberland, Rhode Island; Carla Conigliaro, 51, of Dedham, Massachusetts and Douglas A. Conigliaro, 53, of Dedham, Massachusetts.   The 25 second-degree murders are included in the indictment as predicate racketeering acts under the Racketeer Influenced and Corrupt Organizations Act (RICO).  These charges relate to patients who received NECC MPA and died in Florida, Indiana, Maryland, Michigan, North Carolina, Tennessee and Virginia. As a general matter, and depending on particular state law, second-degree murder does not require the government to prove Cadden and Chin had specific intent to kill the 25 patients, but rather that Cadden and Chin acted with extreme indifference to human life.  According to the indictment, Cadden and Chin knew that NECC was making MPA in a manner and in an environment in which they could not assure that the drug was sterile as it was identified to be.  Despite knowing that they were making the MPA in an unsafe manner and in insanitary conditions, Cadden and Chin nonetheless allegedly directed and authorized the shipping of MPA to NECC customers nationwide.  It is alleged that Cadden and Chin were aware that doctors would inject MPA into their patients’ bodies, and that if the MPA was not in fact sterile, it could kill them.  The 25 murder racketeering acts comprise only a portion of the broad racketeering scheme charged in the indictment.  The indictment also alleges that NECC’s other pharmacists knowingly made and sold numerous drugs in a similar unsafe manner and in insanitary conditions.  The unsafe manner alleged in the indictment includes, among other things, the pharmacists’ failure to properly sterilize NECC’s drugs, failure to properly test NECC’s drugs for sterility, and failure to wait for test results before sending the drugs to customers.  The insanitary conditions alleged in the indictment include, among other things, NECC’s lack of proper cleaning and NECC’s failure to take any action when its own environmental monitoring repeatedly detected mold and bacteria within NECC’s clean room suite of rooms throughout 2012.  It is further alleged that NECC repeatedly took steps to shield its operations from regulatory oversight by the FDA by claiming to be a pharmacy dispensing drugs pursuant to valid, patient-specific prescriptions.  In fact, NECC routinely dispensed drugs in bulk without valid prescriptions.  The indictment alleges that NECC even used fictional and celebrity names on fake prescriptions to dispense drugs.  Finally, the indictment charges Carla Conigliaro, the majority shareholder of NECC, and her husband Douglas Conigliaro with transferring assets following the fungal meningitis outbreak.  Specifically, the indictment charges that after NECC declared bankruptcy, and the bankruptcy court ordered the shareholders not to transfer assets, Carla and Doug Conigliaro transferred approximately $33.3 million to eight different bank accounts opened after the NECC bankruptcy.  Cadden and Chin face a maximum of up to life in prison if convicted on all counts.  “Although no VA patients were affected by the fungal meningitis outbreak, VA unknowingly purchased a variety of pharmaceutical products over a three year period from NECC that were intentionally produced in an unsafe manner under insanitary conditions,” said Assistant Inspector General for Investigations James J. O’Neill for the Office of Inspector General, Department of Veterans Affairs.  “We are pleased to have contributed to this outstanding multi-agency criminal investigation.” “Today's results are part of an ongoing effort by the Defense Criminal Investigative Service and its law enforcement partners to protect the integrity of the Department of Defense's health care program and the quality of care our service members receive,” said Deputy Inspector General for Investigations James B. Burch for the U.S. Department of Defense Office of the Inspector General.  “The Defense Criminal Investigative Service will continue to pursue allegations of health care fraud that put the Warfighter at risk.” “The U.S. Postal Inspection Service is pleased to join our federal partners in this announcement” said Postal Inspector in Charge Shelly A. Binkowski of the Boston Division.  “What's particularly disturbing about this case is that through their alleged misrepresentation and greed, these defendants put the health and well-being of others at a high level of risk.  This criminal action today demonstrates the commitment and vigilance of postal inspectors and other federal agents to pursue criminals who prey on the public in such an egregious way.” In announcing the indictment today, Attorney General Holder and U.S. Attorney Ortiz acknowledged the assistance and cooperation of Michigan State Attorney General Bill Schuette.  The state of Michigan had the most deaths during the outbreak. The investigation was conducted by the FDA Office of Criminal Investigations and the FBI with assistance by the Defense Criminal Investigative Service, U.S. Department of Defense, Office of Inspector General; Department of Veterans Affairs Office of Inspector General and U.S. Postal Inspection Service. The case is being prosecuted by Assistant U.S. Attorneys George P. Varghese and Amanda P.M. Strachan of the Health Care Fraud Unit for the U.S. Attorney’s Office in the District of Massachusetts, and Trial Attorney John W.M. Claud of the Civil Division’s Consumer Protection Branch. The details contained in the indictment are allegations.  The defendants are presumed innocent unless and until proven guilty beyond a reasonable doubt. Victims with questions about today’s charges may call 1-888-221-6023 or email usama.victimassistance@usdoj.gov.</td>\n",
       "      <td>2014-12-17T00:00:00-05:00</td>\n",
       "      <td>[Consumer Protection]</td>\n",
       "      <td>[Civil Division]</td>\n",
       "      <td>131 - count criminal indictment unsealed today Boston connection 2012 nationwide fungal meningitis outbreak , Justice Department announced .    Barry J. Cadden , owner head pharmacist New England Compounding Center ( NECC ) NECC supervisory pharmacist Glenn A. Chin charged 25 acts second - degree murder Florida , Indiana , Maryland , Michigan , North Carolina , Tennessee Virginia .      outbreak caused contaminated vials preservative - free methylprednisolone acetate ( MPA ) manufactured NECC , located Framingham , Massachusetts .    U.S. Centers Disease Control Prevention ( CDC ) reported 751 patients 20 states diagnosed fungal infection receiving injections NECC MPA .    751 patients , CDC reported 64 patients states died .    individuals , associated NECC , including pharmacists , director operations , national sales director , unlicensed pharmacy technician , NECC owners , individual charged additional crimes including racketeering , mail fraud , conspiracy , contempt , structuring , violations Food , Drug Cosmetic Act . “ alleged indictment ,   employees   knew     producing medication   unsafe manner insanitary conditions , authorized shipped , fatal results , ” said Attorney General Eric Holder .    “   indictment arrests , Department Justice taking decisive action hold     individuals accountable alleged participation grievous wrongdoing .    Actions like ones alleged case display reckless disregard health safety regulations , extreme appalling indifference human life .    American consumers right know medications safe use , case proves Department Justice stand resolute ensure right , protect American people , hold wrongdoers accountable fullest extent law . ” “ patient receiving treatment deserves peace mind knowledge medicine receiving safe , ” said Acting Associate Attorney General Stuart Delery .    “ people companies violate trust break law , consequences patients families catastrophic .    remains priority Department use tool disposal protect patients ’ safety hold bad actors accountable . ” “ produce sell drugs special responsibility sure prepare drugs suitable conditions , leaves facilities safe , ” said Acting Assistant Attorney General Joyce R. Branda Justice Department Civil Division .    “ indictment charges defendants ’ conduct case corrupt carried complete disregard public health .    department‘s Consumer Protection Branch law enforcement partners steadfast commitment use criminal civil tool disposal hold accountable willing lives risk reckless pursuit profits . ” “ outbreak occurred , committed bringing justice individuals responsible deaths suffering innocent victims , ” said U.S. Attorney Carmen Ortiz District Massachusetts .    “ indictment announced today step process addresses alleged criminal wrongdoing NECC , business prioritized production profit safety .    effort ensure licensed pharmacists , working , held standard care protects public unsafe dangerous medications . ”    “ years fungal meningitis outbreak , hearts continue victims tragedy families , ” said FDA Commissioner Margaret A. Hamburg M.D.    “ work behalf patients want deserve medicines subject undue risk far .    FDA continue work aggressively fronts states , Department Justice , protect American public unsafe compounded drug products . ”    “ Threats public health , alleged today indictment , priority FBI , ” said Assistant Director Joseph S. Campbell FBI Criminal Division .    “ law enforcement regulatory agency partners , determined stop practices jeopardize patients ' health violate public trust .    types investigations complex resource intensive .    greatly appreciate efforts partners case look forward working effectively identify criminal activities combat fraudulent abusive health practices future . ” 14 individuals charged indictment Barry J. Cadden , 48 , Wrentham , Massachusetts ; Glenn A. Chin , 46 , Canton , Massachusetts ; Gene Svirskiy , 33 , Ashland , Massachusetts ; Christopher M. Leary , 30 , Shrewsbury , Massachusetts ; Joseph M. Evanosky , 42 , Westford , Massachusetts ; Scott M. Connolly , 42 , East Greenwich , Rhode Island ; Sharon P. Carter , 50 , Hopkinton , Massachusetts ; Alla V. Stepanets , 34 , Framingham , Massachusetts ; Gregory A. Conigliaro , 49 Southborough , Massachusetts ; Robert A. Ronzio , 40 , North Providence , Rhode Island ; Kathy Chin , 42 , Canton , Massachusetts ; Michelle Thomas , 31 Cumberland , Rhode Island ; Carla Conigliaro , 51 , Dedham , Massachusetts Douglas A. Conigliaro , 53 , Dedham , Massachusetts .     25 second - degree murders included indictment predicate racketeering acts Racketeer Influenced Corrupt Organizations Act ( RICO ) .    charges relate patients received NECC MPA died Florida , Indiana , Maryland , Michigan , North Carolina , Tennessee Virginia . general matter , depending particular state law , second - degree murder require government prove Cadden Chin specific intent kill 25 patients , Cadden Chin acted extreme indifference human life .    According indictment , Cadden Chin knew NECC making MPA manner environment assure drug sterile identified .    Despite knowing making MPA unsafe manner insanitary conditions , Cadden Chin nonetheless allegedly directed authorized shipping MPA NECC customers nationwide .    alleged Cadden Chin aware doctors inject MPA patients ’ bodies , MPA fact sterile , kill .    25 murder racketeering acts comprise portion broad racketeering scheme charged indictment .    indictment alleges NECC pharmacists knowingly sold numerous drugs similar unsafe manner insanitary conditions .    unsafe manner alleged indictment includes , things , pharmacists ’ failure properly sterilize NECC drugs , failure properly test NECC drugs sterility , failure wait test results sending drugs customers .    insanitary conditions alleged indictment include , things , NECC lack proper cleaning NECC failure action environmental monitoring repeatedly detected mold bacteria NECC clean room suite rooms 2012 .    alleged NECC repeatedly took steps shield operations regulatory oversight FDA claiming pharmacy dispensing drugs pursuant valid , patient - specific prescriptions .    fact , NECC routinely dispensed drugs bulk valid prescriptions .    indictment alleges NECC fictional celebrity names fake prescriptions dispense drugs .    Finally , indictment charges Carla Conigliaro , majority shareholder NECC , husband Douglas Conigliaro transferring assets following fungal meningitis outbreak .    Specifically , indictment charges NECC declared bankruptcy , bankruptcy court ordered shareholders transfer assets , Carla Doug Conigliaro transferred approximately $ 33.3 million different bank accounts opened NECC bankruptcy .    Cadden Chin face maximum life prison convicted counts .    “ VA patients affected fungal meningitis outbreak , VA unknowingly purchased variety pharmaceutical products year period NECC intentionally produced unsafe manner insanitary conditions , ” said Assistant Inspector General Investigations James J. O’Neill Office Inspector General , Department Veterans Affairs .    “ pleased contributed outstanding multi - agency criminal investigation . ” “ Today results ongoing effort Defense Criminal Investigative Service law enforcement partners protect integrity Department Defense health care program quality care service members receive , ” said Deputy Inspector General Investigations James B. Burch U.S. Department Defense Office Inspector General .    “ Defense Criminal Investigative Service continue pursue allegations health care fraud Warfighter risk . ” “ U.S. Postal Inspection Service pleased join federal partners announcement ” said Postal Inspector Charge Shelly A. Binkowski Boston Division .    “ particularly disturbing case alleged misrepresentation greed , defendants health - high level risk .    criminal action today demonstrates commitment vigilance postal inspectors federal agents pursue criminals prey public egregious way . ” announcing indictment today , Attorney General Holder U.S. Attorney Ortiz acknowledged assistance cooperation Michigan State Attorney General Bill Schuette .    state Michigan deaths outbreak . investigation conducted FDA Office Criminal Investigations FBI assistance Defense Criminal Investigative Service , U.S. Department Defense , Office Inspector General ; Department Veterans Affairs Office Inspector General U.S. Postal Inspection Service . case prosecuted Assistant U.S. Attorneys George P. Varghese Amanda P.M. Strachan Health Care Fraud Unit U.S. Attorney Office District Massachusetts , Trial Attorney John W.M. Claud Civil Division Consumer Protection Branch . details contained indictment allegations .    defendants presumed innocent proven guilty reasonable doubt . Victims questions today charges 1 - 888 - 221 - 6023 email usama.victimassistance@usdoj.gov .</td>\n",
       "    </tr>\n",
       "    <tr>\n",
       "      <th>19</th>\n",
       "      <td>17-1419</td>\n",
       "      <td>2017 Southeast Regional Animal Cruelty Prosecutions Training Held at Valdosta State University</td>\n",
       "      <td>The United States Attorney’s Office for the Middle District of Georgia, the Environmental Crimes Section of the United States Department of Justice’s Environment and Natural Resources Division, and the United States Department of Agriculture – Office of Inspector General hosted training for the Southeast region on animal cruelty prosecutions, Dec. 13-14.     This training represents the collaboration and coordination of federal and local agencies and offices to combat crimes of animal cruelty, including organized dog fighting, cock fighting, and horse soring. The conference provided participants with an overview of the federal animal welfare and cruelty statutes, investigation techniques, and strategies to overcome prosecution challenges. The Humane Society of the United States, along with prosecutors and federal agents, shared their experience in handling dog fighting and animal cruelty cases strengthening the response to these serious crimes.   “Fighting contests involving dogs and other animals are morally wrong and illegal, said United States Attorney Charles E. Peeler.” They also create havens for additional illegal conduct such as gambling, drug trade and unlawful gun possession.  Our office works with federal, state and local law enforcement agencies to identify and prosecute those involved in this reprehensible conduct.”   “Ending animal fighting ventures and other inhumane practices will require a close partnership among federal, state, and local law enforcement agencies,” said Acting Assistant Attorney General Jeffrey H. Wood of the Justice Department’s Environment and Natural Resources Division. “Our Division is proud to be a leader in this worthy cause and to participate in this important training event in the wonderful city of Valdosta, Georgia.”   “The USDA OIG is pleased to have worked closely with the Department of Justice to coordinate this important training initiative to combat animal fighting and the associated crimes which often occur in animal fighting ventures,” said Special Agent in Charge Karen Citizen-Wilcox for the USDA OIG Southeast Region Office of Investigations. “Special Agents from all of the OIG’s regional offices will share their knowledge of and experiences with animal fighting investigations with personnel attending from other law enforcement agencies and private organizations.”   During the training, animal fighting investigators from the Humane Society of the United States, along with prosecutors and USDA OIG agents who have successfully investigated and prosecuted animal fighting cases, shared their experiences with attendees. Instructors provided participants with an overview of the business of dog fighting, a description of federal animal welfare and cruelty statutes, effective investigative techniques, evidence collection best practices, available resources and authorities for the seizure and post-seizure care of animals and successful sentencing strategies.   State and national animal control associations estimate that upwards of 40,000 people participate in dog fighting in the United States at a professional level, meaning that dog fighting and its associated gambling are their primary or only source of income. An unknown but potentially larger number of people participate in dog fighting on an occasional basis. Cockfighting is thought to be similarly widespread. In addition, animal fighting activities attract other serious crimes, such as gambling, drug dealing, weapons offenses and money laundering. Children are commonly present at animal fighting events.   The federal Animal Welfare Act makes it a felony punishable by up to five years in prison to knowingly sell, buy, possess, train, transport, deliver, or receive any animal, including dogs, for purposes of having the animal participate in an animal fighting venture. In 2014, the Department of Justice designated the Environment and Natural Resources Division as the centralized body within the Department responsible for tracking, coordinating, and working with the U.S. Attorneys’ Offices on animal cruelty enforcement matters.</td>\n",
       "      <td>2017-12-14T00:00:00-05:00</td>\n",
       "      <td>[Environment]</td>\n",
       "      <td>[Environment and Natural Resources Division, USAO - Georgia, Middle]</td>\n",
       "      <td>United States Attorney Office Middle District Georgia , Environmental Crimes Section United States Department Justice Environment Natural Resources Division , United States Department Agriculture – Office Inspector General hosted training Southeast region animal cruelty prosecutions , Dec. 13 - 14 .       training represents collaboration coordination federal local agencies offices combat crimes animal cruelty , including organized dog fighting , cock fighting , horse soring . conference provided participants overview federal animal welfare cruelty statutes , investigation techniques , strategies overcome prosecution challenges . Humane Society United States , prosecutors federal agents , shared experience handling dog fighting animal cruelty cases strengthening response crimes .    “ Fighting contests involving dogs animals morally wrong illegal , said United States Attorney Charles E. Peeler . ” create havens additional illegal conduct gambling , drug trade unlawful gun possession .    office works federal , state local law enforcement agencies identify prosecute involved reprehensible conduct . ”    “ Ending animal fighting ventures inhumane practices require close partnership federal , state , local law enforcement agencies , ” said Acting Assistant Attorney General Jeffrey H. Wood Justice Department Environment Natural Resources Division . “ Division proud leader worthy cause participate important training event wonderful city Valdosta , Georgia . ”    “ USDA OIG pleased worked closely Department Justice coordinate important training initiative combat animal fighting associated crimes occur animal fighting ventures , ” said Special Agent Charge Karen Citizen - Wilcox USDA OIG Southeast Region Office Investigations . “ Special Agents OIG regional offices share knowledge experiences animal fighting investigations personnel attending law enforcement agencies private organizations . ”    training , animal fighting investigators Humane Society United States , prosecutors USDA OIG agents successfully investigated prosecuted animal fighting cases , shared experiences attendees . Instructors provided participants overview business dog fighting , description federal animal welfare cruelty statutes , effective investigative techniques , evidence collection best practices , available resources authorities seizure post - seizure care animals successful sentencing strategies .    State national animal control associations estimate upwards 40,000 people participate dog fighting United States professional level , meaning dog fighting associated gambling primary source income . unknown potentially larger number people participate dog fighting occasional basis . Cockfighting thought similarly widespread . addition , animal fighting activities attract crimes , gambling , drug dealing , weapons offenses money laundering . Children commonly present animal fighting events .    federal Animal Welfare Act makes felony punishable years prison knowingly sell , buy , possess , train , transport , deliver , receive animal , including dogs , purposes having animal participate animal fighting venture . 2014 , Department Justice designated Environment Natural Resources Division centralized body Department responsible tracking , coordinating , working U.S. Attorneys ’ Offices animal cruelty enforcement matters .</td>\n",
       "    </tr>\n",
       "    <tr>\n",
       "      <th>22</th>\n",
       "      <td>15-1562</td>\n",
       "      <td>21st Century Oncology to Pay $19.75 Million to Settle Alleged False Claims for Unnecessary Laboratory Tests</td>\n",
       "      <td>21st Century Oncology LLC, has agreed to pay $19.75 million to the government to resolve allegations that it violated the False Claims Act by billing federal health care programs for laboratory tests that were not medically necessary, the Justice Department announced today.  21st Century is a nationwide provider of integrated cancer care services that is headquartered in Fort Myers, Florida.  “Today’s settlement demonstrates our unwavering commitment to protect the Medicare trust fund against unscrupulous providers,” said Principal Deputy Assistant Attorney General Benjamin C. Mizer, head of the Justice Department’s Civil Division.  “Providers who waste taxpayer dollars by billing for unnecessary services will face serious consequences.” The settlement announced today resolves allegations that 21st Century submitted claims to Medicare and Tricare for fluorescence in situ hybridization, or “FISH,” tests that were not medically necessary.  FISH tests are laboratory tests performed on urine that can detect genetic abnormalities associated with bladder cancer.  The government alleged that 21st Century submitted claims for unnecessary FISH tests that were ordered by four of its urologists, Dr. Meir Daller, Dr. Steven Paletsky, Dr. David Spellberg and Dr. Robert Scappa, all of whom practiced in the Fort Myers area.  The government also alleged that 21st Century encouraged these physicians to order unnecessary FISH tests by offering bonuses that were based in part on the number of tests referred to 21st Century’s laboratory.  Today’s settlement resolves the civil liability of 21st Century only.  “Charging the government for clearly unnecessary medical services squanders taxpayer dollars,” said U.S. Attorney A. Lee Bentley, III of the Middle District of Florida.  “Our office will continue to pursue health care providers who defraud the United States, thereby threatening the viability of government health care programs, such as Medicare.” “These tests were ordered to increase profits, not improve the healthcare of patients,” said Special Agent in Charge Shimon Richmond of the Department of Health and Human Services Office of Inspector General (HHS-OIG). “This kind of unvarnished fraud is an attack on Medicare by unscrupulous providers and the OIG and its federal partners will take whatever steps are necessary to stop them.” “This settlement demonstrates the commitment of the Defense Criminal Investigative Service (DCIS) and its law enforcement partners to protect the integrity of the U.S. military health care program (TRICARE) against fraudulent claims for medical services, said Special Agent in Charge John F. Khin of DCIS’s Southeast Field Office.” The settlement resolves allegations originally brought in a lawsuit filed by a whistleblower under the qui tam provisions of the False Claims Act, which allow private parties to bring suit on behalf of the government and to share in any recovery.  The whistleblower, a former 21st Century Oncology LLC medical assistant, will receive $3.2 million as her share of the recovery in this case. The investigation was handled by the Civil Division’s Commercial Litigation Branch and the Fort Myers Division of the U.S. Attorney’s Office of the Middle District of Florida with assistance from HHS-OIG, DCIS and the FBI.  This settlement illustrates the government’s emphasis on combating health care fraud and marks another achievement for the Health Care Fraud Prevention and Enforcement Action Team (HEAT) initiative, which was announced in May 2009 by the Attorney General and the Secretary of Health and Human Services.  The partnership between the two departments has focused efforts to reduce and prevent Medicare and Medicaid financial fraud through enhanced cooperation.  One of the most powerful tools in this effort is the False Claims Act.  Since January 2009, the Justice Department has recovered a total of more than $26.7 billion through False Claims Act cases, with more than $16.8 billion of that amount recovered in cases involving fraud against federal health care programs.   The lawsuit is captioned United States, State of Florida, ex rel. Mariela Barnes v. Dr. David Spellberg, 21st Century Oncology and Naples Urology Associates, Civil Action No. 2:13-cv-228-FtM-38DNF (M.D. Fla.).  The claims resolved by the settlement are allegations only, and there has been no determination of liability.</td>\n",
       "      <td>2015-12-18T00:00:00-05:00</td>\n",
       "      <td>[False Claims Act, Health Care Fraud]</td>\n",
       "      <td>[Civil Division]</td>\n",
       "      <td>21st Century Oncology LLC , agreed pay $ 19.75 million government resolve allegations violated False Claims Act billing federal health care programs laboratory tests medically necessary , Justice Department announced today .    21st Century nationwide provider integrated cancer care services headquartered Fort Myers , Florida .    “ Today settlement demonstrates unwavering commitment protect Medicare trust fund unscrupulous providers , ” said Principal Deputy Assistant Attorney General Benjamin C. Mizer , head Justice Department Civil Division .    “ Providers waste taxpayer dollars billing unnecessary services face consequences . ” settlement announced today resolves allegations 21st Century submitted claims Medicare Tricare fluorescence situ hybridization , “ FISH , ” tests medically necessary .    FISH tests laboratory tests performed urine detect genetic abnormalities associated bladder cancer .    government alleged 21st Century submitted claims unnecessary FISH tests ordered urologists , Dr. Meir Daller , Dr. Steven Paletsky , Dr. David Spellberg Dr. Robert Scappa , practiced Fort Myers area .    government alleged 21st Century encouraged physicians order unnecessary FISH tests offering bonuses based number tests referred 21st Century laboratory .    Today settlement resolves civil liability 21st Century .    “ Charging government clearly unnecessary medical services squanders taxpayer dollars , ” said U.S. Attorney A. Lee Bentley , III Middle District Florida .    “ office continue pursue health care providers defraud United States , threatening viability government health care programs , Medicare . ” “ tests ordered increase profits , improve healthcare patients , ” said Special Agent Charge Shimon Richmond Department Health Human Services Office Inspector General ( HHS - OIG ) . “ kind unvarnished fraud attack Medicare unscrupulous providers OIG federal partners steps necessary stop . ” “ settlement demonstrates commitment Defense Criminal Investigative Service ( DCIS ) law enforcement partners protect integrity U.S. military health care program ( TRICARE ) fraudulent claims medical services , said Special Agent Charge John F. Khin DCIS Southeast Field Office . ” settlement resolves allegations originally brought lawsuit filed whistleblower qui tam provisions False Claims Act , allow private parties bring suit behalf government share recovery .    whistleblower , 21st Century Oncology LLC medical assistant , receive $ 3.2 million share recovery case . investigation handled Civil Division Commercial Litigation Branch Fort Myers Division U.S. Attorney Office Middle District Florida assistance HHS - OIG , DCIS FBI .    settlement illustrates government emphasis combating health care fraud marks achievement Health Care Fraud Prevention Enforcement Action Team ( HEAT ) initiative , announced 2009 Attorney General Secretary Health Human Services .    partnership departments focused efforts reduce prevent Medicare Medicaid financial fraud enhanced cooperation .    powerful tools effort False Claims Act .    January 2009 , Justice Department recovered total $ 26.7 billion False Claims Act cases , $ 16.8 billion recovered cases involving fraud federal health care programs .     lawsuit captioned United States , State Florida , ex rel . Mariela Barnes v. Dr. David Spellberg , 21st Century Oncology Naples Urology Associates , Civil Action . 2:13 - cv-228 - FtM-38DNF ( M.D. Fla. ) .    claims resolved settlement allegations , determination liability .</td>\n",
       "    </tr>\n",
       "    <tr>\n",
       "      <th>23</th>\n",
       "      <td>17-1404</td>\n",
       "      <td>21st Century Oncology to Pay $26 Million to Settle False Claims Act Allegations</td>\n",
       "      <td>21st Century Oncology Inc. and certain of its subsidiaries and affiliates have agreed to pay $26 million to the government to resolve a self-disclosure relating to the submission of false attestations regarding the company’s use of electronic health records software and separate allegations that they violated the False Claims Act by submitting, or causing the submission of, claims for certain services provided pursuant to referrals from physicians with whom they had improper financial relationships.   “The Justice Department is committed to zealously investigating improper financial relationships that have the potential to compromise physicians’ medical judgment,” said Acting Assistant Attorney General Chad A. Readler of the Justice Department’s Civil Division.  “However, we will work with companies that accept responsibility for their past compliance failures and promptly take corrective action.”    21st Century Oncology, which is headquartered in Fort Myers, Florida, owns and operates subsidiaries and affiliates throughout the United States that provide integrated cancer care.  As part of its business, 21st Century Oncology’s subsidiaries and affiliates employ physicians in specialty fields such as radiation oncology, medical oncology, and urology.     The settlement announced today resolves conduct that was self-disclosed by the company regarding payments made by the government as part of the Medicare Electronic Health Records (EHR) Incentive Program.  Under the Medicare EHR Incentive Program, physicians who attest to their meaningful use of certified EHR technology may receive incentive payments and avoid downward adjustments to certain Medicare claims.  As part of its self-disclosure, 21st Century Oncology reported that it knowingly submitted, or caused the submission of, false attestations to CMS concerning employed physicians’ use of EHR software.  The company further reported that, in support of the attestations, its employees falsified data regarding the company’s use of EHR software, fabricated software utilization reports, and superimposed EHR vendor logos onto the reports to make them look legitimate.     “This settlement represents our office’s continued commitment to ensuring compliance with important federal health care laws,” said Acting U.S. Attorney Stephen Muldrow of the Middle District of Florida.  “We appreciate that 21st Century Oncology self-reported a major fraud affecting Medicare, and we are also pleased that the company has agreed to accept financial responsibility for past compliance failures.”   The settlement also resolves the government’s allegations regarding violations of the physician self-referral law (commonly referred to as the “Stark Law.”)  The Stark Law prohibits an entity from submitting claims to Medicare for designated health services performed pursuant to referrals from physicians with whom the entity has a financial relationship unless certain designated exceptions apply.  The government alleged that 21st Century Oncology and certain of its subsidiaries and affiliates violated the FCA by submitting, or causing the submission of, claims for services performed pursuant to referrals from physicians whose compensation did not satisfy any exception to the Stark Law.   The Stark Law allegations were originally brought in a lawsuit filed by Matthew Moore, 21st Century Oncology’s former Interim Vice President of Financial Planning, under the qui tam provisions of the False Claims Act.  Under the Act, private parties may bring suit on behalf of the government and share in any recovery.  Mr. Moore will receive $2,000,000 as his share of the recovery associated with the Stark Law allegations.   In addition to the civil settlement, 21st Century Oncology has entered into a new five-year Corporate Integrity Agreement with the Office of Inspector General of the United States Department of Health and Human Services (HHS-OIG), which obligates 21st Century Oncology to undertake substantial internal compliance reforms, including hiring independent review organizations to conduct annual claims and arrangements reviews.    “21st Century Oncology admitted to causing violation of the meaningful use regulations in order to fund an electronic health records system, as well as falsifying records to cover up those actions,” said Shimon R. Richmond, Special Agent in Charge for the Office of Inspector General of the U.S. Department of Health and Human Services.  “Separately, the government alleged that same company, through its affiliates and subsidiaries, caused certain physicians to enter into illegal financial arrangements.  Providers engaging in similar behavior should expect attention from OIG.”      The government’s resolution of this matter illustrates the government’s emphasis on combating health care fraud.  Tips and complaints from all sources about potential fraud, waste, abuse, and mismanagement can be reported to the Department of Health and Human Services at 900-HHS-TIPS (800-447-8477).   The investigation was handled by the Civil Division’s Commercial Litigation Branch and the Fort Myers Division of the U.S. Attorney’s Office for the Middle District of Florida, with assistance from the U.S. Attorney’s Office for the Southern District of New York and HHS-OIG.  The claims resolved by this settlement are allegations only; there has been no determination of liability.  The case is captioned United States ex rel. Moore v. 21st Century Oncology, LLC, No. 2:16-cv-99 (M.D. Fl.).</td>\n",
       "      <td>2017-12-12T00:00:00-05:00</td>\n",
       "      <td>[Health Care Fraud, False Claims Act]</td>\n",
       "      <td>[Civil Division, USAO - Florida, Middle]</td>\n",
       "      <td>21st Century Oncology Inc. certain subsidiaries affiliates agreed pay $ 26 million government resolve self - disclosure relating submission false attestations company use electronic health records software separate allegations violated False Claims Act submitting , causing submission , claims certain services provided pursuant referrals physicians improper financial relationships .    “ Justice Department committed zealously investigating improper financial relationships potential compromise physicians ’ medical judgment , ” said Acting Assistant Attorney General Chad A. Readler Justice Department Civil Division .    “ , work companies accept responsibility past compliance failures promptly corrective action . ”     21st Century Oncology , headquartered Fort Myers , Florida , owns operates subsidiaries affiliates United States provide integrated cancer care .    business , 21st Century Oncology subsidiaries affiliates employ physicians specialty fields radiation oncology , medical oncology , urology .       settlement announced today resolves conduct self - disclosed company payments government Medicare Electronic Health Records ( EHR ) Incentive Program .    Medicare EHR Incentive Program , physicians attest meaningful use certified EHR technology receive incentive payments avoid downward adjustments certain Medicare claims .    self - disclosure , 21st Century Oncology reported knowingly submitted , caused submission , false attestations CMS concerning employed physicians ’ use EHR software .    company reported , support attestations , employees falsified data company use EHR software , fabricated software utilization reports , superimposed EHR vendor logos reports look legitimate .       “ settlement represents office continued commitment ensuring compliance important federal health care laws , ” said Acting U.S. Attorney Stephen Muldrow Middle District Florida .    “ appreciate 21st Century Oncology self - reported major fraud affecting Medicare , pleased company agreed accept financial responsibility past compliance failures . ”    settlement resolves government allegations violations physician self - referral law ( commonly referred “ Stark Law . ” )    Stark Law prohibits entity submitting claims Medicare designated health services performed pursuant referrals physicians entity financial relationship certain designated exceptions apply .    government alleged 21st Century Oncology certain subsidiaries affiliates violated FCA submitting , causing submission , claims services performed pursuant referrals physicians compensation satisfy exception Stark Law .    Stark Law allegations originally brought lawsuit filed Matthew Moore , 21st Century Oncology Interim Vice President Financial Planning , qui tam provisions False Claims Act .    Act , private parties bring suit behalf government share recovery .    Mr. Moore receive $ 2,000,000 share recovery associated Stark Law allegations .    addition civil settlement , 21st Century Oncology entered new - year Corporate Integrity Agreement Office Inspector General United States Department Health Human Services ( HHS - OIG ) , obligates 21st Century Oncology undertake substantial internal compliance reforms , including hiring independent review organizations conduct annual claims arrangements reviews .      “ 21st Century Oncology admitted causing violation meaningful use regulations order fund electronic health records system , falsifying records cover actions , ” said Shimon R. Richmond , Special Agent Charge Office Inspector General U.S. Department Health Human Services .    “ Separately , government alleged company , affiliates subsidiaries , caused certain physicians enter illegal financial arrangements .    Providers engaging similar behavior expect attention OIG . ”        government resolution matter illustrates government emphasis combating health care fraud .    Tips complaints sources potential fraud , waste , abuse , mismanagement reported Department Health Human Services 900 - HHS - TIPS ( 800 - 447 - 8477 ) .    investigation handled Civil Division Commercial Litigation Branch Fort Myers Division   U.S. Attorney Office Middle District Florida , assistance U.S. Attorney Office Southern District New York HHS - OIG .    claims resolved settlement allegations ; determination liability .    case captioned United States ex rel . Moore v. 21st Century Oncology , LLC , . 2:16 - cv-99 ( M.D. Fl . ) .</td>\n",
       "    </tr>\n",
       "    <tr>\n",
       "      <th>...</th>\n",
       "      <td>...</td>\n",
       "      <td>...</td>\n",
       "      <td>...</td>\n",
       "      <td>...</td>\n",
       "      <td>...</td>\n",
       "      <td>...</td>\n",
       "      <td>...</td>\n",
       "    </tr>\n",
       "    <tr>\n",
       "      <th>316</th>\n",
       "      <td>15-1359</td>\n",
       "      <td>Alaska Plastic Surgeon Convicted of Wire Fraud and Tax Evasion</td>\n",
       "      <td>Doctor Hid Millions in Secret Accounts in Panama An Alaskan plastic surgeon was convicted today of four counts of wire fraud and three counts of tax evasion by a federal jury sitting in Anchorage, Alaska, announced Acting Assistant Attorney General Caroline D. Ciraolo of the Justice Department’s Tax Division and U.S. Attorney Karen Loeffler of the District of Alaska. Dr. Michael Brandner, 67, was convicted following a seven-day jury trial before U.S. District Judge Sharon Gleason of the District of Alaska.  According to the indictment and evidence introduced at trial, in late 2007, shortly after Brandner’s wife filed for divorce, he collected millions of dollars in marital assets and secretly drove from Tacoma, Washington, to Costa Rica in Central America.  In Costa Rica, he opened two bank accounts into which he deposited more than $350,000 in cash and hid a thousand ounces of gold in a safe deposit box.  He then traveled to Panama where he opened an account under the name of a sham corporation and in 2008, deposited $4.6 million into the account. Dr. Brandner concealed both the existence of the bank accounts and the interest he earned on those accounts from the court in the divorce proceedings and from the Internal Revenue Service (IRS).  Dr. Brandner owed the IRS $600,000 in additional taxes for the 2008 through 2010 tax years.  He presented the divorce court with a fabricated promissory note to mislead the court into believing he had invested more than $3 million in the foreign corporation. In 2011, once the divorce was final, Dr. Brandner repatriated more than $4.6 million, only to have the funds seized by Homeland Security Investigations agents.  He then lied to federal agents about his control of the funds. At his March 7, 2016 sentencing, Dr. Brandner faces a statutory maximum penalty of 20 years in prison for each count of wire fraud and five years for each count of tax evasion and a fine of up to $250,000, or twice the gain or loss caused by the offense, on each of the seven counts of conviction. Acting Assistant Attorney General Ciraolo thanked the special agents of IRS-Criminal Investigation, who investigated the case and Trial Attorney Ignacio Perez de la Cruz of the Tax Division and Assistant U.S. Attorney Bryan Schroder of the District of Alaska, who prosecuted the case.</td>\n",
       "      <td>2015-11-04T00:00:00-05:00</td>\n",
       "      <td>[Tax]</td>\n",
       "      <td>[Tax Division]</td>\n",
       "      <td>Doctor Hid Millions Secret Accounts Panama Alaskan plastic surgeon convicted today counts wire fraud counts tax evasion federal jury sitting Anchorage , Alaska , announced Acting Assistant Attorney General Caroline D. Ciraolo Justice Department Tax Division U.S. Attorney Karen Loeffler District Alaska . Dr. Michael Brandner , 67 , convicted following seven - day jury trial U.S. District Judge Sharon Gleason District Alaska .   According indictment evidence introduced trial , late 2007 , shortly Brandner wife filed divorce , collected millions dollars marital assets secretly drove Tacoma , Washington , Costa Rica Central America .    Costa Rica , opened bank accounts deposited $ 350,000 cash hid thousand ounces gold safe deposit box .   traveled Panama opened account sham corporation 2008 , deposited $ 4.6 million account . Dr. Brandner concealed existence bank accounts interest earned accounts court divorce proceedings Internal Revenue Service ( IRS ) .    Dr. Brandner owed IRS $ 600,000 additional taxes 2008 2010 tax years .    presented divorce court fabricated promissory note mislead court believing invested $ 3 million foreign corporation . 2011 , divorce final , Dr. Brandner repatriated $ 4.6 million , funds seized Homeland Security Investigations agents .    lied federal agents control funds . March 7 , 2016 sentencing , Dr. Brandner faces statutory maximum penalty 20 years prison count wire fraud years count tax evasion   fine $ 250,000 , twice gain loss caused offense , seven counts conviction . Acting Assistant Attorney General Ciraolo thanked special agents IRS - Criminal Investigation , investigated case Trial Attorney Ignacio Perez de la Cruz Tax Division Assistant U.S. Attorney Bryan Schroder District Alaska , prosecuted case .</td>\n",
       "    </tr>\n",
       "    <tr>\n",
       "      <th>318</th>\n",
       "      <td>16-396</td>\n",
       "      <td>Alaska Plastic Surgeon Sentenced to Prison for Wire Fraud and Tax Evasion</td>\n",
       "      <td>Defendant Concealed Bank Accounts in Panama and Costa Rica from the IRS An Anchorage, Alaska, plastic surgeon was sentenced to 48 months in prison on Friday for wire fraud and tax evasion, announced Acting Assistant Attorney General Caroline D. Ciraolo of the Justice Department’s Tax Division and U.S. Attorney Karen L. Loeffler of the District of Alaska. “Tax evasion knows no geographic bounds,” said Acting Assistant Attorney General Ciraolo.  “This case demonstrates that there is no longer any country where it is safe for a defendant like Dr. Brandner to hide money from the government.  The Department of Justice, along with its law enforcement partners, will continue to aggressively pursue individuals who conceal assets and income abroad in an effort to evade their responsibilities under our nation’s tax laws.”  Dr. Michael D. Brandner, 67, was convicted by a federal jury in November 2015 of four counts of wire fraud and three counts of tax evasion.  The charges arose from a scheme to conceal over $5 million of assets in secret bank accounts in Panama and Costa Rica from the Internal Revenue Service (IRS) and Dr. Brandner’s wife.  According to the indictment and evidence introduced at trial, shortly after his wife filed for divorce in late 2007, Dr. Brandner collected millions of dollars in marital assets and secretly drove from Tacoma, Washington, to Costa Rica in Central America.  In Costa Rica, he opened two bank accounts into which he deposited over $350,000 in cash and hid a thousand ounces of gold in a safe deposit box.  He then traveled to Panama where he opened an account under the name of a sham corporation and deposited $4.6 million into the account in 2008. Dr. Brandner concealed both the existence of the bank accounts and the interest income he earned on those accounts from the court in the divorce proceedings and from the IRS.  Dr. Brandner owed the IRS $500,000 in additional taxes for the 2008 through the 2010 tax years.  In 2011, Dr. Brandner repatriated over $4.6 million once the divorce was final only to have the funds seized by U.S. Immigration and Customs Enforcement Homeland Security Investigations (ICE HSI) special agents.  He then lied to federal agents about his control of the funds. In addition to the prison term, U.S. District Judge Sharon Gleason in Anchorage ordered Dr. Brandner to serve two years of supervised release, and pay $25,922.95 toward the costs of prosecution.  Acting Assistant Attorney General Ciraolo and U.S. Attorney Loeffler thanked special agents of IRS-Criminal Investigation and HSI, who investigated the case and Trial Attorney Ignacio Perez de la Cruz of the Tax Division and Assistant U.S. Attorney Bryan Schroder of the District of Alaska, who jointly prosecuted the case. Additional information about the Tax Division’s enforcement efforts can be found on the division’s website.</td>\n",
       "      <td>2016-04-04T00:00:00-04:00</td>\n",
       "      <td>[Tax]</td>\n",
       "      <td>[Tax Division]</td>\n",
       "      <td>Defendant Concealed Bank Accounts Panama Costa Rica IRS Anchorage , Alaska , plastic surgeon sentenced 48 months prison Friday wire fraud tax evasion , announced Acting Assistant Attorney General Caroline D. Ciraolo Justice Department Tax Division U.S. Attorney Karen L. Loeffler District Alaska . “ Tax evasion knows geographic bounds , ” said Acting Assistant Attorney General Ciraolo .    “ case demonstrates longer country safe defendant like Dr. Brandner hide money government .    Department Justice , law enforcement partners , continue aggressively pursue individuals conceal assets income abroad effort evade responsibilities nation tax laws . ”    Dr. Michael D. Brandner , 67 , convicted federal jury November 2015 counts wire fraud counts tax evasion .    charges arose scheme conceal $ 5 million assets secret bank accounts Panama Costa Rica Internal Revenue Service ( IRS ) Dr. Brandner wife .    According indictment evidence introduced trial , shortly wife filed divorce late 2007 , Dr. Brandner collected millions dollars marital assets secretly drove Tacoma , Washington , Costa Rica Central America .    Costa Rica , opened bank accounts deposited $ 350,000 cash hid thousand ounces gold safe deposit box .    traveled Panama opened account sham corporation deposited $ 4.6 million account 2008 . Dr. Brandner concealed existence bank accounts interest income earned accounts court divorce proceedings IRS .    Dr. Brandner owed IRS $ 500,000 additional taxes 2008 2010 tax years .   2011 , Dr. Brandner repatriated $ 4.6 million divorce final funds seized U.S. Immigration Customs Enforcement Homeland Security Investigations ( ICE HSI ) special agents .    lied federal agents control funds . addition prison term , U.S. District Judge Sharon Gleason Anchorage ordered Dr. Brandner serve years supervised release , pay $ 25,922.95 costs prosecution .    Acting Assistant Attorney General Ciraolo U.S. Attorney Loeffler thanked special agents IRS - Criminal Investigation HSI , investigated case Trial Attorney Ignacio Perez de la Cruz Tax Division Assistant U.S. Attorney Bryan Schroder District Alaska , jointly prosecuted case . Additional information Tax Division enforcement efforts found division website .</td>\n",
       "    </tr>\n",
       "    <tr>\n",
       "      <th>321</th>\n",
       "      <td>17-736</td>\n",
       "      <td>Alaskan Commercial Fishing Couple Charged with Willful Failure to Pay Over $400,000 in Income Taxes on Income Earned for 13 Years</td>\n",
       "      <td>An Alaskan couple was charged in federal court in Juneau, Alaska today with four counts of willful failure to pay their individual income taxes, announced Acting Deputy Assistant Attorney General Stuart M. Goldberg and Acting U.S. Attorney Bryan Schroder for the District of Alaska.    According to the Information, Archie W. Demmert III and Roseann L. Demmert earned income from commercial fishing. The Information alleges that Archie Demmert owned Vetta Bay LLC, which owned the Demmerts’ fishing vessel, the Emerald Beauty. The Information further charges that the Demmerts have a long history of not paying their taxes to the Internal Revenue Service (IRS). It alleges that the Demmerts did not pay their taxes for 13 separate tax years, for which they owed over $400,000, excluding penalties and interest.   The Demmerts arraignment has not been scheduled yet. They face a statutory maximum sentence of one year in prison on each separate count, as well as a period of supervised release, restitution and monetary penalties.   Acting Deputy Assistant Attorney General Goldberg and Acting U.S. Attorney Schroder recognized special agents of IRS Criminal Investigation, who conducted the investigation, and Assistant U.S. Attorney Andrea Steward and Trial Attorney Lori Hendrickson of the Tax Division, who are prosecuting this case.    An Information is merely an accusation, and a defendant is presumed innocent unless proven guilty.   Additional information about the Tax Division’s enforcement efforts can be found on the division’s website.</td>\n",
       "      <td>2017-07-26T00:00:00-04:00</td>\n",
       "      <td>[Tax]</td>\n",
       "      <td>[Tax Division, USAO - Alaska]</td>\n",
       "      <td>Alaskan couple charged federal court Juneau , Alaska today counts willful failure pay individual income taxes , announced Acting Deputy Assistant Attorney General Stuart M. Goldberg Acting U.S. Attorney Bryan Schroder District Alaska .     According Information , Archie W. Demmert III Roseann L. Demmert earned income commercial fishing . Information alleges Archie Demmert owned Vetta Bay LLC , owned Demmerts ’ fishing vessel , Emerald Beauty . Information charges Demmerts long history paying taxes Internal Revenue Service ( IRS ) . alleges Demmerts pay taxes 13 separate tax years , owed $ 400,000 , excluding penalties interest .    Demmerts arraignment scheduled . face statutory maximum sentence year prison separate count , period supervised release , restitution monetary penalties .    Acting Deputy Assistant Attorney General Goldberg Acting U.S. Attorney Schroder recognized special agents IRS Criminal Investigation , conducted investigation , Assistant U.S. Attorney Andrea Steward Trial Attorney Lori Hendrickson Tax Division , prosecuting case .     Information merely accusation , defendant presumed innocent proven guilty .    Additional information Tax Division enforcement efforts found division website .</td>\n",
       "    </tr>\n",
       "    <tr>\n",
       "      <th>322</th>\n",
       "      <td>18-717</td>\n",
       "      <td>Alaskan Husband And Wife Plead Guilty To Willful Failure To Pay Taxes</td>\n",
       "      <td>A husband and wife pleaded guilty yesterday to two counts of willfully failing to pay their income taxes, announced Principal Deputy Assistant Attorney General Richard E. Zuckerman of the Justice Department’s Tax Division and U.S. Attorney Bryan Schroder for the District of Alaska. According to court documents, Archie W. Demmert III, 57, and Roseann L. Demmert, 60, both of Klawock, Alaska, held commercial fishing permits and earned six-figure incomes in 2013 and 2014 from commercial fishing, on which they failed to timely pay the required income taxes due.  In addition, from 2006 to 2012, the Demmerts also did not timely pay in full the taxes they owed to the Internal Revenue Service.  As a result, the total tax loss to the IRS arising from their conduct is more than $300,000. Chief U.S. District Judge Timothy M. Burgess scheduled sentencing for October 4, 2018.  The Demmerts each face a statutory maximum sentence of two years in prison, as well as a period of supervised release, restitution and monetary penalties. Principal Deputy Assistant Attorney General Zuckerman and U.S. Attorney Schroder thanked special agents of IRS Criminal Investigation, who conducted the investigation, and Tax Division Trial Attorney Lori Hendrickson and Assistant U.S. Attorney Andrea Steward who are prosecuting the case. Additional information about the Tax Division and its enforcement efforts can be found on the division’s website.</td>\n",
       "      <td>2018-06-01T00:00:00-04:00</td>\n",
       "      <td>[Tax]</td>\n",
       "      <td>[Tax Division]</td>\n",
       "      <td>husband wife pleaded guilty yesterday counts willfully failing pay income taxes , announced Principal Deputy Assistant Attorney General Richard E. Zuckerman Justice Department Tax Division U.S. Attorney Bryan Schroder District Alaska . According court documents , Archie W. Demmert III , 57 , Roseann L. Demmert , 60 , Klawock , Alaska , held commercial fishing permits earned - figure incomes 2013 2014 commercial fishing , failed timely pay required income taxes .    addition , 2006 2012 , Demmerts timely pay taxes owed Internal Revenue Service .    result , total tax loss IRS arising conduct $ 300,000 . Chief U.S. District Judge Timothy M. Burgess scheduled sentencing October 4 , 2018 .    Demmerts face statutory maximum sentence years prison , period supervised release , restitution monetary penalties . Principal Deputy Assistant Attorney General Zuckerman U.S. Attorney Schroder thanked special agents IRS Criminal Investigation , conducted investigation , Tax Division Trial Attorney Lori Hendrickson Assistant U.S. Attorney Andrea Steward prosecuting case . Additional information Tax Division enforcement efforts found division website .</td>\n",
       "    </tr>\n",
       "    <tr>\n",
       "      <th>324</th>\n",
       "      <td>16-1345</td>\n",
       "      <td>Alaskan Oncologist Indicted for Tax Evasion</td>\n",
       "      <td>A resident of Big Lake, Alaska was indicted on four counts of tax evasion, announced Principal Deputy Assistant Attorney General Caroline D. Ciraolo, head of the Justice Department’s Tax Division, and U.S. Attorney Karen L. Loeffler of the District of Alaska. Larry Lawson was an oncologist who practiced under Midnight Sun Oncology Inc., an Alaskan business corporation.  The superseding indictment alleges that Lawson attempted to evade his 2009 through 2012 individual income tax liabilities by filing false individual and corporate income tax returns that falsely claimed, among other things, charitable contributions.  The superseding indictment further alleges that Lawson made a false statement to an Internal Revenue Service (IRS) agent during an audit of his 2009 and 2010 individual income tax returns by stating that he did not receive any items or property in return for money contributed to a non-profit Arizona corporation during those years.   According to IRS rules and regulations, if an individual receives a benefit or items or property as a result of making a contribution to a qualified organization, the individual may deduct only the amount of the contribution that exceeds the value of the benefit or items or property received. Lawson was also charged with one count of obstructing and impeding the internal revenue laws. The superseding indictment alleges that Lawson created and used nominee entities to conceal his individual income.  It further alleges that he created From the Vault Inc., a not-for-profit Alaska corporation, that he used as a nominee primarily to acquire and maintain his own personal collection of fossils, dinosaurs, maps, rare books, rare manuscripts, and related material. If convicted, Lawson faces a statutory maximum sentence of five years in prison for each count of tax evasion and three years in prison for obstructing and impeding the internal revenue laws. Lawson also faces a period of supervised release and monetary penalties. Principal Deputy Assistant Attorney General Ciraolo and U.S. Attorney Loeffler thanked special agents of IRS-Criminal Investigation, who conducted the investigation, and Trial Attorneys Lori A. Hendrickson and Timothy M. Russo of the Tax Division and Assistant U.S. Attorney Retta-Rae Randall, who are prosecuting the case. An indictment is only a charge and is not evidence of guilt.  A defendant is presumed innocent and is entitled to a fair trial at which the government must prove guilt beyond a reasonable doubt. Additional information about the Tax Division and its enforcement efforts may be found on the division website.</td>\n",
       "      <td>2016-11-17T00:00:00-05:00</td>\n",
       "      <td>[Tax]</td>\n",
       "      <td>[Tax Division]</td>\n",
       "      <td>resident Big Lake , Alaska indicted counts tax evasion , announced Principal Deputy Assistant Attorney General Caroline D. Ciraolo , head Justice Department Tax Division , U.S. Attorney Karen L. Loeffler District Alaska . Larry Lawson oncologist practiced Midnight Sun Oncology Inc. , Alaskan business corporation .    superseding indictment alleges Lawson attempted evade 2009 2012 individual income tax liabilities filing false individual corporate income tax returns falsely claimed , things , charitable contributions .    superseding indictment alleges Lawson false statement Internal Revenue Service ( IRS ) agent audit 2009 2010 individual income tax returns stating receive items property return money contributed non - profit Arizona corporation years .     According IRS rules regulations , individual receives benefit items property result making contribution qualified organization , individual deduct contribution exceeds value benefit items property received . Lawson charged count obstructing impeding internal revenue laws . superseding indictment alleges Lawson created nominee entities conceal individual income .    alleges created Vault Inc. , - - profit Alaska corporation , nominee primarily acquire maintain personal collection fossils , dinosaurs , maps , rare books , rare manuscripts , related material . convicted , Lawson faces statutory maximum sentence years prison count tax evasion years prison obstructing impeding internal revenue laws . Lawson faces period supervised release monetary penalties . Principal Deputy Assistant Attorney General Ciraolo U.S. Attorney Loeffler thanked special agents IRS - Criminal Investigation , conducted investigation , Trial Attorneys Lori A. Hendrickson Timothy M. Russo Tax Division Assistant U.S. Attorney Retta - Rae Randall , prosecuting case . indictment charge evidence guilt .    defendant presumed innocent entitled fair trial government prove guilt reasonable doubt . Additional information Tax Division enforcement efforts found division website .</td>\n",
       "    </tr>\n",
       "  </tbody>\n",
       "</table></div>"
      ],
      "text/plain": [
       "          id                                              title  \\\n",
       "4     18-898  $100 Million Settlement Will Speed Cleanup Wor...   \n",
       "7    14-1412  14 Indicted in Connection with New England Com...   \n",
       "19   17-1419  2017 Southeast Regional Animal Cruelty Prosecu...   \n",
       "22   15-1562  21st Century Oncology to Pay $19.75 Million to...   \n",
       "23   17-1404  21st Century Oncology to Pay $26 Million to Se...   \n",
       "..       ...                                                ...   \n",
       "316  15-1359  Alaska Plastic Surgeon Convicted of Wire Fraud...   \n",
       "318   16-396  Alaska Plastic Surgeon Sentenced to Prison for...   \n",
       "321   17-736  Alaskan Commercial Fishing Couple Charged with...   \n",
       "322   18-717  Alaskan Husband And Wife Plead Guilty To Willf...   \n",
       "324  16-1345        Alaskan Oncologist Indicted for Tax Evasion   \n",
       "\n",
       "                                              contents  \\\n",
       "4    The U.S. Department of Justice, the U.S. Envir...   \n",
       "7    A 131-count criminal indictment was unsealed t...   \n",
       "19   The United States Attorney’s Office for the Mi...   \n",
       "22   21st Century Oncology LLC, has agreed to pay $...   \n",
       "23   21st Century Oncology Inc. and certain of its ...   \n",
       "..                                                 ...   \n",
       "316  Doctor Hid Millions in Secret Accounts in Pana...   \n",
       "318  Defendant Concealed Bank Accounts in Panama an...   \n",
       "321  An Alaskan couple was charged in federal court...   \n",
       "322  A husband and wife pleaded guilty yesterday to...   \n",
       "324  A resident of Big Lake, Alaska was indicted on...   \n",
       "\n",
       "                          date                                 topics  \\\n",
       "4    2018-07-09T00:00:00-04:00                          [Environment]   \n",
       "7    2014-12-17T00:00:00-05:00                  [Consumer Protection]   \n",
       "19   2017-12-14T00:00:00-05:00                          [Environment]   \n",
       "22   2015-12-18T00:00:00-05:00  [False Claims Act, Health Care Fraud]   \n",
       "23   2017-12-12T00:00:00-05:00  [Health Care Fraud, False Claims Act]   \n",
       "..                         ...                                    ...   \n",
       "316  2015-11-04T00:00:00-05:00                                  [Tax]   \n",
       "318  2016-04-04T00:00:00-04:00                                  [Tax]   \n",
       "321  2017-07-26T00:00:00-04:00                                  [Tax]   \n",
       "322  2018-06-01T00:00:00-04:00                                  [Tax]   \n",
       "324  2016-11-17T00:00:00-05:00                                  [Tax]   \n",
       "\n",
       "                                            components  \\\n",
       "4         [Environment and Natural Resources Division]   \n",
       "7                                     [Civil Division]   \n",
       "19   [Environment and Natural Resources Division, U...   \n",
       "22                                    [Civil Division]   \n",
       "23            [Civil Division, USAO - Florida, Middle]   \n",
       "..                                                 ...   \n",
       "316                                     [Tax Division]   \n",
       "318                                     [Tax Division]   \n",
       "321                      [Tax Division, USAO - Alaska]   \n",
       "322                                     [Tax Division]   \n",
       "324                                     [Tax Division]   \n",
       "\n",
       "                                          contents_new  \n",
       "4    U.S. Department Justice , U.S. Environmental P...  \n",
       "7    131 - count criminal indictment unsealed today...  \n",
       "19   United States Attorney Office Middle District ...  \n",
       "22   21st Century Oncology LLC , agreed pay $ 19.75...  \n",
       "23   21st Century Oncology Inc. certain subsidiarie...  \n",
       "..                                                 ...  \n",
       "316  Doctor Hid Millions Secret Accounts Panama Ala...  \n",
       "318  Defendant Concealed Bank Accounts Panama Costa...  \n",
       "321  Alaskan couple charged federal court Juneau , ...  \n",
       "322  husband wife pleaded guilty yesterday counts w...  \n",
       "324  resident Big Lake , Alaska indicted counts tax...  \n",
       "\n",
       "[100 rows x 7 columns]"
      ]
     },
     "execution_count": 15,
     "metadata": {},
     "output_type": "execute_result"
    }
   ],
   "source": [
    "df"
   ]
  },
  {
   "cell_type": "code",
   "execution_count": 16,
   "id": "3a63e4ab",
   "metadata": {},
   "outputs": [
    {
     "data": {
      "text/plain": [
       "6286"
      ]
     },
     "execution_count": 16,
     "metadata": {},
     "output_type": "execute_result"
    }
   ],
   "source": [
    "len(df.contents[4])"
   ]
  },
  {
   "cell_type": "code",
   "execution_count": 17,
   "id": "a35befaa",
   "metadata": {},
   "outputs": [
    {
     "data": {
      "text/plain": [
       "4810"
      ]
     },
     "execution_count": 17,
     "metadata": {},
     "output_type": "execute_result"
    }
   ],
   "source": [
    "len(df.contents_new[4])"
   ]
  },
  {
   "cell_type": "code",
   "execution_count": 18,
   "id": "e70a955e",
   "metadata": {},
   "outputs": [
    {
     "data": {
      "text/plain": [
       "'The U.S. Department of Justice, the U.S. Environmental Protection Agency (EPA), and the Rhode Island Department of Environmental Management (RIDEM) announced today that two subsidiaries of Stanley Black & Decker Inc.—Emhart Industries Inc. and Black & Decker Inc.—have agreed to clean up dioxin conta'"
      ]
     },
     "execution_count": 18,
     "metadata": {},
     "output_type": "execute_result"
    }
   ],
   "source": [
    "df.contents[4][:300]"
   ]
  },
  {
   "cell_type": "code",
   "execution_count": 19,
   "id": "be830085",
   "metadata": {},
   "outputs": [
    {
     "data": {
      "text/plain": [
       "'U.S. Department Justice , U.S. Environmental Protection Agency ( EPA ) , Rhode Island Department Environmental Management ( RIDEM ) announced today subsidiaries Stanley Black & Decker Inc.—Emhart Industries Inc. Black & Decker Inc.—have agreed clean dioxin contaminated sediment soil Centredale Manor'"
      ]
     },
     "execution_count": 19,
     "metadata": {},
     "output_type": "execute_result"
    }
   ],
   "source": [
    "df.contents_new[4][:300]"
   ]
  },
  {
   "cell_type": "markdown",
   "id": "3abf88db",
   "metadata": {},
   "source": [
    "## Examples where removing stop words can create a problem\n",
    "### (1) Sentiment detection: Not always but in some cases, based on your dataset it can change the sentiment of a sentence if you remove stop words"
   ]
  },
  {
   "cell_type": "code",
   "execution_count": 20,
   "id": "8dce5a87",
   "metadata": {},
   "outputs": [
    {
     "data": {
      "text/plain": [
       "'good movie'"
      ]
     },
     "execution_count": 20,
     "metadata": {},
     "output_type": "execute_result"
    }
   ],
   "source": [
    "preprocess(\"this is a good movie\")"
   ]
  },
  {
   "cell_type": "code",
   "execution_count": 21,
   "id": "7470646c",
   "metadata": {},
   "outputs": [
    {
     "data": {
      "text/plain": [
       "'good movie'"
      ]
     },
     "execution_count": 21,
     "metadata": {},
     "output_type": "execute_result"
    }
   ],
   "source": [
    "preprocess(\"this is not a good movie\")\n"
   ]
  },
  {
   "cell_type": "markdown",
   "id": "f08a3508",
   "metadata": {},
   "source": [
    "### (2) Language translation: Say you want to translate following sentence from english to telugu. Before actual translation if you remove stop words and then translate, it will produce horrible result"
   ]
  },
  {
   "cell_type": "code",
   "execution_count": 22,
   "id": "00e4a0f8",
   "metadata": {},
   "outputs": [
    {
     "data": {
      "text/plain": [
       "'dhaval ?'"
      ]
     },
     "execution_count": 22,
     "metadata": {},
     "output_type": "execute_result"
    }
   ],
   "source": [
    "preprocess(\"how are you doing dhaval?\")\n"
   ]
  },
  {
   "cell_type": "markdown",
   "id": "29835503",
   "metadata": {},
   "source": [
    "### (3) Chat bot or any Q&A system"
   ]
  },
  {
   "cell_type": "code",
   "execution_count": 23,
   "id": "095cf4a8",
   "metadata": {},
   "outputs": [
    {
     "data": {
      "text/plain": [
       "'find yoga mat website . help ?'"
      ]
     },
     "execution_count": 23,
     "metadata": {},
     "output_type": "execute_result"
    }
   ],
   "source": [
    "preprocess(\"I don't find yoga mat on your website. Can you help?\")\n"
   ]
  },
  {
   "cell_type": "markdown",
   "id": "d8de4f5d",
   "metadata": {},
   "source": [
    "# Exercise"
   ]
  },
  {
   "cell_type": "code",
   "execution_count": 24,
   "id": "02f9a096",
   "metadata": {},
   "outputs": [],
   "source": [
    "#import spacy and loading the model\n",
    "\n",
    "import spacy\n",
    "nlp = spacy.load(\"en_core_web_sm\")"
   ]
  },
  {
   "cell_type": "markdown",
   "id": "a97d9987",
   "metadata": {},
   "source": [
    "### Exercise1:\n",
    "\n",
    "- From a Given Text, Count the number of stop words in it.\n",
    "- Print the percentage of stop word tokens compared to all tokens in a given text."
   ]
  },
  {
   "cell_type": "code",
   "execution_count": 25,
   "id": "9f3b4cf3",
   "metadata": {},
   "outputs": [
    {
     "name": "stdout",
     "output_type": "stream",
     "text": [
      "Total Stop words presented in the given text: 40\n",
      "Percentage of Stop words presented in the given text: 25.0 %\n"
     ]
    }
   ],
   "source": [
    "text = '''\n",
    "Thor: Love and Thunder is a 2022 American superhero film based on Marvel Comics featuring the character Thor, produced by Marvel Studios and \n",
    "distributed by Walt Disney Studios Motion Pictures. It is the sequel to Thor: Ragnarok (2017) and the 29th film in the Marvel Cinematic Universe (MCU).\n",
    "The film is directed by Taika Waititi, who co-wrote the script with Jennifer Kaytin Robinson, and stars Chris Hemsworth as Thor alongside Christian Bale, Tessa Thompson,\n",
    "Jaimie Alexander, Waititi, Russell Crowe, and Natalie Portman. In the film, Thor attempts to find inner peace, but must return to action and recruit Valkyrie (Thompson),\n",
    "Korg (Waititi), and Jane Foster (Portman)—who is now the Mighty Thor—to stop Gorr the God Butcher (Bale) from eliminating all gods.\n",
    "'''\n",
    "\n",
    "#step1: Create the object 'doc' for the given text using nlp()\n",
    "doc = nlp(text)\n",
    "\n",
    "\n",
    "#step2: define the variables to keep track of stopwords count and total words count\n",
    "stop_words_count = 0\n",
    "total_words_count = 0\n",
    "\n",
    "\n",
    "#step3: iterate through all the words in the document\n",
    "for token in doc:\n",
    "  if token.is_stop:         #check whether given token is stop word or not and increment accordingly       \n",
    "    stop_words_count += 1\n",
    "  total_words_count +=  1   #increment the total_words_count\n",
    "\n",
    "\n",
    "#step4: print the count of stop words\n",
    "print(f\"Total Stop words presented in the given text: {stop_words_count}\")\n",
    "    \n",
    "\n",
    "#step5: print the percentage of stop words compared to total words in the text\n",
    "percentage_stop_words = (stop_words_count / total_words_count) * 100\n",
    "print(f\"Percentage of Stop words presented in the given text: {percentage_stop_words} %\")"
   ]
  },
  {
   "cell_type": "markdown",
   "id": "d76b01c0",
   "metadata": {},
   "source": [
    "### Exercise2:\n",
    "\n",
    "Spacy default implementation considers \"not\" as a stop word. But in some scenarios removing 'not' will completely change the meaning of the statement/text. For Example, consider these two statements:\n",
    "\n",
    "- this is a good movie       ----> Positive Statement\n",
    "- this is not a good movie   ----> Negative Statement\n",
    "\n",
    "- So, after applying stopwords to those 2 texts, both will return \"good movie\" and does not respect the polarity/sentiments of text.\n",
    "\n",
    "- Now, your task is to remove this stop word \"not\" in spaCy and help in distinguishing the texts.\n",
    "\n",
    "- Hint: GOOGLE IT! Google is your friend."
   ]
  },
  {
   "cell_type": "code",
   "execution_count": 26,
   "id": "f9bebe2a",
   "metadata": {},
   "outputs": [
    {
     "name": "stdout",
     "output_type": "stream",
     "text": [
      "Text1: good movie\n",
      "Text2: not good movie\n"
     ]
    }
   ],
   "source": [
    "#use this pre-processing function to pass the text and to remove all the stop words and finally get the cleaned form\n",
    "def preprocess(text):\n",
    "    doc = nlp(text)\n",
    "    no_stop_words = [token.text for token in doc if not token.is_stop]\n",
    "    return \" \".join(no_stop_words)       \n",
    "\n",
    "\n",
    "#Step1: remove the stopword 'not' in spacy\n",
    "nlp.vocab['not'].is_stop = False\n",
    "\n",
    "\n",
    "#step2: send the two texts given above into the pre-process function and store the transformed texts\n",
    "positive_text = preprocess('this is a good movie')\n",
    "negative_text = preprocess('this is not a good movie')\n",
    "\n",
    "\n",
    "#step3: finally print those 2 transformed texts\n",
    "print(f\"Text1: {positive_text}\")\n",
    "print(f\"Text2: {negative_text}\")"
   ]
  },
  {
   "cell_type": "markdown",
   "id": "25b075e3",
   "metadata": {},
   "source": [
    "### Exercise3:\n",
    "\n",
    "- From a given text, output the most frequently used token after removing all the stop word tokens and punctuations in it."
   ]
  },
  {
   "cell_type": "code",
   "execution_count": 27,
   "id": "efcbbe4b",
   "metadata": {},
   "outputs": [
    {
     "name": "stdout",
     "output_type": "stream",
     "text": [
      "Maximum frequency word: India\n"
     ]
    }
   ],
   "source": [
    "text = ''' The India men's national cricket team, also known as Team India or the Men in Blue, represents India in men's international cricket.\n",
    "It is governed by the Board of Control for Cricket in India (BCCI), and is a Full Member of the International Cricket Council (ICC) with Test,\n",
    "One Day International (ODI) and Twenty20 International (T20I) status. Cricket was introduced to India by British sailors in the 18th century, and the \n",
    "first cricket club was established in 1792. India's national cricket team played its first Test match on 25 June 1932 at Lord's, becoming the sixth team to be\n",
    "granted test cricket status.\n",
    "'''\n",
    "\n",
    "\n",
    "#step1: Create the object 'doc' for the given text using nlp()\n",
    "doc = nlp(text)\n",
    "\n",
    "\n",
    "#step2: remove all the stop words and punctuations and store all the remaining tokens in a new list\n",
    "remaining_tokens = []\n",
    "for token in doc:\n",
    "  if token.is_stop or token.is_punct:    #check whether a given token is stop word or punctuations\n",
    "    continue\n",
    "  remaining_tokens.append(token.text)\n",
    "\n",
    "\n",
    "#step3: create a new dictionary and get the frequency of words by iterating through the list which contains stored tokens  \n",
    "frequency_tokens = {}\n",
    "for token in remaining_tokens:\n",
    "  if token != '\\n' and token != ' ':      #As spacy considers new line and empty spaces as seperate token, it's better to ignore them\n",
    "    if token not in frequency_tokens:     #if a particular token occurs for the first time, we initialise it to 1\n",
    "      frequency_tokens[token] = 1\n",
    "    else:\n",
    "      frequency_tokens[token] += 1        #if a partcular token is already present, then increment by 1 based on value already presented\n",
    "\n",
    "\n",
    "#step4: get the maximum frequency word\n",
    "max_freq_word = max(frequency_tokens.keys(), key=(lambda key: frequency_tokens[key]))\n",
    "\n",
    "\n",
    "#step5: finally print the result\n",
    "print(f\"Maximum frequency word: {max_freq_word}\") "
   ]
  },
  {
   "cell_type": "code",
   "execution_count": null,
   "id": "88954ab6",
   "metadata": {},
   "outputs": [],
   "source": []
  }
 ],
 "metadata": {
  "kernelspec": {
   "display_name": "Python 3 (ipykernel)",
   "language": "python",
   "name": "python3"
  },
  "language_info": {
   "codemirror_mode": {
    "name": "ipython",
    "version": 3
   },
   "file_extension": ".py",
   "mimetype": "text/x-python",
   "name": "python",
   "nbconvert_exporter": "python",
   "pygments_lexer": "ipython3",
   "version": "3.9.13"
  }
 },
 "nbformat": 4,
 "nbformat_minor": 5
}
