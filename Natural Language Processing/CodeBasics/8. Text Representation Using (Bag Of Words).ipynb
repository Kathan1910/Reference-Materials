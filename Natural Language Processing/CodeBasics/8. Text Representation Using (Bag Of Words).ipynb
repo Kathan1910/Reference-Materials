{
 "cells": [
  {
   "cell_type": "code",
   "execution_count": 1,
   "id": "8a99eae9",
   "metadata": {},
   "outputs": [],
   "source": [
    "import pandas as pd\n",
    "import numpy as np\n",
    "\n",
    "import warnings\n",
    "warnings.filterwarnings(\"ignore\")"
   ]
  },
  {
   "cell_type": "code",
   "execution_count": 2,
   "id": "997b9e03",
   "metadata": {},
   "outputs": [
    {
     "data": {
      "text/html": [
       "<div><div id=a41b232c-7def-4719-a79a-b4ab774d17f0 style=\"display:none; background-color:#9D6CFF; color:white; width:200px; height:30px; padding-left:5px; border-radius:4px; flex-direction:row; justify-content:space-around; align-items:center;\" onmouseover=\"this.style.backgroundColor='#BA9BF8'\" onmouseout=\"this.style.backgroundColor='#9D6CFF'\" onclick=\"window.commands?.execute('create-mitosheet-from-dataframe-output');\">See Full Dataframe in Mito</div> <script> if (window.commands?.hasCommand('create-mitosheet-from-dataframe-output')) document.getElementById('a41b232c-7def-4719-a79a-b4ab774d17f0').style.display = 'flex' </script> <table border=\"1\" class=\"dataframe\">\n",
       "  <thead>\n",
       "    <tr style=\"text-align: right;\">\n",
       "      <th></th>\n",
       "      <th>Category</th>\n",
       "      <th>Message</th>\n",
       "    </tr>\n",
       "  </thead>\n",
       "  <tbody>\n",
       "    <tr>\n",
       "      <th>0</th>\n",
       "      <td>ham</td>\n",
       "      <td>Go until jurong point, crazy.. Available only in bugis n great world la e buffet... Cine there got amore wat...</td>\n",
       "    </tr>\n",
       "    <tr>\n",
       "      <th>1</th>\n",
       "      <td>ham</td>\n",
       "      <td>Ok lar... Joking wif u oni...</td>\n",
       "    </tr>\n",
       "    <tr>\n",
       "      <th>2</th>\n",
       "      <td>spam</td>\n",
       "      <td>Free entry in 2 a wkly comp to win FA Cup final tkts 21st May 2005. Text FA to 87121 to receive entry question(std txt rate)T&amp;C's apply 08452810075over18's</td>\n",
       "    </tr>\n",
       "    <tr>\n",
       "      <th>3</th>\n",
       "      <td>ham</td>\n",
       "      <td>U dun say so early hor... U c already then say...</td>\n",
       "    </tr>\n",
       "    <tr>\n",
       "      <th>4</th>\n",
       "      <td>ham</td>\n",
       "      <td>Nah I don't think he goes to usf, he lives around here though</td>\n",
       "    </tr>\n",
       "  </tbody>\n",
       "</table></div>"
      ],
      "text/plain": [
       "  Category                                            Message\n",
       "0      ham  Go until jurong point, crazy.. Available only ...\n",
       "1      ham                      Ok lar... Joking wif u oni...\n",
       "2     spam  Free entry in 2 a wkly comp to win FA Cup fina...\n",
       "3      ham  U dun say so early hor... U c already then say...\n",
       "4      ham  Nah I don't think he goes to usf, he lives aro..."
      ]
     },
     "execution_count": 2,
     "metadata": {},
     "output_type": "execute_result"
    }
   ],
   "source": [
    "df =  pd.read_csv(\"spam.csv\")\n",
    "df.head()"
   ]
  },
  {
   "cell_type": "code",
   "execution_count": 3,
   "id": "87a0a998",
   "metadata": {},
   "outputs": [],
   "source": [
    "df['spam'] = df['Category'].apply(lambda x: 1 if x =='spam' else 0)\n"
   ]
  },
  {
   "cell_type": "code",
   "execution_count": 5,
   "id": "81af0c46",
   "metadata": {},
   "outputs": [
    {
     "data": {
      "text/html": [
       "<div><div id=7dc328c5-e217-4a14-89fb-0938e51e633d style=\"display:none; background-color:#9D6CFF; color:white; width:200px; height:30px; padding-left:5px; border-radius:4px; flex-direction:row; justify-content:space-around; align-items:center;\" onmouseover=\"this.style.backgroundColor='#BA9BF8'\" onmouseout=\"this.style.backgroundColor='#9D6CFF'\" onclick=\"window.commands?.execute('create-mitosheet-from-dataframe-output');\">See Full Dataframe in Mito</div> <script> if (window.commands?.hasCommand('create-mitosheet-from-dataframe-output')) document.getElementById('7dc328c5-e217-4a14-89fb-0938e51e633d').style.display = 'flex' </script> <table border=\"1\" class=\"dataframe\">\n",
       "  <thead>\n",
       "    <tr style=\"text-align: right;\">\n",
       "      <th></th>\n",
       "      <th>Category</th>\n",
       "      <th>Message</th>\n",
       "      <th>spam</th>\n",
       "    </tr>\n",
       "  </thead>\n",
       "  <tbody>\n",
       "    <tr>\n",
       "      <th>0</th>\n",
       "      <td>ham</td>\n",
       "      <td>Go until jurong point, crazy.. Available only in bugis n great world la e buffet... Cine there got amore wat...</td>\n",
       "      <td>0</td>\n",
       "    </tr>\n",
       "    <tr>\n",
       "      <th>1</th>\n",
       "      <td>ham</td>\n",
       "      <td>Ok lar... Joking wif u oni...</td>\n",
       "      <td>0</td>\n",
       "    </tr>\n",
       "    <tr>\n",
       "      <th>2</th>\n",
       "      <td>spam</td>\n",
       "      <td>Free entry in 2 a wkly comp to win FA Cup final tkts 21st May 2005. Text FA to 87121 to receive entry question(std txt rate)T&amp;C's apply 08452810075over18's</td>\n",
       "      <td>1</td>\n",
       "    </tr>\n",
       "    <tr>\n",
       "      <th>3</th>\n",
       "      <td>ham</td>\n",
       "      <td>U dun say so early hor... U c already then say...</td>\n",
       "      <td>0</td>\n",
       "    </tr>\n",
       "    <tr>\n",
       "      <th>4</th>\n",
       "      <td>ham</td>\n",
       "      <td>Nah I don't think he goes to usf, he lives around here though</td>\n",
       "      <td>0</td>\n",
       "    </tr>\n",
       "  </tbody>\n",
       "</table></div>"
      ],
      "text/plain": [
       "  Category                                            Message  spam\n",
       "0      ham  Go until jurong point, crazy.. Available only ...     0\n",
       "1      ham                      Ok lar... Joking wif u oni...     0\n",
       "2     spam  Free entry in 2 a wkly comp to win FA Cup fina...     1\n",
       "3      ham  U dun say so early hor... U c already then say...     0\n",
       "4      ham  Nah I don't think he goes to usf, he lives aro...     0"
      ]
     },
     "execution_count": 5,
     "metadata": {},
     "output_type": "execute_result"
    }
   ],
   "source": [
    "df.head()"
   ]
  },
  {
   "cell_type": "code",
   "execution_count": 6,
   "id": "c976723e",
   "metadata": {},
   "outputs": [
    {
     "data": {
      "text/plain": [
       "(5572, 3)"
      ]
     },
     "execution_count": 6,
     "metadata": {},
     "output_type": "execute_result"
    }
   ],
   "source": [
    "df.shape\n"
   ]
  },
  {
   "cell_type": "code",
   "execution_count": 7,
   "id": "bda8732c",
   "metadata": {},
   "outputs": [
    {
     "data": {
      "text/html": [
       "<div><div id=fac5362b-8784-458a-a552-84192a167ca1 style=\"display:none; background-color:#9D6CFF; color:white; width:200px; height:30px; padding-left:5px; border-radius:4px; flex-direction:row; justify-content:space-around; align-items:center;\" onmouseover=\"this.style.backgroundColor='#BA9BF8'\" onmouseout=\"this.style.backgroundColor='#9D6CFF'\" onclick=\"window.commands?.execute('create-mitosheet-from-dataframe-output');\">See Full Dataframe in Mito</div> <script> if (window.commands?.hasCommand('create-mitosheet-from-dataframe-output')) document.getElementById('fac5362b-8784-458a-a552-84192a167ca1').style.display = 'flex' </script> <table border=\"1\" class=\"dataframe\">\n",
       "  <thead>\n",
       "    <tr style=\"text-align: right;\">\n",
       "      <th></th>\n",
       "      <th>Category</th>\n",
       "      <th>Message</th>\n",
       "      <th>spam</th>\n",
       "    </tr>\n",
       "  </thead>\n",
       "  <tbody>\n",
       "    <tr>\n",
       "      <th>0</th>\n",
       "      <td>ham</td>\n",
       "      <td>Go until jurong point, crazy.. Available only in bugis n great world la e buffet... Cine there got amore wat...</td>\n",
       "      <td>0</td>\n",
       "    </tr>\n",
       "    <tr>\n",
       "      <th>1</th>\n",
       "      <td>ham</td>\n",
       "      <td>Ok lar... Joking wif u oni...</td>\n",
       "      <td>0</td>\n",
       "    </tr>\n",
       "    <tr>\n",
       "      <th>2</th>\n",
       "      <td>spam</td>\n",
       "      <td>Free entry in 2 a wkly comp to win FA Cup final tkts 21st May 2005. Text FA to 87121 to receive entry question(std txt rate)T&amp;C's apply 08452810075over18's</td>\n",
       "      <td>1</td>\n",
       "    </tr>\n",
       "    <tr>\n",
       "      <th>3</th>\n",
       "      <td>ham</td>\n",
       "      <td>U dun say so early hor... U c already then say...</td>\n",
       "      <td>0</td>\n",
       "    </tr>\n",
       "    <tr>\n",
       "      <th>4</th>\n",
       "      <td>ham</td>\n",
       "      <td>Nah I don't think he goes to usf, he lives around here though</td>\n",
       "      <td>0</td>\n",
       "    </tr>\n",
       "  </tbody>\n",
       "</table></div>"
      ],
      "text/plain": [
       "  Category                                            Message  spam\n",
       "0      ham  Go until jurong point, crazy.. Available only ...     0\n",
       "1      ham                      Ok lar... Joking wif u oni...     0\n",
       "2     spam  Free entry in 2 a wkly comp to win FA Cup fina...     1\n",
       "3      ham  U dun say so early hor... U c already then say...     0\n",
       "4      ham  Nah I don't think he goes to usf, he lives aro...     0"
      ]
     },
     "execution_count": 7,
     "metadata": {},
     "output_type": "execute_result"
    }
   ],
   "source": [
    "df.head()\n"
   ]
  },
  {
   "cell_type": "markdown",
   "id": "59ef97c2",
   "metadata": {},
   "source": [
    "## Train test split"
   ]
  },
  {
   "cell_type": "code",
   "execution_count": 8,
   "id": "6ee78674",
   "metadata": {},
   "outputs": [],
   "source": [
    "from sklearn.model_selection import train_test_split\n",
    "\n",
    "X_train, X_test, y_train, y_test = train_test_split(df.Message, df.spam, test_size=0.2)"
   ]
  },
  {
   "cell_type": "code",
   "execution_count": 9,
   "id": "b115e726",
   "metadata": {},
   "outputs": [
    {
     "data": {
      "text/plain": [
       "(4457,)"
      ]
     },
     "execution_count": 9,
     "metadata": {},
     "output_type": "execute_result"
    }
   ],
   "source": [
    "X_train.shape"
   ]
  },
  {
   "cell_type": "code",
   "execution_count": 10,
   "id": "93c175d4",
   "metadata": {},
   "outputs": [
    {
     "data": {
      "text/plain": [
       "(1115,)"
      ]
     },
     "execution_count": 10,
     "metadata": {},
     "output_type": "execute_result"
    }
   ],
   "source": [
    "X_test.shape\n"
   ]
  },
  {
   "cell_type": "code",
   "execution_count": 11,
   "id": "c542ed88",
   "metadata": {},
   "outputs": [
    {
     "data": {
      "text/plain": [
       "pandas.core.series.Series"
      ]
     },
     "execution_count": 11,
     "metadata": {},
     "output_type": "execute_result"
    }
   ],
   "source": [
    "type(X_train)"
   ]
  },
  {
   "cell_type": "code",
   "execution_count": 12,
   "id": "ebd0c763",
   "metadata": {},
   "outputs": [
    {
     "data": {
      "text/plain": [
       "1639                Great comedy..cant stop laughing da:)\n",
       "3690                            You still coming tonight?\n",
       "2475    Princess, i like to make love  &lt;#&gt;  time...\n",
       "2348                       But i dint slept in afternoon.\n",
       "Name: Message, dtype: object"
      ]
     },
     "execution_count": 12,
     "metadata": {},
     "output_type": "execute_result"
    }
   ],
   "source": [
    "X_train[:4]"
   ]
  },
  {
   "cell_type": "code",
   "execution_count": 13,
   "id": "65461578",
   "metadata": {},
   "outputs": [
    {
     "data": {
      "text/plain": [
       "pandas.core.series.Series"
      ]
     },
     "execution_count": 13,
     "metadata": {},
     "output_type": "execute_result"
    }
   ],
   "source": [
    "type(y_train)"
   ]
  },
  {
   "cell_type": "code",
   "execution_count": 14,
   "id": "bf6cd14b",
   "metadata": {},
   "outputs": [
    {
     "data": {
      "text/plain": [
       "1639    0\n",
       "3690    0\n",
       "2475    0\n",
       "2348    0\n",
       "Name: spam, dtype: int64"
      ]
     },
     "execution_count": 14,
     "metadata": {},
     "output_type": "execute_result"
    }
   ],
   "source": [
    "y_train[:4]"
   ]
  },
  {
   "cell_type": "code",
   "execution_count": 15,
   "id": "18458f63",
   "metadata": {},
   "outputs": [
    {
     "data": {
      "text/plain": [
       "numpy.ndarray"
      ]
     },
     "execution_count": 15,
     "metadata": {},
     "output_type": "execute_result"
    }
   ],
   "source": [
    "type(X_train.values)"
   ]
  },
  {
   "cell_type": "markdown",
   "id": "da338755",
   "metadata": {},
   "source": [
    "# Create Bag Of Words Representation Using CountVectorizer"
   ]
  },
  {
   "cell_type": "code",
   "execution_count": 16,
   "id": "a7b4d1b1",
   "metadata": {},
   "outputs": [
    {
     "data": {
      "text/plain": [
       "<4457x7791 sparse matrix of type '<class 'numpy.int64'>'\n",
       "\twith 59706 stored elements in Compressed Sparse Row format>"
      ]
     },
     "execution_count": 16,
     "metadata": {},
     "output_type": "execute_result"
    }
   ],
   "source": [
    "from sklearn.feature_extraction.text import CountVectorizer\n",
    "\n",
    "v = CountVectorizer()\n",
    "\n",
    "X_train_cv = v.fit_transform(X_train.values)\n",
    "X_train_cv\n"
   ]
  },
  {
   "cell_type": "code",
   "execution_count": 17,
   "id": "785fec62",
   "metadata": {},
   "outputs": [
    {
     "data": {
      "text/plain": [
       "array([0, 0, 0, ..., 0, 0, 0])"
      ]
     },
     "execution_count": 17,
     "metadata": {},
     "output_type": "execute_result"
    }
   ],
   "source": [
    "X_train_cv.toarray()[:2][0]"
   ]
  },
  {
   "cell_type": "code",
   "execution_count": 18,
   "id": "7638491c",
   "metadata": {},
   "outputs": [
    {
     "data": {
      "text/plain": [
       "(4457, 7791)"
      ]
     },
     "execution_count": 18,
     "metadata": {},
     "output_type": "execute_result"
    }
   ],
   "source": [
    "\n",
    "X_train_cv.shape"
   ]
  },
  {
   "cell_type": "code",
   "execution_count": 19,
   "id": "81585774",
   "metadata": {},
   "outputs": [
    {
     "data": {
      "text/plain": [
       "'chik'"
      ]
     },
     "execution_count": 19,
     "metadata": {},
     "output_type": "execute_result"
    }
   ],
   "source": [
    "\n",
    "v.get_feature_names_out()[1771]"
   ]
  },
  {
   "cell_type": "code",
   "execution_count": 20,
   "id": "d8608ee1",
   "metadata": {},
   "outputs": [
    {
     "data": {
      "text/plain": [
       "{'great': 3253,\n",
       " 'comedy': 1899,\n",
       " 'cant': 1638,\n",
       " 'stop': 6528,\n",
       " 'laughing': 4058,\n",
       " 'da': 2142,\n",
       " 'you': 7751,\n",
       " 'still': 6516,\n",
       " 'coming': 1904,\n",
       " 'tonight': 7007,\n",
       " 'princess': 5445,\n",
       " 'like': 4139,\n",
       " 'to': 6971,\n",
       " 'make': 4348,\n",
       " 'love': 4247,\n",
       " 'lt': 4271,\n",
       " 'gt': 3277,\n",
       " 'times': 6938,\n",
       " 'per': 5183,\n",
       " 'night': 4803,\n",
       " 'hope': 3506,\n",
       " 'thats': 6851,\n",
       " 'not': 4857,\n",
       " 'problem': 5462,\n",
       " 'but': 1572,\n",
       " 'dint': 2334,\n",
       " 'slept': 6261,\n",
       " 'in': 3658,\n",
       " 'afternoon': 847,\n",
       " 'babe': 1185,\n",
       " 'covers': 2045,\n",
       " 'your': 7757,\n",
       " 'face': 2752,\n",
       " 'kisses': 3973,\n",
       " 'hi': 3443,\n",
       " 'frnd': 3027,\n",
       " 'which': 7535,\n",
       " 'is': 3768,\n",
       " 'best': 1321,\n",
       " 'way': 7454,\n",
       " 'avoid': 1161,\n",
       " 'missunderstding': 4537,\n",
       " 'wit': 7591,\n",
       " 'our': 5039,\n",
       " 'beloved': 1311,\n",
       " 'one': 4971,\n",
       " 'give': 3160,\n",
       " 'me': 4428,\n",
       " 'sec': 6009,\n",
       " 'breaking': 1488,\n",
       " 'at': 1110,\n",
       " 'cstore': 2096,\n",
       " 'true': 7085,\n",
       " 'dear': 2193,\n",
       " 'sat': 5947,\n",
       " 'pray': 5400,\n",
       " 'evening': 2672,\n",
       " 'and': 954,\n",
       " 'felt': 2823,\n",
       " 'so': 6322,\n",
       " 'sms': 6301,\n",
       " 'some': 6337,\n",
       " 'time': 6937,\n",
       " 'working': 7639,\n",
       " 'technical': 6777,\n",
       " 'support': 6652,\n",
       " 'voice': 7356,\n",
       " 'process': 5469,\n",
       " 'networking': 4775,\n",
       " 'field': 2838,\n",
       " 'will': 7563,\n",
       " 'come': 1898,\n",
       " 'ur': 7235,\n",
       " 'home': 3488,\n",
       " 'now': 4870,\n",
       " 'received': 5663,\n",
       " 'understood': 7182,\n",
       " 'acted': 789,\n",
       " 'upon': 7230,\n",
       " 'am': 928,\n",
       " 'how': 3536,\n",
       " 'are': 1043,\n",
       " 'free': 2997,\n",
       " 'for': 2954,\n",
       " '1st': 331,\n",
       " 'week': 7480,\n",
       " 'no1': 4823,\n",
       " 'nokia': 4831,\n",
       " 'tone': 7000,\n",
       " 'mob': 4561,\n",
       " 'every': 2677,\n",
       " 'just': 3897,\n",
       " 'txt': 7128,\n",
       " '8007': 633,\n",
       " 'get': 3132,\n",
       " 'txting': 7134,\n",
       " 'tell': 6787,\n",
       " 'mates': 4402,\n",
       " 'www': 7689,\n",
       " 'getzed': 3140,\n",
       " 'co': 1861,\n",
       " 'uk': 7158,\n",
       " 'pobox': 5298,\n",
       " '36504': 448,\n",
       " 'w45wq': 7381,\n",
       " 'norm150p': 4849,\n",
       " '16': 313,\n",
       " 'thk': 6891,\n",
       " '50': 535,\n",
       " 'shd': 6111,\n",
       " 'be': 1263,\n",
       " 'ok': 4949,\n",
       " 'he': 3386,\n",
       " 'said': 5916,\n",
       " 'plus': 5293,\n",
       " 'minus': 4520,\n",
       " '10': 254,\n",
       " 'did': 2302,\n",
       " 'leave': 4088,\n",
       " 'line': 4150,\n",
       " 'between': 1330,\n",
       " 'paragraphs': 5113,\n",
       " 'someone': 6341,\n",
       " 'has': 3361,\n",
       " 'contacted': 1977,\n",
       " 'dating': 2177,\n",
       " 'service': 6069,\n",
       " 'entered': 2620,\n",
       " 'phone': 5226,\n",
       " 'becausethey': 1274,\n",
       " 'fancy': 2782,\n",
       " 'find': 2865,\n",
       " 'out': 5042,\n",
       " 'who': 7541,\n",
       " 'it': 3779,\n",
       " 'call': 1603,\n",
       " 'from': 3035,\n",
       " 'landline': 4030,\n",
       " '09058098002': 179,\n",
       " 'pobox1': 5299,\n",
       " 'w14rg': 7374,\n",
       " '150p': 301,\n",
       " 'reassuring': 5652,\n",
       " 'this': 6890,\n",
       " 'crazy': 2062,\n",
       " 'world': 7642,\n",
       " 'play': 5273,\n",
       " 'computer': 1937,\n",
       " 'aiyah': 880,\n",
       " 'tok': 6984,\n",
       " 'lor': 4226,\n",
       " 'project': 5481,\n",
       " 'pa': 5077,\n",
       " 'after': 845,\n",
       " 'that': 6848,\n",
       " 'only': 4977,\n",
       " 'can': 1626,\n",
       " 'back': 1192,\n",
       " 'brum': 1527,\n",
       " 'thanks': 6840,\n",
       " 'putting': 5548,\n",
       " 'us': 7250,\n",
       " 'up': 7218,\n",
       " 'keeping': 3930,\n",
       " 'all': 905,\n",
       " 'happy': 3351,\n",
       " 'see': 6021,\n",
       " 'soon': 6361,\n",
       " 'my': 4687,\n",
       " 'life': 4127,\n",
       " 'means': 4435,\n",
       " 'lot': 4234,\n",
       " 'because': 1273,\n",
       " 'the': 6852,\n",
       " 'people': 5182,\n",
       " 'calls': 1616,\n",
       " 'them': 6861,\n",
       " 'friends': 3019,\n",
       " 'ge': 3112,\n",
       " 'got': 3218,\n",
       " 'what': 7518,\n",
       " 'takes': 6724,\n",
       " 'take': 6721,\n",
       " 'part': 5125,\n",
       " 'wrc': 7662,\n",
       " 'rally': 5598,\n",
       " 'oz': 5076,\n",
       " 'with': 7592,\n",
       " 'lucozade': 4278,\n",
       " 'energy': 2603,\n",
       " 'text': 6822,\n",
       " 'le': 4076,\n",
       " '61200': 573,\n",
       " '25p': 369,\n",
       " 'packs': 5082,\n",
       " 'or': 5007,\n",
       " 'itcould': 3781,\n",
       " 'sure': 6659,\n",
       " 'whenever': 7526,\n",
       " 'show': 6165,\n",
       " 'fuck': 3043,\n",
       " 'nope': 4843,\n",
       " 'juz': 3902,\n",
       " 'off': 4925,\n",
       " 'work': 7635,\n",
       " 'huh': 3560,\n",
       " 'fast': 2791,\n",
       " 'dat': 2173,\n",
       " 'havent': 3378,\n",
       " 'finished': 2872,\n",
       " 'painting': 5091,\n",
       " 'no': 4822,\n",
       " 'was': 7431,\n",
       " 'cancelled': 1632,\n",
       " 'yeah': 7726,\n",
       " 'baby': 1188,\n",
       " 'well': 7495,\n",
       " 'sounds': 6380,\n",
       " 'important': 3646,\n",
       " 'understand': 7180,\n",
       " 'darlin': 2166,\n",
       " 'ring': 5825,\n",
       " 'later': 4052,\n",
       " 'on': 4965,\n",
       " 'fone': 2942,\n",
       " 'kate': 3921,\n",
       " 'carlos': 1661,\n",
       " 'took': 7013,\n",
       " 'while': 7536,\n",
       " 'again': 852,\n",
       " 'we': 7459,\n",
       " 'minute': 4521,\n",
       " 'depends': 2251,\n",
       " 'where': 7529,\n",
       " 'going': 3190,\n",
       " 'mm': 4550,\n",
       " 'feeling': 2815,\n",
       " 'sleepy': 6260,\n",
       " 'today': 6977,\n",
       " 'itself': 3787,\n",
       " 'shall': 6097,\n",
       " 'many': 4372,\n",
       " 'things': 6882,\n",
       " 'its': 3786,\n",
       " 'an': 951,\n",
       " 'antibiotic': 986,\n",
       " 'used': 7255,\n",
       " 'chest': 1764,\n",
       " 'abdomen': 741,\n",
       " 'gynae': 3304,\n",
       " 'infections': 3690,\n",
       " 'even': 2671,\n",
       " 'bone': 1417,\n",
       " 'licks': 4123,\n",
       " 'does': 2392,\n",
       " 'center': 1703,\n",
       " 'of': 4923,\n",
       " 'tootsie': 7020,\n",
       " 'pop': 5342,\n",
       " 'oh': 4945,\n",
       " 'forgot': 2965,\n",
       " 'shopping': 6147,\n",
       " 'once': 4969,\n",
       " 'do': 2382,\n",
       " 'have': 3375,\n",
       " 'messages': 4479,\n",
       " 'without': 7595,\n",
       " 'any': 987,\n",
       " 'recharge': 5668,\n",
       " 'nite': 4815,\n",
       " 'pocay': 5310,\n",
       " 'wocay': 7616,\n",
       " 'luv': 4287,\n",
       " 'more': 4602,\n",
       " 'than': 6836,\n",
       " 'thing': 6881,\n",
       " '4eva': 514,\n",
       " 'promise': 5485,\n",
       " '2morrowxxxx': 402,\n",
       " 'use': 7254,\n",
       " 'foreign': 2956,\n",
       " 'stamps': 6467,\n",
       " 'whatever': 7519,\n",
       " 'send': 6048,\n",
       " 'let': 4112,\n",
       " 'noe': 4825,\n",
       " 'when': 7525,\n",
       " 'house': 3532,\n",
       " 'here': 3430,\n",
       " 'discount': 2354,\n",
       " 'code': 1872,\n",
       " 'rp176781': 5871,\n",
       " 'further': 3066,\n",
       " 'reply': 5752,\n",
       " 'regalportfolio': 5699,\n",
       " 'customer': 2127,\n",
       " 'services': 6070,\n",
       " '08717205546': 132,\n",
       " 'heard': 3398,\n",
       " 'u4': 7147,\n",
       " 'rude': 5882,\n",
       " 'chat': 1739,\n",
       " 'private': 5452,\n",
       " '01223585334': 7,\n",
       " 'cum': 2112,\n",
       " 'wan': 7413,\n",
       " '2c': 381,\n",
       " 'pics': 5240,\n",
       " 'gettin': 3138,\n",
       " 'shagged': 6091,\n",
       " 'then': 6865,\n",
       " 'pix': 5259,\n",
       " '8552': 676,\n",
       " '2end': 385,\n",
       " 'sam': 5926,\n",
       " 'xxx': 7705,\n",
       " 'll': 4186,\n",
       " 'before': 1291,\n",
       " 'noon': 4841,\n",
       " 'wishing': 7588,\n",
       " 'family': 2777,\n",
       " 'merry': 4474,\n",
       " 'mas': 4394,\n",
       " 'new': 4783,\n",
       " 'year': 7727,\n",
       " 'advance': 823,\n",
       " 'want': 7417,\n",
       " 'go': 3178,\n",
       " 'perumbavoor': 5208,\n",
       " 'better': 1327,\n",
       " 'catch': 1680,\n",
       " 'her': 3429,\n",
       " 'ask': 1089,\n",
       " 'if': 3614,\n",
       " 'she': 6112,\n",
       " 'sell': 6041,\n",
       " 'aiyo': 882,\n",
       " 'cos': 2016,\n",
       " 'neva': 4777,\n",
       " 'wait': 7392,\n",
       " 'lar': 4040,\n",
       " 'tot': 7030,\n",
       " 'finish': 2870,\n",
       " 'lab': 4011,\n",
       " 'wat': 7437,\n",
       " 'freezing': 3004,\n",
       " 'craving': 2060,\n",
       " 'ice': 3599,\n",
       " 'fml': 2930,\n",
       " 'hear': 3397,\n",
       " 'settling': 6078,\n",
       " 'happenin': 3345,\n",
       " 'ola': 4956,\n",
       " 'filthy': 2859,\n",
       " 'stories': 6538,\n",
       " 'girls': 3157,\n",
       " 'waiting': 7395,\n",
       " 'spoke': 6430,\n",
       " 'maneesha': 4367,\n",
       " 'know': 3986,\n",
       " 'were': 7503,\n",
       " 'satisfied': 5950,\n",
       " 'experience': 2724,\n",
       " 'toll': 6991,\n",
       " 'yes': 7737,\n",
       " 'bus': 1565,\n",
       " 'coz': 2046,\n",
       " 'need': 4750,\n",
       " 'sort': 6371,\n",
       " 'stuff': 6573,\n",
       " 'hello': 3415,\n",
       " 'goes': 3185,\n",
       " 'day': 2181,\n",
       " 'wish': 7585,\n",
       " 'fine': 2868,\n",
       " 'job': 3852,\n",
       " 'prospects': 5501,\n",
       " 'miss': 4532,\n",
       " 'boytoy': 1470,\n",
       " 'teasing': 6775,\n",
       " 'kiss': 3972,\n",
       " 'whatsup': 7521,\n",
       " 'there': 6870,\n",
       " 'dont': 2420,\n",
       " 'sleep': 6255,\n",
       " 've': 7297,\n",
       " 'won': 7622,\n",
       " 'costa': 2019,\n",
       " 'del': 2227,\n",
       " 'sol': 6331,\n",
       " 'holiday': 3483,\n",
       " '5000': 537,\n",
       " 'await': 1163,\n",
       " 'collection': 1887,\n",
       " '09050090044': 162,\n",
       " 'toclaim': 6976,\n",
       " 'sae': 5912,\n",
       " 'tc': 6761,\n",
       " 'pobox334': 5304,\n",
       " 'stockport': 6520,\n",
       " 'sk38xh': 6239,\n",
       " 'cost': 2018,\n",
       " 'pm': 5295,\n",
       " 'max10mins': 4415,\n",
       " 'lol': 4207,\n",
       " 'would': 7657,\n",
       " 'mom': 4582,\n",
       " 'fit': 2886,\n",
       " 'whole': 7543,\n",
       " 'terrible': 6810,\n",
       " 'answering': 979,\n",
       " 'maybe': 4421,\n",
       " 'reboot': 5654,\n",
       " 'ym': 7745,\n",
       " 'photo': 5231,\n",
       " 'sent': 6057,\n",
       " 'scores': 5982,\n",
       " 'sophas': 6366,\n",
       " 'had': 3309,\n",
       " 'secondary': 6011,\n",
       " 'application': 1019,\n",
       " 'few': 2830,\n",
       " 'schools': 5976,\n",
       " 'think': 6883,\n",
       " 'thinking': 6885,\n",
       " 'applying': 1021,\n",
       " 'research': 5765,\n",
       " 'also': 919,\n",
       " 'contact': 1976,\n",
       " 'joke': 3862,\n",
       " 'ogunrinde': 4944,\n",
       " 'school': 5975,\n",
       " 'less': 4108,\n",
       " 'expensive': 2723,\n",
       " 'ones': 4972,\n",
       " 'mind': 4507,\n",
       " 'happened': 3344,\n",
       " 'say': 5962,\n",
       " 'uncomfortable': 7174,\n",
       " 'feels': 2818,\n",
       " 'very': 7311,\n",
       " 'quiet': 5569,\n",
       " 'beth': 1325,\n",
       " 'aunts': 1142,\n",
       " 'charlie': 1733,\n",
       " 'lots': 4236,\n",
       " 'helen': 3412,\n",
       " 'mo': 4559,\n",
       " 'been': 1285,\n",
       " 'tomorrow': 6998,\n",
       " 'entry': 2629,\n",
       " 'weekly': 7483,\n",
       " 'comp': 1912,\n",
       " 'chance': 1718,\n",
       " 'win': 7566,\n",
       " 'ipod': 3757,\n",
       " 'pod': 5315,\n",
       " '80182': 638,\n",
       " 'std': 6496,\n",
       " 'rate': 5611,\n",
       " 'apply': 1020,\n",
       " '08452810073': 68,\n",
       " 'details': 2274,\n",
       " '18': 316,\n",
       " 'coughing': 2027,\n",
       " 'nothing': 4861,\n",
       " 'hotel': 3525,\n",
       " 'dusk': 2505,\n",
       " 'game': 3081,\n",
       " 'solve': 6335,\n",
       " 'puzzles': 5550,\n",
       " 'area': 1044,\n",
       " 'tampa': 6738,\n",
       " 'ffffuuuuuuu': 2834,\n",
       " 'obviously': 4912,\n",
       " 'eggs': 2560,\n",
       " 'pert': 5207,\n",
       " 'potato': 5369,\n",
       " 'head': 3387,\n",
       " 'speak': 6395,\n",
       " 'erm': 2641,\n",
       " 'thought': 6902,\n",
       " 'contract': 1986,\n",
       " 'ran': 5602,\n",
       " 'the4th': 6853,\n",
       " 'october': 4920,\n",
       " 'makes': 4349,\n",
       " 'dearer': 2195,\n",
       " 'de': 2187,\n",
       " 'happiness': 3350,\n",
       " 'feel': 2813,\n",
       " 'meet': 4447,\n",
       " 'pain': 5088,\n",
       " 'dem': 2238,\n",
       " 'dare': 2161,\n",
       " 'luck': 4275,\n",
       " 'sorting': 6373,\n",
       " 'car': 1646,\n",
       " 'lei': 4099,\n",
       " 'next': 4792,\n",
       " 'mon': 4586,\n",
       " 'hopeing': 3509,\n",
       " 'wasn': 7432,\n",
       " 'too': 7012,\n",
       " 'pissed': 5256,\n",
       " 'remember': 5722,\n",
       " 'gone': 3199,\n",
       " 'his': 3458,\n",
       " 'sisters': 6226,\n",
       " 'something': 6345,\n",
       " 'worse': 7649,\n",
       " 'uses': 7259,\n",
       " 'half': 3319,\n",
       " 'stops': 6533,\n",
       " 'him': 3453,\n",
       " 'complete': 1925,\n",
       " 'awesome': 1169,\n",
       " 'last': 4046,\n",
       " 'somebody': 6339,\n",
       " 'high': 3447,\n",
       " 'first': 2882,\n",
       " 'diesel': 2309,\n",
       " 'address': 807,\n",
       " 'didnt': 2305,\n",
       " 'anything': 995,\n",
       " 'sorry': 6370,\n",
       " 'went': 7501,\n",
       " 'shop': 6145,\n",
       " 'big': 1344,\n",
       " 'brother': 1517,\n",
       " 'alert': 892,\n",
       " 'selected': 6035,\n",
       " '10k': 263,\n",
       " 'cash': 1671,\n",
       " '150': 299,\n",
       " 'voucher': 7366,\n",
       " '09064018838': 208,\n",
       " 'ntt': 4879,\n",
       " 'po': 5296,\n",
       " 'box': 1450,\n",
       " 'cro1327': 2078,\n",
       " 'bt': 1533,\n",
       " '150ppm': 305,\n",
       " 'mobiles': 4564,\n",
       " 'vary': 7291,\n",
       " 'always': 926,\n",
       " 'interested': 3727,\n",
       " 'schedule': 5974,\n",
       " 'town': 7040,\n",
       " 'weekend': 7481,\n",
       " 'germany': 3131,\n",
       " 'pence': 5177,\n",
       " 'fixed': 2891,\n",
       " 'via': 7314,\n",
       " 'access': 767,\n",
       " 'number': 4884,\n",
       " '0844': 62,\n",
       " '861': 679,\n",
       " '85': 671,\n",
       " 'prepayment': 5417,\n",
       " 'direct': 2337,\n",
       " 'telediscount': 6784,\n",
       " 'they': 6876,\n",
       " 'gonna': 3201,\n",
       " 'snow': 6317,\n",
       " 'start': 6479,\n",
       " 'around': 1064,\n",
       " 'tonite': 7009,\n",
       " 'predicting': 5406,\n",
       " 'inch': 3661,\n",
       " 'accumulation': 781,\n",
       " 'hmm': 3469,\n",
       " 'bring': 1502,\n",
       " 'bottle': 1443,\n",
       " 'wine': 7572,\n",
       " 'keep': 3929,\n",
       " 'amused': 949,\n",
       " 'joking': 3866,\n",
       " 'red': 5682,\n",
       " 'white': 7539,\n",
       " 'wif': 7555,\n",
       " 'buying': 1579,\n",
       " 'tix': 6955,\n",
       " 'funeral': 3060,\n",
       " 'audrey': 1136,\n",
       " 'dad': 2146,\n",
       " 'hey': 3439,\n",
       " 'driving': 2471,\n",
       " 'fri': 3013,\n",
       " 'evaluation': 2667,\n",
       " 'bull': 1550,\n",
       " 'plan': 5266,\n",
       " 'floating': 2914,\n",
       " 'ikea': 3622,\n",
       " 'care': 1650,\n",
       " 'live': 4178,\n",
       " 'mess': 4476,\n",
       " 'another': 975,\n",
       " 're': 5624,\n",
       " 'dramatic': 2452,\n",
       " 'already': 916,\n",
       " 'closed': 1838,\n",
       " 'apparently': 1012,\n",
       " 'drive': 2468,\n",
       " 'supposed': 6655,\n",
       " 'trouble': 7080,\n",
       " 'convincing': 1996,\n",
       " 'tel': 6783,\n",
       " 'twice': 7120,\n",
       " 'neglect': 4759,\n",
       " 'msgs': 4641,\n",
       " 'read': 5631,\n",
       " 'stay': 6491,\n",
       " 'tough': 7036,\n",
       " 'optimistic': 5003,\n",
       " 'improve': 3655,\n",
       " 'month': 4595,\n",
       " 'unless': 7201,\n",
       " 'guys': 3299,\n",
       " 'sooner': 6362,\n",
       " 'confirm': 1954,\n",
       " 'eating': 2533,\n",
       " 'esplanade': 2656,\n",
       " 'amazing': 930,\n",
       " 'rearrange': 5648,\n",
       " 'these': 6872,\n",
       " 'letters': 4115,\n",
       " 'gives': 3162,\n",
       " 'same': 5929,\n",
       " 'meaning': 4432,\n",
       " 'dormitory': 2429,\n",
       " 'dirty': 2343,\n",
       " 'room': 5855,\n",
       " 'astronomer': 1107,\n",
       " 'moon': 4600,\n",
       " 'starer': 6474,\n",
       " 'eyes': 2747,\n",
       " 'election': 2576,\n",
       " 'results': 5795,\n",
       " 'lies': 4126,\n",
       " 'lets': 4113,\n",
       " 'recount': 5677,\n",
       " 'mother': 4613,\n",
       " 'law': 4064,\n",
       " 'woman': 7619,\n",
       " 'hitler': 3461,\n",
       " 'eleven': 2579,\n",
       " 'two': 7126,\n",
       " 'twelve': 7118,\n",
       " 'pick': 5236,\n",
       " 'about': 750,\n",
       " '15pm': 312,\n",
       " 'taunton': 6753,\n",
       " 'squatting': 6453,\n",
       " 'walking': 7404,\n",
       " '83039': 654,\n",
       " '62735': 577,\n",
       " '450': 497,\n",
       " 'break': 1485,\n",
       " 'accommodationvouchers': 773,\n",
       " 'terms': 6807,\n",
       " 'conditions': 1949,\n",
       " 'claim': 1812,\n",
       " 'mustprovide': 4682,\n",
       " '15541': 311,\n",
       " 'thanx': 6845,\n",
       " 'able': 749,\n",
       " 'morning': 4606,\n",
       " 'much': 4653,\n",
       " 'getting': 3139,\n",
       " 'beautiful': 1269,\n",
       " 'necklace': 4748,\n",
       " 'as': 1080,\n",
       " 'token': 6985,\n",
       " 'heart': 3401,\n",
       " 'wife': 7556,\n",
       " 'liking': 4144,\n",
       " 'till': 6935,\n",
       " 'missed': 4534,\n",
       " 'bit': 1365,\n",
       " 'bored': 1433,\n",
       " 'bak': 1203,\n",
       " 'college': 1889,\n",
       " 'sad': 5911,\n",
       " 'isnt': 3775,\n",
       " 'xx': 7703,\n",
       " 'bffs': 1336,\n",
       " 'carly': 1662,\n",
       " 'quick': 5567,\n",
       " 'calling': 1615,\n",
       " 'everyone': 2681,\n",
       " 'saying': 5965,\n",
       " 'might': 4494,\n",
       " 'cancer': 1633,\n",
       " 'throat': 6911,\n",
       " 'hurts': 3578,\n",
       " 'talk': 6729,\n",
       " 'everyones': 2682,\n",
       " 'babysitting': 1191,\n",
       " 'monday': 4587,\n",
       " 'lecture': 4092,\n",
       " 'over': 5056,\n",
       " 'purity': 5537,\n",
       " 'friendship': 3021,\n",
       " 'smiling': 6293,\n",
       " 'reading': 5634,\n",
       " 'forwarded': 2977,\n",
       " 'message': 4477,\n",
       " 'by': 1588,\n",
       " 'seeing': 6023,\n",
       " 'name': 4705,\n",
       " 'gud': 3283,\n",
       " 'evng': 2690,\n",
       " 'musthu': 4681,\n",
       " 'rgent': 5812,\n",
       " '2nd': 406,\n",
       " 'attempt': 1122,\n",
       " '1250': 282,\n",
       " '09071512433': 234,\n",
       " 'b4': 1178,\n",
       " '050703': 18,\n",
       " 'csbcm4235wc1n3xx': 2092,\n",
       " 'callcost': 1607,\n",
       " 'mobilesvary': 4566,\n",
       " 'max': 4414,\n",
       " 'ard': 1042,\n",
       " '515': 548,\n",
       " 'compass': 1917,\n",
       " 'map': 4373,\n",
       " 'soul': 6377,\n",
       " 'guide': 3291,\n",
       " 'never': 4779,\n",
       " 'loose': 4224,\n",
       " 'gnun': 3177,\n",
       " 'way2sms': 7455,\n",
       " 'com': 1893,\n",
       " 'poor': 5339,\n",
       " 'girl': 3154,\n",
       " 'lmao': 4189,\n",
       " 'sore': 6367,\n",
       " 'scratches': 5990,\n",
       " 'cheers': 1755,\n",
       " 'card': 1647,\n",
       " 'treasure': 7066,\n",
       " 'moment': 4583,\n",
       " 'spend': 6410,\n",
       " 'together': 6981,\n",
       " 'money': 4589,\n",
       " 'aint': 874,\n",
       " 'sha': 6088,\n",
       " 'spent': 6412,\n",
       " 'late': 4049,\n",
       " 'casualty': 1678,\n",
       " 'haven': 3377,\n",
       " 'done': 2418,\n",
       " 'stuff42moro': 6574,\n",
       " 'includes': 3666,\n",
       " 'sheets': 6114,\n",
       " 'hour': 3530,\n",
       " 'don': 2416,\n",
       " 'flying': 2927,\n",
       " 'monkeys': 4593,\n",
       " 'wot': 7653,\n",
       " 'certainly': 1709,\n",
       " 'friend': 3018,\n",
       " 'mine': 4510,\n",
       " 'kothi': 3996,\n",
       " 'print': 5446,\n",
       " 'marandratha': 4377,\n",
       " 'fantastic': 2784,\n",
       " 'bigger': 1345,\n",
       " 'lift': 4132,\n",
       " 'losing': 4231,\n",
       " 'person': 5200,\n",
       " 'die': 2307,\n",
       " 'aight': 872,\n",
       " 'watching': 7442,\n",
       " 'tv': 7116,\n",
       " 'nice': 4796,\n",
       " 'sunshine': 6642,\n",
       " 'hols': 3486,\n",
       " 'med': 4442,\n",
       " 'stamped': 6466,\n",
       " 'self': 6037,\n",
       " 'envelope': 2632,\n",
       " 'drinks': 2466,\n",
       " '113': 268,\n",
       " 'bray': 1480,\n",
       " 'wicklow': 7552,\n",
       " 'eire': 2567,\n",
       " 'quiz': 5574,\n",
       " 'starts': 6482,\n",
       " 'saturday': 5954,\n",
       " 'unsub': 7212,\n",
       " 'gep': 3129,\n",
       " 'could': 2028,\n",
       " 'worry': 7647,\n",
       " 'march': 4378,\n",
       " 'ish': 3771,\n",
       " 'black': 1373,\n",
       " 'shirt': 6131,\n",
       " 'blue': 1403,\n",
       " 'jeans': 3827,\n",
       " 'fudge': 3049,\n",
       " 'oreos': 5019,\n",
       " 'stores': 6537,\n",
       " 'wnt': 7613,\n",
       " 'buy': 1576,\n",
       " 'bmw': 1409,\n",
       " 'urgently': 7240,\n",
       " 'vry': 7369,\n",
       " 'urgent': 7239,\n",
       " 'hv': 3583,\n",
       " 'shortage': 6150,\n",
       " 'lacs': 4015,\n",
       " 'source': 6383,\n",
       " 'arng': 1062,\n",
       " 'dis': 2344,\n",
       " 'amt': 948,\n",
       " 'prob': 5460,\n",
       " 'tried': 7075,\n",
       " 'video': 7320,\n",
       " 'mobile': 4563,\n",
       " '750': 617,\n",
       " 'mins': 4518,\n",
       " 'unlimited': 7203,\n",
       " 'camcorder': 1620,\n",
       " '08000930705': 50,\n",
       " 'thank': 6839,\n",
       " 'selflessness': 6040,\n",
       " 'plenty': 5286,\n",
       " 'lucky': 4277,\n",
       " 'winner': 7576,\n",
       " 'prize': 5455,\n",
       " '88600': 697,\n",
       " '1million': 330,\n",
       " 'away': 1168,\n",
       " 'ppt150x3': 5385,\n",
       " 'normal': 4850,\n",
       " 'box403': 1459,\n",
       " 'w1t1jy': 7379,\n",
       " 'awarded': 1167,\n",
       " 'city': 1809,\n",
       " '200': 343,\n",
       " 'summer': 6630,\n",
       " 'spree': 6445,\n",
       " 'wk': 7601,\n",
       " 'store': 6536,\n",
       " '88039': 694,\n",
       " 'skilgme': 6241,\n",
       " 'tscs087147403231winawk': 7099,\n",
       " 'age16': 855,\n",
       " '50perwksub': 543,\n",
       " '250': 366,\n",
       " 'wkly': 7605,\n",
       " '80878': 642,\n",
       " 'custcare': 2125,\n",
       " '08715705022': 130,\n",
       " '1x150p': 340,\n",
       " 'impossible': 3649,\n",
       " 'argue': 1051,\n",
       " 'treats': 7070,\n",
       " 'sub': 6584,\n",
       " 'released': 5714,\n",
       " 'remind': 5727,\n",
       " 'necessary': 4745,\n",
       " 'thinkin': 6884,\n",
       " 'malaria': 4353,\n",
       " 'relax': 5713,\n",
       " 'children': 1776,\n",
       " 'handle': 3330,\n",
       " 'gastroenteritis': 3097,\n",
       " 'enough': 2618,\n",
       " 'replace': 5747,\n",
       " 'loss': 4232,\n",
       " 'temp': 6795,\n",
       " 'reduce': 5685,\n",
       " 'meds': 4445,\n",
       " 'vomit': 7360,\n",
       " 'limiting': 4147,\n",
       " 'illness': 3627,\n",
       " 'days': 2182,\n",
       " 'completely': 1927,\n",
       " 'ya': 7714,\n",
       " 'slow': 6272,\n",
       " 'poo': 5334,\n",
       " 'fundamentals': 3059,\n",
       " 'cool': 2001,\n",
       " 'walk': 7400,\n",
       " 'king': 3966,\n",
       " 'whoever': 7542,\n",
       " 'nyt': 4899,\n",
       " 'food': 2944,\n",
       " 'those': 6898,\n",
       " 'exact': 2698,\n",
       " 'intentions': 3725,\n",
       " 'chocolate': 1791,\n",
       " 'weed': 7479,\n",
       " 'alcohol': 890,\n",
       " 'shld': 6139,\n",
       " 'wana': 7415,\n",
       " 'lessons': 4111,\n",
       " 'haha': 3311,\n",
       " 'stretch': 6550,\n",
       " 'look': 4217,\n",
       " 'registered': 5704,\n",
       " 'subscriber': 6593,\n",
       " 'yr': 7766,\n",
       " 'draw': 2454,\n",
       " '100': 255,\n",
       " 'gift': 3146,\n",
       " 'receipt': 5659,\n",
       " 'correct': 2012,\n",
       " 'ans': 976,\n",
       " 'olympics': 4962,\n",
       " '80062': 632,\n",
       " 'why': 7549,\n",
       " 'god': 3183,\n",
       " 'created': 2065,\n",
       " 'gap': 3087,\n",
       " 'fingers': 2869,\n",
       " 'made': 4324,\n",
       " 'comes': 1900,\n",
       " 'amp': 943,\n",
       " 'fills': 2855,\n",
       " 'gaps': 3088,\n",
       " 'holding': 3481,\n",
       " 'hand': 3327,\n",
       " 'country': 2034,\n",
       " 'attending': 1126,\n",
       " 'talks': 6733,\n",
       " 'nannys': 4714,\n",
       " 'planned': 5270,\n",
       " 'yet': 7740,\n",
       " 'join': 3859,\n",
       " 'company': 1915,\n",
       " 'jan': 3809,\n",
       " 'happen': 3342,\n",
       " 'prefer': 5409,\n",
       " 'tues': 7105,\n",
       " 'wed': 7472,\n",
       " 'oso': 5031,\n",
       " 'workin': 7638,\n",
       " 'shame': 6098,\n",
       " 'cld': 1824,\n",
       " 'hrs': 3547,\n",
       " 'tomo': 6996,\n",
       " 'anymore': 990,\n",
       " 'cried': 2076,\n",
       " '2004': 346,\n",
       " 'account': 778,\n",
       " 'statement': 6487,\n",
       " '078498': 39,\n",
       " 'shows': 6173,\n",
       " '786': 623,\n",
       " 'unredeemed': 7208,\n",
       " 'bonus': 1419,\n",
       " 'points': 5319,\n",
       " '08719180219': 152,\n",
       " 'identifier': 3608,\n",
       " '45239': 501,\n",
       " 'expires': 2729,\n",
       " '06': 20,\n",
       " '05': 17,\n",
       " 'definitely': 2224,\n",
       " 'module': 4576,\n",
       " 'humanities': 3564,\n",
       " 'sem': 6044,\n",
       " 'izzit': 3796,\n",
       " 'other': 5032,\n",
       " 'modules': 4577,\n",
       " 'dled': 2377,\n",
       " '3d': 457,\n",
       " 'imp': 3643,\n",
       " 'btw': 1535,\n",
       " 'regarding': 5701,\n",
       " 'should': 6158,\n",
       " 'really': 5644,\n",
       " 'try': 7092,\n",
       " 'anyone': 991,\n",
       " 'else': 2582,\n",
       " '4th': 524,\n",
       " 'guy': 3298,\n",
       " 'commit': 1908,\n",
       " 'random': 5603,\n",
       " 'dude': 2491,\n",
       " 'hun': 3566,\n",
       " 'ru': 5879,\n",
       " 'im': 3630,\n",
       " 'good': 3203,\n",
       " 'dates': 2176,\n",
       " 'met': 4484,\n",
       " 'walkabout': 7401,\n",
       " 'far': 2786,\n",
       " 'hows': 3540,\n",
       " '448712404000': 495,\n",
       " 'please': 5281,\n",
       " '08712404000': 109,\n",
       " 'immediately': 3641,\n",
       " 'lunch': 4283,\n",
       " ...}"
      ]
     },
     "execution_count": 20,
     "metadata": {},
     "output_type": "execute_result"
    }
   ],
   "source": [
    "\n",
    "v.vocabulary_"
   ]
  },
  {
   "cell_type": "code",
   "execution_count": 21,
   "id": "314d38a8",
   "metadata": {},
   "outputs": [
    {
     "data": {
      "text/plain": [
       "array([0, 0, 0, ..., 0, 0, 0])"
      ]
     },
     "execution_count": 21,
     "metadata": {},
     "output_type": "execute_result"
    }
   ],
   "source": [
    "X_train_np = X_train_cv.toarray()\n",
    "X_train_np[0]"
   ]
  },
  {
   "cell_type": "code",
   "execution_count": 22,
   "id": "ac5ad45e",
   "metadata": {},
   "outputs": [
    {
     "data": {
      "text/plain": [
       "(array([1638, 1899, 2142, 3253, 4058, 6528]),)"
      ]
     },
     "execution_count": 22,
     "metadata": {},
     "output_type": "execute_result"
    }
   ],
   "source": [
    "\n",
    "np.where(X_train_np[0]!=0)"
   ]
  },
  {
   "cell_type": "code",
   "execution_count": 23,
   "id": "22227c96",
   "metadata": {},
   "outputs": [
    {
     "ename": "KeyError",
     "evalue": "1579",
     "output_type": "error",
     "traceback": [
      "\u001b[0;31m---------------------------------------------------------------------------\u001b[0m",
      "\u001b[0;31mKeyError\u001b[0m                                  Traceback (most recent call last)",
      "\u001b[0;32m~/anaconda3/lib/python3.9/site-packages/pandas/core/indexes/base.py\u001b[0m in \u001b[0;36mget_loc\u001b[0;34m(self, key, method, tolerance)\u001b[0m\n\u001b[1;32m   3628\u001b[0m             \u001b[0;32mtry\u001b[0m\u001b[0;34m:\u001b[0m\u001b[0;34m\u001b[0m\u001b[0;34m\u001b[0m\u001b[0m\n\u001b[0;32m-> 3629\u001b[0;31m                 \u001b[0;32mreturn\u001b[0m \u001b[0mself\u001b[0m\u001b[0;34m.\u001b[0m\u001b[0m_engine\u001b[0m\u001b[0;34m.\u001b[0m\u001b[0mget_loc\u001b[0m\u001b[0;34m(\u001b[0m\u001b[0mcasted_key\u001b[0m\u001b[0;34m)\u001b[0m\u001b[0;34m\u001b[0m\u001b[0;34m\u001b[0m\u001b[0m\n\u001b[0m\u001b[1;32m   3630\u001b[0m             \u001b[0;32mexcept\u001b[0m \u001b[0mKeyError\u001b[0m \u001b[0;32mas\u001b[0m \u001b[0merr\u001b[0m\u001b[0;34m:\u001b[0m\u001b[0;34m\u001b[0m\u001b[0;34m\u001b[0m\u001b[0m\n",
      "\u001b[0;32m~/anaconda3/lib/python3.9/site-packages/pandas/_libs/index.pyx\u001b[0m in \u001b[0;36mpandas._libs.index.IndexEngine.get_loc\u001b[0;34m()\u001b[0m\n",
      "\u001b[0;32m~/anaconda3/lib/python3.9/site-packages/pandas/_libs/index.pyx\u001b[0m in \u001b[0;36mpandas._libs.index.IndexEngine.get_loc\u001b[0;34m()\u001b[0m\n",
      "\u001b[0;32mpandas/_libs/hashtable_class_helper.pxi\u001b[0m in \u001b[0;36mpandas._libs.hashtable.Int64HashTable.get_item\u001b[0;34m()\u001b[0m\n",
      "\u001b[0;32mpandas/_libs/hashtable_class_helper.pxi\u001b[0m in \u001b[0;36mpandas._libs.hashtable.Int64HashTable.get_item\u001b[0;34m()\u001b[0m\n",
      "\u001b[0;31mKeyError\u001b[0m: 1579",
      "\nThe above exception was the direct cause of the following exception:\n",
      "\u001b[0;31mKeyError\u001b[0m                                  Traceback (most recent call last)",
      "\u001b[0;32m/tmp/ipykernel_26747/1399789310.py\u001b[0m in \u001b[0;36m<module>\u001b[0;34m\u001b[0m\n\u001b[0;32m----> 1\u001b[0;31m \u001b[0mX_train\u001b[0m\u001b[0;34m[\u001b[0m\u001b[0;34m:\u001b[0m\u001b[0;36m4\u001b[0m\u001b[0;34m]\u001b[0m\u001b[0;34m[\u001b[0m\u001b[0;36m1579\u001b[0m\u001b[0;34m]\u001b[0m\u001b[0;34m\u001b[0m\u001b[0;34m\u001b[0m\u001b[0m\n\u001b[0m",
      "\u001b[0;32m~/anaconda3/lib/python3.9/site-packages/pandas/core/series.py\u001b[0m in \u001b[0;36m__getitem__\u001b[0;34m(self, key)\u001b[0m\n\u001b[1;32m    956\u001b[0m \u001b[0;34m\u001b[0m\u001b[0m\n\u001b[1;32m    957\u001b[0m         \u001b[0;32melif\u001b[0m \u001b[0mkey_is_scalar\u001b[0m\u001b[0;34m:\u001b[0m\u001b[0;34m\u001b[0m\u001b[0;34m\u001b[0m\u001b[0m\n\u001b[0;32m--> 958\u001b[0;31m             \u001b[0;32mreturn\u001b[0m \u001b[0mself\u001b[0m\u001b[0;34m.\u001b[0m\u001b[0m_get_value\u001b[0m\u001b[0;34m(\u001b[0m\u001b[0mkey\u001b[0m\u001b[0;34m)\u001b[0m\u001b[0;34m\u001b[0m\u001b[0;34m\u001b[0m\u001b[0m\n\u001b[0m\u001b[1;32m    959\u001b[0m \u001b[0;34m\u001b[0m\u001b[0m\n\u001b[1;32m    960\u001b[0m         \u001b[0;32mif\u001b[0m \u001b[0mis_hashable\u001b[0m\u001b[0;34m(\u001b[0m\u001b[0mkey\u001b[0m\u001b[0;34m)\u001b[0m\u001b[0;34m:\u001b[0m\u001b[0;34m\u001b[0m\u001b[0;34m\u001b[0m\u001b[0m\n",
      "\u001b[0;32m~/anaconda3/lib/python3.9/site-packages/pandas/core/series.py\u001b[0m in \u001b[0;36m_get_value\u001b[0;34m(self, label, takeable)\u001b[0m\n\u001b[1;32m   1067\u001b[0m \u001b[0;34m\u001b[0m\u001b[0m\n\u001b[1;32m   1068\u001b[0m         \u001b[0;31m# Similar to Index.get_value, but we do not fall back to positional\u001b[0m\u001b[0;34m\u001b[0m\u001b[0;34m\u001b[0m\u001b[0m\n\u001b[0;32m-> 1069\u001b[0;31m         \u001b[0mloc\u001b[0m \u001b[0;34m=\u001b[0m \u001b[0mself\u001b[0m\u001b[0;34m.\u001b[0m\u001b[0mindex\u001b[0m\u001b[0;34m.\u001b[0m\u001b[0mget_loc\u001b[0m\u001b[0;34m(\u001b[0m\u001b[0mlabel\u001b[0m\u001b[0;34m)\u001b[0m\u001b[0;34m\u001b[0m\u001b[0;34m\u001b[0m\u001b[0m\n\u001b[0m\u001b[1;32m   1070\u001b[0m         \u001b[0;32mreturn\u001b[0m \u001b[0mself\u001b[0m\u001b[0;34m.\u001b[0m\u001b[0mindex\u001b[0m\u001b[0;34m.\u001b[0m\u001b[0m_get_values_for_loc\u001b[0m\u001b[0;34m(\u001b[0m\u001b[0mself\u001b[0m\u001b[0;34m,\u001b[0m \u001b[0mloc\u001b[0m\u001b[0;34m,\u001b[0m \u001b[0mlabel\u001b[0m\u001b[0;34m)\u001b[0m\u001b[0;34m\u001b[0m\u001b[0;34m\u001b[0m\u001b[0m\n\u001b[1;32m   1071\u001b[0m \u001b[0;34m\u001b[0m\u001b[0m\n",
      "\u001b[0;32m~/anaconda3/lib/python3.9/site-packages/pandas/core/indexes/base.py\u001b[0m in \u001b[0;36mget_loc\u001b[0;34m(self, key, method, tolerance)\u001b[0m\n\u001b[1;32m   3629\u001b[0m                 \u001b[0;32mreturn\u001b[0m \u001b[0mself\u001b[0m\u001b[0;34m.\u001b[0m\u001b[0m_engine\u001b[0m\u001b[0;34m.\u001b[0m\u001b[0mget_loc\u001b[0m\u001b[0;34m(\u001b[0m\u001b[0mcasted_key\u001b[0m\u001b[0;34m)\u001b[0m\u001b[0;34m\u001b[0m\u001b[0;34m\u001b[0m\u001b[0m\n\u001b[1;32m   3630\u001b[0m             \u001b[0;32mexcept\u001b[0m \u001b[0mKeyError\u001b[0m \u001b[0;32mas\u001b[0m \u001b[0merr\u001b[0m\u001b[0;34m:\u001b[0m\u001b[0;34m\u001b[0m\u001b[0;34m\u001b[0m\u001b[0m\n\u001b[0;32m-> 3631\u001b[0;31m                 \u001b[0;32mraise\u001b[0m \u001b[0mKeyError\u001b[0m\u001b[0;34m(\u001b[0m\u001b[0mkey\u001b[0m\u001b[0;34m)\u001b[0m \u001b[0;32mfrom\u001b[0m \u001b[0merr\u001b[0m\u001b[0;34m\u001b[0m\u001b[0;34m\u001b[0m\u001b[0m\n\u001b[0m\u001b[1;32m   3632\u001b[0m             \u001b[0;32mexcept\u001b[0m \u001b[0mTypeError\u001b[0m\u001b[0;34m:\u001b[0m\u001b[0;34m\u001b[0m\u001b[0;34m\u001b[0m\u001b[0m\n\u001b[1;32m   3633\u001b[0m                 \u001b[0;31m# If we have a listlike key, _check_indexing_error will raise\u001b[0m\u001b[0;34m\u001b[0m\u001b[0;34m\u001b[0m\u001b[0m\n",
      "\u001b[0;31mKeyError\u001b[0m: 1579"
     ]
    }
   ],
   "source": [
    "X_train[:4][1579]"
   ]
  },
  {
   "cell_type": "code",
   "execution_count": 24,
   "id": "c4ff3e21",
   "metadata": {},
   "outputs": [
    {
     "data": {
      "text/plain": [
       "0"
      ]
     },
     "execution_count": 24,
     "metadata": {},
     "output_type": "execute_result"
    }
   ],
   "source": [
    "X_train_np[0][1771]"
   ]
  },
  {
   "cell_type": "markdown",
   "id": "7e3eaeaf",
   "metadata": {},
   "source": [
    "# Train the naive bayes model"
   ]
  },
  {
   "cell_type": "code",
   "execution_count": 25,
   "id": "d27eade0",
   "metadata": {},
   "outputs": [
    {
     "data": {
      "text/plain": [
       "MultinomialNB()"
      ]
     },
     "execution_count": 25,
     "metadata": {},
     "output_type": "execute_result"
    }
   ],
   "source": [
    "from sklearn.naive_bayes import MultinomialNB\n",
    "\n",
    "model = MultinomialNB()\n",
    "model.fit(X_train_cv, y_train)"
   ]
  },
  {
   "cell_type": "code",
   "execution_count": 26,
   "id": "8145bd3c",
   "metadata": {},
   "outputs": [],
   "source": [
    "X_test_cv = v.transform(X_test)\n"
   ]
  },
  {
   "cell_type": "markdown",
   "id": "89f84592",
   "metadata": {},
   "source": [
    "# Evaluate Performance"
   ]
  },
  {
   "cell_type": "code",
   "execution_count": 27,
   "id": "d144c30e",
   "metadata": {},
   "outputs": [
    {
     "name": "stdout",
     "output_type": "stream",
     "text": [
      "              precision    recall  f1-score   support\n",
      "\n",
      "           0       0.99      1.00      1.00       977\n",
      "           1       0.99      0.95      0.97       138\n",
      "\n",
      "    accuracy                           0.99      1115\n",
      "   macro avg       0.99      0.97      0.98      1115\n",
      "weighted avg       0.99      0.99      0.99      1115\n",
      "\n"
     ]
    }
   ],
   "source": [
    "from sklearn.metrics import classification_report\n",
    "\n",
    "y_pred = model.predict(X_test_cv)\n",
    "\n",
    "print(classification_report(y_test, y_pred))"
   ]
  },
  {
   "cell_type": "code",
   "execution_count": 28,
   "id": "7e8a8880",
   "metadata": {},
   "outputs": [
    {
     "data": {
      "text/plain": [
       "array([0, 1])"
      ]
     },
     "execution_count": 28,
     "metadata": {},
     "output_type": "execute_result"
    }
   ],
   "source": [
    "emails = [\n",
    "    'Hey mohan, can we get together to watch footbal game tomorrow?',\n",
    "    'Upto 20% discount on parking, exclusive offer just for you. Dont miss this reward!'\n",
    "]\n",
    "\n",
    "emails_count = v.transform(emails)\n",
    "model.predict(emails_count)"
   ]
  },
  {
   "cell_type": "markdown",
   "id": "3394d4ce",
   "metadata": {},
   "source": [
    "## Train the model using sklearn pipeline and reduce number of lines of code"
   ]
  },
  {
   "cell_type": "code",
   "execution_count": 29,
   "id": "4886b883",
   "metadata": {},
   "outputs": [],
   "source": [
    "from sklearn.pipeline import Pipeline\n",
    "\n",
    "clf = Pipeline([\n",
    "    ('vectorizer', CountVectorizer()),\n",
    "    ('nb', MultinomialNB())\n",
    "])"
   ]
  },
  {
   "cell_type": "code",
   "execution_count": 30,
   "id": "5e67548e",
   "metadata": {},
   "outputs": [
    {
     "data": {
      "text/plain": [
       "Pipeline(steps=[('vectorizer', CountVectorizer()), ('nb', MultinomialNB())])"
      ]
     },
     "execution_count": 30,
     "metadata": {},
     "output_type": "execute_result"
    }
   ],
   "source": [
    "clf.fit(X_train, y_train)\n"
   ]
  },
  {
   "cell_type": "code",
   "execution_count": 31,
   "id": "6fb73032",
   "metadata": {},
   "outputs": [
    {
     "name": "stdout",
     "output_type": "stream",
     "text": [
      "              precision    recall  f1-score   support\n",
      "\n",
      "           0       0.99      1.00      1.00       977\n",
      "           1       0.99      0.95      0.97       138\n",
      "\n",
      "    accuracy                           0.99      1115\n",
      "   macro avg       0.99      0.97      0.98      1115\n",
      "weighted avg       0.99      0.99      0.99      1115\n",
      "\n"
     ]
    }
   ],
   "source": [
    "y_pred = clf.predict(X_test)\n",
    "\n",
    "print(classification_report(y_test, y_pred))"
   ]
  },
  {
   "cell_type": "markdown",
   "id": "80d1c9cc",
   "metadata": {},
   "source": [
    "# Exercise"
   ]
  },
  {
   "cell_type": "markdown",
   "id": "16238b14",
   "metadata": {},
   "source": [
    "- In this Exercise, you are going to classify whether a given movie review is positive or negative.\n",
    "- you are going to use Bag of words for pre-processing the text and apply different classification algorithms.\n",
    "- Sklearn CountVectorizer has the inbuilt implementations for Bag of Words.\n"
   ]
  },
  {
   "cell_type": "code",
   "execution_count": 32,
   "id": "8eff618b",
   "metadata": {},
   "outputs": [],
   "source": [
    "#Import necessary libraries\n",
    "\n",
    "import pandas as pd\n",
    "import numpy as np\n",
    "from sklearn.model_selection import train_test_split\n",
    "from sklearn.feature_extraction.text import CountVectorizer\n",
    "from sklearn.ensemble import RandomForestClassifier\n",
    "from  sklearn.neighbors import KNeighborsClassifier\n",
    "from sklearn.naive_bayes import MultinomialNB\n",
    "from sklearn.pipeline import Pipeline\n",
    "from sklearn.metrics import classification_report\n"
   ]
  },
  {
   "cell_type": "code",
   "execution_count": 33,
   "id": "062571da",
   "metadata": {},
   "outputs": [
    {
     "name": "stdout",
     "output_type": "stream",
     "text": [
      "(19000, 2)\n"
     ]
    },
    {
     "data": {
      "text/html": [
       "<div><div id=bb8acff3-1bcf-4a0b-b817-6452ac221c4a style=\"display:none; background-color:#9D6CFF; color:white; width:200px; height:30px; padding-left:5px; border-radius:4px; flex-direction:row; justify-content:space-around; align-items:center;\" onmouseover=\"this.style.backgroundColor='#BA9BF8'\" onmouseout=\"this.style.backgroundColor='#9D6CFF'\" onclick=\"window.commands?.execute('create-mitosheet-from-dataframe-output');\">See Full Dataframe in Mito</div> <script> if (window.commands?.hasCommand('create-mitosheet-from-dataframe-output')) document.getElementById('bb8acff3-1bcf-4a0b-b817-6452ac221c4a').style.display = 'flex' </script> <table border=\"1\" class=\"dataframe\">\n",
       "  <thead>\n",
       "    <tr style=\"text-align: right;\">\n",
       "      <th></th>\n",
       "      <th>review</th>\n",
       "      <th>sentiment</th>\n",
       "    </tr>\n",
       "  </thead>\n",
       "  <tbody>\n",
       "    <tr>\n",
       "      <th>0</th>\n",
       "      <td>I first saw Jake Gyllenhaal in Jarhead (2005) a little while back and, since then, I've been watching every one of his movies that arrives on my radar screen. Like Clive Owen, he has an intensity (and he even resembles Owen somewhat) that just oozes from the screen. I feel sure that, if he lands some meaty roles, he'll crack an Oscar one day...&lt;br /&gt;&lt;br /&gt;That's not to denigrate this film at all.&lt;br /&gt;&lt;br /&gt;It's a fine story, with very believable people (well, it's based upon the author's early shenanigans with rocketry), a great cast  Chris Cooper is always good, and Laura Dern is always on my watch list  with the appropriate mix of humor, pathos, excitement...and the great sound track with so many rock n roll oldies to get the feet tapping.&lt;br /&gt;&lt;br /&gt;But, this film had a very special significance for me: in 1957, I was the same age as Homer Hickham; like him, I looked up at the night stars to watch Sputnik as it scudded across the blackness; like Homer also, I experimented with rocketry in my backyard and used even the exact same chemicals for fuel; and like Homer, I also had most of my attempts end in explosive disaster! What fun it was...&lt;br /&gt;&lt;br /&gt;I didn't achieve his great (metaphorical and physical) heights though. But, that's what you find out when you see this movie.&lt;br /&gt;&lt;br /&gt;Sure, it's a basic family movie, but that's a dying breed these days, it seems. Take the time to see it, with the kids: you'll all have a lot of good laughs.</td>\n",
       "      <td>positive</td>\n",
       "    </tr>\n",
       "    <tr>\n",
       "      <th>1</th>\n",
       "      <td>I enjoyed the movie and the story immensely! I have seen the original(1939 I believe) and enjoyed them both. To really appreciate the story one must be familiar with English culture and customs. The prof.(Peter O'Toole) was dedicated to his school and \"the boys\" in that school. It was an English \"public\" school, which we in the U.S. refer to as a private school (E.G. Andover). He is a very ascetic person and, on the surface, gives the appearance of being stiff, stuffy, uncaring, and weak to the point of being effeminate. He is strict in his educational standards because he DOES care for \"his lads\", i.e., he doesn't want them to get a cheap or weak education. He meets(through introduction) a \"dance hall girl\"(Petula Clark) and is totally smitten. In England at the time, the reference to \"dance hall\" carried the connotation of extreme sexual promiscuity and was definitely \"lower class\". We find that the Prof. is in fact a very tough and courageous person as well as loyal to people and institutions that he loves and/or respects. Clark becomes more than a lover and wife...she \"leavens\" his personality and allows him to grow as a man and a person, much to the benefit of his beloved school and his own happiness. The first movie was set BEFORE WW II, this one goes through WW II, also, it is 1969( we've had the \"British Invasion\"...Beetles, etc. Clark had hits and was very popular then...still is to me), the music is great, color and photography excellent. I think O'Toole played the character perfectly! There ARE dedicated people like \"Chips\"...all around us but many do not receive the recognition. Very enjoyable movie and story!</td>\n",
       "      <td>positive</td>\n",
       "    </tr>\n",
       "    <tr>\n",
       "      <th>2</th>\n",
       "      <td>I had a hard time sitting through this. Every single twist and turn is predictable. You're sitting there just waiting for it ... waiting for it ... and yes, there it is! Just as you predicted at the very beginning of the movie. Or 10 minutes out. Et cetera. &lt;br /&gt;&lt;br /&gt;Smart writing? No. &lt;br /&gt;&lt;br /&gt;Torture porn? No, there's no nudity. Other reviews calling this torture porn are most likely written by people on heavy drugs. Unfortunately there's no torture and no nudity (yes, no nudity).&lt;br /&gt;&lt;br /&gt;There's no suspense at all in this \"thriller\". The only good part about this movie is the ending, but I'm not going to spoil that.&lt;br /&gt;&lt;br /&gt;I'm giving it a 2/10. A 1/10 would be a horrible B-movie. This movie had better acting.</td>\n",
       "      <td>negative</td>\n",
       "    </tr>\n",
       "    <tr>\n",
       "      <th>3</th>\n",
       "      <td>It's hard to imagine that anyone could find this short their favorite if they have seen most of their shorts, but I know that humor is VERY subjective. I have seen all of their sound shorts (by far the best of their stuff IMO) and I found this one of their weaker efforts.&lt;br /&gt;&lt;br /&gt;In the year this was made (1930) Stan and Babe made 15 shorts and one feature. They were extremely popular and their boss Hal Roach took full advantage by keeping them working constantly. In addition, this was a time of experimentation for the writers and Stan. I would say this was an experiment that really did not work. As someone else said, it does not play to their strengths. Too much dialog and plot.&lt;br /&gt;&lt;br /&gt;The best part of this one for me is the largely improvised sequence with Stan as Agnes the maid and the great Thelma Todd talking about \"girl\" stuff.&lt;br /&gt;&lt;br /&gt;If you really want to see the boys at their most creative and funny check out Blotto, or Brats From the same year.&lt;br /&gt;&lt;br /&gt;They made so many shorts in such a short time that I think they can be forgiven for turning out a few less then par shorts. They made something like 108 films altogether. Very few (except for the ones made at FOX) were outright failures but there are some. County Hospital, Me And My Pal, The Live Ghost, The Fixer Uppers come to mind as essentially weak ones. But other then those I find something wonderful in just about all their shorts. Quite a record in my book.&lt;br /&gt;&lt;br /&gt;If you have seen and enjoyed all their other shorts then by all means check this one out, but I would be willing to bet that this one was less then memorable to Stan and Babe.</td>\n",
       "      <td>negative</td>\n",
       "    </tr>\n",
       "    <tr>\n",
       "      <th>4</th>\n",
       "      <td>This is one military drama I like a lot! Tom Berenger playing military assassin Thomas Beckett. This Marine is no-nonsense, in your face, and no questions asked kind of person who gets the job done. There you have Billy Zane(\"The Phantom\" and others) who plays Richard Miller, a former SWAT form D.C., works for the government and takes orders only from them. Who needs a bureaucrat? I don't! When these two are paired, sparks should be flying. And how. However, Beckett teaches the young bureaucrat on how it works. When the other sniper hits, it's wits vs. wits, cat vs. mouse, gunman vs. gunman. And when the seasoned sniper is caught, it's up to Miller to put politics aside and save him. Who needs politics when you a pro like Beckett, he took orders from no one but himself, plays by the rules and not the book, and mutual respect is brought out despite the politics. The movie was a direct hit. Watch it. Rating 4 out of 5 stars.</td>\n",
       "      <td>positive</td>\n",
       "    </tr>\n",
       "  </tbody>\n",
       "</table></div>"
      ],
      "text/plain": [
       "                                              review sentiment\n",
       "0  I first saw Jake Gyllenhaal in Jarhead (2005) ...  positive\n",
       "1  I enjoyed the movie and the story immensely! I...  positive\n",
       "2  I had a hard time sitting through this. Every ...  negative\n",
       "3  It's hard to imagine that anyone could find th...  negative\n",
       "4  This is one military drama I like a lot! Tom B...  positive"
      ]
     },
     "execution_count": 33,
     "metadata": {},
     "output_type": "execute_result"
    }
   ],
   "source": [
    "#1. read the data provided in the same directory with name 'movies_sentiment_data.csv' and store it in df variable\n",
    "df = pd.read_csv(\"movies_sentiment_data.csv\")\n",
    "\n",
    "\n",
    "#2. print the shape of the data\n",
    "print(df.shape)\n",
    "\n",
    "#3. print top 5 datapoints\n",
    "df.head()"
   ]
  },
  {
   "cell_type": "code",
   "execution_count": 34,
   "id": "3a2985aa",
   "metadata": {},
   "outputs": [],
   "source": [
    "#creating a new column \"Category\" which represent 1 if the sentiment is positive or 0 if it is negative\n",
    "df['Category'] = df['sentiment'].apply(lambda x: 1 if x =='positive' else 0)"
   ]
  },
  {
   "cell_type": "code",
   "execution_count": null,
   "id": "2e164526",
   "metadata": {},
   "outputs": [],
   "source": [
    "#check the distribution of 'Category' and see whether the Target labels are balanced or not.\n",
    "\n",
    "df['Category'].value_counts()"
   ]
  },
  {
   "cell_type": "code",
   "execution_count": null,
   "id": "da1cd1d1",
   "metadata": {},
   "outputs": [],
   "source": [
    "#Do the 'train-test' splitting with test size of 20%\n",
    "\n",
    "from sklearn.model_selection import train_test_split\n",
    "\n",
    "X_train, X_test, y_train, y_test = train_test_split(df.review, df.Category, test_size=0.2)"
   ]
  },
  {
   "cell_type": "markdown",
   "id": "c97c4d1f",
   "metadata": {},
   "source": [
    "# Exercise-1\n",
    "\n",
    "- using sklearn pipeline module create a classification pipeline to classify the movie review's positive or negative."
   ]
  },
  {
   "cell_type": "markdown",
   "id": "24ee4d92",
   "metadata": {},
   "source": [
    "- use CountVectorizer for pre-processing the text.\n",
    "\n",
    "- use Random Forest as the classifier with estimators as 50 and criterion as entropy.\n",
    "\n",
    "- print the classification report."
   ]
  },
  {
   "cell_type": "code",
   "execution_count": 35,
   "id": "e042d33c",
   "metadata": {},
   "outputs": [
    {
     "name": "stdout",
     "output_type": "stream",
     "text": [
      "              precision    recall  f1-score   support\n",
      "\n",
      "           0       0.98      1.00      0.99       977\n",
      "           1       1.00      0.82      0.90       138\n",
      "\n",
      "    accuracy                           0.98      1115\n",
      "   macro avg       0.99      0.91      0.94      1115\n",
      "weighted avg       0.98      0.98      0.98      1115\n",
      "\n"
     ]
    }
   ],
   "source": [
    "#1. create a pipeline object\n",
    "clf = Pipeline([\n",
    "    ('vectorizer', CountVectorizer()),                                                    #initializing the vectorizer\n",
    "    ('random_forest', (RandomForestClassifier(n_estimators=50, criterion='entropy')))      #using the RandomForest classifier\n",
    "])\n",
    "\n",
    "\n",
    "\n",
    "#2. fit with X_train and y_train\n",
    "clf.fit(X_train, y_train)\n",
    "\n",
    "\n",
    "#3. get the predictions for X_test and store it in y_pred\n",
    "y_pred = clf.predict(X_test)\n",
    "\n",
    "\n",
    "#4. print the classfication report\n",
    "print(classification_report(y_test, y_pred))"
   ]
  },
  {
   "cell_type": "markdown",
   "id": "5c84421b",
   "metadata": {},
   "source": [
    "# Exercise-2\n",
    "\n",
    "- using sklearn pipeline module create a classification pipeline to classify the movie review's positive or negative..\n"
   ]
  },
  {
   "cell_type": "markdown",
   "id": "96b32e2a",
   "metadata": {},
   "source": [
    "- use CountVectorizer for pre-processing the text.\n",
    "- use KNN as the classifier with n_neighbors of 10 and metric as 'euclidean'.\n",
    "- print the classification report."
   ]
  },
  {
   "cell_type": "code",
   "execution_count": 36,
   "id": "287b17be",
   "metadata": {},
   "outputs": [
    {
     "name": "stdout",
     "output_type": "stream",
     "text": [
      "              precision    recall  f1-score   support\n",
      "\n",
      "           0       0.90      1.00      0.95       977\n",
      "           1       1.00      0.24      0.39       138\n",
      "\n",
      "    accuracy                           0.91      1115\n",
      "   macro avg       0.95      0.62      0.67      1115\n",
      "weighted avg       0.91      0.91      0.88      1115\n",
      "\n"
     ]
    }
   ],
   "source": [
    "#1. create a pipeline object\n",
    "clf = Pipeline([\n",
    "                \n",
    "     ('vectorizer', CountVectorizer()),   \n",
    "      ('KNN', (KNeighborsClassifier(n_neighbors=10, metric = 'euclidean')))   #using the KNN classifier with 10 neighbors \n",
    "])\n",
    "\n",
    "\n",
    "#2. fit with X_train and y_train\n",
    "clf.fit(X_train, y_train)\n",
    "\n",
    "\n",
    "#3. get the predictions for X_test and store it in y_pred\n",
    "y_pred = clf.predict(X_test)\n",
    "\n",
    "\n",
    "#4. print the classfication report\n",
    "print(classification_report(y_test, y_pred))"
   ]
  },
  {
   "cell_type": "markdown",
   "id": "06d45035",
   "metadata": {},
   "source": [
    "# Exercise 3\n",
    "- use CountVectorizer for pre-processing the text.\n",
    "- use Multinomial Naive Bayes as the classifier.\n",
    "- print the classification report."
   ]
  },
  {
   "cell_type": "code",
   "execution_count": 37,
   "id": "139dc61a",
   "metadata": {},
   "outputs": [
    {
     "name": "stdout",
     "output_type": "stream",
     "text": [
      "              precision    recall  f1-score   support\n",
      "\n",
      "           0       0.99      1.00      1.00       977\n",
      "           1       0.99      0.95      0.97       138\n",
      "\n",
      "    accuracy                           0.99      1115\n",
      "   macro avg       0.99      0.97      0.98      1115\n",
      "weighted avg       0.99      0.99      0.99      1115\n",
      "\n"
     ]
    }
   ],
   "source": [
    "#1. create a pipeline object\n",
    "clf = Pipeline([\n",
    "                \n",
    "     ('vectorizer', CountVectorizer()),   \n",
    "      ('Multi NB', MultinomialNB())   #using the Multinomial Naive Bayes classifier \n",
    "])\n",
    "\n",
    "\n",
    "#2. fit with X_train and y_train\n",
    "clf.fit(X_train, y_train)\n",
    "\n",
    "\n",
    "#3. get the predictions for X_test and store it in y_pred\n",
    "y_pred = clf.predict(X_test)\n",
    "\n",
    "\n",
    "#4. print the classfication report\n",
    "print(classification_report(y_test, y_pred))"
   ]
  },
  {
   "cell_type": "markdown",
   "id": "a1bed2e7",
   "metadata": {},
   "source": [
    "# END"
   ]
  }
 ],
 "metadata": {
  "kernelspec": {
   "display_name": "Python 3 (ipykernel)",
   "language": "python",
   "name": "python3"
  },
  "language_info": {
   "codemirror_mode": {
    "name": "ipython",
    "version": 3
   },
   "file_extension": ".py",
   "mimetype": "text/x-python",
   "name": "python",
   "nbconvert_exporter": "python",
   "pygments_lexer": "ipython3",
   "version": "3.9.13"
  }
 },
 "nbformat": 4,
 "nbformat_minor": 5
}
