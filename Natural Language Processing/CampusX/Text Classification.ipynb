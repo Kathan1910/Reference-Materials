{
 "cells": [
  {
   "cell_type": "code",
   "execution_count": null,
   "id": "0ed61755",
   "metadata": {},
   "outputs": [],
   "source": []
  },
  {
   "cell_type": "code",
   "execution_count": 29,
   "id": "58c24d0f",
   "metadata": {},
   "outputs": [],
   "source": [
    "import numpy as np\n",
    "import pandas as pd"
   ]
  },
  {
   "cell_type": "code",
   "execution_count": 30,
   "id": "8c463688",
   "metadata": {},
   "outputs": [
    {
     "data": {
      "text/html": [
       "<div><div id=4c38b580-c8d4-4147-b836-2c2393be84bb style=\"display:none; background-color:#9D6CFF; color:white; width:200px; height:30px; padding-left:5px; border-radius:4px; flex-direction:row; justify-content:space-around; align-items:center;\" onmouseover=\"this.style.backgroundColor='#BA9BF8'\" onmouseout=\"this.style.backgroundColor='#9D6CFF'\" onclick=\"window.commands?.execute('create-mitosheet-from-dataframe-output');\">See Full Dataframe in Mito</div> <script> if (window.commands?.hasCommand('create-mitosheet-from-dataframe-output')) document.getElementById('4c38b580-c8d4-4147-b836-2c2393be84bb').style.display = 'flex' </script> <table border=\"1\" class=\"dataframe\">\n",
       "  <thead>\n",
       "    <tr style=\"text-align: right;\">\n",
       "      <th></th>\n",
       "      <th>review</th>\n",
       "      <th>sentiment</th>\n",
       "    </tr>\n",
       "  </thead>\n",
       "  <tbody>\n",
       "    <tr>\n",
       "      <th>0</th>\n",
       "      <td>One of the other reviewers has mentioned that after watching just 1 Oz episode you'll be hooked. They are right, as this is exactly what happened with me.&lt;br /&gt;&lt;br /&gt;The first thing that struck me about Oz was its brutality and unflinching scenes of violence, which set in right from the word GO. Trust me, this is not a show for the faint hearted or timid. This show pulls no punches with regards to drugs, sex or violence. Its is hardcore, in the classic use of the word.&lt;br /&gt;&lt;br /&gt;It is called OZ as that is the nickname given to the Oswald Maximum Security State Penitentary. It focuses mainly on Emerald City, an experimental section of the prison where all the cells have glass fronts and face inwards, so privacy is not high on the agenda. Em City is home to many..Aryans, Muslims, gangstas, Latinos, Christians, Italians, Irish and more....so scuffles, death stares, dodgy dealings and shady agreements are never far away.&lt;br /&gt;&lt;br /&gt;I would say the main appeal of the show is due to the fact that it goes where other shows wouldn't dare. Forget pretty pictures painted for mainstream audiences, forget charm, forget romance...OZ doesn't mess around. The first episode I ever saw struck me as so nasty it was surreal, I couldn't say I was ready for it, but as I watched more, I developed a taste for Oz, and got accustomed to the high levels of graphic violence. Not just violence, but injustice (crooked guards who'll be sold out for a nickel, inmates who'll kill on order and get away with it, well mannered, middle class inmates being turned into prison bitches due to their lack of street skills or prison experience) Watching Oz, you may become comfortable with what is uncomfortable viewing....thats if you can get in touch with your darker side.</td>\n",
       "      <td>positive</td>\n",
       "    </tr>\n",
       "    <tr>\n",
       "      <th>1</th>\n",
       "      <td>A wonderful little production. &lt;br /&gt;&lt;br /&gt;The filming technique is very unassuming- very old-time-BBC fashion and gives a comforting, and sometimes discomforting, sense of realism to the entire piece. &lt;br /&gt;&lt;br /&gt;The actors are extremely well chosen- Michael Sheen not only \"has got all the polari\" but he has all the voices down pat too! You can truly see the seamless editing guided by the references to Williams' diary entries, not only is it well worth the watching but it is a terrificly written and performed piece. A masterful production about one of the great master's of comedy and his life. &lt;br /&gt;&lt;br /&gt;The realism really comes home with the little things: the fantasy of the guard which, rather than use the traditional 'dream' techniques remains solid then disappears. It plays on our knowledge and our senses, particularly with the scenes concerning Orton and Halliwell and the sets (particularly of their flat with Halliwell's murals decorating every surface) are terribly well done.</td>\n",
       "      <td>positive</td>\n",
       "    </tr>\n",
       "    <tr>\n",
       "      <th>2</th>\n",
       "      <td>I thought this was a wonderful way to spend time on a too hot summer weekend, sitting in the air conditioned theater and watching a light-hearted comedy. The plot is simplistic, but the dialogue is witty and the characters are likable (even the well bread suspected serial killer). While some may be disappointed when they realize this is not Match Point 2: Risk Addiction, I thought it was proof that Woody Allen is still fully in control of the style many of us have grown to love.&lt;br /&gt;&lt;br /&gt;This was the most I'd laughed at one of Woody's comedies in years (dare I say a decade?). While I've never been impressed with Scarlet Johanson, in this she managed to tone down her \"sexy\" image and jumped right into a average, but spirited young woman.&lt;br /&gt;&lt;br /&gt;This may not be the crown jewel of his career, but it was wittier than \"Devil Wears Prada\" and more interesting than \"Superman\" a great comedy to go see with friends.</td>\n",
       "      <td>positive</td>\n",
       "    </tr>\n",
       "    <tr>\n",
       "      <th>3</th>\n",
       "      <td>Basically there's a family where a little boy (Jake) thinks there's a zombie in his closet &amp; his parents are fighting all the time.&lt;br /&gt;&lt;br /&gt;This movie is slower than a soap opera... and suddenly, Jake decides to become Rambo and kill the zombie.&lt;br /&gt;&lt;br /&gt;OK, first of all when you're going to make a film you must Decide if its a thriller or a drama! As a drama the movie is watchable. Parents are divorcing &amp; arguing like in real life. And then we have Jake with his closet which totally ruins all the film! I expected to see a BOOGEYMAN similar movie, and instead i watched a drama with some meaningless thriller spots.&lt;br /&gt;&lt;br /&gt;3 out of 10 just for the well playing parents &amp; descent dialogs. As for the shots with Jake: just ignore them.</td>\n",
       "      <td>negative</td>\n",
       "    </tr>\n",
       "    <tr>\n",
       "      <th>4</th>\n",
       "      <td>Petter Mattei's \"Love in the Time of Money\" is a visually stunning film to watch. Mr. Mattei offers us a vivid portrait about human relations. This is a movie that seems to be telling us what money, power and success do to people in the different situations we encounter. &lt;br /&gt;&lt;br /&gt;This being a variation on the Arthur Schnitzler's play about the same theme, the director transfers the action to the present time New York where all these different characters meet and connect. Each one is connected in one way, or another to the next person, but no one seems to know the previous point of contact. Stylishly, the film has a sophisticated luxurious look. We are taken to see how these people live and the world they live in their own habitat.&lt;br /&gt;&lt;br /&gt;The only thing one gets out of all these souls in the picture is the different stages of loneliness each one inhabits. A big city is not exactly the best place in which human relations find sincere fulfillment, as one discerns is the case with most of the people we encounter.&lt;br /&gt;&lt;br /&gt;The acting is good under Mr. Mattei's direction. Steve Buscemi, Rosario Dawson, Carol Kane, Michael Imperioli, Adrian Grenier, and the rest of the talented cast, make these characters come alive.&lt;br /&gt;&lt;br /&gt;We wish Mr. Mattei good luck and await anxiously for his next work.</td>\n",
       "      <td>positive</td>\n",
       "    </tr>\n",
       "  </tbody>\n",
       "</table></div>"
      ],
      "text/plain": [
       "                                              review sentiment\n",
       "0  One of the other reviewers has mentioned that ...  positive\n",
       "1  A wonderful little production. <br /><br />The...  positive\n",
       "2  I thought this was a wonderful way to spend ti...  positive\n",
       "3  Basically there's a family where a little boy ...  negative\n",
       "4  Petter Mattei's \"Love in the Time of Money\" is...  positive"
      ]
     },
     "execution_count": 30,
     "metadata": {},
     "output_type": "execute_result"
    }
   ],
   "source": [
    "temp_df = pd.read_csv(\"/home/kathan/Kathan/Natural Language Processing/Materials/IMDB Dataset.csv\")\n",
    "df = temp_df.iloc[:10000]\n",
    "df.head()"
   ]
  },
  {
   "cell_type": "code",
   "execution_count": 31,
   "id": "44c3371c",
   "metadata": {},
   "outputs": [
    {
     "data": {
      "text/html": [
       "<div><div id=ea6ba87b-2a03-4da5-9dc1-6196a14ca343 style=\"display:none; background-color:#9D6CFF; color:white; width:200px; height:30px; padding-left:5px; border-radius:4px; flex-direction:row; justify-content:space-around; align-items:center;\" onmouseover=\"this.style.backgroundColor='#BA9BF8'\" onmouseout=\"this.style.backgroundColor='#9D6CFF'\" onclick=\"window.commands?.execute('create-mitosheet-from-dataframe-output');\">See Full Dataframe in Mito</div> <script> if (window.commands?.hasCommand('create-mitosheet-from-dataframe-output')) document.getElementById('ea6ba87b-2a03-4da5-9dc1-6196a14ca343').style.display = 'flex' </script> <table border=\"1\" class=\"dataframe\">\n",
       "  <thead>\n",
       "    <tr style=\"text-align: right;\">\n",
       "      <th></th>\n",
       "      <th>review</th>\n",
       "      <th>sentiment</th>\n",
       "    </tr>\n",
       "  </thead>\n",
       "  <tbody>\n",
       "    <tr>\n",
       "      <th>0</th>\n",
       "      <td>One of the other reviewers has mentioned that after watching just 1 Oz episode you'll be hooked. They are right, as this is exactly what happened with me.&lt;br /&gt;&lt;br /&gt;The first thing that struck me about Oz was its brutality and unflinching scenes of violence, which set in right from the word GO. Trust me, this is not a show for the faint hearted or timid. This show pulls no punches with regards to drugs, sex or violence. Its is hardcore, in the classic use of the word.&lt;br /&gt;&lt;br /&gt;It is called OZ as that is the nickname given to the Oswald Maximum Security State Penitentary. It focuses mainly on Emerald City, an experimental section of the prison where all the cells have glass fronts and face inwards, so privacy is not high on the agenda. Em City is home to many..Aryans, Muslims, gangstas, Latinos, Christians, Italians, Irish and more....so scuffles, death stares, dodgy dealings and shady agreements are never far away.&lt;br /&gt;&lt;br /&gt;I would say the main appeal of the show is due to the fact that it goes where other shows wouldn't dare. Forget pretty pictures painted for mainstream audiences, forget charm, forget romance...OZ doesn't mess around. The first episode I ever saw struck me as so nasty it was surreal, I couldn't say I was ready for it, but as I watched more, I developed a taste for Oz, and got accustomed to the high levels of graphic violence. Not just violence, but injustice (crooked guards who'll be sold out for a nickel, inmates who'll kill on order and get away with it, well mannered, middle class inmates being turned into prison bitches due to their lack of street skills or prison experience) Watching Oz, you may become comfortable with what is uncomfortable viewing....thats if you can get in touch with your darker side.</td>\n",
       "      <td>positive</td>\n",
       "    </tr>\n",
       "    <tr>\n",
       "      <th>1</th>\n",
       "      <td>A wonderful little production. &lt;br /&gt;&lt;br /&gt;The filming technique is very unassuming- very old-time-BBC fashion and gives a comforting, and sometimes discomforting, sense of realism to the entire piece. &lt;br /&gt;&lt;br /&gt;The actors are extremely well chosen- Michael Sheen not only \"has got all the polari\" but he has all the voices down pat too! You can truly see the seamless editing guided by the references to Williams' diary entries, not only is it well worth the watching but it is a terrificly written and performed piece. A masterful production about one of the great master's of comedy and his life. &lt;br /&gt;&lt;br /&gt;The realism really comes home with the little things: the fantasy of the guard which, rather than use the traditional 'dream' techniques remains solid then disappears. It plays on our knowledge and our senses, particularly with the scenes concerning Orton and Halliwell and the sets (particularly of their flat with Halliwell's murals decorating every surface) are terribly well done.</td>\n",
       "      <td>positive</td>\n",
       "    </tr>\n",
       "    <tr>\n",
       "      <th>2</th>\n",
       "      <td>I thought this was a wonderful way to spend time on a too hot summer weekend, sitting in the air conditioned theater and watching a light-hearted comedy. The plot is simplistic, but the dialogue is witty and the characters are likable (even the well bread suspected serial killer). While some may be disappointed when they realize this is not Match Point 2: Risk Addiction, I thought it was proof that Woody Allen is still fully in control of the style many of us have grown to love.&lt;br /&gt;&lt;br /&gt;This was the most I'd laughed at one of Woody's comedies in years (dare I say a decade?). While I've never been impressed with Scarlet Johanson, in this she managed to tone down her \"sexy\" image and jumped right into a average, but spirited young woman.&lt;br /&gt;&lt;br /&gt;This may not be the crown jewel of his career, but it was wittier than \"Devil Wears Prada\" and more interesting than \"Superman\" a great comedy to go see with friends.</td>\n",
       "      <td>positive</td>\n",
       "    </tr>\n",
       "    <tr>\n",
       "      <th>3</th>\n",
       "      <td>Basically there's a family where a little boy (Jake) thinks there's a zombie in his closet &amp; his parents are fighting all the time.&lt;br /&gt;&lt;br /&gt;This movie is slower than a soap opera... and suddenly, Jake decides to become Rambo and kill the zombie.&lt;br /&gt;&lt;br /&gt;OK, first of all when you're going to make a film you must Decide if its a thriller or a drama! As a drama the movie is watchable. Parents are divorcing &amp; arguing like in real life. And then we have Jake with his closet which totally ruins all the film! I expected to see a BOOGEYMAN similar movie, and instead i watched a drama with some meaningless thriller spots.&lt;br /&gt;&lt;br /&gt;3 out of 10 just for the well playing parents &amp; descent dialogs. As for the shots with Jake: just ignore them.</td>\n",
       "      <td>negative</td>\n",
       "    </tr>\n",
       "    <tr>\n",
       "      <th>4</th>\n",
       "      <td>Petter Mattei's \"Love in the Time of Money\" is a visually stunning film to watch. Mr. Mattei offers us a vivid portrait about human relations. This is a movie that seems to be telling us what money, power and success do to people in the different situations we encounter. &lt;br /&gt;&lt;br /&gt;This being a variation on the Arthur Schnitzler's play about the same theme, the director transfers the action to the present time New York where all these different characters meet and connect. Each one is connected in one way, or another to the next person, but no one seems to know the previous point of contact. Stylishly, the film has a sophisticated luxurious look. We are taken to see how these people live and the world they live in their own habitat.&lt;br /&gt;&lt;br /&gt;The only thing one gets out of all these souls in the picture is the different stages of loneliness each one inhabits. A big city is not exactly the best place in which human relations find sincere fulfillment, as one discerns is the case with most of the people we encounter.&lt;br /&gt;&lt;br /&gt;The acting is good under Mr. Mattei's direction. Steve Buscemi, Rosario Dawson, Carol Kane, Michael Imperioli, Adrian Grenier, and the rest of the talented cast, make these characters come alive.&lt;br /&gt;&lt;br /&gt;We wish Mr. Mattei good luck and await anxiously for his next work.</td>\n",
       "      <td>positive</td>\n",
       "    </tr>\n",
       "    <tr>\n",
       "      <th>...</th>\n",
       "      <td>...</td>\n",
       "      <td>...</td>\n",
       "    </tr>\n",
       "    <tr>\n",
       "      <th>9995</th>\n",
       "      <td>Fun, entertaining movie about WWII German spy (Julie Andrews!) falling in love with American pilot (Rock Hudson), while trying to get secrets from him. For some reason this was attacked by critics and shunned by the public in 1970--I can't see why. It's beautifully shot, has wonderful costumes and interiors, and exciting aerial dogfights. Also it has Andrews doing a strip-tease (strictly PG material) and singing a beautiful song--\"Whistling in the Dark\". The movie does have problems. Andrews and Hudson did not get along during the shooting of this--and it shows. Their love scenes lack spark and they have zero sexual chemistry. Still, they turn in OK performances. The film is a little long (even in the 105 min director's cut I saw) and gets way too dark and serious at the end. Still, worth catching. Try seeing the directors cut...the other one runs half an hour longer!</td>\n",
       "      <td>positive</td>\n",
       "    </tr>\n",
       "    <tr>\n",
       "      <th>9996</th>\n",
       "      <td>Give me a break. How can anyone say that this is a \"good hockey movie\"? I know that movies tend to do a pretty p***-poor job of portraying hockey to the general public. And yes, this was made back when the U.S. hadn't embraced our sport to the extent is has today, but really. I have played hockey all my life and have watched even more, and this my friends is sheer lunacy. The scenes on the ice were stupefyingly bizzare... the particular instance to which I am referring is the \"sword fight\", er I mean the \"stick fight\" at the end of the film... during which everyone is just standing around and watching, not with fascination that this is actually happening, but in wonder as to who will win the duel between Youngblood and his nemesis Rakkie. Yes the story off the ice is a little better, I do stress LITTLE.&lt;br /&gt;&lt;br /&gt;I don't know, maybe there is no point in going on... I mean let's face it: the film is right. Hockey is just one big battle on ice... oh yeah with a little piece of vulcanized rubber bouncing around- occasionally into what is loosely termed a \"goal\". Youngblood is either appalling or hysterical, I can't figure out which... maybe someone else will have more luck.</td>\n",
       "      <td>negative</td>\n",
       "    </tr>\n",
       "    <tr>\n",
       "      <th>9997</th>\n",
       "      <td>This movie is a bad movie. But after watching an endless series of bad horror movies, I can say that it is a little different from many I have seen. Not in the plot, which is a fairly regular slasher story, but more the way the scenes are cut. Murder Weapon gives us a lot of inane dialogue scenes, but they go on for a lot longer than in most movies of this type. Because of this some of the victims seem slightly less like cardboard cut-outs. Just slightly. I had a difficult time figuring out exactly what was happening at the beginning and kept wondering if certain events were dream sequences. My favorite scene is when two guys are on the run from the killer and take refuge in a car. In the glove compartment, they find a handgun. \"Thank you, God!\" one of them happily exclaims. That guy's head suddenly looks like a mannequin's head, and it went on for just enough time for me to wonder, \"What is that? Where is that mannequin in relation to the two guys in the car?\" Then BOOM! The head explodes and I figured out that it was supposed to be one of the guys in the car getting his head shot off with a shotgun. I love that scene, but the movie is a very bad movie. 3/10.</td>\n",
       "      <td>negative</td>\n",
       "    </tr>\n",
       "    <tr>\n",
       "      <th>9998</th>\n",
       "      <td>This is a movie that was probably made to entertain the middle school, early high school age kids. Maybe to them it's funny, they may possibly even see something scary in it. To me, the acting is poor, and plot is poor, there's just not much value at all for the adult viewer. I saw this film as weak and boring. At times there was the possibility that the movie could become interesting but it never really materialized. The creatures look pretty good but after seeing them for a few seconds, they don't seem to have any substance other than the look. At times I wasn't sure if the movie was trying to make another attempt at comedy or was it just another attempt at horror that failed again. This movie just wasn't good for me.</td>\n",
       "      <td>negative</td>\n",
       "    </tr>\n",
       "    <tr>\n",
       "      <th>9999</th>\n",
       "      <td>Smashing film about film-making. Shows the intense and strange relationships that can develop between directors &amp; their actors; the manipulation and mind games; the preening egotism of performers. As in any workplace, sexuality complicates matters, but here to the nth degree as they are filming a sex scene.&lt;br /&gt;&lt;br /&gt;Absolutely fantastic performances from Gregoire Colin as the fragile, wannabe macho male lead, and - supremely - Anne Parillaud as the director's self-portrait. The image of her laughing &amp; eating a banana at the end, having finally got what she wants out of her puppets, is pure delight.</td>\n",
       "      <td>positive</td>\n",
       "    </tr>\n",
       "  </tbody>\n",
       "</table></div>"
      ],
      "text/plain": [
       "                                                 review sentiment\n",
       "0     One of the other reviewers has mentioned that ...  positive\n",
       "1     A wonderful little production. <br /><br />The...  positive\n",
       "2     I thought this was a wonderful way to spend ti...  positive\n",
       "3     Basically there's a family where a little boy ...  negative\n",
       "4     Petter Mattei's \"Love in the Time of Money\" is...  positive\n",
       "...                                                 ...       ...\n",
       "9995  Fun, entertaining movie about WWII German spy ...  positive\n",
       "9996  Give me a break. How can anyone say that this ...  negative\n",
       "9997  This movie is a bad movie. But after watching ...  negative\n",
       "9998  This is a movie that was probably made to ente...  negative\n",
       "9999  Smashing film about film-making. Shows the int...  positive\n",
       "\n",
       "[10000 rows x 2 columns]"
      ]
     },
     "execution_count": 31,
     "metadata": {},
     "output_type": "execute_result"
    }
   ],
   "source": [
    "df"
   ]
  },
  {
   "cell_type": "code",
   "execution_count": 32,
   "id": "613132fb",
   "metadata": {},
   "outputs": [
    {
     "data": {
      "text/plain": [
       "(10000, 2)"
      ]
     },
     "execution_count": 32,
     "metadata": {},
     "output_type": "execute_result"
    }
   ],
   "source": [
    "df.shape"
   ]
  },
  {
   "cell_type": "code",
   "execution_count": 33,
   "id": "e51c3290",
   "metadata": {},
   "outputs": [
    {
     "data": {
      "text/plain": [
       "'A wonderful little production. <br /><br />The filming technique is very unassuming- very old-time-BBC fashion and gives a comforting, and sometimes discomforting, sense of realism to the entire piece. <br /><br />The actors are extremely well chosen- Michael Sheen not only \"has got all the polari\" but he has all the voices down pat too! You can truly see the seamless editing guided by the references to Williams\\' diary entries, not only is it well worth the watching but it is a terrificly written and performed piece. A masterful production about one of the great master\\'s of comedy and his life. <br /><br />The realism really comes home with the little things: the fantasy of the guard which, rather than use the traditional \\'dream\\' techniques remains solid then disappears. It plays on our knowledge and our senses, particularly with the scenes concerning Orton and Halliwell and the sets (particularly of their flat with Halliwell\\'s murals decorating every surface) are terribly well done.'"
      ]
     },
     "execution_count": 33,
     "metadata": {},
     "output_type": "execute_result"
    }
   ],
   "source": [
    "df['review'][1]\n"
   ]
  },
  {
   "cell_type": "code",
   "execution_count": 34,
   "id": "213f8ece",
   "metadata": {},
   "outputs": [
    {
     "data": {
      "text/plain": [
       "positive    5028\n",
       "negative    4972\n",
       "Name: sentiment, dtype: int64"
      ]
     },
     "execution_count": 34,
     "metadata": {},
     "output_type": "execute_result"
    }
   ],
   "source": [
    "df['sentiment'].value_counts()\n"
   ]
  },
  {
   "cell_type": "code",
   "execution_count": 35,
   "id": "40c9ca13",
   "metadata": {},
   "outputs": [
    {
     "data": {
      "text/plain": [
       "review       0\n",
       "sentiment    0\n",
       "dtype: int64"
      ]
     },
     "execution_count": 35,
     "metadata": {},
     "output_type": "execute_result"
    }
   ],
   "source": [
    "df.isnull().sum()\n"
   ]
  },
  {
   "cell_type": "code",
   "execution_count": 36,
   "id": "2fe45225",
   "metadata": {},
   "outputs": [
    {
     "data": {
      "text/plain": [
       "17"
      ]
     },
     "execution_count": 36,
     "metadata": {},
     "output_type": "execute_result"
    }
   ],
   "source": [
    "df.duplicated().sum()\n"
   ]
  },
  {
   "cell_type": "code",
   "execution_count": 37,
   "id": "5d07b73b",
   "metadata": {},
   "outputs": [
    {
     "name": "stderr",
     "output_type": "stream",
     "text": [
      "2023-04-10 14:51:49,737 [9315] WARNING  py.warnings:109: [JupyterRequire] /tmp/ipykernel_9315/3617111529.py:1: SettingWithCopyWarning: \n",
      "A value is trying to be set on a copy of a slice from a DataFrame\n",
      "\n",
      "See the caveats in the documentation: https://pandas.pydata.org/pandas-docs/stable/user_guide/indexing.html#returning-a-view-versus-a-copy\n",
      "  df.drop_duplicates(inplace=True)\n",
      "\n"
     ]
    }
   ],
   "source": [
    "df.drop_duplicates(inplace=True)\n"
   ]
  },
  {
   "cell_type": "code",
   "execution_count": 38,
   "id": "7e69e0c5",
   "metadata": {},
   "outputs": [
    {
     "data": {
      "text/plain": [
       "0"
      ]
     },
     "execution_count": 38,
     "metadata": {},
     "output_type": "execute_result"
    }
   ],
   "source": [
    "df.duplicated().sum()\n"
   ]
  },
  {
   "cell_type": "code",
   "execution_count": 39,
   "id": "cf873f6e",
   "metadata": {},
   "outputs": [],
   "source": [
    "# Basic Preprocessing\n",
    "# Remove tags\n",
    "# lowercase\n",
    "# remove stopwords"
   ]
  },
  {
   "cell_type": "code",
   "execution_count": 40,
   "id": "d8302274",
   "metadata": {},
   "outputs": [],
   "source": [
    "import re\n",
    "def remove_tags(raw_text):\n",
    "    cleaned_text = re.sub(re.compile('<.*?>'), '', raw_text)\n",
    "    return cleaned_text"
   ]
  },
  {
   "cell_type": "code",
   "execution_count": 41,
   "id": "3e282700",
   "metadata": {},
   "outputs": [
    {
     "name": "stderr",
     "output_type": "stream",
     "text": [
      "2023-04-10 14:51:51,911 [9315] WARNING  py.warnings:109: [JupyterRequire] /tmp/ipykernel_9315/1164145055.py:1: SettingWithCopyWarning: \n",
      "A value is trying to be set on a copy of a slice from a DataFrame.\n",
      "Try using .loc[row_indexer,col_indexer] = value instead\n",
      "\n",
      "See the caveats in the documentation: https://pandas.pydata.org/pandas-docs/stable/user_guide/indexing.html#returning-a-view-versus-a-copy\n",
      "  df['review'] = df['review'].apply(remove_tags)\n",
      "\n"
     ]
    }
   ],
   "source": [
    "df['review'] = df['review'].apply(remove_tags)\n"
   ]
  },
  {
   "cell_type": "code",
   "execution_count": 42,
   "id": "5a686582",
   "metadata": {},
   "outputs": [
    {
     "data": {
      "text/html": [
       "<div><div id=0056efc4-3f0f-44c8-a292-1d136d0e023f style=\"display:none; background-color:#9D6CFF; color:white; width:200px; height:30px; padding-left:5px; border-radius:4px; flex-direction:row; justify-content:space-around; align-items:center;\" onmouseover=\"this.style.backgroundColor='#BA9BF8'\" onmouseout=\"this.style.backgroundColor='#9D6CFF'\" onclick=\"window.commands?.execute('create-mitosheet-from-dataframe-output');\">See Full Dataframe in Mito</div> <script> if (window.commands?.hasCommand('create-mitosheet-from-dataframe-output')) document.getElementById('0056efc4-3f0f-44c8-a292-1d136d0e023f').style.display = 'flex' </script> <table border=\"1\" class=\"dataframe\">\n",
       "  <thead>\n",
       "    <tr style=\"text-align: right;\">\n",
       "      <th></th>\n",
       "      <th>review</th>\n",
       "      <th>sentiment</th>\n",
       "    </tr>\n",
       "  </thead>\n",
       "  <tbody>\n",
       "    <tr>\n",
       "      <th>0</th>\n",
       "      <td>One of the other reviewers has mentioned that after watching just 1 Oz episode you'll be hooked. They are right, as this is exactly what happened with me.The first thing that struck me about Oz was its brutality and unflinching scenes of violence, which set in right from the word GO. Trust me, this is not a show for the faint hearted or timid. This show pulls no punches with regards to drugs, sex or violence. Its is hardcore, in the classic use of the word.It is called OZ as that is the nickname given to the Oswald Maximum Security State Penitentary. It focuses mainly on Emerald City, an experimental section of the prison where all the cells have glass fronts and face inwards, so privacy is not high on the agenda. Em City is home to many..Aryans, Muslims, gangstas, Latinos, Christians, Italians, Irish and more....so scuffles, death stares, dodgy dealings and shady agreements are never far away.I would say the main appeal of the show is due to the fact that it goes where other shows wouldn't dare. Forget pretty pictures painted for mainstream audiences, forget charm, forget romance...OZ doesn't mess around. The first episode I ever saw struck me as so nasty it was surreal, I couldn't say I was ready for it, but as I watched more, I developed a taste for Oz, and got accustomed to the high levels of graphic violence. Not just violence, but injustice (crooked guards who'll be sold out for a nickel, inmates who'll kill on order and get away with it, well mannered, middle class inmates being turned into prison bitches due to their lack of street skills or prison experience) Watching Oz, you may become comfortable with what is uncomfortable viewing....thats if you can get in touch with your darker side.</td>\n",
       "      <td>positive</td>\n",
       "    </tr>\n",
       "    <tr>\n",
       "      <th>1</th>\n",
       "      <td>A wonderful little production. The filming technique is very unassuming- very old-time-BBC fashion and gives a comforting, and sometimes discomforting, sense of realism to the entire piece. The actors are extremely well chosen- Michael Sheen not only \"has got all the polari\" but he has all the voices down pat too! You can truly see the seamless editing guided by the references to Williams' diary entries, not only is it well worth the watching but it is a terrificly written and performed piece. A masterful production about one of the great master's of comedy and his life. The realism really comes home with the little things: the fantasy of the guard which, rather than use the traditional 'dream' techniques remains solid then disappears. It plays on our knowledge and our senses, particularly with the scenes concerning Orton and Halliwell and the sets (particularly of their flat with Halliwell's murals decorating every surface) are terribly well done.</td>\n",
       "      <td>positive</td>\n",
       "    </tr>\n",
       "    <tr>\n",
       "      <th>2</th>\n",
       "      <td>I thought this was a wonderful way to spend time on a too hot summer weekend, sitting in the air conditioned theater and watching a light-hearted comedy. The plot is simplistic, but the dialogue is witty and the characters are likable (even the well bread suspected serial killer). While some may be disappointed when they realize this is not Match Point 2: Risk Addiction, I thought it was proof that Woody Allen is still fully in control of the style many of us have grown to love.This was the most I'd laughed at one of Woody's comedies in years (dare I say a decade?). While I've never been impressed with Scarlet Johanson, in this she managed to tone down her \"sexy\" image and jumped right into a average, but spirited young woman.This may not be the crown jewel of his career, but it was wittier than \"Devil Wears Prada\" and more interesting than \"Superman\" a great comedy to go see with friends.</td>\n",
       "      <td>positive</td>\n",
       "    </tr>\n",
       "    <tr>\n",
       "      <th>3</th>\n",
       "      <td>Basically there's a family where a little boy (Jake) thinks there's a zombie in his closet &amp; his parents are fighting all the time.This movie is slower than a soap opera... and suddenly, Jake decides to become Rambo and kill the zombie.OK, first of all when you're going to make a film you must Decide if its a thriller or a drama! As a drama the movie is watchable. Parents are divorcing &amp; arguing like in real life. And then we have Jake with his closet which totally ruins all the film! I expected to see a BOOGEYMAN similar movie, and instead i watched a drama with some meaningless thriller spots.3 out of 10 just for the well playing parents &amp; descent dialogs. As for the shots with Jake: just ignore them.</td>\n",
       "      <td>negative</td>\n",
       "    </tr>\n",
       "    <tr>\n",
       "      <th>4</th>\n",
       "      <td>Petter Mattei's \"Love in the Time of Money\" is a visually stunning film to watch. Mr. Mattei offers us a vivid portrait about human relations. This is a movie that seems to be telling us what money, power and success do to people in the different situations we encounter. This being a variation on the Arthur Schnitzler's play about the same theme, the director transfers the action to the present time New York where all these different characters meet and connect. Each one is connected in one way, or another to the next person, but no one seems to know the previous point of contact. Stylishly, the film has a sophisticated luxurious look. We are taken to see how these people live and the world they live in their own habitat.The only thing one gets out of all these souls in the picture is the different stages of loneliness each one inhabits. A big city is not exactly the best place in which human relations find sincere fulfillment, as one discerns is the case with most of the people we encounter.The acting is good under Mr. Mattei's direction. Steve Buscemi, Rosario Dawson, Carol Kane, Michael Imperioli, Adrian Grenier, and the rest of the talented cast, make these characters come alive.We wish Mr. Mattei good luck and await anxiously for his next work.</td>\n",
       "      <td>positive</td>\n",
       "    </tr>\n",
       "    <tr>\n",
       "      <th>...</th>\n",
       "      <td>...</td>\n",
       "      <td>...</td>\n",
       "    </tr>\n",
       "    <tr>\n",
       "      <th>9995</th>\n",
       "      <td>Fun, entertaining movie about WWII German spy (Julie Andrews!) falling in love with American pilot (Rock Hudson), while trying to get secrets from him. For some reason this was attacked by critics and shunned by the public in 1970--I can't see why. It's beautifully shot, has wonderful costumes and interiors, and exciting aerial dogfights. Also it has Andrews doing a strip-tease (strictly PG material) and singing a beautiful song--\"Whistling in the Dark\". The movie does have problems. Andrews and Hudson did not get along during the shooting of this--and it shows. Their love scenes lack spark and they have zero sexual chemistry. Still, they turn in OK performances. The film is a little long (even in the 105 min director's cut I saw) and gets way too dark and serious at the end. Still, worth catching. Try seeing the directors cut...the other one runs half an hour longer!</td>\n",
       "      <td>positive</td>\n",
       "    </tr>\n",
       "    <tr>\n",
       "      <th>9996</th>\n",
       "      <td>Give me a break. How can anyone say that this is a \"good hockey movie\"? I know that movies tend to do a pretty p***-poor job of portraying hockey to the general public. And yes, this was made back when the U.S. hadn't embraced our sport to the extent is has today, but really. I have played hockey all my life and have watched even more, and this my friends is sheer lunacy. The scenes on the ice were stupefyingly bizzare... the particular instance to which I am referring is the \"sword fight\", er I mean the \"stick fight\" at the end of the film... during which everyone is just standing around and watching, not with fascination that this is actually happening, but in wonder as to who will win the duel between Youngblood and his nemesis Rakkie. Yes the story off the ice is a little better, I do stress LITTLE.I don't know, maybe there is no point in going on... I mean let's face it: the film is right. Hockey is just one big battle on ice... oh yeah with a little piece of vulcanized rubber bouncing around- occasionally into what is loosely termed a \"goal\". Youngblood is either appalling or hysterical, I can't figure out which... maybe someone else will have more luck.</td>\n",
       "      <td>negative</td>\n",
       "    </tr>\n",
       "    <tr>\n",
       "      <th>9997</th>\n",
       "      <td>This movie is a bad movie. But after watching an endless series of bad horror movies, I can say that it is a little different from many I have seen. Not in the plot, which is a fairly regular slasher story, but more the way the scenes are cut. Murder Weapon gives us a lot of inane dialogue scenes, but they go on for a lot longer than in most movies of this type. Because of this some of the victims seem slightly less like cardboard cut-outs. Just slightly. I had a difficult time figuring out exactly what was happening at the beginning and kept wondering if certain events were dream sequences. My favorite scene is when two guys are on the run from the killer and take refuge in a car. In the glove compartment, they find a handgun. \"Thank you, God!\" one of them happily exclaims. That guy's head suddenly looks like a mannequin's head, and it went on for just enough time for me to wonder, \"What is that? Where is that mannequin in relation to the two guys in the car?\" Then BOOM! The head explodes and I figured out that it was supposed to be one of the guys in the car getting his head shot off with a shotgun. I love that scene, but the movie is a very bad movie. 3/10.</td>\n",
       "      <td>negative</td>\n",
       "    </tr>\n",
       "    <tr>\n",
       "      <th>9998</th>\n",
       "      <td>This is a movie that was probably made to entertain the middle school, early high school age kids. Maybe to them it's funny, they may possibly even see something scary in it. To me, the acting is poor, and plot is poor, there's just not much value at all for the adult viewer. I saw this film as weak and boring. At times there was the possibility that the movie could become interesting but it never really materialized. The creatures look pretty good but after seeing them for a few seconds, they don't seem to have any substance other than the look. At times I wasn't sure if the movie was trying to make another attempt at comedy or was it just another attempt at horror that failed again. This movie just wasn't good for me.</td>\n",
       "      <td>negative</td>\n",
       "    </tr>\n",
       "    <tr>\n",
       "      <th>9999</th>\n",
       "      <td>Smashing film about film-making. Shows the intense and strange relationships that can develop between directors &amp; their actors; the manipulation and mind games; the preening egotism of performers. As in any workplace, sexuality complicates matters, but here to the nth degree as they are filming a sex scene.Absolutely fantastic performances from Gregoire Colin as the fragile, wannabe macho male lead, and - supremely - Anne Parillaud as the director's self-portrait. The image of her laughing &amp; eating a banana at the end, having finally got what she wants out of her puppets, is pure delight.</td>\n",
       "      <td>positive</td>\n",
       "    </tr>\n",
       "  </tbody>\n",
       "</table></div>"
      ],
      "text/plain": [
       "                                                 review sentiment\n",
       "0     One of the other reviewers has mentioned that ...  positive\n",
       "1     A wonderful little production. The filming tec...  positive\n",
       "2     I thought this was a wonderful way to spend ti...  positive\n",
       "3     Basically there's a family where a little boy ...  negative\n",
       "4     Petter Mattei's \"Love in the Time of Money\" is...  positive\n",
       "...                                                 ...       ...\n",
       "9995  Fun, entertaining movie about WWII German spy ...  positive\n",
       "9996  Give me a break. How can anyone say that this ...  negative\n",
       "9997  This movie is a bad movie. But after watching ...  negative\n",
       "9998  This is a movie that was probably made to ente...  negative\n",
       "9999  Smashing film about film-making. Shows the int...  positive\n",
       "\n",
       "[9983 rows x 2 columns]"
      ]
     },
     "execution_count": 42,
     "metadata": {},
     "output_type": "execute_result"
    }
   ],
   "source": [
    "df\n"
   ]
  },
  {
   "cell_type": "code",
   "execution_count": 43,
   "id": "4a04aa9c",
   "metadata": {},
   "outputs": [
    {
     "name": "stderr",
     "output_type": "stream",
     "text": [
      "2023-04-10 14:51:52,818 [9315] WARNING  py.warnings:109: [JupyterRequire] /tmp/ipykernel_9315/3523187300.py:1: SettingWithCopyWarning: \n",
      "A value is trying to be set on a copy of a slice from a DataFrame.\n",
      "Try using .loc[row_indexer,col_indexer] = value instead\n",
      "\n",
      "See the caveats in the documentation: https://pandas.pydata.org/pandas-docs/stable/user_guide/indexing.html#returning-a-view-versus-a-copy\n",
      "  df['review'] = df['review'].apply(lambda x:x.lower())\n",
      "\n"
     ]
    }
   ],
   "source": [
    "df['review'] = df['review'].apply(lambda x:x.lower())\n"
   ]
  },
  {
   "cell_type": "code",
   "execution_count": 44,
   "id": "03bd4f64",
   "metadata": {},
   "outputs": [
    {
     "name": "stderr",
     "output_type": "stream",
     "text": [
      "2023-04-10 14:51:56,171 [9315] WARNING  py.warnings:109: [JupyterRequire] /tmp/ipykernel_9315/2826946130.py:5: SettingWithCopyWarning: \n",
      "A value is trying to be set on a copy of a slice from a DataFrame.\n",
      "Try using .loc[row_indexer,col_indexer] = value instead\n",
      "\n",
      "See the caveats in the documentation: https://pandas.pydata.org/pandas-docs/stable/user_guide/indexing.html#returning-a-view-versus-a-copy\n",
      "  df['review'] = df['review'].apply(lambda x: [item for item in x.split() if item not in sw_list]).apply(lambda x:\" \".join(x))\n",
      "\n"
     ]
    }
   ],
   "source": [
    "from nltk.corpus import stopwords\n",
    "\n",
    "sw_list = stopwords.words('english')\n",
    "\n",
    "df['review'] = df['review'].apply(lambda x: [item for item in x.split() if item not in sw_list]).apply(lambda x:\" \".join(x))"
   ]
  },
  {
   "cell_type": "code",
   "execution_count": 45,
   "id": "ab58940a",
   "metadata": {},
   "outputs": [
    {
     "data": {
      "text/html": [
       "<div><div id=9fa772f3-d5b1-4eca-86f5-32ec25424b71 style=\"display:none; background-color:#9D6CFF; color:white; width:200px; height:30px; padding-left:5px; border-radius:4px; flex-direction:row; justify-content:space-around; align-items:center;\" onmouseover=\"this.style.backgroundColor='#BA9BF8'\" onmouseout=\"this.style.backgroundColor='#9D6CFF'\" onclick=\"window.commands?.execute('create-mitosheet-from-dataframe-output');\">See Full Dataframe in Mito</div> <script> if (window.commands?.hasCommand('create-mitosheet-from-dataframe-output')) document.getElementById('9fa772f3-d5b1-4eca-86f5-32ec25424b71').style.display = 'flex' </script> <table border=\"1\" class=\"dataframe\">\n",
       "  <thead>\n",
       "    <tr style=\"text-align: right;\">\n",
       "      <th></th>\n",
       "      <th>review</th>\n",
       "      <th>sentiment</th>\n",
       "    </tr>\n",
       "  </thead>\n",
       "  <tbody>\n",
       "    <tr>\n",
       "      <th>0</th>\n",
       "      <td>one reviewers mentioned watching 1 oz episode hooked. right, exactly happened me.the first thing struck oz brutality unflinching scenes violence, set right word go. trust me, show faint hearted timid. show pulls punches regards drugs, sex violence. hardcore, classic use word.it called oz nickname given oswald maximum security state penitentary. focuses mainly emerald city, experimental section prison cells glass fronts face inwards, privacy high agenda. em city home many..aryans, muslims, gangstas, latinos, christians, italians, irish more....so scuffles, death stares, dodgy dealings shady agreements never far away.i would say main appeal show due fact goes shows dare. forget pretty pictures painted mainstream audiences, forget charm, forget romance...oz mess around. first episode ever saw struck nasty surreal, say ready it, watched more, developed taste oz, got accustomed high levels graphic violence. violence, injustice (crooked guards who'll sold nickel, inmates who'll kill order get away it, well mannered, middle class inmates turned prison bitches due lack street skills prison experience) watching oz, may become comfortable uncomfortable viewing....thats get touch darker side.</td>\n",
       "      <td>positive</td>\n",
       "    </tr>\n",
       "    <tr>\n",
       "      <th>1</th>\n",
       "      <td>wonderful little production. filming technique unassuming- old-time-bbc fashion gives comforting, sometimes discomforting, sense realism entire piece. actors extremely well chosen- michael sheen \"has got polari\" voices pat too! truly see seamless editing guided references williams' diary entries, well worth watching terrificly written performed piece. masterful production one great master's comedy life. realism really comes home little things: fantasy guard which, rather use traditional 'dream' techniques remains solid disappears. plays knowledge senses, particularly scenes concerning orton halliwell sets (particularly flat halliwell's murals decorating every surface) terribly well done.</td>\n",
       "      <td>positive</td>\n",
       "    </tr>\n",
       "    <tr>\n",
       "      <th>2</th>\n",
       "      <td>thought wonderful way spend time hot summer weekend, sitting air conditioned theater watching light-hearted comedy. plot simplistic, dialogue witty characters likable (even well bread suspected serial killer). may disappointed realize match point 2: risk addiction, thought proof woody allen still fully control style many us grown love.this i'd laughed one woody's comedies years (dare say decade?). i've never impressed scarlet johanson, managed tone \"sexy\" image jumped right average, spirited young woman.this may crown jewel career, wittier \"devil wears prada\" interesting \"superman\" great comedy go see friends.</td>\n",
       "      <td>positive</td>\n",
       "    </tr>\n",
       "    <tr>\n",
       "      <th>3</th>\n",
       "      <td>basically there's family little boy (jake) thinks there's zombie closet &amp; parents fighting time.this movie slower soap opera... suddenly, jake decides become rambo kill zombie.ok, first going make film must decide thriller drama! drama movie watchable. parents divorcing &amp; arguing like real life. jake closet totally ruins film! expected see boogeyman similar movie, instead watched drama meaningless thriller spots.3 10 well playing parents &amp; descent dialogs. shots jake: ignore them.</td>\n",
       "      <td>negative</td>\n",
       "    </tr>\n",
       "    <tr>\n",
       "      <th>4</th>\n",
       "      <td>petter mattei's \"love time money\" visually stunning film watch. mr. mattei offers us vivid portrait human relations. movie seems telling us money, power success people different situations encounter. variation arthur schnitzler's play theme, director transfers action present time new york different characters meet connect. one connected one way, another next person, one seems know previous point contact. stylishly, film sophisticated luxurious look. taken see people live world live habitat.the thing one gets souls picture different stages loneliness one inhabits. big city exactly best place human relations find sincere fulfillment, one discerns case people encounter.the acting good mr. mattei's direction. steve buscemi, rosario dawson, carol kane, michael imperioli, adrian grenier, rest talented cast, make characters come alive.we wish mr. mattei good luck await anxiously next work.</td>\n",
       "      <td>positive</td>\n",
       "    </tr>\n",
       "    <tr>\n",
       "      <th>...</th>\n",
       "      <td>...</td>\n",
       "      <td>...</td>\n",
       "    </tr>\n",
       "    <tr>\n",
       "      <th>9995</th>\n",
       "      <td>fun, entertaining movie wwii german spy (julie andrews!) falling love american pilot (rock hudson), trying get secrets him. reason attacked critics shunned public 1970--i can't see why. beautifully shot, wonderful costumes interiors, exciting aerial dogfights. also andrews strip-tease (strictly pg material) singing beautiful song--\"whistling dark\". movie problems. andrews hudson get along shooting this--and shows. love scenes lack spark zero sexual chemistry. still, turn ok performances. film little long (even 105 min director's cut saw) gets way dark serious end. still, worth catching. try seeing directors cut...the one runs half hour longer!</td>\n",
       "      <td>positive</td>\n",
       "    </tr>\n",
       "    <tr>\n",
       "      <th>9996</th>\n",
       "      <td>give break. anyone say \"good hockey movie\"? know movies tend pretty p***-poor job portraying hockey general public. yes, made back u.s. embraced sport extent today, really. played hockey life watched even more, friends sheer lunacy. scenes ice stupefyingly bizzare... particular instance referring \"sword fight\", er mean \"stick fight\" end film... everyone standing around watching, fascination actually happening, wonder win duel youngblood nemesis rakkie. yes story ice little better, stress little.i know, maybe point going on... mean let's face it: film right. hockey one big battle ice... oh yeah little piece vulcanized rubber bouncing around- occasionally loosely termed \"goal\". youngblood either appalling hysterical, can't figure which... maybe someone else luck.</td>\n",
       "      <td>negative</td>\n",
       "    </tr>\n",
       "    <tr>\n",
       "      <th>9997</th>\n",
       "      <td>movie bad movie. watching endless series bad horror movies, say little different many seen. plot, fairly regular slasher story, way scenes cut. murder weapon gives us lot inane dialogue scenes, go lot longer movies type. victims seem slightly less like cardboard cut-outs. slightly. difficult time figuring exactly happening beginning kept wondering certain events dream sequences. favorite scene two guys run killer take refuge car. glove compartment, find handgun. \"thank you, god!\" one happily exclaims. guy's head suddenly looks like mannequin's head, went enough time wonder, \"what that? mannequin relation two guys car?\" boom! head explodes figured supposed one guys car getting head shot shotgun. love scene, movie bad movie. 3/10.</td>\n",
       "      <td>negative</td>\n",
       "    </tr>\n",
       "    <tr>\n",
       "      <th>9998</th>\n",
       "      <td>movie probably made entertain middle school, early high school age kids. maybe funny, may possibly even see something scary it. me, acting poor, plot poor, there's much value adult viewer. saw film weak boring. times possibility movie could become interesting never really materialized. creatures look pretty good seeing seconds, seem substance look. times sure movie trying make another attempt comedy another attempt horror failed again. movie good me.</td>\n",
       "      <td>negative</td>\n",
       "    </tr>\n",
       "    <tr>\n",
       "      <th>9999</th>\n",
       "      <td>smashing film film-making. shows intense strange relationships develop directors &amp; actors; manipulation mind games; preening egotism performers. workplace, sexuality complicates matters, nth degree filming sex scene.absolutely fantastic performances gregoire colin fragile, wannabe macho male lead, - supremely - anne parillaud director's self-portrait. image laughing &amp; eating banana end, finally got wants puppets, pure delight.</td>\n",
       "      <td>positive</td>\n",
       "    </tr>\n",
       "  </tbody>\n",
       "</table></div>"
      ],
      "text/plain": [
       "                                                 review sentiment\n",
       "0     one reviewers mentioned watching 1 oz episode ...  positive\n",
       "1     wonderful little production. filming technique...  positive\n",
       "2     thought wonderful way spend time hot summer we...  positive\n",
       "3     basically there's family little boy (jake) thi...  negative\n",
       "4     petter mattei's \"love time money\" visually stu...  positive\n",
       "...                                                 ...       ...\n",
       "9995  fun, entertaining movie wwii german spy (julie...  positive\n",
       "9996  give break. anyone say \"good hockey movie\"? kn...  negative\n",
       "9997  movie bad movie. watching endless series bad h...  negative\n",
       "9998  movie probably made entertain middle school, e...  negative\n",
       "9999  smashing film film-making. shows intense stran...  positive\n",
       "\n",
       "[9983 rows x 2 columns]"
      ]
     },
     "execution_count": 45,
     "metadata": {},
     "output_type": "execute_result"
    }
   ],
   "source": [
    "df\n"
   ]
  },
  {
   "cell_type": "code",
   "execution_count": 46,
   "id": "b1b44cae",
   "metadata": {},
   "outputs": [],
   "source": [
    "X = df.iloc[:,0:1]\n",
    "y = df['sentiment']"
   ]
  },
  {
   "cell_type": "code",
   "execution_count": 47,
   "id": "73c2289e",
   "metadata": {},
   "outputs": [
    {
     "data": {
      "text/html": [
       "<div><div id=2384a58d-7253-4f9b-b65b-465bbb894723 style=\"display:none; background-color:#9D6CFF; color:white; width:200px; height:30px; padding-left:5px; border-radius:4px; flex-direction:row; justify-content:space-around; align-items:center;\" onmouseover=\"this.style.backgroundColor='#BA9BF8'\" onmouseout=\"this.style.backgroundColor='#9D6CFF'\" onclick=\"window.commands?.execute('create-mitosheet-from-dataframe-output');\">See Full Dataframe in Mito</div> <script> if (window.commands?.hasCommand('create-mitosheet-from-dataframe-output')) document.getElementById('2384a58d-7253-4f9b-b65b-465bbb894723').style.display = 'flex' </script> <table border=\"1\" class=\"dataframe\">\n",
       "  <thead>\n",
       "    <tr style=\"text-align: right;\">\n",
       "      <th></th>\n",
       "      <th>review</th>\n",
       "    </tr>\n",
       "  </thead>\n",
       "  <tbody>\n",
       "    <tr>\n",
       "      <th>0</th>\n",
       "      <td>one reviewers mentioned watching 1 oz episode hooked. right, exactly happened me.the first thing struck oz brutality unflinching scenes violence, set right word go. trust me, show faint hearted timid. show pulls punches regards drugs, sex violence. hardcore, classic use word.it called oz nickname given oswald maximum security state penitentary. focuses mainly emerald city, experimental section prison cells glass fronts face inwards, privacy high agenda. em city home many..aryans, muslims, gangstas, latinos, christians, italians, irish more....so scuffles, death stares, dodgy dealings shady agreements never far away.i would say main appeal show due fact goes shows dare. forget pretty pictures painted mainstream audiences, forget charm, forget romance...oz mess around. first episode ever saw struck nasty surreal, say ready it, watched more, developed taste oz, got accustomed high levels graphic violence. violence, injustice (crooked guards who'll sold nickel, inmates who'll kill order get away it, well mannered, middle class inmates turned prison bitches due lack street skills prison experience) watching oz, may become comfortable uncomfortable viewing....thats get touch darker side.</td>\n",
       "    </tr>\n",
       "    <tr>\n",
       "      <th>1</th>\n",
       "      <td>wonderful little production. filming technique unassuming- old-time-bbc fashion gives comforting, sometimes discomforting, sense realism entire piece. actors extremely well chosen- michael sheen \"has got polari\" voices pat too! truly see seamless editing guided references williams' diary entries, well worth watching terrificly written performed piece. masterful production one great master's comedy life. realism really comes home little things: fantasy guard which, rather use traditional 'dream' techniques remains solid disappears. plays knowledge senses, particularly scenes concerning orton halliwell sets (particularly flat halliwell's murals decorating every surface) terribly well done.</td>\n",
       "    </tr>\n",
       "    <tr>\n",
       "      <th>2</th>\n",
       "      <td>thought wonderful way spend time hot summer weekend, sitting air conditioned theater watching light-hearted comedy. plot simplistic, dialogue witty characters likable (even well bread suspected serial killer). may disappointed realize match point 2: risk addiction, thought proof woody allen still fully control style many us grown love.this i'd laughed one woody's comedies years (dare say decade?). i've never impressed scarlet johanson, managed tone \"sexy\" image jumped right average, spirited young woman.this may crown jewel career, wittier \"devil wears prada\" interesting \"superman\" great comedy go see friends.</td>\n",
       "    </tr>\n",
       "    <tr>\n",
       "      <th>3</th>\n",
       "      <td>basically there's family little boy (jake) thinks there's zombie closet &amp; parents fighting time.this movie slower soap opera... suddenly, jake decides become rambo kill zombie.ok, first going make film must decide thriller drama! drama movie watchable. parents divorcing &amp; arguing like real life. jake closet totally ruins film! expected see boogeyman similar movie, instead watched drama meaningless thriller spots.3 10 well playing parents &amp; descent dialogs. shots jake: ignore them.</td>\n",
       "    </tr>\n",
       "    <tr>\n",
       "      <th>4</th>\n",
       "      <td>petter mattei's \"love time money\" visually stunning film watch. mr. mattei offers us vivid portrait human relations. movie seems telling us money, power success people different situations encounter. variation arthur schnitzler's play theme, director transfers action present time new york different characters meet connect. one connected one way, another next person, one seems know previous point contact. stylishly, film sophisticated luxurious look. taken see people live world live habitat.the thing one gets souls picture different stages loneliness one inhabits. big city exactly best place human relations find sincere fulfillment, one discerns case people encounter.the acting good mr. mattei's direction. steve buscemi, rosario dawson, carol kane, michael imperioli, adrian grenier, rest talented cast, make characters come alive.we wish mr. mattei good luck await anxiously next work.</td>\n",
       "    </tr>\n",
       "    <tr>\n",
       "      <th>...</th>\n",
       "      <td>...</td>\n",
       "    </tr>\n",
       "    <tr>\n",
       "      <th>9995</th>\n",
       "      <td>fun, entertaining movie wwii german spy (julie andrews!) falling love american pilot (rock hudson), trying get secrets him. reason attacked critics shunned public 1970--i can't see why. beautifully shot, wonderful costumes interiors, exciting aerial dogfights. also andrews strip-tease (strictly pg material) singing beautiful song--\"whistling dark\". movie problems. andrews hudson get along shooting this--and shows. love scenes lack spark zero sexual chemistry. still, turn ok performances. film little long (even 105 min director's cut saw) gets way dark serious end. still, worth catching. try seeing directors cut...the one runs half hour longer!</td>\n",
       "    </tr>\n",
       "    <tr>\n",
       "      <th>9996</th>\n",
       "      <td>give break. anyone say \"good hockey movie\"? know movies tend pretty p***-poor job portraying hockey general public. yes, made back u.s. embraced sport extent today, really. played hockey life watched even more, friends sheer lunacy. scenes ice stupefyingly bizzare... particular instance referring \"sword fight\", er mean \"stick fight\" end film... everyone standing around watching, fascination actually happening, wonder win duel youngblood nemesis rakkie. yes story ice little better, stress little.i know, maybe point going on... mean let's face it: film right. hockey one big battle ice... oh yeah little piece vulcanized rubber bouncing around- occasionally loosely termed \"goal\". youngblood either appalling hysterical, can't figure which... maybe someone else luck.</td>\n",
       "    </tr>\n",
       "    <tr>\n",
       "      <th>9997</th>\n",
       "      <td>movie bad movie. watching endless series bad horror movies, say little different many seen. plot, fairly regular slasher story, way scenes cut. murder weapon gives us lot inane dialogue scenes, go lot longer movies type. victims seem slightly less like cardboard cut-outs. slightly. difficult time figuring exactly happening beginning kept wondering certain events dream sequences. favorite scene two guys run killer take refuge car. glove compartment, find handgun. \"thank you, god!\" one happily exclaims. guy's head suddenly looks like mannequin's head, went enough time wonder, \"what that? mannequin relation two guys car?\" boom! head explodes figured supposed one guys car getting head shot shotgun. love scene, movie bad movie. 3/10.</td>\n",
       "    </tr>\n",
       "    <tr>\n",
       "      <th>9998</th>\n",
       "      <td>movie probably made entertain middle school, early high school age kids. maybe funny, may possibly even see something scary it. me, acting poor, plot poor, there's much value adult viewer. saw film weak boring. times possibility movie could become interesting never really materialized. creatures look pretty good seeing seconds, seem substance look. times sure movie trying make another attempt comedy another attempt horror failed again. movie good me.</td>\n",
       "    </tr>\n",
       "    <tr>\n",
       "      <th>9999</th>\n",
       "      <td>smashing film film-making. shows intense strange relationships develop directors &amp; actors; manipulation mind games; preening egotism performers. workplace, sexuality complicates matters, nth degree filming sex scene.absolutely fantastic performances gregoire colin fragile, wannabe macho male lead, - supremely - anne parillaud director's self-portrait. image laughing &amp; eating banana end, finally got wants puppets, pure delight.</td>\n",
       "    </tr>\n",
       "  </tbody>\n",
       "</table></div>"
      ],
      "text/plain": [
       "                                                 review\n",
       "0     one reviewers mentioned watching 1 oz episode ...\n",
       "1     wonderful little production. filming technique...\n",
       "2     thought wonderful way spend time hot summer we...\n",
       "3     basically there's family little boy (jake) thi...\n",
       "4     petter mattei's \"love time money\" visually stu...\n",
       "...                                                 ...\n",
       "9995  fun, entertaining movie wwii german spy (julie...\n",
       "9996  give break. anyone say \"good hockey movie\"? kn...\n",
       "9997  movie bad movie. watching endless series bad h...\n",
       "9998  movie probably made entertain middle school, e...\n",
       "9999  smashing film film-making. shows intense stran...\n",
       "\n",
       "[9983 rows x 1 columns]"
      ]
     },
     "execution_count": 47,
     "metadata": {},
     "output_type": "execute_result"
    }
   ],
   "source": [
    "X"
   ]
  },
  {
   "cell_type": "code",
   "execution_count": 48,
   "id": "83a21ef6",
   "metadata": {},
   "outputs": [
    {
     "data": {
      "text/plain": [
       "0       positive\n",
       "1       positive\n",
       "2       positive\n",
       "3       negative\n",
       "4       positive\n",
       "          ...   \n",
       "9995    positive\n",
       "9996    negative\n",
       "9997    negative\n",
       "9998    negative\n",
       "9999    positive\n",
       "Name: sentiment, Length: 9983, dtype: object"
      ]
     },
     "execution_count": 48,
     "metadata": {},
     "output_type": "execute_result"
    }
   ],
   "source": [
    "y"
   ]
  },
  {
   "cell_type": "code",
   "execution_count": 49,
   "id": "a972e005",
   "metadata": {},
   "outputs": [],
   "source": [
    "from sklearn.preprocessing import LabelEncoder\n",
    "\n",
    "encoder = LabelEncoder()\n",
    "\n",
    "y = encoder.fit_transform(y)"
   ]
  },
  {
   "cell_type": "code",
   "execution_count": 50,
   "id": "ccc57427",
   "metadata": {},
   "outputs": [
    {
     "data": {
      "text/plain": [
       "array([1, 1, 1, ..., 0, 0, 1])"
      ]
     },
     "execution_count": 50,
     "metadata": {},
     "output_type": "execute_result"
    }
   ],
   "source": [
    "y"
   ]
  },
  {
   "cell_type": "code",
   "execution_count": 51,
   "id": "3b424a3b",
   "metadata": {},
   "outputs": [],
   "source": [
    "from sklearn.model_selection import train_test_split\n",
    "X_train,X_test,y_train,y_test = train_test_split(X,y,test_size=0.2,random_state=1)"
   ]
  },
  {
   "cell_type": "code",
   "execution_count": 52,
   "id": "3304bd84",
   "metadata": {},
   "outputs": [
    {
     "data": {
      "text/plain": [
       "(7986, 1)"
      ]
     },
     "execution_count": 52,
     "metadata": {},
     "output_type": "execute_result"
    }
   ],
   "source": [
    "X_train.shape\n"
   ]
  },
  {
   "cell_type": "markdown",
   "id": "c30f3ad2",
   "metadata": {},
   "source": [
    "# Applying BoW\n"
   ]
  },
  {
   "cell_type": "code",
   "execution_count": 53,
   "id": "c8b02805",
   "metadata": {},
   "outputs": [],
   "source": [
    "from sklearn.feature_extraction.text import CountVectorizer"
   ]
  },
  {
   "cell_type": "code",
   "execution_count": 54,
   "id": "647dac97",
   "metadata": {},
   "outputs": [],
   "source": [
    "cv = CountVectorizer()\n"
   ]
  },
  {
   "cell_type": "code",
   "execution_count": 55,
   "id": "cff68450",
   "metadata": {},
   "outputs": [],
   "source": [
    "X_train_bow = cv.fit_transform(X_train['review']).toarray()\n",
    "X_test_bow = cv.transform(X_test['review']).toarray()"
   ]
  },
  {
   "cell_type": "code",
   "execution_count": 56,
   "id": "728b5f28",
   "metadata": {},
   "outputs": [
    {
     "data": {
      "text/plain": [
       "(7986, 48282)"
      ]
     },
     "execution_count": 56,
     "metadata": {},
     "output_type": "execute_result"
    }
   ],
   "source": [
    "X_train_bow.shape\n"
   ]
  },
  {
   "cell_type": "code",
   "execution_count": 57,
   "id": "abad15c2",
   "metadata": {},
   "outputs": [
    {
     "data": {
      "text/plain": [
       "GaussianNB()"
      ]
     },
     "execution_count": 57,
     "metadata": {},
     "output_type": "execute_result"
    }
   ],
   "source": [
    "from sklearn.naive_bayes import GaussianNB\n",
    "gnb = GaussianNB()\n",
    "\n",
    "gnb.fit(X_train_bow,y_train)"
   ]
  },
  {
   "cell_type": "code",
   "execution_count": 58,
   "id": "57872d3b",
   "metadata": {},
   "outputs": [
    {
     "data": {
      "text/plain": [
       "0.6324486730095142"
      ]
     },
     "execution_count": 58,
     "metadata": {},
     "output_type": "execute_result"
    }
   ],
   "source": [
    "y_pred = gnb.predict(X_test_bow)\n",
    "\n",
    "from sklearn.metrics import accuracy_score,confusion_matrix\n",
    "accuracy_score(y_test,y_pred)"
   ]
  },
  {
   "cell_type": "code",
   "execution_count": 59,
   "id": "4f88c51c",
   "metadata": {},
   "outputs": [
    {
     "data": {
      "text/plain": [
       "array([[717, 235],\n",
       "       [499, 546]])"
      ]
     },
     "execution_count": 59,
     "metadata": {},
     "output_type": "execute_result"
    }
   ],
   "source": [
    "confusion_matrix(y_test,y_pred)"
   ]
  },
  {
   "cell_type": "code",
   "execution_count": 60,
   "id": "f842057d",
   "metadata": {},
   "outputs": [
    {
     "data": {
      "text/plain": [
       "0.8542814221331998"
      ]
     },
     "execution_count": 60,
     "metadata": {},
     "output_type": "execute_result"
    }
   ],
   "source": [
    "from sklearn.ensemble import RandomForestClassifier\n",
    "rf = RandomForestClassifier()\n",
    "\n",
    "rf.fit(X_train_bow,y_train)\n",
    "y_pred = rf.predict(X_test_bow)\n",
    "accuracy_score(y_test,y_pred)"
   ]
  },
  {
   "cell_type": "code",
   "execution_count": 61,
   "id": "20890c07",
   "metadata": {},
   "outputs": [
    {
     "data": {
      "text/plain": [
       "0.8367551326990486"
      ]
     },
     "execution_count": 61,
     "metadata": {},
     "output_type": "execute_result"
    }
   ],
   "source": [
    "cv = CountVectorizer(max_features=3000)\n",
    "\n",
    "X_train_bow = cv.fit_transform(X_train['review']).toarray()\n",
    "X_test_bow = cv.transform(X_test['review']).toarray()\n",
    "\n",
    "rf = RandomForestClassifier()\n",
    "\n",
    "rf.fit(X_train_bow,y_train)\n",
    "y_pred = rf.predict(X_test_bow)\n",
    "accuracy_score(y_test,y_pred)"
   ]
  },
  {
   "cell_type": "code",
   "execution_count": 62,
   "id": "65ce65be",
   "metadata": {},
   "outputs": [
    {
     "data": {
      "text/plain": [
       "0.8387581372058087"
      ]
     },
     "execution_count": 62,
     "metadata": {},
     "output_type": "execute_result"
    }
   ],
   "source": [
    "cv = CountVectorizer(ngram_range=(1,2),max_features=5000)\n",
    "\n",
    "X_train_bow = cv.fit_transform(X_train['review']).toarray()\n",
    "X_test_bow = cv.transform(X_test['review']).toarray()\n",
    "\n",
    "rf = RandomForestClassifier()\n",
    "\n",
    "rf.fit(X_train_bow,y_train)\n",
    "y_pred = rf.predict(X_test_bow)\n",
    "accuracy_score(y_test,y_pred)"
   ]
  },
  {
   "cell_type": "markdown",
   "id": "b380ef7b",
   "metadata": {},
   "source": [
    "# Using TfIdf"
   ]
  },
  {
   "cell_type": "code",
   "execution_count": 63,
   "id": "23d2911d",
   "metadata": {},
   "outputs": [],
   "source": [
    "from sklearn.feature_extraction.text import TfidfVectorizer\n"
   ]
  },
  {
   "cell_type": "code",
   "execution_count": 64,
   "id": "34d4aec8",
   "metadata": {},
   "outputs": [],
   "source": [
    "tfidf = TfidfVectorizer()\n"
   ]
  },
  {
   "cell_type": "code",
   "execution_count": 65,
   "id": "39b1a6d2",
   "metadata": {},
   "outputs": [],
   "source": [
    "X_train_tfidf = tfidf.fit_transform(X_train['review']).toarray()\n",
    "X_test_tfidf = tfidf.transform(X_test['review'])"
   ]
  },
  {
   "cell_type": "code",
   "execution_count": 66,
   "id": "6e089046",
   "metadata": {},
   "outputs": [
    {
     "data": {
      "text/plain": [
       "0.8407611417125689"
      ]
     },
     "execution_count": 66,
     "metadata": {},
     "output_type": "execute_result"
    }
   ],
   "source": [
    "rf = RandomForestClassifier()\n",
    "\n",
    "rf.fit(X_train_tfidf,y_train)\n",
    "y_pred = rf.predict(X_test_tfidf)\n",
    "\n",
    "accuracy_score(y_test,y_pred)\n"
   ]
  },
  {
   "cell_type": "markdown",
   "id": "f9bb50f4",
   "metadata": {},
   "source": [
    "# Using Word2Vec"
   ]
  },
  {
   "cell_type": "code",
   "execution_count": 67,
   "id": "18c109ee",
   "metadata": {},
   "outputs": [],
   "source": [
    "import numpy as np\n",
    "import pandas as pd"
   ]
  },
  {
   "cell_type": "code",
   "execution_count": 68,
   "id": "b3e20192",
   "metadata": {},
   "outputs": [
    {
     "data": {
      "text/html": [
       "<div><div id=bcede25a-4eac-4fa4-b2eb-a5364ce16e40 style=\"display:none; background-color:#9D6CFF; color:white; width:200px; height:30px; padding-left:5px; border-radius:4px; flex-direction:row; justify-content:space-around; align-items:center;\" onmouseover=\"this.style.backgroundColor='#BA9BF8'\" onmouseout=\"this.style.backgroundColor='#9D6CFF'\" onclick=\"window.commands?.execute('create-mitosheet-from-dataframe-output');\">See Full Dataframe in Mito</div> <script> if (window.commands?.hasCommand('create-mitosheet-from-dataframe-output')) document.getElementById('bcede25a-4eac-4fa4-b2eb-a5364ce16e40').style.display = 'flex' </script> <table border=\"1\" class=\"dataframe\">\n",
       "  <thead>\n",
       "    <tr style=\"text-align: right;\">\n",
       "      <th></th>\n",
       "      <th>review</th>\n",
       "      <th>sentiment</th>\n",
       "    </tr>\n",
       "  </thead>\n",
       "  <tbody>\n",
       "    <tr>\n",
       "      <th>0</th>\n",
       "      <td>One of the other reviewers has mentioned that after watching just 1 Oz episode you'll be hooked. They are right, as this is exactly what happened with me.&lt;br /&gt;&lt;br /&gt;The first thing that struck me about Oz was its brutality and unflinching scenes of violence, which set in right from the word GO. Trust me, this is not a show for the faint hearted or timid. This show pulls no punches with regards to drugs, sex or violence. Its is hardcore, in the classic use of the word.&lt;br /&gt;&lt;br /&gt;It is called OZ as that is the nickname given to the Oswald Maximum Security State Penitentary. It focuses mainly on Emerald City, an experimental section of the prison where all the cells have glass fronts and face inwards, so privacy is not high on the agenda. Em City is home to many..Aryans, Muslims, gangstas, Latinos, Christians, Italians, Irish and more....so scuffles, death stares, dodgy dealings and shady agreements are never far away.&lt;br /&gt;&lt;br /&gt;I would say the main appeal of the show is due to the fact that it goes where other shows wouldn't dare. Forget pretty pictures painted for mainstream audiences, forget charm, forget romance...OZ doesn't mess around. The first episode I ever saw struck me as so nasty it was surreal, I couldn't say I was ready for it, but as I watched more, I developed a taste for Oz, and got accustomed to the high levels of graphic violence. Not just violence, but injustice (crooked guards who'll be sold out for a nickel, inmates who'll kill on order and get away with it, well mannered, middle class inmates being turned into prison bitches due to their lack of street skills or prison experience) Watching Oz, you may become comfortable with what is uncomfortable viewing....thats if you can get in touch with your darker side.</td>\n",
       "      <td>positive</td>\n",
       "    </tr>\n",
       "    <tr>\n",
       "      <th>1</th>\n",
       "      <td>A wonderful little production. &lt;br /&gt;&lt;br /&gt;The filming technique is very unassuming- very old-time-BBC fashion and gives a comforting, and sometimes discomforting, sense of realism to the entire piece. &lt;br /&gt;&lt;br /&gt;The actors are extremely well chosen- Michael Sheen not only \"has got all the polari\" but he has all the voices down pat too! You can truly see the seamless editing guided by the references to Williams' diary entries, not only is it well worth the watching but it is a terrificly written and performed piece. A masterful production about one of the great master's of comedy and his life. &lt;br /&gt;&lt;br /&gt;The realism really comes home with the little things: the fantasy of the guard which, rather than use the traditional 'dream' techniques remains solid then disappears. It plays on our knowledge and our senses, particularly with the scenes concerning Orton and Halliwell and the sets (particularly of their flat with Halliwell's murals decorating every surface) are terribly well done.</td>\n",
       "      <td>positive</td>\n",
       "    </tr>\n",
       "    <tr>\n",
       "      <th>2</th>\n",
       "      <td>I thought this was a wonderful way to spend time on a too hot summer weekend, sitting in the air conditioned theater and watching a light-hearted comedy. The plot is simplistic, but the dialogue is witty and the characters are likable (even the well bread suspected serial killer). While some may be disappointed when they realize this is not Match Point 2: Risk Addiction, I thought it was proof that Woody Allen is still fully in control of the style many of us have grown to love.&lt;br /&gt;&lt;br /&gt;This was the most I'd laughed at one of Woody's comedies in years (dare I say a decade?). While I've never been impressed with Scarlet Johanson, in this she managed to tone down her \"sexy\" image and jumped right into a average, but spirited young woman.&lt;br /&gt;&lt;br /&gt;This may not be the crown jewel of his career, but it was wittier than \"Devil Wears Prada\" and more interesting than \"Superman\" a great comedy to go see with friends.</td>\n",
       "      <td>positive</td>\n",
       "    </tr>\n",
       "    <tr>\n",
       "      <th>3</th>\n",
       "      <td>Basically there's a family where a little boy (Jake) thinks there's a zombie in his closet &amp; his parents are fighting all the time.&lt;br /&gt;&lt;br /&gt;This movie is slower than a soap opera... and suddenly, Jake decides to become Rambo and kill the zombie.&lt;br /&gt;&lt;br /&gt;OK, first of all when you're going to make a film you must Decide if its a thriller or a drama! As a drama the movie is watchable. Parents are divorcing &amp; arguing like in real life. And then we have Jake with his closet which totally ruins all the film! I expected to see a BOOGEYMAN similar movie, and instead i watched a drama with some meaningless thriller spots.&lt;br /&gt;&lt;br /&gt;3 out of 10 just for the well playing parents &amp; descent dialogs. As for the shots with Jake: just ignore them.</td>\n",
       "      <td>negative</td>\n",
       "    </tr>\n",
       "    <tr>\n",
       "      <th>4</th>\n",
       "      <td>Petter Mattei's \"Love in the Time of Money\" is a visually stunning film to watch. Mr. Mattei offers us a vivid portrait about human relations. This is a movie that seems to be telling us what money, power and success do to people in the different situations we encounter. &lt;br /&gt;&lt;br /&gt;This being a variation on the Arthur Schnitzler's play about the same theme, the director transfers the action to the present time New York where all these different characters meet and connect. Each one is connected in one way, or another to the next person, but no one seems to know the previous point of contact. Stylishly, the film has a sophisticated luxurious look. We are taken to see how these people live and the world they live in their own habitat.&lt;br /&gt;&lt;br /&gt;The only thing one gets out of all these souls in the picture is the different stages of loneliness each one inhabits. A big city is not exactly the best place in which human relations find sincere fulfillment, as one discerns is the case with most of the people we encounter.&lt;br /&gt;&lt;br /&gt;The acting is good under Mr. Mattei's direction. Steve Buscemi, Rosario Dawson, Carol Kane, Michael Imperioli, Adrian Grenier, and the rest of the talented cast, make these characters come alive.&lt;br /&gt;&lt;br /&gt;We wish Mr. Mattei good luck and await anxiously for his next work.</td>\n",
       "      <td>positive</td>\n",
       "    </tr>\n",
       "  </tbody>\n",
       "</table></div>"
      ],
      "text/plain": [
       "                                              review sentiment\n",
       "0  One of the other reviewers has mentioned that ...  positive\n",
       "1  A wonderful little production. <br /><br />The...  positive\n",
       "2  I thought this was a wonderful way to spend ti...  positive\n",
       "3  Basically there's a family where a little boy ...  negative\n",
       "4  Petter Mattei's \"Love in the Time of Money\" is...  positive"
      ]
     },
     "execution_count": 68,
     "metadata": {},
     "output_type": "execute_result"
    }
   ],
   "source": [
    "temp_df = pd.read_csv(\"/home/kathan/Kathan/Natural Language Processing/Materials/IMDB Dataset.csv\")\n",
    "df = temp_df.iloc[:10000]\n",
    "df.head()"
   ]
  },
  {
   "cell_type": "code",
   "execution_count": 69,
   "id": "084095ca",
   "metadata": {},
   "outputs": [
    {
     "name": "stderr",
     "output_type": "stream",
     "text": [
      "2023-04-10 14:59:26,249 [9315] WARNING  py.warnings:109: [JupyterRequire] /tmp/ipykernel_9315/3006716147.py:1: SettingWithCopyWarning: \n",
      "A value is trying to be set on a copy of a slice from a DataFrame\n",
      "\n",
      "See the caveats in the documentation: https://pandas.pydata.org/pandas-docs/stable/user_guide/indexing.html#returning-a-view-versus-a-copy\n",
      "  df.drop_duplicates(inplace=True)\n",
      "\n"
     ]
    }
   ],
   "source": [
    "df.drop_duplicates(inplace=True)"
   ]
  },
  {
   "cell_type": "code",
   "execution_count": 70,
   "id": "12a18706",
   "metadata": {},
   "outputs": [],
   "source": [
    "import re\n",
    "def remove_tags(raw_text):\n",
    "    cleaned_text = re.sub(re.compile('<.*?>'), '', raw_text)\n",
    "    return cleaned_text\n"
   ]
  },
  {
   "cell_type": "code",
   "execution_count": 71,
   "id": "1bd56a64",
   "metadata": {},
   "outputs": [
    {
     "name": "stderr",
     "output_type": "stream",
     "text": [
      "2023-04-10 14:59:27,667 [9315] WARNING  py.warnings:109: [JupyterRequire] /tmp/ipykernel_9315/2336150696.py:1: SettingWithCopyWarning: \n",
      "A value is trying to be set on a copy of a slice from a DataFrame.\n",
      "Try using .loc[row_indexer,col_indexer] = value instead\n",
      "\n",
      "See the caveats in the documentation: https://pandas.pydata.org/pandas-docs/stable/user_guide/indexing.html#returning-a-view-versus-a-copy\n",
      "  df['review'] = df['review'].apply(remove_tags)\n",
      "\n"
     ]
    }
   ],
   "source": [
    "df['review'] = df['review'].apply(remove_tags)"
   ]
  },
  {
   "cell_type": "code",
   "execution_count": 72,
   "id": "0da6bf9a",
   "metadata": {},
   "outputs": [
    {
     "name": "stderr",
     "output_type": "stream",
     "text": [
      "2023-04-10 14:59:28,208 [9315] WARNING  py.warnings:109: [JupyterRequire] /tmp/ipykernel_9315/3523187300.py:1: SettingWithCopyWarning: \n",
      "A value is trying to be set on a copy of a slice from a DataFrame.\n",
      "Try using .loc[row_indexer,col_indexer] = value instead\n",
      "\n",
      "See the caveats in the documentation: https://pandas.pydata.org/pandas-docs/stable/user_guide/indexing.html#returning-a-view-versus-a-copy\n",
      "  df['review'] = df['review'].apply(lambda x:x.lower())\n",
      "\n"
     ]
    }
   ],
   "source": [
    "df['review'] = df['review'].apply(lambda x:x.lower())\n"
   ]
  },
  {
   "cell_type": "code",
   "execution_count": 73,
   "id": "2e0ea722",
   "metadata": {},
   "outputs": [
    {
     "name": "stderr",
     "output_type": "stream",
     "text": [
      "2023-04-10 14:59:31,644 [9315] WARNING  py.warnings:109: [JupyterRequire] /tmp/ipykernel_9315/2826946130.py:5: SettingWithCopyWarning: \n",
      "A value is trying to be set on a copy of a slice from a DataFrame.\n",
      "Try using .loc[row_indexer,col_indexer] = value instead\n",
      "\n",
      "See the caveats in the documentation: https://pandas.pydata.org/pandas-docs/stable/user_guide/indexing.html#returning-a-view-versus-a-copy\n",
      "  df['review'] = df['review'].apply(lambda x: [item for item in x.split() if item not in sw_list]).apply(lambda x:\" \".join(x))\n",
      "\n"
     ]
    }
   ],
   "source": [
    "from nltk.corpus import stopwords\n",
    "\n",
    "sw_list = stopwords.words('english')\n",
    "\n",
    "df['review'] = df['review'].apply(lambda x: [item for item in x.split() if item not in sw_list]).apply(lambda x:\" \".join(x))"
   ]
  },
  {
   "cell_type": "code",
   "execution_count": 74,
   "id": "15ce3cbb",
   "metadata": {},
   "outputs": [
    {
     "data": {
      "text/plain": [
       "0       one reviewers mentioned watching 1 oz episode ...\n",
       "1       wonderful little production. filming technique...\n",
       "2       thought wonderful way spend time hot summer we...\n",
       "3       basically there's family little boy (jake) thi...\n",
       "4       petter mattei's \"love time money\" visually stu...\n",
       "                              ...                        \n",
       "9995    fun, entertaining movie wwii german spy (julie...\n",
       "9996    give break. anyone say \"good hockey movie\"? kn...\n",
       "9997    movie bad movie. watching endless series bad h...\n",
       "9998    movie probably made entertain middle school, e...\n",
       "9999    smashing film film-making. shows intense stran...\n",
       "Name: review, Length: 9983, dtype: object"
      ]
     },
     "execution_count": 74,
     "metadata": {},
     "output_type": "execute_result"
    }
   ],
   "source": [
    "df['review']\n"
   ]
  },
  {
   "cell_type": "code",
   "execution_count": 75,
   "id": "55611ba2",
   "metadata": {},
   "outputs": [],
   "source": [
    "import gensim\n",
    "from nltk import sent_tokenize\n",
    "from gensim.utils import simple_preprocess"
   ]
  },
  {
   "cell_type": "code",
   "execution_count": 76,
   "id": "d0afe47b",
   "metadata": {},
   "outputs": [],
   "source": [
    "story = []\n",
    "for doc in df['review']:\n",
    "    raw_sent = sent_tokenize(doc)\n",
    "    for sent in raw_sent:\n",
    "        story.append(simple_preprocess(sent))"
   ]
  },
  {
   "cell_type": "code",
   "execution_count": 77,
   "id": "5be2d281",
   "metadata": {},
   "outputs": [],
   "source": [
    "model = gensim.models.Word2Vec(\n",
    "    window=10,\n",
    "    min_count=2\n",
    ")"
   ]
  },
  {
   "cell_type": "code",
   "execution_count": 78,
   "id": "3145c3f7",
   "metadata": {},
   "outputs": [],
   "source": [
    "model.build_vocab(story)\n",
    "\n"
   ]
  },
  {
   "cell_type": "code",
   "execution_count": 79,
   "id": "0e6070d0",
   "metadata": {},
   "outputs": [
    {
     "data": {
      "text/plain": [
       "(5876359, 6212140)"
      ]
     },
     "execution_count": 79,
     "metadata": {},
     "output_type": "execute_result"
    }
   ],
   "source": [
    "model.train(story, total_examples=model.corpus_count, epochs=model.epochs)"
   ]
  },
  {
   "cell_type": "code",
   "execution_count": 80,
   "id": "f22ac078",
   "metadata": {},
   "outputs": [
    {
     "data": {
      "text/plain": [
       "31845"
      ]
     },
     "execution_count": 80,
     "metadata": {},
     "output_type": "execute_result"
    }
   ],
   "source": [
    "len(model.wv.index_to_key)"
   ]
  },
  {
   "cell_type": "code",
   "execution_count": 81,
   "id": "9287f42e",
   "metadata": {},
   "outputs": [],
   "source": [
    "def document_vector(doc):\n",
    "    # remove out-of-vocabulary words\n",
    "    doc = [word for word in doc.split() if word in model.wv.index_to_key]\n",
    "    return np.mean(model.wv[doc], axis=0)"
   ]
  },
  {
   "cell_type": "code",
   "execution_count": 82,
   "id": "449d9a8f",
   "metadata": {},
   "outputs": [
    {
     "data": {
      "text/plain": [
       "array([-0.16483827,  0.40979606,  0.17927925,  0.20664698, -0.11853424,\n",
       "       -0.59622866,  0.1914826 ,  0.9390852 , -0.35213512, -0.28536898,\n",
       "       -0.247309  , -0.42451587,  0.1184805 ,  0.14851485,  0.15079433,\n",
       "       -0.08453013,  0.00185535, -0.30490252, -0.05534428, -0.7154157 ,\n",
       "        0.01441749,  0.21678504,  0.07040572, -0.2533617 , -0.3222349 ,\n",
       "       -0.05066266, -0.2457129 ,  0.02700247, -0.29331827,  0.06337515,\n",
       "        0.33339098,  0.03927721,  0.19356829, -0.26743042, -0.15469028,\n",
       "        0.3600785 ,  0.07468841, -0.365079  , -0.2125322 , -0.78699857,\n",
       "        0.14842759, -0.22826406,  0.05044918, -0.11917447,  0.46232808,\n",
       "       -0.1612659 , -0.21195614, -0.03124376,  0.07257181,  0.37978524,\n",
       "        0.0924281 , -0.3453271 , -0.44211882, -0.16208237, -0.07612513,\n",
       "        0.23175766,  0.19278203,  0.03942421, -0.3052658 ,  0.06111179,\n",
       "        0.04900745,  0.06388578,  0.08906534, -0.1136551 , -0.42279497,\n",
       "        0.27045095,  0.04362475,  0.14398842, -0.38766402,  0.3047392 ,\n",
       "       -0.25481868,  0.08648444,  0.5902562 , -0.039095  ,  0.40601423,\n",
       "        0.09412225, -0.02860591, -0.16942368, -0.55507076,  0.17761703,\n",
       "       -0.35150832,  0.02674164, -0.46717352,  0.45737997, -0.17260128,\n",
       "       -0.11484257, -0.10148849,  0.21406145,  0.29033262,  0.07156274,\n",
       "        0.34808725,  0.22964567,  0.05087811,  0.05802256,  0.6837945 ,\n",
       "        0.3370021 ,  0.210834  , -0.18564852, -0.01691672, -0.18747273],\n",
       "      dtype=float32)"
      ]
     },
     "execution_count": 82,
     "metadata": {},
     "output_type": "execute_result"
    }
   ],
   "source": [
    "document_vector(df['review'].values[0])"
   ]
  },
  {
   "cell_type": "code",
   "execution_count": 83,
   "id": "ba386cd0",
   "metadata": {},
   "outputs": [],
   "source": [
    "from tqdm import tqdm\n"
   ]
  },
  {
   "cell_type": "code",
   "execution_count": 84,
   "id": "2fc11957",
   "metadata": {},
   "outputs": [
    {
     "name": "stderr",
     "output_type": "stream",
     "text": [
      "100%|███████████████████████████████████████| 9983/9983 [06:55<00:00, 24.05it/s]\n"
     ]
    }
   ],
   "source": [
    "X = []\n",
    "for doc in tqdm(df['review'].values):\n",
    "    X.append(document_vector(doc))"
   ]
  },
  {
   "cell_type": "code",
   "execution_count": 85,
   "id": "389d27bd",
   "metadata": {},
   "outputs": [],
   "source": [
    "X = np.array(X)\n"
   ]
  },
  {
   "cell_type": "code",
   "execution_count": 86,
   "id": "6a8adb7b",
   "metadata": {},
   "outputs": [
    {
     "data": {
      "text/plain": [
       "array([-0.16483827,  0.40979606,  0.17927925,  0.20664698, -0.11853424,\n",
       "       -0.59622866,  0.1914826 ,  0.9390852 , -0.35213512, -0.28536898,\n",
       "       -0.247309  , -0.42451587,  0.1184805 ,  0.14851485,  0.15079433,\n",
       "       -0.08453013,  0.00185535, -0.30490252, -0.05534428, -0.7154157 ,\n",
       "        0.01441749,  0.21678504,  0.07040572, -0.2533617 , -0.3222349 ,\n",
       "       -0.05066266, -0.2457129 ,  0.02700247, -0.29331827,  0.06337515,\n",
       "        0.33339098,  0.03927721,  0.19356829, -0.26743042, -0.15469028,\n",
       "        0.3600785 ,  0.07468841, -0.365079  , -0.2125322 , -0.78699857,\n",
       "        0.14842759, -0.22826406,  0.05044918, -0.11917447,  0.46232808,\n",
       "       -0.1612659 , -0.21195614, -0.03124376,  0.07257181,  0.37978524,\n",
       "        0.0924281 , -0.3453271 , -0.44211882, -0.16208237, -0.07612513,\n",
       "        0.23175766,  0.19278203,  0.03942421, -0.3052658 ,  0.06111179,\n",
       "        0.04900745,  0.06388578,  0.08906534, -0.1136551 , -0.42279497,\n",
       "        0.27045095,  0.04362475,  0.14398842, -0.38766402,  0.3047392 ,\n",
       "       -0.25481868,  0.08648444,  0.5902562 , -0.039095  ,  0.40601423,\n",
       "        0.09412225, -0.02860591, -0.16942368, -0.55507076,  0.17761703,\n",
       "       -0.35150832,  0.02674164, -0.46717352,  0.45737997, -0.17260128,\n",
       "       -0.11484257, -0.10148849,  0.21406145,  0.29033262,  0.07156274,\n",
       "        0.34808725,  0.22964567,  0.05087811,  0.05802256,  0.6837945 ,\n",
       "        0.3370021 ,  0.210834  , -0.18564852, -0.01691672, -0.18747273],\n",
       "      dtype=float32)"
      ]
     },
     "execution_count": 86,
     "metadata": {},
     "output_type": "execute_result"
    }
   ],
   "source": [
    "X[0]\n"
   ]
  },
  {
   "cell_type": "code",
   "execution_count": 87,
   "id": "7d7cc00b",
   "metadata": {},
   "outputs": [],
   "source": [
    "from sklearn.preprocessing import LabelEncoder\n",
    "encoder = LabelEncoder()\n",
    "\n",
    "y = encoder.fit_transform(df['sentiment'])\n"
   ]
  },
  {
   "cell_type": "code",
   "execution_count": 88,
   "id": "722ee1aa",
   "metadata": {},
   "outputs": [
    {
     "data": {
      "text/plain": [
       "array([1, 1, 1, ..., 0, 0, 1])"
      ]
     },
     "execution_count": 88,
     "metadata": {},
     "output_type": "execute_result"
    }
   ],
   "source": [
    "y\n"
   ]
  },
  {
   "cell_type": "code",
   "execution_count": 89,
   "id": "6b586001",
   "metadata": {},
   "outputs": [],
   "source": [
    "from sklearn.model_selection import train_test_split\n",
    "X_train,X_test,y_train,y_test = train_test_split(X,y,test_size=0.2,random_state=1)"
   ]
  },
  {
   "cell_type": "code",
   "execution_count": 90,
   "id": "9493dcd0",
   "metadata": {},
   "outputs": [
    {
     "data": {
      "text/plain": [
       "RandomForestClassifier()"
      ]
     },
     "execution_count": 90,
     "metadata": {},
     "output_type": "execute_result"
    }
   ],
   "source": [
    "from sklearn.ensemble import RandomForestClassifier\n",
    "from sklearn.metrics import accuracy_score\n",
    "rf = RandomForestClassifier()\n",
    "rf.fit(X_train,y_train)"
   ]
  },
  {
   "cell_type": "code",
   "execution_count": 91,
   "id": "d628a89b",
   "metadata": {},
   "outputs": [
    {
     "data": {
      "text/plain": [
       "0.7776664997496244"
      ]
     },
     "execution_count": 91,
     "metadata": {},
     "output_type": "execute_result"
    }
   ],
   "source": [
    "y_pred = rf.predict(X_test)\n",
    "accuracy_score(y_test,y_pred)"
   ]
  },
  {
   "cell_type": "code",
   "execution_count": null,
   "id": "86508cfd",
   "metadata": {},
   "outputs": [],
   "source": []
  }
 ],
 "metadata": {
  "kernelspec": {
   "display_name": "Python 3 (ipykernel)",
   "language": "python",
   "name": "python3"
  },
  "language_info": {
   "codemirror_mode": {
    "name": "ipython",
    "version": 3
   },
   "file_extension": ".py",
   "mimetype": "text/x-python",
   "name": "python",
   "nbconvert_exporter": "python",
   "pygments_lexer": "ipython3",
   "version": "3.9.13"
  }
 },
 "nbformat": 4,
 "nbformat_minor": 5
}
